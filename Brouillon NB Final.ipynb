{
 "cells": [
  {
   "cell_type": "markdown",
   "metadata": {},
   "source": [
    "# Introduction"
   ]
  },
  {
   "cell_type": "markdown",
   "metadata": {},
   "source": [
    "[A écrire]"
   ]
  },
  {
   "cell_type": "markdown",
   "metadata": {},
   "source": [
    "## Importation des Packages"
   ]
  },
  {
   "cell_type": "code",
   "execution_count": 1,
   "metadata": {},
   "outputs": [],
   "source": [
    "import numpy as np\n",
    "import pandas as pd\n",
    "import matplotlib.pyplot as plt\n",
    "import urllib\n",
    "import bs4\n",
    "import re\n",
    "import copy\n",
    "import collections as co\n",
    "\n",
    "import plotly as plt\n",
    "import plotly.express as px\n",
    "import plotly.graph_objects as go\n",
    "from plotly.offline import init_notebook_mode\n",
    "import matplotlib.pyplot as mplt\n",
    "\n",
    "\n",
    "\n",
    "from wordcloud import WordCloud\n",
    "from wordcloud import STOPWORDS\n",
    "from PIL import Image\n",
    "import requests\n",
    "from io import BytesIO"
   ]
  },
  {
   "cell_type": "markdown",
   "metadata": {},
   "source": [
    "# Récupération et traitement des données"
   ]
  },
  {
   "cell_type": "markdown",
   "metadata": {},
   "source": [
    "On a les bases : \n",
    "- `All streaming shows` (AS) trouvée sur kaggle\n",
    "- `Netflix titles` trouvée sur kaggle\n",
    "- `IMDB 250` scrapée sur le site éponyme : df_tvshow\n",
    "- `df_carac` scrappée sur \"https://www.the-numbers.com/home-market/netflix-daily-chart/2020/12/06\""
   ]
  },
  {
   "cell_type": "markdown",
   "metadata": {},
   "source": [
    "On avait commencé à travailler sur `Netflix Titles` mais le manque de variables exploitables pour une modélisation nous a mené à chercher d'autres bases.<br>\n",
    "\n",
    "On avait donc scrappé IMDB pour récupérer le TOP 250 des films et des séries (selon IMDB), cette base n'a finalement pas beaucoup servi les titres étant en français (impossible de trouver une version du site où les titres étaient en anglais).<br>\n",
    "\n",
    "On a ensuite scrapper les données du site 'https://www.the-numbers.com/home-market/netflix-daily-chart/2020/12/06' qui recense quotidiennement depuis mi mars 2020 le Top 10 Netflix, donne quelques caractéristiques de ces films et séries et calcule un score d'audience : chaque jour à la première place donne 10 points, à la deuxième 9 etc...<br>\n",
    "\n",
    "Nous nous sommes alors heurté à un problème de cohérence temporelle. En effet notre base originale avec les caractéristiques des séries (`Netflix Titles`) s'arrêtait en janvier 2020 et notre base des Top quotidien commencaient début 2020, la plupart des titres contenus dans cette dernière n'apparaissent donc pas dans la première.<br>\n",
    "\n",
    "Nous avons donc cherché une autre base, plus récente. Pour cela nous avons du prendre une base plus large en termes de platforme mais avec seulement des séries. `All streaming shows` recense toutes les séries diffusées sur des plateformes.<br>"
   ]
  },
  {
   "cell_type": "markdown",
   "metadata": {},
   "source": [
    "## `Net-tit`"
   ]
  },
  {
   "cell_type": "code",
   "execution_count": 2,
   "metadata": {},
   "outputs": [],
   "source": [
    "#cellule Myrtille\n",
    "Net_tit = pd.read_csv(r'C:\\Users\\Utilisateur\\Documents\\GitHub\\Projet_Python_2A\\netflix_titles.csv')"
   ]
  },
  {
   "cell_type": "code",
   "execution_count": 3,
   "metadata": {},
   "outputs": [],
   "source": [
    "#cellule léo\n",
    "#Net_tit = pd.read_csv(r'C:\\Users\\User\\Documents\\GitHub\\Projet_Python_2A\\netflix_titles.csv')"
   ]
  },
  {
   "cell_type": "code",
   "execution_count": 4,
   "metadata": {},
   "outputs": [],
   "source": [
    "#Net_tit.head(5)"
   ]
  },
  {
   "cell_type": "markdown",
   "metadata": {},
   "source": [
    "On compte le nombre de valeurs manquantes pour `date_added` et `release_year`, les deux variables sur lesquelles on peut faire des opérations numériques (pour comparer les séries/films qui ont été créés par Netflix ou juste rachetés)\n"
   ]
  },
  {
   "cell_type": "code",
   "execution_count": 5,
   "metadata": {},
   "outputs": [
    {
     "data": {
      "text/plain": [
       "release_year    0\n",
       "dtype: int64"
      ]
     },
     "execution_count": 5,
     "metadata": {},
     "output_type": "execute_result"
    }
   ],
   "source": [
    "Net_tit[['date_added']].isna().sum() #11 valeurs manquantes\n",
    "Net_tit[['release_year']].isna().sum() #0 valeurs manquantes"
   ]
  },
  {
   "cell_type": "markdown",
   "metadata": {},
   "source": [
    "On créé une variable `year_added` codée en int qui renseigne l'année où le film/série a été ajouté sur Netflix et on remplace les valeurs manquantes par des zéros. Pour cela on crée une regex qui nous permet d'extraire l'année de la date complète donnée dans date_added. On remplace ensuite les NaN par des 0 et on convertit les valeurs en entiers."
   ]
  },
  {
   "cell_type": "code",
   "execution_count": 6,
   "metadata": {},
   "outputs": [
    {
     "data": {
      "text/html": [
       "<div>\n",
       "<style scoped>\n",
       "    .dataframe tbody tr th:only-of-type {\n",
       "        vertical-align: middle;\n",
       "    }\n",
       "\n",
       "    .dataframe tbody tr th {\n",
       "        vertical-align: top;\n",
       "    }\n",
       "\n",
       "    .dataframe thead th {\n",
       "        text-align: right;\n",
       "    }\n",
       "</style>\n",
       "<table border=\"1\" class=\"dataframe\">\n",
       "  <thead>\n",
       "    <tr style=\"text-align: right;\">\n",
       "      <th></th>\n",
       "      <th>date_added</th>\n",
       "    </tr>\n",
       "  </thead>\n",
       "  <tbody>\n",
       "    <tr>\n",
       "      <th>0</th>\n",
       "      <td>September 9, 2019</td>\n",
       "    </tr>\n",
       "    <tr>\n",
       "      <th>1</th>\n",
       "      <td>September 9, 2016</td>\n",
       "    </tr>\n",
       "    <tr>\n",
       "      <th>2</th>\n",
       "      <td>September 8, 2018</td>\n",
       "    </tr>\n",
       "    <tr>\n",
       "      <th>3</th>\n",
       "      <td>September 8, 2018</td>\n",
       "    </tr>\n",
       "    <tr>\n",
       "      <th>4</th>\n",
       "      <td>September 8, 2017</td>\n",
       "    </tr>\n",
       "    <tr>\n",
       "      <th>...</th>\n",
       "      <td>...</td>\n",
       "    </tr>\n",
       "    <tr>\n",
       "      <th>6228</th>\n",
       "      <td>NaN</td>\n",
       "    </tr>\n",
       "    <tr>\n",
       "      <th>6229</th>\n",
       "      <td>NaN</td>\n",
       "    </tr>\n",
       "    <tr>\n",
       "      <th>6230</th>\n",
       "      <td>NaN</td>\n",
       "    </tr>\n",
       "    <tr>\n",
       "      <th>6231</th>\n",
       "      <td>NaN</td>\n",
       "    </tr>\n",
       "    <tr>\n",
       "      <th>6232</th>\n",
       "      <td>NaN</td>\n",
       "    </tr>\n",
       "  </tbody>\n",
       "</table>\n",
       "<p>6233 rows × 1 columns</p>\n",
       "</div>"
      ],
      "text/plain": [
       "             date_added\n",
       "0     September 9, 2019\n",
       "1     September 9, 2016\n",
       "2     September 8, 2018\n",
       "3     September 8, 2018\n",
       "4     September 8, 2017\n",
       "...                 ...\n",
       "6228                NaN\n",
       "6229                NaN\n",
       "6230                NaN\n",
       "6231                NaN\n",
       "6232                NaN\n",
       "\n",
       "[6233 rows x 1 columns]"
      ]
     },
     "execution_count": 6,
     "metadata": {},
     "output_type": "execute_result"
    }
   ],
   "source": [
    "Net_tit[['date_added']].iloc[0:6233]"
   ]
  },
  {
   "cell_type": "code",
   "execution_count": 7,
   "metadata": {},
   "outputs": [],
   "source": [
    "regex = r'([0-2][0-9][0-9][0-9])'\n",
    "Net_tit['year_added'] = Net_tit['date_added'].str.extract(regex,expand=True)\n",
    "Net_tit['year_added'] = Net_tit['year_added'].fillna(0)\n",
    "Net_tit['year_added'] = Net_tit['year_added'].astype(str).astype(int)"
   ]
  },
  {
   "cell_type": "markdown",
   "metadata": {},
   "source": [
    "### Création de `df1`"
   ]
  },
  {
   "cell_type": "markdown",
   "metadata": {},
   "source": [
    "On choisit des colonnes de Net_tit puis on ordonne par ordre décroissant de sortie. Pour cela on utilise date_added, plus précis que year_added."
   ]
  },
  {
   "cell_type": "code",
   "execution_count": 8,
   "metadata": {},
   "outputs": [
    {
     "data": {
      "text/html": [
       "<div>\n",
       "<style scoped>\n",
       "    .dataframe tbody tr th:only-of-type {\n",
       "        vertical-align: middle;\n",
       "    }\n",
       "\n",
       "    .dataframe tbody tr th {\n",
       "        vertical-align: top;\n",
       "    }\n",
       "\n",
       "    .dataframe thead th {\n",
       "        text-align: right;\n",
       "    }\n",
       "</style>\n",
       "<table border=\"1\" class=\"dataframe\">\n",
       "  <thead>\n",
       "    <tr style=\"text-align: right;\">\n",
       "      <th></th>\n",
       "      <th>type</th>\n",
       "      <th>title</th>\n",
       "      <th>director</th>\n",
       "      <th>cast</th>\n",
       "      <th>date_added</th>\n",
       "      <th>year_added</th>\n",
       "      <th>release_year</th>\n",
       "      <th>duration</th>\n",
       "      <th>listed_in</th>\n",
       "    </tr>\n",
       "  </thead>\n",
       "  <tbody>\n",
       "    <tr>\n",
       "      <th>3467</th>\n",
       "      <td>TV Show</td>\n",
       "      <td>Medical Police</td>\n",
       "      <td>NaN</td>\n",
       "      <td>Erinn Hayes, Rob Huebel, Malin Akerman, Rob Co...</td>\n",
       "      <td>January 10, 2020</td>\n",
       "      <td>2020</td>\n",
       "      <td>2020</td>\n",
       "      <td>1 Season</td>\n",
       "      <td>Crime TV Shows, TV Action &amp; Adventure, TV Come...</td>\n",
       "    </tr>\n",
       "    <tr>\n",
       "      <th>3249</th>\n",
       "      <td>Movie</td>\n",
       "      <td>All the Freckles in the World</td>\n",
       "      <td>Yibrán Asuad</td>\n",
       "      <td>Hánssel Casillas, Loreto Peralta, Andrea Sutto...</td>\n",
       "      <td>January 3, 2020</td>\n",
       "      <td>2020</td>\n",
       "      <td>2020</td>\n",
       "      <td>90 min</td>\n",
       "      <td>Comedies, International Movies, Romantic Movies</td>\n",
       "    </tr>\n",
       "    <tr>\n",
       "      <th>3220</th>\n",
       "      <td>TV Show</td>\n",
       "      <td>Dracula</td>\n",
       "      <td>NaN</td>\n",
       "      <td>Claes Bang, Dolly Wells, John Heffernan</td>\n",
       "      <td>January 4, 2020</td>\n",
       "      <td>2020</td>\n",
       "      <td>2020</td>\n",
       "      <td>1 Season</td>\n",
       "      <td>British TV Shows, International TV Shows, TV D...</td>\n",
       "    </tr>\n",
       "    <tr>\n",
       "      <th>3427</th>\n",
       "      <td>Movie</td>\n",
       "      <td>Leslie Jones: Time Machine</td>\n",
       "      <td>David Benioff, D.B. Weiss</td>\n",
       "      <td>Leslie Jones</td>\n",
       "      <td>January 14, 2020</td>\n",
       "      <td>2020</td>\n",
       "      <td>2020</td>\n",
       "      <td>66 min</td>\n",
       "      <td>Stand-Up Comedy</td>\n",
       "    </tr>\n",
       "    <tr>\n",
       "      <th>3436</th>\n",
       "      <td>TV Show</td>\n",
       "      <td>The Healing Powers of Dude</td>\n",
       "      <td>NaN</td>\n",
       "      <td>Jace Chapman, Larisa Oleynik, Tom Everett Scot...</td>\n",
       "      <td>January 13, 2020</td>\n",
       "      <td>2020</td>\n",
       "      <td>2020</td>\n",
       "      <td>1 Season</td>\n",
       "      <td>Kids' TV, TV Comedies, TV Dramas</td>\n",
       "    </tr>\n",
       "  </tbody>\n",
       "</table>\n",
       "</div>"
      ],
      "text/plain": [
       "         type                          title                   director  \\\n",
       "3467  TV Show                 Medical Police                        NaN   \n",
       "3249    Movie  All the Freckles in the World               Yibrán Asuad   \n",
       "3220  TV Show                        Dracula                        NaN   \n",
       "3427    Movie     Leslie Jones: Time Machine  David Benioff, D.B. Weiss   \n",
       "3436  TV Show     The Healing Powers of Dude                        NaN   \n",
       "\n",
       "                                                   cast        date_added  \\\n",
       "3467  Erinn Hayes, Rob Huebel, Malin Akerman, Rob Co...  January 10, 2020   \n",
       "3249  Hánssel Casillas, Loreto Peralta, Andrea Sutto...   January 3, 2020   \n",
       "3220            Claes Bang, Dolly Wells, John Heffernan   January 4, 2020   \n",
       "3427                                       Leslie Jones  January 14, 2020   \n",
       "3436  Jace Chapman, Larisa Oleynik, Tom Everett Scot...  January 13, 2020   \n",
       "\n",
       "      year_added  release_year  duration  \\\n",
       "3467        2020          2020  1 Season   \n",
       "3249        2020          2020    90 min   \n",
       "3220        2020          2020  1 Season   \n",
       "3427        2020          2020    66 min   \n",
       "3436        2020          2020  1 Season   \n",
       "\n",
       "                                              listed_in  \n",
       "3467  Crime TV Shows, TV Action & Adventure, TV Come...  \n",
       "3249    Comedies, International Movies, Romantic Movies  \n",
       "3220  British TV Shows, International TV Shows, TV D...  \n",
       "3427                                    Stand-Up Comedy  \n",
       "3436                   Kids' TV, TV Comedies, TV Dramas  "
      ]
     },
     "execution_count": 8,
     "metadata": {},
     "output_type": "execute_result"
    }
   ],
   "source": [
    "df1 = Net_tit[['type', 'title','director', 'cast', 'date_added', 'year_added', 'release_year', 'duration', 'listed_in']]\n",
    "df1 = df1.sort_values('release_year', ascending = False) #probleme si on veut classer selon year_added\n",
    "df1.head(5)"
   ]
  },
  {
   "cell_type": "markdown",
   "metadata": {},
   "source": [
    "### Création de `df_movie` et `df_tvshow`"
   ]
  },
  {
   "cell_type": "markdown",
   "metadata": {},
   "source": [
    "On sépare `df1` en deux data frames, l'un pour les séries, l'autre pour les films."
   ]
  },
  {
   "cell_type": "code",
   "execution_count": 9,
   "metadata": {},
   "outputs": [
    {
     "data": {
      "text/plain": [
       "type    0\n",
       "dtype: int64"
      ]
     },
     "execution_count": 9,
     "metadata": {},
     "output_type": "execute_result"
    }
   ],
   "source": [
    "df1[['type']].isna().sum() #pas de valeurs manquantes"
   ]
  },
  {
   "cell_type": "code",
   "execution_count": 10,
   "metadata": {},
   "outputs": [],
   "source": [
    "df_tvshow = df1[df1['type'].isin([\"TV Show\"])]\n",
    "df_movie = df1[df1['type'].isin(['Movie'])]"
   ]
  },
  {
   "cell_type": "markdown",
   "metadata": {},
   "source": [
    "## Top 250 IMDB"
   ]
  },
  {
   "cell_type": "markdown",
   "metadata": {},
   "source": [
    "### `recup_notes`"
   ]
  },
  {
   "cell_type": "markdown",
   "metadata": {},
   "source": [
    "On crée une fonction qui met dans un data frame les notes des 250 mieux notés sur ImDB (films ou séries)."
   ]
  },
  {
   "cell_type": "code",
   "execution_count": 188,
   "metadata": {},
   "outputs": [],
   "source": [
    "def recup_notes(url):\n",
    "\n",
    "    \"\"\"On récupère la page internet------------------\"\"\"\n",
    "    from urllib import request\n",
    "    request_text = request.urlopen(url).read()\n",
    "    #print(request_text[:1000]) \n",
    "    page = bs4.BeautifulSoup(request_text, \"lxml\")\n",
    "    #print(type(page))\n",
    "\n",
    "\n",
    "    \"\"\"On récupère les données------------------\"\"\"\n",
    "    tableau=page.find(\"table\",{'class' : 'chart full-width'})\n",
    "    #print(tableau)\n",
    "    table_body=tableau.find('tbody')\n",
    "    rows = table_body.find_all('tr')\n",
    "    #print (rows)\n",
    "\n",
    "\n",
    "    \"\"\"On récupére les élements correspondant au titre et à la note--------------\"\"\"\n",
    "    new_rows=[] #on crée une liste vide dans laquelle on va mettre le contenu des lignes\n",
    "    for row in rows:\n",
    "        cols = row.find_all('td')\n",
    "        #print(type(cols))\n",
    "        new_cols = []\n",
    "        for ele in cols:\n",
    "            new_cols.append([ele.text.strip()])\n",
    "        #print(new_cols)\n",
    "        new_cols=new_cols[1:3]\n",
    "        #new_cols_title=new_cols[0]\n",
    "        new_cols[0]= new_cols[0][0]\n",
    "        new_cols[1]= float(new_cols[1][0])\n",
    "        new_rows.append(new_cols)\n",
    "  #print (new_rows)\n",
    "\n",
    "    \"\"\"On nettoie les élements pour n'avoir que des listes de titres et notes\"\"\"\n",
    "    \"\"\"L'élement correspondant au titre est entouré d'informations parasites, on s'en\n",
    "    débarasse avec 2 regex successives\"\"\"\n",
    "\n",
    "    regex_debut = \"[\\d]?[\\d]?[\\d]\\.[\\n][\\s]{6}\"\n",
    "    regex_fin=\"[\\n]\\([1-2][\\d]{3}\\)\"\n",
    "\n",
    "    clean_rows=copy.copy(new_rows)\n",
    "\n",
    "    for i in range(len(new_rows)):\n",
    "        a_suppr=re.findall(regex_debut,new_rows[i][0])\n",
    "        #print (a_suppr[0])\n",
    "        clean_rows[i][0]=new_rows[i][0].replace(a_suppr[0],\"\")\n",
    "    #print (clean_rows)\n",
    "\n",
    "    really_clean_rows=copy.copy(clean_rows)\n",
    "\n",
    "    for i in range(len(clean_rows)):\n",
    "        a_suppr_fin=re.findall(regex_fin,clean_rows[i][0])\n",
    "        #print (a_suppr_fin[0])\n",
    "        really_clean_rows[i][0]=clean_rows[i][0].replace(a_suppr_fin[0],\"\")\n",
    "    #print (really_clean_rows)\n",
    "\n",
    "    \"\"\"On crée un dictionnaire dans lequel on met le contenu des lignes nettoyées\n",
    "    La clé est le titre, la valeur la note.\"\"\"\n",
    "    dico_top = dict()\n",
    "    for row in really_clean_rows:\n",
    "        cols=row\n",
    "        dico_top[cols[0]] = cols[1:]\n",
    "    dico_top\n",
    "\n",
    "    \"\"\"On crée le dataframe\"\"\"\n",
    "    df_top = pd.DataFrame.from_dict(dico_top,orient='index')\n",
    "  \n",
    "\n",
    "    \"\"\"\"On rajoute une index différente du titre\"\"\"\n",
    "    df_top.reset_index(level=0, inplace=True)\n",
    "\n",
    "    \"\"\"On change le nom des colonnes\"\"\"\n",
    "    df_top.rename(columns={'index': 'Title', 0: 'IMDb rating'}, inplace=True)\n",
    "\n",
    "    #print(df_top)\n",
    "    return (df_top)\n"
   ]
  },
  {
   "cell_type": "markdown",
   "metadata": {},
   "source": [
    "Exécution sur les deux url"
   ]
  },
  {
   "cell_type": "code",
   "execution_count": 189,
   "metadata": {},
   "outputs": [],
   "source": [
    "url_top_shows = \"https://www.imdb.com/chart/toptv/?ref_=nv_tvv_250\"\n",
    "url_top_movies= \"https://www.imdb.com/chart/top/?ref_=nv_mv_250\""
   ]
  },
  {
   "cell_type": "code",
   "execution_count": 13,
   "metadata": {},
   "outputs": [
    {
     "data": {
      "text/html": [
       "<div>\n",
       "<style scoped>\n",
       "    .dataframe tbody tr th:only-of-type {\n",
       "        vertical-align: middle;\n",
       "    }\n",
       "\n",
       "    .dataframe tbody tr th {\n",
       "        vertical-align: top;\n",
       "    }\n",
       "\n",
       "    .dataframe thead th {\n",
       "        text-align: right;\n",
       "    }\n",
       "</style>\n",
       "<table border=\"1\" class=\"dataframe\">\n",
       "  <thead>\n",
       "    <tr style=\"text-align: right;\">\n",
       "      <th></th>\n",
       "      <th>Title</th>\n",
       "      <th>IMDb rating</th>\n",
       "    </tr>\n",
       "  </thead>\n",
       "  <tbody>\n",
       "    <tr>\n",
       "      <th>0</th>\n",
       "      <td>Planet Earth II</td>\n",
       "      <td>9.5</td>\n",
       "    </tr>\n",
       "    <tr>\n",
       "      <th>1</th>\n",
       "      <td>Planète Terre</td>\n",
       "      <td>9.4</td>\n",
       "    </tr>\n",
       "    <tr>\n",
       "      <th>2</th>\n",
       "      <td>Frères d'armes</td>\n",
       "      <td>9.4</td>\n",
       "    </tr>\n",
       "    <tr>\n",
       "      <th>3</th>\n",
       "      <td>Breaking Bad</td>\n",
       "      <td>9.4</td>\n",
       "    </tr>\n",
       "    <tr>\n",
       "      <th>4</th>\n",
       "      <td>Chernobyl</td>\n",
       "      <td>9.4</td>\n",
       "    </tr>\n",
       "  </tbody>\n",
       "</table>\n",
       "</div>"
      ],
      "text/plain": [
       "             Title  IMDb rating\n",
       "0  Planet Earth II          9.5\n",
       "1    Planète Terre          9.4\n",
       "2   Frères d'armes          9.4\n",
       "3     Breaking Bad          9.4\n",
       "4        Chernobyl          9.4"
      ]
     },
     "execution_count": 13,
     "metadata": {},
     "output_type": "execute_result"
    }
   ],
   "source": [
    "df_top_shows=recup_notes(url_top_shows)\n",
    "df_top_shows.head()"
   ]
  },
  {
   "cell_type": "code",
   "execution_count": 14,
   "metadata": {},
   "outputs": [
    {
     "data": {
      "text/html": [
       "<div>\n",
       "<style scoped>\n",
       "    .dataframe tbody tr th:only-of-type {\n",
       "        vertical-align: middle;\n",
       "    }\n",
       "\n",
       "    .dataframe tbody tr th {\n",
       "        vertical-align: top;\n",
       "    }\n",
       "\n",
       "    .dataframe thead th {\n",
       "        text-align: right;\n",
       "    }\n",
       "</style>\n",
       "<table border=\"1\" class=\"dataframe\">\n",
       "  <thead>\n",
       "    <tr style=\"text-align: right;\">\n",
       "      <th></th>\n",
       "      <th>Title</th>\n",
       "      <th>IMDb rating</th>\n",
       "    </tr>\n",
       "  </thead>\n",
       "  <tbody>\n",
       "    <tr>\n",
       "      <th>0</th>\n",
       "      <td>Les évadés</td>\n",
       "      <td>9.2</td>\n",
       "    </tr>\n",
       "    <tr>\n",
       "      <th>1</th>\n",
       "      <td>Le parrain</td>\n",
       "      <td>9.1</td>\n",
       "    </tr>\n",
       "    <tr>\n",
       "      <th>2</th>\n",
       "      <td>Le parrain, 2ème partie</td>\n",
       "      <td>9.0</td>\n",
       "    </tr>\n",
       "    <tr>\n",
       "      <th>3</th>\n",
       "      <td>The Dark Knight: Le chevalier noir</td>\n",
       "      <td>9.0</td>\n",
       "    </tr>\n",
       "    <tr>\n",
       "      <th>4</th>\n",
       "      <td>12 hommes en colère</td>\n",
       "      <td>8.9</td>\n",
       "    </tr>\n",
       "  </tbody>\n",
       "</table>\n",
       "</div>"
      ],
      "text/plain": [
       "                                Title  IMDb rating\n",
       "0                          Les évadés          9.2\n",
       "1                          Le parrain          9.1\n",
       "2             Le parrain, 2ème partie          9.0\n",
       "3  The Dark Knight: Le chevalier noir          9.0\n",
       "4                 12 hommes en colère          8.9"
      ]
     },
     "execution_count": 14,
     "metadata": {},
     "output_type": "execute_result"
    }
   ],
   "source": [
    "df_top_movies=recup_notes(url_top_movies)\n",
    "df_top_movies.head()"
   ]
  },
  {
   "cell_type": "markdown",
   "metadata": {},
   "source": [
    "On sauvegarde ces deux df dans deux fichiers csv"
   ]
  },
  {
   "cell_type": "code",
   "execution_count": 15,
   "metadata": {},
   "outputs": [],
   "source": [
    "a=df_top_movies.to_csv(\"df_top_movies.csv\", index = False)\n",
    "a=df_top_shows.to_csv(\"df_top_shows.csv\", index = False)"
   ]
  },
  {
   "cell_type": "markdown",
   "metadata": {},
   "source": [
    "## Top Netflix quotidien"
   ]
  },
  {
   "cell_type": "markdown",
   "metadata": {},
   "source": [
    "De mi mars à début décembre on a 252 top quotidiens d'environ 10 lignes. On a choisi de les concaténer par mois. Comme cette opération prend un certain temps nous avons enregistrer les df obtenus sous forme de csv pour éviter de devoir répéter l'opération et les opérations de concaténations sont en annexe sous forme de commentaire (pour éviter qu'elle se lancent lors d'un Run All)."
   ]
  },
  {
   "cell_type": "markdown",
   "metadata": {},
   "source": [
    "### `recup_top_netflix_gen`"
   ]
  },
  {
   "cell_type": "markdown",
   "metadata": {},
   "source": [
    "Pour scrapper ces 252 top quotidiens on a défini une fonction qui prend comme argument la date souhaitée *(aaaa/mm/jj)* et en argument conditionnel le début de l'url.<br>La fonction renvoie le df correspondant."
   ]
  },
  {
   "cell_type": "code",
   "execution_count": 16,
   "metadata": {},
   "outputs": [],
   "source": [
    "def recup_top_netflix_gen(date,url=\"https://www.the-numbers.com/home-market/netflix-daily-chart/\"):\n",
    "    \n",
    "    url_enrichi = url+date\n",
    "    from urllib.request import Request, urlopen\n",
    "    req_text = urlopen(Request(url_enrichi, headers={'User-Agent': 'Mozilla/5.0'})).read()\n",
    "    page = bs4.BeautifulSoup(req_text, \"lxml\")\n",
    "    #print (page)\n",
    "\n",
    "    \"\"\"On récupère les données------------------\"\"\"\n",
    "    #tableau=page.find(\"table\",{'class' : 'chart full-width'})\n",
    "    tableau=page.find(\"div\",{'id':'page_filling_chart'})\n",
    "    #print(tableau)\n",
    "    #table_body=tableau.find('tbody')\n",
    "    #print(table_body)\n",
    "    rows = tableau.find_all('tr')\n",
    "    #print (rows)\n",
    "\n",
    "  \n",
    "    \"\"\"On récupére tous les élements correspondant au titre et à la note et On crée un dictionnaire dans lequel on met le contenu des lignes nettoyées\n",
    "    L'index est le titre, la valeur la note.\n",
    "    --------------\"\"\"\n",
    "    new_rows=[]#on crée une liste vide dans laquelle on va mettre le contenu des lignes\n",
    "    new_cols = 10*[[]]\n",
    "    dico_top_netflix = dict()\n",
    "    i = 0\n",
    "    for row in rows:\n",
    "        cols = row.find_all('td') # c'est une liste\n",
    "        cols = [ele.text.strip() for ele in cols]\n",
    "        #print (cols)\n",
    "        if len(cols)> 0:\n",
    "            dico_top_netflix[cols[0]] = cols[1:]\n",
    "    #print(dico_top_netflix)    \n",
    "\n",
    "    \"\"\"\"\"\"\n",
    "\n",
    "    \"\"\"On crée ENFIN le dataframe\"\"\"\n",
    "    df_top_netflix_gen = pd.DataFrame.from_dict(dico_top_netflix,orient='index')\n",
    "\n",
    "    \"\"\"On rajoute une index différente du titre\"\"\"\n",
    "    for row in rows:\n",
    "        cols = row.find_all('th')\n",
    "        #print(cols)\n",
    "        if len(cols) > 0 : \n",
    "            cols = [ele.get_text(separator=' ').strip().title() for ele in cols]\n",
    "            columns_title = cols\n",
    "    #print (columns_title)\n",
    "    \n",
    "\n",
    "    \"\"\"On change le nom des colonnes\"\"\"\n",
    "    df_top_netflix_gen.columns=columns_title[1:]\n",
    "    \n",
    "    \"\"\"On vire les colonnes qui ne nous intéresse pas\"\"\"\n",
    "    del(df_top_netflix_gen['Yd'])\n",
    "    del(df_top_netflix_gen['Lw'])\n",
    "    del(df_top_netflix_gen['Watch Now'])\n",
    "    \n",
    "    \n",
    "    \"\"\"On rajoute une colonne 'Measure Date' \"\"\"\n",
    "    df_top_netflix_gen['Measure Date']= [date]*df_top_netflix_gen.shape[0]\n",
    "    #print (\"Graph au \"+ date)\n",
    "    return (df_top_netflix_gen)"
   ]
  },
  {
   "cell_type": "markdown",
   "metadata": {},
   "source": [
    "Le Top10 Netflix aux US le 13 décembre 2020."
   ]
  },
  {
   "cell_type": "code",
   "execution_count": 17,
   "metadata": {},
   "outputs": [
    {
     "data": {
      "text/html": [
       "<div>\n",
       "<style scoped>\n",
       "    .dataframe tbody tr th:only-of-type {\n",
       "        vertical-align: middle;\n",
       "    }\n",
       "\n",
       "    .dataframe tbody tr th {\n",
       "        vertical-align: top;\n",
       "    }\n",
       "\n",
       "    .dataframe thead th {\n",
       "        text-align: right;\n",
       "    }\n",
       "</style>\n",
       "<table border=\"1\" class=\"dataframe\">\n",
       "  <thead>\n",
       "    <tr style=\"text-align: right;\">\n",
       "      <th></th>\n",
       "      <th>Title</th>\n",
       "      <th>Type</th>\n",
       "      <th>Netflix Excl.</th>\n",
       "      <th>Netflix Release Date</th>\n",
       "      <th>Days In Top 10</th>\n",
       "      <th>Viewer- Ship Score</th>\n",
       "      <th>Measure Date</th>\n",
       "    </tr>\n",
       "  </thead>\n",
       "  <tbody>\n",
       "    <tr>\n",
       "      <th>1</th>\n",
       "      <td>Ava</td>\n",
       "      <td>Movie</td>\n",
       "      <td></td>\n",
       "      <td></td>\n",
       "      <td>6</td>\n",
       "      <td>50</td>\n",
       "      <td>2020/12/13</td>\n",
       "    </tr>\n",
       "    <tr>\n",
       "      <th>2</th>\n",
       "      <td>The Prom</td>\n",
       "      <td>Movie</td>\n",
       "      <td>Yes</td>\n",
       "      <td>Dec 11, 2020</td>\n",
       "      <td>2</td>\n",
       "      <td>15</td>\n",
       "      <td>2020/12/13</td>\n",
       "    </tr>\n",
       "    <tr>\n",
       "      <th>3</th>\n",
       "      <td>Manhunt</td>\n",
       "      <td>TV Show</td>\n",
       "      <td></td>\n",
       "      <td></td>\n",
       "      <td>4</td>\n",
       "      <td>29</td>\n",
       "      <td>2020/12/13</td>\n",
       "    </tr>\n",
       "    <tr>\n",
       "      <th>4</th>\n",
       "      <td>How the Grinch Stole Christmas</td>\n",
       "      <td>Movie</td>\n",
       "      <td></td>\n",
       "      <td></td>\n",
       "      <td>14</td>\n",
       "      <td>36</td>\n",
       "      <td>2020/12/13</td>\n",
       "    </tr>\n",
       "    <tr>\n",
       "      <th>5</th>\n",
       "      <td>Triple 9</td>\n",
       "      <td>Movie</td>\n",
       "      <td></td>\n",
       "      <td></td>\n",
       "      <td>5</td>\n",
       "      <td>28</td>\n",
       "      <td>2020/12/13</td>\n",
       "    </tr>\n",
       "    <tr>\n",
       "      <th>6</th>\n",
       "      <td>Selena: The Series</td>\n",
       "      <td>TV Show</td>\n",
       "      <td>Yes</td>\n",
       "      <td>Dec 4, 2020</td>\n",
       "      <td>9</td>\n",
       "      <td>81</td>\n",
       "      <td>2020/12/13</td>\n",
       "    </tr>\n",
       "    <tr>\n",
       "      <th>7</th>\n",
       "      <td>Big Mouth</td>\n",
       "      <td>TV Show</td>\n",
       "      <td>Yes</td>\n",
       "      <td>Sep 29, 2017</td>\n",
       "      <td>9</td>\n",
       "      <td>74</td>\n",
       "      <td>2020/12/13</td>\n",
       "    </tr>\n",
       "    <tr>\n",
       "      <th>8</th>\n",
       "      <td>Virgin River</td>\n",
       "      <td>TV Show</td>\n",
       "      <td>Yes</td>\n",
       "      <td>Nov 27, 2020</td>\n",
       "      <td>16</td>\n",
       "      <td>128</td>\n",
       "      <td>2020/12/13</td>\n",
       "    </tr>\n",
       "    <tr>\n",
       "      <th>9</th>\n",
       "      <td>The Christmas Chronicles 2</td>\n",
       "      <td>Movie</td>\n",
       "      <td>Yes</td>\n",
       "      <td>Nov 25, 2020</td>\n",
       "      <td>13</td>\n",
       "      <td>90</td>\n",
       "      <td>2020/12/13</td>\n",
       "    </tr>\n",
       "    <tr>\n",
       "      <th>10</th>\n",
       "      <td>The Queen's Gambit</td>\n",
       "      <td>TV Show</td>\n",
       "      <td>Yes</td>\n",
       "      <td>Oct 23, 2020</td>\n",
       "      <td>51</td>\n",
       "      <td>392</td>\n",
       "      <td>2020/12/13</td>\n",
       "    </tr>\n",
       "  </tbody>\n",
       "</table>\n",
       "</div>"
      ],
      "text/plain": [
       "                             Title     Type Netflix Excl.  \\\n",
       "1                              Ava    Movie                 \n",
       "2                         The Prom    Movie           Yes   \n",
       "3                          Manhunt  TV Show                 \n",
       "4   How the Grinch Stole Christmas    Movie                 \n",
       "5                         Triple 9    Movie                 \n",
       "6               Selena: The Series  TV Show           Yes   \n",
       "7                        Big Mouth  TV Show           Yes   \n",
       "8                     Virgin River  TV Show           Yes   \n",
       "9       The Christmas Chronicles 2    Movie           Yes   \n",
       "10              The Queen's Gambit  TV Show           Yes   \n",
       "\n",
       "   Netflix Release Date Days In Top 10 Viewer- Ship Score Measure Date  \n",
       "1                                    6                 50   2020/12/13  \n",
       "2          Dec 11, 2020              2                 15   2020/12/13  \n",
       "3                                    4                 29   2020/12/13  \n",
       "4                                   14                 36   2020/12/13  \n",
       "5                                    5                 28   2020/12/13  \n",
       "6           Dec 4, 2020              9                 81   2020/12/13  \n",
       "7          Sep 29, 2017              9                 74   2020/12/13  \n",
       "8          Nov 27, 2020             16                128   2020/12/13  \n",
       "9          Nov 25, 2020             13                 90   2020/12/13  \n",
       "10         Oct 23, 2020             51                392   2020/12/13  "
      ]
     },
     "execution_count": 17,
     "metadata": {},
     "output_type": "execute_result"
    }
   ],
   "source": [
    "df_12_13=recup_top_netflix_gen(\"2020/12/13\")\n",
    "df_12_13"
   ]
  },
  {
   "cell_type": "markdown",
   "metadata": {},
   "source": [
    "### Création des df des mois et concaténation vers `df_carac`"
   ]
  },
  {
   "cell_type": "markdown",
   "metadata": {},
   "source": [
    "On crée d'abord une liste de toutes les dates avec un Top 10.\n",
    "\n",
    "Pour cela on crée une liste avec toutes les dates de 2020 puis on enlève celles pour lesquelles on a pas de Top. On compte bien 252 dates valides."
   ]
  },
  {
   "cell_type": "code",
   "execution_count": 18,
   "metadata": {},
   "outputs": [
    {
     "name": "stdout",
     "output_type": "stream",
     "text": [
      "On a  252  dates valides.\n"
     ]
    }
   ],
   "source": [
    "liste_dates_valides=[]\n",
    "for m in range (3,13):\n",
    "    m=str(m)\n",
    "    if len(m)==1:\n",
    "        m = \"0\"+m\n",
    "    for d in range (1,32):\n",
    "        d=str(d)\n",
    "        if len(d)==1:\n",
    "            d=\"0\"+d\n",
    "        date = \"2020/\"+m+\"/\"+d\n",
    "        liste_dates_valides.append(date)\n",
    "\n",
    "#On supprime les dates sans valeurs\n",
    "for i in ['2020/03/01', '2020/03/02', '2020/03/03', '2020/03/04', '2020/03/05', '2020/03/06', '2020/03/07', '2020/03/08', \n",
    "          '2020/03/09', '2020/03/10', '2020/03/11', '2020/03/12', '2020/03/13', '2020/03/14', '2020/03/15', '2020/03/16', \n",
    "          '2020/03/17', '2020/03/18', '2020/03/19', '2020/03/20', '2020/03/21', '2020/03/22', '2020/03/23', '2020/03/28', \n",
    "          '2020/03/29', '2020/04/04', '2020/04/05', '2020/04/11', '2020/04/12', '2020/04/18', '2020/04/19', '2020/04/25', \n",
    "          '2020/04/26', '2020/08/09', '2020/08/30', '2020/12/14', '2020/12/15', '2020/12/16', '2020/12/17', '2020/12/18',\n",
    "          '2020/12/19', '2020/12/20', '2020/12/21', '2020/12/22', '2020/12/23', '2020/12/24', '2020/12/25', '2020/12/26', \n",
    "          '2020/12/27', '2020/12/28', '2020/12/29', '2020/12/30', '2020/12/31', '2020/04/31', '2020/06/31', '2020/09/31', \n",
    "          '2020/11/31', '2020/08/06']:\n",
    "    liste_dates_valides.remove(i)\n",
    "print ('On a ',len (liste_dates_valides), ' dates valides.')"
   ]
  },
  {
   "cell_type": "markdown",
   "metadata": {},
   "source": [
    "On crée un string avec toutes les dates séparées par une virgule."
   ]
  },
  {
   "cell_type": "code",
   "execution_count": 19,
   "metadata": {},
   "outputs": [],
   "source": [
    "dates=\"\"\n",
    "for i in liste_dates_valides:\n",
    "    dates=dates+i+','\n",
    "dates=dates[:-1]"
   ]
  },
  {
   "cell_type": "markdown",
   "metadata": {},
   "source": [
    "On crée une liste avec pour éléments les listes des dates valides de chaque mois. On en fait un dictionnaire : `dico_mois`."
   ]
  },
  {
   "cell_type": "code",
   "execution_count": 20,
   "metadata": {},
   "outputs": [],
   "source": [
    "janvier = []\n",
    "fevrier = []\n",
    "mars=[]\n",
    "avril=[]\n",
    "mai=[]\n",
    "juin=[]\n",
    "juillet=[]\n",
    "aout=[]\n",
    "septembre=[]\n",
    "octobre=[]\n",
    "novembre=[]\n",
    "decembre=[]\n",
    "mois = [[],janvier,fevrier,mars,avril,mai,juin,juillet,aout,septembre,octobre,novembre,decembre]\n",
    "for i,moi in enumerate(mois):\n",
    "    \n",
    "    if i <10: regex = re.compile(\"([2][0][2][0]/[0][\"+str(i)+\"]/[0-3][0-9])\")\n",
    "    else : regex = re.compile(\"([2][0][2][0]/[1][\"+str(i-10)+\"]/[0-3][0-9])\")\n",
    "    mois[i].append(regex.findall(dates))\n",
    "mois=mois[3:]\n",
    "\n",
    "dico_mois={'mars': mars, 'avril': avril, 'mai': mai, 'juin': juin, 'juillet': juillet,'aout': aout,\n",
    "           'septembre': septembre, 'octobre':octobre, 'novembre': novembre, 'decembre': decembre}"
   ]
  },
  {
   "cell_type": "markdown",
   "metadata": {},
   "source": [
    "### Concaténation\n",
    "\n",
    "On crée `dico_df_mois` qui contiendra le df de chaque mois, on l'initie en mettant le premier df de chaque mois."
   ]
  },
  {
   "cell_type": "code",
   "execution_count": 21,
   "metadata": {},
   "outputs": [],
   "source": [
    "df_mars = recup_top_netflix_gen(\"2020/03/24\")\n",
    "df_avril = recup_top_netflix_gen(\"2020/04/01\")\n",
    "df_mai = recup_top_netflix_gen(\"2020/05/01\")\n",
    "df_juin = recup_top_netflix_gen(\"2020/06/01\")\n",
    "df_juillet = recup_top_netflix_gen(\"2020/07/01\")\n",
    "df_aout = recup_top_netflix_gen(\"2020/08/01\")\n",
    "df_septembre = recup_top_netflix_gen(\"2020/09/01\")\n",
    "df_octobre = recup_top_netflix_gen(\"2020/10/01\")\n",
    "df_novembre = recup_top_netflix_gen(\"2020/11/01\")\n",
    "df_decembre = recup_top_netflix_gen(\"2020/11/01\")\n",
    "\n",
    "dico_df_mois={\"mars\" : df_mars, \"avril\" : df_avril, \"mai\":df_mai , \"juin\":df_juin , \"juillet\":df_juillet,\n",
    "              \"aout\":df_aout ,\"septembre\" :df_septembre ,\"octobre\": df_octobre, \"novembre\" :df_novembre,\"decembre\": df_decembre}"
   ]
  },
  {
   "cell_type": "markdown",
   "metadata": {},
   "source": [
    "On enrichit chaque df avec les autres jours du mois.\n",
    "\n",
    "Cette cellule est longue à éxécuter : on la neutralise et on store les df obtenus dans des csv que nous utiliserons ensuite."
   ]
  },
  {
   "cell_type": "code",
   "execution_count": 22,
   "metadata": {},
   "outputs": [],
   "source": [
    "#for key,value in dico_mois.items():\n",
    "#    print (key)\n",
    "#    dico_df_mois[key] = recup_top_netflix_gen(value[0][0])\n",
    "#    a_conc=0\n",
    "#    for i in value[0][1:]:\n",
    "#        a_conc = recup_top_netflix_gen(i)\n",
    "#        dico_df_mois[key] = pd.concat([dico_df_mois[key],a_conc])\n",
    "#        #print(dico_df_mois[key])\n"
   ]
  },
  {
   "cell_type": "code",
   "execution_count": 23,
   "metadata": {},
   "outputs": [],
   "source": [
    "#for moi, df_moi in dico_df_mois.items():\n",
    "#    a=df_moi.to_csv(\"df_\"+moi+\".csv\", index = False) "
   ]
  },
  {
   "cell_type": "markdown",
   "metadata": {},
   "source": [
    "On récupère les CSV correspondants."
   ]
  },
  {
   "cell_type": "code",
   "execution_count": 24,
   "metadata": {},
   "outputs": [],
   "source": [
    "#Cellule Myrtille\n",
    "df_mars=pd.read_csv(r'C:\\Users\\Utilisateur\\Documents\\GitHub\\Projet_Python_2A\\df_mars.csv')\n",
    "df_avril=pd.read_csv(r'C:\\Users\\Utilisateur\\Documents\\GitHub\\Projet_Python_2A\\df_avril.csv')\n",
    "df_mai=pd.read_csv(r'C:\\Users\\Utilisateur\\Documents\\GitHub\\Projet_Python_2A\\df_mai.csv')\n",
    "df_juin=pd.read_csv(r'C:\\Users\\Utilisateur\\Documents\\GitHub\\Projet_Python_2A\\df_juin.csv')\n",
    "df_juillet=pd.read_csv(r'C:\\Users\\Utilisateur\\Documents\\GitHub\\Projet_Python_2A\\df_juillet.csv')\n",
    "df_aout=pd.read_csv(r'C:\\Users\\Utilisateur\\Documents\\GitHub\\Projet_Python_2A\\df_aout.csv')\n",
    "df_septembre=pd.read_csv(r'C:\\Users\\Utilisateur\\Documents\\GitHub\\Projet_Python_2A\\df_septembre.csv')\n",
    "df_octobre=pd.read_csv(r'C:\\Users\\Utilisateur\\Documents\\GitHub\\Projet_Python_2A\\df_octobre.csv')\n",
    "df_novembre=pd.read_csv(r'C:\\Users\\Utilisateur\\Documents\\GitHub\\Projet_Python_2A\\df_novembre.csv')\n",
    "df_decembre=pd.read_csv(r'C:\\Users\\Utilisateur\\Documents\\GitHub\\Projet_Python_2A\\df_decembre.csv')"
   ]
  },
  {
   "cell_type": "code",
   "execution_count": 26,
   "metadata": {},
   "outputs": [],
   "source": [
    "#Cellule Léo\n",
    "#df_mars=pd.read_csv(r'C:\\Users\\User\\Documents\\GitHub\\Projet_Python_2A\\df_mars.csv')\n",
    "#df_avril=pd.read_csv(r'C:\\Users\\User\\Documents\\GitHub\\Projet_Python_2A\\df_avril.csv')\n",
    "#df_mai=pd.read_csv(r'C:\\Users\\User\\Documents\\GitHub\\Projet_Python_2A\\df_mai.csv')\n",
    "#df_juin=pd.read_csv(r'C:\\Users\\User\\Documents\\GitHub\\Projet_Python_2A\\df_juin.csv')\n",
    "#df_juillet=pd.read_csv(r'C:\\Users\\User\\Documents\\GitHub\\Projet_Python_2A\\df_juillet.csv')\n",
    "#df_aout=pd.read_csv(r'C:\\Users\\User\\Documents\\GitHub\\Projet_Python_2A\\df_aout.csv')\n",
    "#df_septembre=pd.read_csv(r'C:\\Users\\User\\Documents\\GitHub\\Projet_Python_2A\\df_septembre.csv')\n",
    "#df_octobre=pd.read_csv(r'C:\\Users\\User\\Documents\\GitHub\\Projet_Python_2A\\df_octobre.csv')\n",
    "#df_novembre=pd.read_csv(r'C:\\Users\\User\\Documents\\GitHub\\Projet_Python_2A\\df_novembre.csv')\n",
    "#df_decembre=pd.read_csv(r'C:\\Users\\User\\Documents\\GitHub\\Projet_Python_2A\\df_decembre.csv')"
   ]
  },
  {
   "cell_type": "markdown",
   "metadata": {},
   "source": [
    "On remarque que la construction du `Score` fait qu'il est strictement croissant pour une fonction donnée.\n",
    "On va donc ordonner le df d'abord par titre puis par date décroissante. Ainsi la première occurence d'un titre donne son score le plus récent (et donc maximal), pour un mois donné.\n",
    "\n",
    "\n",
    "On crée une fonction `sortby` qui ordonne les df de cette manière."
   ]
  },
  {
   "cell_type": "code",
   "execution_count": 27,
   "metadata": {},
   "outputs": [],
   "source": [
    "def sortby(df):\n",
    "    return df.sort_values(['Title','Measure Date'],ascending=(True,False))\n",
    "#sortby(df_mars)"
   ]
  },
  {
   "cell_type": "code",
   "execution_count": 28,
   "metadata": {},
   "outputs": [
    {
     "data": {
      "text/html": [
       "<div>\n",
       "<style scoped>\n",
       "    .dataframe tbody tr th:only-of-type {\n",
       "        vertical-align: middle;\n",
       "    }\n",
       "\n",
       "    .dataframe tbody tr th {\n",
       "        vertical-align: top;\n",
       "    }\n",
       "\n",
       "    .dataframe thead th {\n",
       "        text-align: right;\n",
       "    }\n",
       "</style>\n",
       "<table border=\"1\" class=\"dataframe\">\n",
       "  <thead>\n",
       "    <tr style=\"text-align: right;\">\n",
       "      <th></th>\n",
       "      <th>Title</th>\n",
       "      <th>Type</th>\n",
       "      <th>Netflix Excl.</th>\n",
       "      <th>Netflix Release Date</th>\n",
       "      <th>Days In Top 10</th>\n",
       "      <th>Viewer- Ship Score</th>\n",
       "      <th>Measure Date</th>\n",
       "    </tr>\n",
       "  </thead>\n",
       "  <tbody>\n",
       "    <tr>\n",
       "      <th>68</th>\n",
       "      <td>Alien Worlds</td>\n",
       "      <td>TV Show</td>\n",
       "      <td>Yes</td>\n",
       "      <td>Dec 2, 2020</td>\n",
       "      <td>5</td>\n",
       "      <td>17</td>\n",
       "      <td>2020/12/07</td>\n",
       "    </tr>\n",
       "    <tr>\n",
       "      <th>58</th>\n",
       "      <td>Alien Worlds</td>\n",
       "      <td>TV Show</td>\n",
       "      <td>Yes</td>\n",
       "      <td>Dec 2, 2020</td>\n",
       "      <td>4</td>\n",
       "      <td>15</td>\n",
       "      <td>2020/12/06</td>\n",
       "    </tr>\n",
       "    <tr>\n",
       "      <th>47</th>\n",
       "      <td>Alien Worlds</td>\n",
       "      <td>TV Show</td>\n",
       "      <td>Yes</td>\n",
       "      <td>Dec 2, 2020</td>\n",
       "      <td>3</td>\n",
       "      <td>13</td>\n",
       "      <td>2020/12/05</td>\n",
       "    </tr>\n",
       "    <tr>\n",
       "      <th>33</th>\n",
       "      <td>Alien Worlds</td>\n",
       "      <td>TV Show</td>\n",
       "      <td>Yes</td>\n",
       "      <td>Dec 2, 2020</td>\n",
       "      <td>2</td>\n",
       "      <td>10</td>\n",
       "      <td>2020/12/04</td>\n",
       "    </tr>\n",
       "    <tr>\n",
       "      <th>27</th>\n",
       "      <td>Alien Worlds</td>\n",
       "      <td>TV Show</td>\n",
       "      <td>Yes</td>\n",
       "      <td>Dec 2, 2020</td>\n",
       "      <td>1</td>\n",
       "      <td>3</td>\n",
       "      <td>2020/12/03</td>\n",
       "    </tr>\n",
       "    <tr>\n",
       "      <th>120</th>\n",
       "      <td>Ava</td>\n",
       "      <td>Movie</td>\n",
       "      <td>NaN</td>\n",
       "      <td>NaN</td>\n",
       "      <td>6</td>\n",
       "      <td>50</td>\n",
       "      <td>2020/12/13</td>\n",
       "    </tr>\n",
       "    <tr>\n",
       "      <th>110</th>\n",
       "      <td>Ava</td>\n",
       "      <td>Movie</td>\n",
       "      <td>NaN</td>\n",
       "      <td>NaN</td>\n",
       "      <td>5</td>\n",
       "      <td>40</td>\n",
       "      <td>2020/12/12</td>\n",
       "    </tr>\n",
       "    <tr>\n",
       "      <th>100</th>\n",
       "      <td>Ava</td>\n",
       "      <td>Movie</td>\n",
       "      <td>NaN</td>\n",
       "      <td>NaN</td>\n",
       "      <td>4</td>\n",
       "      <td>30</td>\n",
       "      <td>2020/12/11</td>\n",
       "    </tr>\n",
       "    <tr>\n",
       "      <th>92</th>\n",
       "      <td>Ava</td>\n",
       "      <td>Movie</td>\n",
       "      <td>NaN</td>\n",
       "      <td>NaN</td>\n",
       "      <td>3</td>\n",
       "      <td>20</td>\n",
       "      <td>2020/12/10</td>\n",
       "    </tr>\n",
       "    <tr>\n",
       "      <th>82</th>\n",
       "      <td>Ava</td>\n",
       "      <td>Movie</td>\n",
       "      <td>NaN</td>\n",
       "      <td>NaN</td>\n",
       "      <td>2</td>\n",
       "      <td>12</td>\n",
       "      <td>2020/12/09</td>\n",
       "    </tr>\n",
       "  </tbody>\n",
       "</table>\n",
       "</div>"
      ],
      "text/plain": [
       "            Title     Type Netflix Excl. Netflix Release Date  Days In Top 10  \\\n",
       "68   Alien Worlds  TV Show           Yes          Dec 2, 2020               5   \n",
       "58   Alien Worlds  TV Show           Yes          Dec 2, 2020               4   \n",
       "47   Alien Worlds  TV Show           Yes          Dec 2, 2020               3   \n",
       "33   Alien Worlds  TV Show           Yes          Dec 2, 2020               2   \n",
       "27   Alien Worlds  TV Show           Yes          Dec 2, 2020               1   \n",
       "120           Ava    Movie           NaN                  NaN               6   \n",
       "110           Ava    Movie           NaN                  NaN               5   \n",
       "100           Ava    Movie           NaN                  NaN               4   \n",
       "92            Ava    Movie           NaN                  NaN               3   \n",
       "82            Ava    Movie           NaN                  NaN               2   \n",
       "\n",
       "     Viewer- Ship Score Measure Date  \n",
       "68                   17   2020/12/07  \n",
       "58                   15   2020/12/06  \n",
       "47                   13   2020/12/05  \n",
       "33                   10   2020/12/04  \n",
       "27                    3   2020/12/03  \n",
       "120                  50   2020/12/13  \n",
       "110                  40   2020/12/12  \n",
       "100                  30   2020/12/11  \n",
       "92                   20   2020/12/10  \n",
       "82                   12   2020/12/09  "
      ]
     },
     "execution_count": 28,
     "metadata": {},
     "output_type": "execute_result"
    }
   ],
   "source": [
    "sortby(df_decembre).head(10)"
   ]
  },
  {
   "cell_type": "markdown",
   "metadata": {},
   "source": [
    "On crée `dico_carac` où chaque entrée est un titre différent et les valeurs sont le type, l'exclusivité Netflix et le Score.\n",
    "On utilise les df dans le sens anti-chronologique pour récupérer le score le plus récent."
   ]
  },
  {
   "cell_type": "code",
   "execution_count": 35,
   "metadata": {
    "scrolled": true
   },
   "outputs": [],
   "source": [
    "liste_df = [df_decembre,df_novembre,df_octobre,df_septembre,df_aout,df_juillet,df_juin,df_mai,df_avril,df_mars]\n",
    "dico_carac=dict()\n",
    "\n",
    "for df_moi in liste_df:\n",
    "    for i in range(sortby(df_moi).shape[0]):\n",
    "        if sortby(df_moi)['Title'][i] not in dico_carac:\n",
    "            dico_carac[sortby(df_moi)['Title'][i]]=[sortby(df_moi)['Type'][i],sortby(df_moi)['Netflix Excl.'][i],sortby(df_moi)['Viewer- Ship Score'][i]]\n",
    "\n",
    "#dico_carac"
   ]
  },
  {
   "cell_type": "markdown",
   "metadata": {},
   "source": [
    "### Création de `df_carac`\n",
    "On crée le df correspondant"
   ]
  },
  {
   "cell_type": "code",
   "execution_count": 90,
   "metadata": {},
   "outputs": [
    {
     "data": {
      "text/html": [
       "<div>\n",
       "<style scoped>\n",
       "    .dataframe tbody tr th:only-of-type {\n",
       "        vertical-align: middle;\n",
       "    }\n",
       "\n",
       "    .dataframe tbody tr th {\n",
       "        vertical-align: top;\n",
       "    }\n",
       "\n",
       "    .dataframe thead th {\n",
       "        text-align: right;\n",
       "    }\n",
       "</style>\n",
       "<table border=\"1\" class=\"dataframe\">\n",
       "  <thead>\n",
       "    <tr style=\"text-align: right;\">\n",
       "      <th></th>\n",
       "      <th>Type</th>\n",
       "      <th>Netflix Exclusive</th>\n",
       "      <th>Score</th>\n",
       "    </tr>\n",
       "  </thead>\n",
       "  <tbody>\n",
       "    <tr>\n",
       "      <th>The Queen's Gambit</th>\n",
       "      <td>TV Show</td>\n",
       "      <td>Yes</td>\n",
       "      <td>340</td>\n",
       "    </tr>\n",
       "    <tr>\n",
       "      <th>Outer Banks</th>\n",
       "      <td>TV Show</td>\n",
       "      <td>Yes</td>\n",
       "      <td>259</td>\n",
       "    </tr>\n",
       "    <tr>\n",
       "      <th>The Umbrella Academy</th>\n",
       "      <td>TV Show</td>\n",
       "      <td>Yes</td>\n",
       "      <td>231</td>\n",
       "    </tr>\n",
       "    <tr>\n",
       "      <th>365 Dni</th>\n",
       "      <td>Movie</td>\n",
       "      <td>NaN</td>\n",
       "      <td>198</td>\n",
       "    </tr>\n",
       "    <tr>\n",
       "      <th>Avatar the Last Airbender</th>\n",
       "      <td>TV Show</td>\n",
       "      <td>NaN</td>\n",
       "      <td>196</td>\n",
       "    </tr>\n",
       "    <tr>\n",
       "      <th>...</th>\n",
       "      <td>...</td>\n",
       "      <td>...</td>\n",
       "      <td>...</td>\n",
       "    </tr>\n",
       "    <tr>\n",
       "      <th>How to Train Your Dragon 2</th>\n",
       "      <td>Movie</td>\n",
       "      <td>NaN</td>\n",
       "      <td>1</td>\n",
       "    </tr>\n",
       "    <tr>\n",
       "      <th>Legacies</th>\n",
       "      <td>TV Show</td>\n",
       "      <td>NaN</td>\n",
       "      <td>1</td>\n",
       "    </tr>\n",
       "    <tr>\n",
       "      <th>Community</th>\n",
       "      <td>TV Show</td>\n",
       "      <td>NaN</td>\n",
       "      <td>1</td>\n",
       "    </tr>\n",
       "    <tr>\n",
       "      <th>The Christmas Chronicles</th>\n",
       "      <td>Movie</td>\n",
       "      <td>Yes</td>\n",
       "      <td>1</td>\n",
       "    </tr>\n",
       "    <tr>\n",
       "      <th>House at the End of the Street</th>\n",
       "      <td>Movie</td>\n",
       "      <td>Yes</td>\n",
       "      <td>1</td>\n",
       "    </tr>\n",
       "  </tbody>\n",
       "</table>\n",
       "<p>291 rows × 3 columns</p>\n",
       "</div>"
      ],
      "text/plain": [
       "                                   Type Netflix Exclusive  Score\n",
       "The Queen's Gambit              TV Show               Yes    340\n",
       "Outer Banks                     TV Show               Yes    259\n",
       "The Umbrella Academy            TV Show               Yes    231\n",
       "365 Dni                           Movie               NaN    198\n",
       "Avatar the Last Airbender       TV Show               NaN    196\n",
       "...                                 ...               ...    ...\n",
       "How to Train Your Dragon 2        Movie               NaN      1\n",
       "Legacies                        TV Show               NaN      1\n",
       "Community                       TV Show               NaN      1\n",
       "The Christmas Chronicles          Movie               Yes      1\n",
       "House at the End of the Street    Movie               Yes      1\n",
       "\n",
       "[291 rows x 3 columns]"
      ]
     },
     "execution_count": 90,
     "metadata": {},
     "output_type": "execute_result"
    }
   ],
   "source": [
    "df_carac = pd.DataFrame.from_dict(dico_carac,orient='index')\n",
    "df_carac.columns=['Type','Netflix Exclusive','Score']\n",
    "df_carac= df_carac.sort_values('Score',ascending=False)\n",
    "df_carac"
   ]
  },
  {
   "cell_type": "markdown",
   "metadata": {},
   "source": [
    "On remplit les valeurs manquantes de Netflix Exclusive par `'No'`. \n",
    "\n",
    "En effet, sur le site original la variable ne prend comme modalité que 'Yes' ou rien, on considère que rien veut dire que la série n'est pas une série originale Netflix. "
   ]
  },
  {
   "cell_type": "code",
   "execution_count": 31,
   "metadata": {},
   "outputs": [],
   "source": [
    "df_carac['Netflix Exclusive']=df_carac['Netflix Exclusive'].fillna('No')"
   ]
  },
  {
   "cell_type": "markdown",
   "metadata": {},
   "source": [
    "On reset l'index et renomme la colonne `'Title'`."
   ]
  },
  {
   "cell_type": "code",
   "execution_count": 91,
   "metadata": {},
   "outputs": [],
   "source": [
    "df_carac=df_carac.reset_index()\n",
    "df_carac.columns=['Title','Type','Netflix Exclusive','Score']"
   ]
  },
  {
   "cell_type": "code",
   "execution_count": 92,
   "metadata": {},
   "outputs": [
    {
     "data": {
      "text/html": [
       "<div>\n",
       "<style scoped>\n",
       "    .dataframe tbody tr th:only-of-type {\n",
       "        vertical-align: middle;\n",
       "    }\n",
       "\n",
       "    .dataframe tbody tr th {\n",
       "        vertical-align: top;\n",
       "    }\n",
       "\n",
       "    .dataframe thead th {\n",
       "        text-align: right;\n",
       "    }\n",
       "</style>\n",
       "<table border=\"1\" class=\"dataframe\">\n",
       "  <thead>\n",
       "    <tr style=\"text-align: right;\">\n",
       "      <th></th>\n",
       "      <th>Title</th>\n",
       "      <th>Type</th>\n",
       "      <th>Netflix Exclusive</th>\n",
       "      <th>Score</th>\n",
       "    </tr>\n",
       "  </thead>\n",
       "  <tbody>\n",
       "    <tr>\n",
       "      <th>0</th>\n",
       "      <td>The Queen's Gambit</td>\n",
       "      <td>TV Show</td>\n",
       "      <td>Yes</td>\n",
       "      <td>340</td>\n",
       "    </tr>\n",
       "    <tr>\n",
       "      <th>1</th>\n",
       "      <td>Outer Banks</td>\n",
       "      <td>TV Show</td>\n",
       "      <td>Yes</td>\n",
       "      <td>259</td>\n",
       "    </tr>\n",
       "    <tr>\n",
       "      <th>2</th>\n",
       "      <td>The Umbrella Academy</td>\n",
       "      <td>TV Show</td>\n",
       "      <td>Yes</td>\n",
       "      <td>231</td>\n",
       "    </tr>\n",
       "    <tr>\n",
       "      <th>3</th>\n",
       "      <td>365 Dni</td>\n",
       "      <td>Movie</td>\n",
       "      <td>NaN</td>\n",
       "      <td>198</td>\n",
       "    </tr>\n",
       "    <tr>\n",
       "      <th>4</th>\n",
       "      <td>Avatar the Last Airbender</td>\n",
       "      <td>TV Show</td>\n",
       "      <td>NaN</td>\n",
       "      <td>196</td>\n",
       "    </tr>\n",
       "  </tbody>\n",
       "</table>\n",
       "</div>"
      ],
      "text/plain": [
       "                       Title     Type Netflix Exclusive  Score\n",
       "0         The Queen's Gambit  TV Show               Yes    340\n",
       "1                Outer Banks  TV Show               Yes    259\n",
       "2       The Umbrella Academy  TV Show               Yes    231\n",
       "3                    365 Dni    Movie               NaN    198\n",
       "4  Avatar the Last Airbender  TV Show               NaN    196"
      ]
     },
     "execution_count": 92,
     "metadata": {},
     "output_type": "execute_result"
    }
   ],
   "source": [
    "df_carac.head()"
   ]
  },
  {
   "cell_type": "markdown",
   "metadata": {},
   "source": [
    "On store ce df sous un csv du même nom."
   ]
  },
  {
   "cell_type": "code",
   "execution_count": 93,
   "metadata": {},
   "outputs": [],
   "source": [
    "gfg_csv_data = df_carac.to_csv('df_carac.csv', index = False)"
   ]
  },
  {
   "cell_type": "markdown",
   "metadata": {},
   "source": [
    "## All Streaming Shows (`AS`)"
   ]
  },
  {
   "cell_type": "markdown",
   "metadata": {},
   "source": [
    "All Streaming Shows est une base trouvée sur Kaggle qui recense les Séries (uniquement) diffusées en 2020.\n",
    "\n",
    "Elle présente l'avantage de contenir plusieurs valeurs exploitables en particulier : le genre, la plateforme de diffusion et les notes IMDB et Rotten Tomatoes."
   ]
  },
  {
   "cell_type": "code",
   "execution_count": 39,
   "metadata": {},
   "outputs": [],
   "source": [
    "#Cellule léo\n",
    "#AS= pd.read_csv(r'C:\\Users\\User\\Documents\\GitHub\\Projet_Python_2A\\All_Streaming_Shows.csv',sep=',')\n",
    "#AS.shape[0] #12 353\n",
    "#AS.head(5)"
   ]
  },
  {
   "cell_type": "code",
   "execution_count": 44,
   "metadata": {},
   "outputs": [
    {
     "data": {
      "text/html": [
       "<div>\n",
       "<style scoped>\n",
       "    .dataframe tbody tr th:only-of-type {\n",
       "        vertical-align: middle;\n",
       "    }\n",
       "\n",
       "    .dataframe tbody tr th {\n",
       "        vertical-align: top;\n",
       "    }\n",
       "\n",
       "    .dataframe thead th {\n",
       "        text-align: right;\n",
       "    }\n",
       "</style>\n",
       "<table border=\"1\" class=\"dataframe\">\n",
       "  <thead>\n",
       "    <tr style=\"text-align: right;\">\n",
       "      <th></th>\n",
       "      <th>Series Title</th>\n",
       "      <th>Year Released</th>\n",
       "      <th>Content Rating</th>\n",
       "      <th>IMDB Rating</th>\n",
       "      <th>R Rating</th>\n",
       "      <th>Genre</th>\n",
       "      <th>Description</th>\n",
       "      <th>No of Seasons</th>\n",
       "      <th>Streaming Platform</th>\n",
       "    </tr>\n",
       "  </thead>\n",
       "  <tbody>\n",
       "    <tr>\n",
       "      <th>0</th>\n",
       "      <td>Breaking Bad</td>\n",
       "      <td>2008</td>\n",
       "      <td>18+</td>\n",
       "      <td>9.5</td>\n",
       "      <td>100</td>\n",
       "      <td>Crime,Drama</td>\n",
       "      <td>When Walter White, a New Mexico chemistry teac...</td>\n",
       "      <td>5Seasons</td>\n",
       "      <td>Netflix</td>\n",
       "    </tr>\n",
       "    <tr>\n",
       "      <th>1</th>\n",
       "      <td>Game of Thrones</td>\n",
       "      <td>2011</td>\n",
       "      <td>18+</td>\n",
       "      <td>9.3</td>\n",
       "      <td>99</td>\n",
       "      <td>Action &amp; Adventure,Drama</td>\n",
       "      <td>Seven noble families fight for control of the ...</td>\n",
       "      <td>8Seasons</td>\n",
       "      <td>HBO MAX,HBO</td>\n",
       "    </tr>\n",
       "    <tr>\n",
       "      <th>2</th>\n",
       "      <td>Rick and Morty</td>\n",
       "      <td>2013</td>\n",
       "      <td>18+</td>\n",
       "      <td>9.2</td>\n",
       "      <td>97</td>\n",
       "      <td>Animation,Comedy</td>\n",
       "      <td>Rick is a mentally-unbalanced but scientifical...</td>\n",
       "      <td>4Seasons</td>\n",
       "      <td>Free Services,HBO MAX,Hulu</td>\n",
       "    </tr>\n",
       "    <tr>\n",
       "      <th>3</th>\n",
       "      <td>Stranger Things</td>\n",
       "      <td>2016</td>\n",
       "      <td>16+</td>\n",
       "      <td>8.8</td>\n",
       "      <td>96</td>\n",
       "      <td>Drama,Fantasy</td>\n",
       "      <td>When a young boy vanishes, a small town uncove...</td>\n",
       "      <td>3Seasons</td>\n",
       "      <td>Netflix</td>\n",
       "    </tr>\n",
       "    <tr>\n",
       "      <th>4</th>\n",
       "      <td>The Boys</td>\n",
       "      <td>2019</td>\n",
       "      <td>18+</td>\n",
       "      <td>8.7</td>\n",
       "      <td>95</td>\n",
       "      <td>Action &amp; Adventure,Comedy</td>\n",
       "      <td>A group of vigilantes known informally as “The...</td>\n",
       "      <td>2Seasons</td>\n",
       "      <td>Prime Video</td>\n",
       "    </tr>\n",
       "  </tbody>\n",
       "</table>\n",
       "</div>"
      ],
      "text/plain": [
       "      Series Title  Year Released Content Rating  IMDB Rating  R Rating  \\\n",
       "0     Breaking Bad           2008            18+          9.5       100   \n",
       "1  Game of Thrones           2011            18+          9.3        99   \n",
       "2   Rick and Morty           2013            18+          9.2        97   \n",
       "3  Stranger Things           2016            16+          8.8        96   \n",
       "4         The Boys           2019            18+          8.7        95   \n",
       "\n",
       "                       Genre  \\\n",
       "0                Crime,Drama   \n",
       "1   Action & Adventure,Drama   \n",
       "2           Animation,Comedy   \n",
       "3              Drama,Fantasy   \n",
       "4  Action & Adventure,Comedy   \n",
       "\n",
       "                                         Description No of Seasons  \\\n",
       "0  When Walter White, a New Mexico chemistry teac...      5Seasons   \n",
       "1  Seven noble families fight for control of the ...      8Seasons   \n",
       "2  Rick is a mentally-unbalanced but scientifical...      4Seasons   \n",
       "3  When a young boy vanishes, a small town uncove...      3Seasons   \n",
       "4  A group of vigilantes known informally as “The...      2Seasons   \n",
       "\n",
       "           Streaming Platform  \n",
       "0                     Netflix  \n",
       "1                 HBO MAX,HBO  \n",
       "2  Free Services,HBO MAX,Hulu  \n",
       "3                     Netflix  \n",
       "4                 Prime Video  "
      ]
     },
     "execution_count": 44,
     "metadata": {},
     "output_type": "execute_result"
    }
   ],
   "source": [
    "#Cellule Myrtille\n",
    "AS= pd.read_csv(r'C:\\Users\\Utilisateur\\Documents\\GitHub\\Projet_Python_2A\\All_Streaming_Shows.csv',sep=',')\n",
    "AS.shape[0] #12 353\n",
    "AS.head(5)"
   ]
  },
  {
   "cell_type": "markdown",
   "metadata": {},
   "source": [
    "### Nettoyage préliminaire et ajout de `Top IMDB`"
   ]
  },
  {
   "cell_type": "markdown",
   "metadata": {},
   "source": [
    "On nettoie la colonne `No of Seasons` pour ne conserver que le nombre.\n",
    "\n",
    "Pour cela on utilise une regex."
   ]
  },
  {
   "cell_type": "code",
   "execution_count": 45,
   "metadata": {},
   "outputs": [],
   "source": [
    "regex = r'([0-9]?[0-9])'\n",
    "AS['No of Seasons'] = AS['No of Seasons'].str.extract(regex,expand=True)\n",
    "AS['No of Seasons'] = AS['No of Seasons'].fillna(0)\n",
    "AS['No of Seasons'] = AS['No of Seasons'].astype(str).astype(int)"
   ]
  },
  {
   "cell_type": "code",
   "execution_count": 46,
   "metadata": {},
   "outputs": [
    {
     "data": {
      "text/html": [
       "<div>\n",
       "<style scoped>\n",
       "    .dataframe tbody tr th:only-of-type {\n",
       "        vertical-align: middle;\n",
       "    }\n",
       "\n",
       "    .dataframe tbody tr th {\n",
       "        vertical-align: top;\n",
       "    }\n",
       "\n",
       "    .dataframe thead th {\n",
       "        text-align: right;\n",
       "    }\n",
       "</style>\n",
       "<table border=\"1\" class=\"dataframe\">\n",
       "  <thead>\n",
       "    <tr style=\"text-align: right;\">\n",
       "      <th></th>\n",
       "      <th>Series Title</th>\n",
       "      <th>Year Released</th>\n",
       "      <th>Content Rating</th>\n",
       "      <th>IMDB Rating</th>\n",
       "      <th>R Rating</th>\n",
       "      <th>Genre</th>\n",
       "      <th>Description</th>\n",
       "      <th>No of Seasons</th>\n",
       "      <th>Streaming Platform</th>\n",
       "    </tr>\n",
       "  </thead>\n",
       "  <tbody>\n",
       "    <tr>\n",
       "      <th>0</th>\n",
       "      <td>Breaking Bad</td>\n",
       "      <td>2008</td>\n",
       "      <td>18+</td>\n",
       "      <td>9.5</td>\n",
       "      <td>100</td>\n",
       "      <td>Crime,Drama</td>\n",
       "      <td>When Walter White, a New Mexico chemistry teac...</td>\n",
       "      <td>5</td>\n",
       "      <td>Netflix</td>\n",
       "    </tr>\n",
       "    <tr>\n",
       "      <th>1</th>\n",
       "      <td>Game of Thrones</td>\n",
       "      <td>2011</td>\n",
       "      <td>18+</td>\n",
       "      <td>9.3</td>\n",
       "      <td>99</td>\n",
       "      <td>Action &amp; Adventure,Drama</td>\n",
       "      <td>Seven noble families fight for control of the ...</td>\n",
       "      <td>8</td>\n",
       "      <td>HBO MAX,HBO</td>\n",
       "    </tr>\n",
       "    <tr>\n",
       "      <th>2</th>\n",
       "      <td>Rick and Morty</td>\n",
       "      <td>2013</td>\n",
       "      <td>18+</td>\n",
       "      <td>9.2</td>\n",
       "      <td>97</td>\n",
       "      <td>Animation,Comedy</td>\n",
       "      <td>Rick is a mentally-unbalanced but scientifical...</td>\n",
       "      <td>4</td>\n",
       "      <td>Free Services,HBO MAX,Hulu</td>\n",
       "    </tr>\n",
       "    <tr>\n",
       "      <th>3</th>\n",
       "      <td>Stranger Things</td>\n",
       "      <td>2016</td>\n",
       "      <td>16+</td>\n",
       "      <td>8.8</td>\n",
       "      <td>96</td>\n",
       "      <td>Drama,Fantasy</td>\n",
       "      <td>When a young boy vanishes, a small town uncove...</td>\n",
       "      <td>3</td>\n",
       "      <td>Netflix</td>\n",
       "    </tr>\n",
       "    <tr>\n",
       "      <th>4</th>\n",
       "      <td>The Boys</td>\n",
       "      <td>2019</td>\n",
       "      <td>18+</td>\n",
       "      <td>8.7</td>\n",
       "      <td>95</td>\n",
       "      <td>Action &amp; Adventure,Comedy</td>\n",
       "      <td>A group of vigilantes known informally as “The...</td>\n",
       "      <td>2</td>\n",
       "      <td>Prime Video</td>\n",
       "    </tr>\n",
       "  </tbody>\n",
       "</table>\n",
       "</div>"
      ],
      "text/plain": [
       "      Series Title  Year Released Content Rating  IMDB Rating  R Rating  \\\n",
       "0     Breaking Bad           2008            18+          9.5       100   \n",
       "1  Game of Thrones           2011            18+          9.3        99   \n",
       "2   Rick and Morty           2013            18+          9.2        97   \n",
       "3  Stranger Things           2016            16+          8.8        96   \n",
       "4         The Boys           2019            18+          8.7        95   \n",
       "\n",
       "                       Genre  \\\n",
       "0                Crime,Drama   \n",
       "1   Action & Adventure,Drama   \n",
       "2           Animation,Comedy   \n",
       "3              Drama,Fantasy   \n",
       "4  Action & Adventure,Comedy   \n",
       "\n",
       "                                         Description  No of Seasons  \\\n",
       "0  When Walter White, a New Mexico chemistry teac...              5   \n",
       "1  Seven noble families fight for control of the ...              8   \n",
       "2  Rick is a mentally-unbalanced but scientifical...              4   \n",
       "3  When a young boy vanishes, a small town uncove...              3   \n",
       "4  A group of vigilantes known informally as “The...              2   \n",
       "\n",
       "           Streaming Platform  \n",
       "0                     Netflix  \n",
       "1                 HBO MAX,HBO  \n",
       "2  Free Services,HBO MAX,Hulu  \n",
       "3                     Netflix  \n",
       "4                 Prime Video  "
      ]
     },
     "execution_count": 46,
     "metadata": {},
     "output_type": "execute_result"
    }
   ],
   "source": [
    "AS.head()"
   ]
  },
  {
   "cell_type": "markdown",
   "metadata": {},
   "source": [
    "On enrichi ensuite cette base d'une variable binaire 'Top IMDB' qui prend 1 comme valeur quand la série figure dans le Top IMDB, 0 sinon.\n",
    "\n",
    "Nous avons codé cette variable en observant dans notre base Top IMDB 250 qu'une note supérieure à 8,4 valait une inscription dans le Top.\n",
    "\n",
    "(Il n'était pas possible de directement fusioner les deux bases à cause de l'incompatibilité des titres :en francais pour Top IMDB et anglais ici.)"
   ]
  },
  {
   "cell_type": "code",
   "execution_count": 48,
   "metadata": {},
   "outputs": [
    {
     "data": {
      "text/html": [
       "<div>\n",
       "<style scoped>\n",
       "    .dataframe tbody tr th:only-of-type {\n",
       "        vertical-align: middle;\n",
       "    }\n",
       "\n",
       "    .dataframe tbody tr th {\n",
       "        vertical-align: top;\n",
       "    }\n",
       "\n",
       "    .dataframe thead th {\n",
       "        text-align: right;\n",
       "    }\n",
       "</style>\n",
       "<table border=\"1\" class=\"dataframe\">\n",
       "  <thead>\n",
       "    <tr style=\"text-align: right;\">\n",
       "      <th></th>\n",
       "      <th>Title</th>\n",
       "      <th>IMDb rating</th>\n",
       "    </tr>\n",
       "  </thead>\n",
       "  <tbody>\n",
       "    <tr>\n",
       "      <th>239</th>\n",
       "      <td>Community</td>\n",
       "      <td>8.4</td>\n",
       "    </tr>\n",
       "    <tr>\n",
       "      <th>240</th>\n",
       "      <td>Unsere Mütter, unsere Väter</td>\n",
       "      <td>8.4</td>\n",
       "    </tr>\n",
       "    <tr>\n",
       "      <th>241</th>\n",
       "      <td>Vikings</td>\n",
       "      <td>8.4</td>\n",
       "    </tr>\n",
       "    <tr>\n",
       "      <th>242</th>\n",
       "      <td>Clannad: After Story</td>\n",
       "      <td>8.4</td>\n",
       "    </tr>\n",
       "    <tr>\n",
       "      <th>243</th>\n",
       "      <td>Feud</td>\n",
       "      <td>8.4</td>\n",
       "    </tr>\n",
       "  </tbody>\n",
       "</table>\n",
       "</div>"
      ],
      "text/plain": [
       "                           Title  IMDb rating\n",
       "239                    Community          8.4\n",
       "240  Unsere Mütter, unsere Väter          8.4\n",
       "241                      Vikings          8.4\n",
       "242         Clannad: After Story          8.4\n",
       "243                         Feud          8.4"
      ]
     },
     "execution_count": 48,
     "metadata": {},
     "output_type": "execute_result"
    }
   ],
   "source": [
    "df_top_shows.tail()"
   ]
  },
  {
   "cell_type": "code",
   "execution_count": 49,
   "metadata": {},
   "outputs": [],
   "source": [
    "AS['Top IMDB'] = AS['IMDB Rating'].apply(lambda x: '1' if x >= 8.4 else '0')\n",
    "AS['Top IMDB'] = AS['Top IMDB'].astype(str).astype(int)"
   ]
  },
  {
   "cell_type": "code",
   "execution_count": 191,
   "metadata": {},
   "outputs": [],
   "source": [
    "AS.sort_values('IMDB Rating',ascending=False)[745:760]"
   ]
  },
  {
   "cell_type": "markdown",
   "metadata": {},
   "source": [
    "### Création de sous bases propres aux plateformes `AS_N`, `AS_P`, `AS_H`, `AS_F`"
   ]
  },
  {
   "cell_type": "markdown",
   "metadata": {},
   "source": [
    "On aura donc une base par plateforme pour : Netflix, Prime Video, Hulu et fuboTV.\n",
    "\n",
    "L'inconvénient de cette façon et de le faire est qu'on exclue les titres où plusieurs plateformes sont renseignées.\n",
    "\n",
    "On peut considérer que ce sont des bases avec seulement les \"exclusivités\" de chaque plateforme."
   ]
  },
  {
   "cell_type": "code",
   "execution_count": 109,
   "metadata": {},
   "outputs": [],
   "source": [
    "AS['Streaming Platform'].isin(['Netflix']).sum() #1 427 titres Netflix\n",
    "AS_N=AS[AS['Streaming Platform'].isin(['Netflix'])]\n",
    "AS_P=AS[AS['Streaming Platform'].isin(['Prime Video'])]\n",
    "AS_H=AS[AS['Streaming Platform'].isin(['Hulu'])]\n",
    "AS_F=AS[AS['Streaming Platform'].isin(['fuboTV'])]\n",
    "\n",
    "gfg_csv_data = AS_N.to_csv('AS_N.csv', index = False)"
   ]
  },
  {
   "cell_type": "code",
   "execution_count": 65,
   "metadata": {},
   "outputs": [
    {
     "name": "stdout",
     "output_type": "stream",
     "text": [
      "On a  1427  titres pour Netflix,  1184  pour Prime Video,  665  pour Hulu et  298  pour fuboTV.\n"
     ]
    }
   ],
   "source": [
    "print ('On a ',AS['Streaming Platform'].isin(['Netflix']).sum(),\" titres pour Netflix, \",\n",
    "       AS['Streaming Platform'].isin(['Prime Video']).sum(),\" pour Prime Video, \",\n",
    "      AS['Streaming Platform'].isin(['Hulu']).sum(), \" pour Hulu et \",\n",
    "      AS['Streaming Platform'].isin(['fuboTV']).sum(),\" pour fuboTV.\")"
   ]
  },
  {
   "cell_type": "markdown",
   "metadata": {},
   "source": [
    "## Jointures"
   ]
  },
  {
   "cell_type": "markdown",
   "metadata": {},
   "source": [
    "On effectue les jointures suivantes :\n",
    "\n",
    "- **df_tvshow x cara** = `OGTV_x_carac`\n",
    "\n",
    "- **df_movie x carac** = `OGM_x_carac`\n",
    "\n",
    "- **AS x carac**\n",
    "\n",
    "- **AS_N x carac**"
   ]
  },
  {
   "cell_type": "code",
   "execution_count": 99,
   "metadata": {},
   "outputs": [],
   "source": [
    "OGTV_x_carac=df_tvshow.set_index('title').join(df_carac.set_index('Title'))\n",
    "OGTV_x_carac.rename(columns={'index': 'Title'}, inplace=True)\n",
    "gfg_csv_data = OGTV_x_carac.to_csv('OGTV_x_carac.csv', index = False)\n",
    "\n",
    "OGM_x_carac=df_movie.set_index('title').join(df_carac.set_index('Title'))\n",
    "OGM_x_carac.rename(columns={'index': 'Title'}, inplace=True)\n",
    "gfg_csv_data = OGM_x_carac.to_csv('OGM_x_carac.csv', index = False) "
   ]
  },
  {
   "cell_type": "code",
   "execution_count": 103,
   "metadata": {},
   "outputs": [
    {
     "data": {
      "text/html": [
       "<div>\n",
       "<style scoped>\n",
       "    .dataframe tbody tr th:only-of-type {\n",
       "        vertical-align: middle;\n",
       "    }\n",
       "\n",
       "    .dataframe tbody tr th {\n",
       "        vertical-align: top;\n",
       "    }\n",
       "\n",
       "    .dataframe thead th {\n",
       "        text-align: right;\n",
       "    }\n",
       "</style>\n",
       "<table border=\"1\" class=\"dataframe\">\n",
       "  <thead>\n",
       "    <tr style=\"text-align: right;\">\n",
       "      <th></th>\n",
       "      <th>type</th>\n",
       "      <th>director</th>\n",
       "      <th>cast</th>\n",
       "      <th>date_added</th>\n",
       "      <th>year_added</th>\n",
       "      <th>release_year</th>\n",
       "      <th>duration</th>\n",
       "      <th>listed_in</th>\n",
       "      <th>Type</th>\n",
       "      <th>Netflix Exclusive</th>\n",
       "      <th>Score</th>\n",
       "    </tr>\n",
       "  </thead>\n",
       "  <tbody>\n",
       "    <tr>\n",
       "      <th>The Umbrella Academy</th>\n",
       "      <td>TV Show</td>\n",
       "      <td>NaN</td>\n",
       "      <td>NaN</td>\n",
       "      <td>February 15, 2019</td>\n",
       "      <td>2019</td>\n",
       "      <td>2019</td>\n",
       "      <td>1 Season</td>\n",
       "      <td>TV Action &amp; Adventure, TV Mysteries, TV Sci-Fi...</td>\n",
       "      <td>TV Show</td>\n",
       "      <td>Yes</td>\n",
       "      <td>231.0</td>\n",
       "    </tr>\n",
       "    <tr>\n",
       "      <th>Dead to Me</th>\n",
       "      <td>TV Show</td>\n",
       "      <td>NaN</td>\n",
       "      <td>Christina Applegate, Linda Cardellini, James M...</td>\n",
       "      <td>May 3, 2019</td>\n",
       "      <td>2019</td>\n",
       "      <td>2019</td>\n",
       "      <td>1 Season</td>\n",
       "      <td>TV Comedies, TV Dramas</td>\n",
       "      <td>TV Show</td>\n",
       "      <td>Yes</td>\n",
       "      <td>175.0</td>\n",
       "    </tr>\n",
       "    <tr>\n",
       "      <th>Ozark</th>\n",
       "      <td>TV Show</td>\n",
       "      <td>NaN</td>\n",
       "      <td>Jason Bateman, Sofia Hublitz, Laura Linney, Sk...</td>\n",
       "      <td>August 31, 2018</td>\n",
       "      <td>2018</td>\n",
       "      <td>2018</td>\n",
       "      <td>2 Seasons</td>\n",
       "      <td>Crime TV Shows, TV Dramas, TV Thrillers</td>\n",
       "      <td>TV Show</td>\n",
       "      <td>Yes</td>\n",
       "      <td>169.0</td>\n",
       "    </tr>\n",
       "    <tr>\n",
       "      <th>The Crown</th>\n",
       "      <td>TV Show</td>\n",
       "      <td>NaN</td>\n",
       "      <td>Claire Foy, John Lithgow, Matt Smith, Vanessa ...</td>\n",
       "      <td>November 17, 2019</td>\n",
       "      <td>2019</td>\n",
       "      <td>2019</td>\n",
       "      <td>3 Seasons</td>\n",
       "      <td>British TV Shows, International TV Shows, TV D...</td>\n",
       "      <td>TV Show</td>\n",
       "      <td>Yes</td>\n",
       "      <td>138.0</td>\n",
       "    </tr>\n",
       "    <tr>\n",
       "      <th>Riverdale</th>\n",
       "      <td>TV Show</td>\n",
       "      <td>Rob Seidenglanz</td>\n",
       "      <td>K.J. Apa, Lili Reinhart, Camila Mendes, Cole S...</td>\n",
       "      <td>May 23, 2019</td>\n",
       "      <td>2019</td>\n",
       "      <td>2019</td>\n",
       "      <td>3 Seasons</td>\n",
       "      <td>Crime TV Shows, TV Dramas, TV Mysteries</td>\n",
       "      <td>TV Show</td>\n",
       "      <td>NaN</td>\n",
       "      <td>103.0</td>\n",
       "    </tr>\n",
       "  </tbody>\n",
       "</table>\n",
       "</div>"
      ],
      "text/plain": [
       "                         type         director  \\\n",
       "The Umbrella Academy  TV Show              NaN   \n",
       "Dead to Me            TV Show              NaN   \n",
       "Ozark                 TV Show              NaN   \n",
       "The Crown             TV Show              NaN   \n",
       "Riverdale             TV Show  Rob Seidenglanz   \n",
       "\n",
       "                                                                   cast  \\\n",
       "The Umbrella Academy                                                NaN   \n",
       "Dead to Me            Christina Applegate, Linda Cardellini, James M...   \n",
       "Ozark                 Jason Bateman, Sofia Hublitz, Laura Linney, Sk...   \n",
       "The Crown             Claire Foy, John Lithgow, Matt Smith, Vanessa ...   \n",
       "Riverdale             K.J. Apa, Lili Reinhart, Camila Mendes, Cole S...   \n",
       "\n",
       "                              date_added  year_added  release_year   duration  \\\n",
       "The Umbrella Academy   February 15, 2019        2019          2019   1 Season   \n",
       "Dead to Me                   May 3, 2019        2019          2019   1 Season   \n",
       "Ozark                    August 31, 2018        2018          2018  2 Seasons   \n",
       "The Crown              November 17, 2019        2019          2019  3 Seasons   \n",
       "Riverdale                   May 23, 2019        2019          2019  3 Seasons   \n",
       "\n",
       "                                                              listed_in  \\\n",
       "The Umbrella Academy  TV Action & Adventure, TV Mysteries, TV Sci-Fi...   \n",
       "Dead to Me                                       TV Comedies, TV Dramas   \n",
       "Ozark                           Crime TV Shows, TV Dramas, TV Thrillers   \n",
       "The Crown             British TV Shows, International TV Shows, TV D...   \n",
       "Riverdale                       Crime TV Shows, TV Dramas, TV Mysteries   \n",
       "\n",
       "                         Type Netflix Exclusive  Score  \n",
       "The Umbrella Academy  TV Show               Yes  231.0  \n",
       "Dead to Me            TV Show               Yes  175.0  \n",
       "Ozark                 TV Show               Yes  169.0  \n",
       "The Crown             TV Show               Yes  138.0  \n",
       "Riverdale             TV Show               NaN  103.0  "
      ]
     },
     "execution_count": 103,
     "metadata": {},
     "output_type": "execute_result"
    }
   ],
   "source": [
    "OGTV_x_carac.sort_values('Score',ascending=False).head()"
   ]
  },
  {
   "cell_type": "code",
   "execution_count": 107,
   "metadata": {},
   "outputs": [
    {
     "name": "stdout",
     "output_type": "stream",
     "text": [
      "On a seulement  45  scores, c'est très peu, d'où l'utilisation de AS et ses dérivées.\n"
     ]
    }
   ],
   "source": [
    "print (\"On a seulement \",OGTV_x_carac['Score'].notna().sum(),\" scores, c'est très peu, d'où l'utilisation de AS et ses dérivées.\")"
   ]
  },
  {
   "cell_type": "code",
   "execution_count": 116,
   "metadata": {},
   "outputs": [],
   "source": [
    "AS_x_carac = AS.set_index('Series Title').join(df_carac.set_index('Title'))\n",
    "gfg_csv_data = AS_x_carac.to_csv('AS_x_carac.csv', index = False) "
   ]
  },
  {
   "cell_type": "code",
   "execution_count": 117,
   "metadata": {},
   "outputs": [
    {
     "name": "stdout",
     "output_type": "stream",
     "text": [
      "On a  118  scores, ça reste peu, mais c'est un peu mieux.\n"
     ]
    }
   ],
   "source": [
    "print (\"On a \",AS_x_carac['Score'].notna().sum(),\" scores, ça reste peu, mais c'est un peu mieux.\")"
   ]
  },
  {
   "cell_type": "code",
   "execution_count": 110,
   "metadata": {},
   "outputs": [],
   "source": [
    "AS_N_x_carac=AS_N.set_index('Series Title').join(df_carac.set_index('Title'))\n",
    "AS_N_x_carac.rename(columns={'Unnamed: 0': 'Title'}, inplace=True)\n",
    "gfg_csv_data = AS_N_x_carac.to_csv('AS_N_x_carac.csv', index = False) "
   ]
  },
  {
   "cell_type": "code",
   "execution_count": 118,
   "metadata": {},
   "outputs": [
    {
     "name": "stdout",
     "output_type": "stream",
     "text": [
      "Pour Netflix, on en a  73\n"
     ]
    }
   ],
   "source": [
    "print (\"Pour Netflix, on en a \",AS_N_x_carac['Score'].notna().sum())"
   ]
  },
  {
   "cell_type": "markdown",
   "metadata": {},
   "source": [
    "# Analyse descriptive et représentation graphique"
   ]
  },
  {
   "cell_type": "markdown",
   "metadata": {},
   "source": [
    "## Analyse des genres dans les premières bases Netflix : `df_tvshow` et `df_movie`"
   ]
  },
  {
   "cell_type": "markdown",
   "metadata": {},
   "source": [
    "### `count_genra`\n",
    "Fonction qui renvoie le nombre d'occurences de chaque genre ce qui permet de tracer les effectifs des genres les plus populaires."
   ]
  },
  {
   "cell_type": "code",
   "execution_count": 170,
   "metadata": {},
   "outputs": [],
   "source": [
    "def count_genra (data_f,nombre=22,internat=1):\n",
    "    \n",
    "    \"---------------On récupère les catégories---------------\"\n",
    "    col = \"listed_in\"\n",
    "    categories = \", \".join(data_f['listed_in']).split(\", \")\n",
    "    #print (categories)\n",
    "\n",
    "    if internat != 1:\n",
    "        while \"International TV Shows\" in categories:\n",
    "            categories.remove(\"International TV Shows\")\n",
    "    while 'International Movies' in categories:\n",
    "        categories.remove('International Movies')\n",
    "\n",
    "    #print(categories)\n",
    "    \n",
    "    \"-----On compte le nombre d'occurences de chaque type et on garde les 'nombre' qui apparaissent le plus souvent-----\"\n",
    "    counter_list = co.Counter(categories).most_common(nombre)\n",
    "    #print (type(counter_list_all))\n",
    "    \n",
    "    \"-----On conserve le premier élément de chaque couple de counter_list (ie. sur le genre)-----\"\n",
    "    #On conserve le premier élément de chaque couple de counter_list (ie. sur le genre)\n",
    "    labels = [_[0] for _ in counter_list]\n",
    "    #print (labels)\n",
    "\n",
    "    \"-----Idem pour le nombre d'occurences-----\"\n",
    "    values = [_[1] for _ in counter_list]\n",
    "    \n",
    "    return(labels,values)    "
   ]
  },
  {
   "cell_type": "markdown",
   "metadata": {},
   "source": [
    "On peut donc comparer les genres les plus populaires et leurs effectifs pour les films et les séries."
   ]
  },
  {
   "cell_type": "code",
   "execution_count": 186,
   "metadata": {},
   "outputs": [
    {
     "data": {
      "application/vnd.plotly.v1+json": {
       "config": {
        "plotlyServerURL": "https://plot.ly"
       },
       "data": [
        {
         "marker": {
          "color": "yellow"
         },
         "name": "Films",
         "orientation": "v",
         "type": "bar",
         "x": [
          "Dramas",
          "Comedies",
          "Documentaries",
          "Action & Adventure",
          "Independent Movies"
         ],
         "xaxis": "x",
         "y": [
          1623,
          1113,
          668,
          597,
          552
         ],
         "yaxis": "y"
        },
        {
         "marker": {
          "color": "#58FA82"
         },
         "name": "Séries",
         "orientation": "v",
         "type": "bar",
         "x": [
          "International TV Shows",
          "TV Dramas",
          "TV Comedies",
          "Crime TV Shows",
          "Kids' TV"
         ],
         "xaxis": "x2",
         "y": [
          1001,
          599,
          436,
          363,
          328
         ],
         "yaxis": "y2"
        }
       ],
       "layout": {
        "legend": {
         "x": 0.85,
         "xanchor": "left",
         "y": 1,
         "yanchor": "top"
        },
        "margin": {
         "b": 120,
         "l": 50,
         "r": 50,
         "t": 60
        },
        "template": {
         "data": {
          "pie": [
           {
            "automargin": true,
            "type": "pie"
           }
          ],
          "scatter": [
           {
            "line": {
             "width": 3
            },
            "marker": {
             "size": 9
            },
            "type": "scatter"
           }
          ],
          "scatter3d": [
           {
            "line": {
             "width": 3
            },
            "marker": {
             "size": 9
            },
            "type": "scatter3d"
           }
          ],
          "scattergeo": [
           {
            "line": {
             "width": 3
            },
            "marker": {
             "size": 9
            },
            "type": "scattergeo"
           }
          ],
          "scattergl": [
           {
            "line": {
             "width": 3
            },
            "marker": {
             "size": 9
            },
            "type": "scattergl"
           }
          ],
          "scatterpolar": [
           {
            "line": {
             "width": 3
            },
            "marker": {
             "size": 9
            },
            "type": "scatterpolar"
           }
          ],
          "scatterpolargl": [
           {
            "line": {
             "width": 3
            },
            "marker": {
             "size": 9
            },
            "type": "scatterpolargl"
           }
          ],
          "scatterternary": [
           {
            "line": {
             "width": 3
            },
            "marker": {
             "size": 9
            },
            "type": "scatterternary"
           }
          ],
          "table": [
           {
            "cells": {
             "height": 30
            },
            "header": {
             "height": 36
            },
            "type": "table"
           }
          ]
         },
         "layout": {
          "font": {
           "size": 18
          },
          "xaxis": {
           "title": {
            "standoff": 15
           }
          },
          "yaxis": {
           "title": {
            "standoff": 15
           }
          }
         }
        },
        "title": {
         "text": "Effectifs des Genres"
        },
        "xaxis": {
         "anchor": "y",
         "domain": [
          0,
          0.45
         ]
        },
        "xaxis2": {
         "anchor": "y2",
         "domain": [
          0.55,
          1
         ]
        },
        "yaxis": {
         "anchor": "x",
         "domain": [
          0,
          1
         ]
        },
        "yaxis2": {
         "anchor": "x2",
         "domain": [
          0,
          1
         ],
         "matches": "y",
         "showticklabels": false
        }
       }
      },
      "text/html": [
       "<div>                            <div id=\"3d8814f2-6b83-4a65-b2a3-576d0cae1939\" class=\"plotly-graph-div\" style=\"height:525px; width:100%;\"></div>            <script type=\"text/javascript\">                require([\"plotly\"], function(Plotly) {                    window.PLOTLYENV=window.PLOTLYENV || {};                                    if (document.getElementById(\"3d8814f2-6b83-4a65-b2a3-576d0cae1939\")) {                    Plotly.newPlot(                        \"3d8814f2-6b83-4a65-b2a3-576d0cae1939\",                        [{\"marker\": {\"color\": \"yellow\"}, \"name\": \"Films\", \"orientation\": \"v\", \"type\": \"bar\", \"x\": [\"Dramas\", \"Comedies\", \"Documentaries\", \"Action & Adventure\", \"Independent Movies\"], \"xaxis\": \"x\", \"y\": [1623, 1113, 668, 597, 552], \"yaxis\": \"y\"}, {\"marker\": {\"color\": \"#58FA82\"}, \"name\": \"S\\u00e9ries\", \"orientation\": \"v\", \"type\": \"bar\", \"x\": [\"International TV Shows\", \"TV Dramas\", \"TV Comedies\", \"Crime TV Shows\", \"Kids' TV\"], \"xaxis\": \"x2\", \"y\": [1001, 599, 436, 363, 328], \"yaxis\": \"y2\"}],                        {\"legend\": {\"x\": 0.85, \"xanchor\": \"left\", \"y\": 1, \"yanchor\": \"top\"}, \"margin\": {\"b\": 120, \"l\": 50, \"r\": 50, \"t\": 60}, \"template\": {\"data\": {\"pie\": [{\"automargin\": true, \"type\": \"pie\"}], \"scatter\": [{\"line\": {\"width\": 3}, \"marker\": {\"size\": 9}, \"type\": \"scatter\"}], \"scatter3d\": [{\"line\": {\"width\": 3}, \"marker\": {\"size\": 9}, \"type\": \"scatter3d\"}], \"scattergeo\": [{\"line\": {\"width\": 3}, \"marker\": {\"size\": 9}, \"type\": \"scattergeo\"}], \"scattergl\": [{\"line\": {\"width\": 3}, \"marker\": {\"size\": 9}, \"type\": \"scattergl\"}], \"scatterpolar\": [{\"line\": {\"width\": 3}, \"marker\": {\"size\": 9}, \"type\": \"scatterpolar\"}], \"scatterpolargl\": [{\"line\": {\"width\": 3}, \"marker\": {\"size\": 9}, \"type\": \"scatterpolargl\"}], \"scatterternary\": [{\"line\": {\"width\": 3}, \"marker\": {\"size\": 9}, \"type\": \"scatterternary\"}], \"table\": [{\"cells\": {\"height\": 30}, \"header\": {\"height\": 36}, \"type\": \"table\"}]}, \"layout\": {\"font\": {\"size\": 18}, \"xaxis\": {\"title\": {\"standoff\": 15}}, \"yaxis\": {\"title\": {\"standoff\": 15}}}}, \"title\": {\"text\": \"Effectifs des Genres\"}, \"xaxis\": {\"anchor\": \"y\", \"domain\": [0.0, 0.45]}, \"xaxis2\": {\"anchor\": \"y2\", \"domain\": [0.55, 1.0]}, \"yaxis\": {\"anchor\": \"x\", \"domain\": [0.0, 1.0]}, \"yaxis2\": {\"anchor\": \"x2\", \"domain\": [0.0, 1.0], \"matches\": \"y\", \"showticklabels\": false}},                        {\"responsive\": true}                    ).then(function(){\n",
       "                            \n",
       "var gd = document.getElementById('3d8814f2-6b83-4a65-b2a3-576d0cae1939');\n",
       "var x = new MutationObserver(function (mutations, observer) {{\n",
       "        var display = window.getComputedStyle(gd).display;\n",
       "        if (!display || display === 'none') {{\n",
       "            console.log([gd, 'removed!']);\n",
       "            Plotly.purge(gd);\n",
       "            observer.disconnect();\n",
       "        }}\n",
       "}});\n",
       "\n",
       "// Listen for the removal of the full notebook cells\n",
       "var notebookContainer = gd.closest('#notebook-container');\n",
       "if (notebookContainer) {{\n",
       "    x.observe(notebookContainer, {childList: true});\n",
       "}}\n",
       "\n",
       "// Listen for the clearing of the current output cell\n",
       "var outputEl = gd.closest('.output');\n",
       "if (outputEl) {{\n",
       "    x.observe(outputEl, {childList: true});\n",
       "}}\n",
       "\n",
       "                        })                };                });            </script>        </div>"
      ]
     },
     "metadata": {},
     "output_type": "display_data"
    }
   ],
   "source": [
    "from plotly.subplots import make_subplots\n",
    "fig = make_subplots(rows=1, cols=2,shared_yaxes=True)\n",
    "\n",
    "fig.add_trace(go.Bar(\n",
    "    y=count_genra(df_movie,5)[1], x=count_genra(df_movie,5)[0], \n",
    "    orientation = 'v', name='Films', marker_color='yellow'),\n",
    "             row = 1, col =1)\n",
    "\n",
    "fig.add_trace(go.Bar(\n",
    "    y=count_genra(df_tvshow,5)[1], x=count_genra(df_tvshow,5)[0],\n",
    "    orientation = 'v', name='Séries', marker_color='#58FA82'),\n",
    "             row =1, col=2)\n",
    "\n",
    "fig.update_layout( template = 'presentation', margin=dict(l=50, r=50, t=60, b=120), title = \"Effectifs des Genres\")\n",
    "\n",
    "fig.update_layout(legend=dict( yanchor=\"top\", y=1, xanchor=\"left\", x=0.85))\n",
    "\n",
    "fig.show()"
   ]
  },
  {
   "cell_type": "code",
   "execution_count": null,
   "metadata": {},
   "outputs": [],
   "source": []
  },
  {
   "cell_type": "markdown",
   "metadata": {},
   "source": [
    "# Modélisation"
   ]
  },
  {
   "cell_type": "markdown",
   "metadata": {},
   "source": [
    "# Conclusion"
   ]
  },
  {
   "cell_type": "markdown",
   "metadata": {},
   "source": [
    "# Annexe"
   ]
  }
 ],
 "metadata": {
  "kernelspec": {
   "display_name": "Python 3",
   "language": "python",
   "name": "python3"
  },
  "language_info": {
   "codemirror_mode": {
    "name": "ipython",
    "version": 3
   },
   "file_extension": ".py",
   "mimetype": "text/x-python",
   "name": "python",
   "nbconvert_exporter": "python",
   "pygments_lexer": "ipython3",
   "version": "3.7.6"
  }
 },
 "nbformat": 4,
 "nbformat_minor": 4
}
