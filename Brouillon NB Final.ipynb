{
 "cells": [
  {
   "cell_type": "markdown",
   "metadata": {},
   "source": [
    "# Introduction"
   ]
  },
  {
   "cell_type": "markdown",
   "metadata": {},
   "source": [
    "[A écrire]"
   ]
  },
  {
   "cell_type": "markdown",
   "metadata": {},
   "source": [
    "## Importation des Packages"
   ]
  },
  {
   "cell_type": "code",
   "execution_count": 1,
   "metadata": {},
   "outputs": [],
   "source": [
    "import numpy as np\n",
    "import pandas as pd\n",
    "import matplotlib.pyplot as plt\n",
    "import urllib\n",
    "import bs4\n",
    "import re\n",
    "import copy\n",
    "import collections as co\n",
    "\n",
    "import plotly as plt\n",
    "import plotly.express as px\n",
    "import plotly.graph_objects as go\n",
    "from plotly.offline import init_notebook_mode\n",
    "import matplotlib.pyplot as mplt\n",
    "\n",
    "\n",
    "\n",
    "from wordcloud import WordCloud\n",
    "from wordcloud import STOPWORDS\n",
    "from PIL import Image\n",
    "import requests\n",
    "from io import BytesIO"
   ]
  },
  {
   "cell_type": "markdown",
   "metadata": {},
   "source": [
    "# Récupération et traitement des données"
   ]
  },
  {
   "cell_type": "markdown",
   "metadata": {},
   "source": [
    "On a les bases : \n",
    "- All streaming shows (AS) trouvée sur kaggle\n",
    "- Netflix titles trouvée sur kaggle\n",
    "- IMDB 250 scrapée sur le site éponyme : df_tvshow\n",
    "- df_carac scrappée sur \"https://www.the-numbers.com/home-market/netflix-daily-chart/2020/12/06\""
   ]
  },
  {
   "cell_type": "markdown",
   "metadata": {},
   "source": [
    "On avait commencé à travailler sur 'Netflix Titles' mais le manque de variables exploitables pour une modélisation nous a mené à chercher d'autres bases.\n",
    "\n",
    "On avait donc scrappé IMDB pour récupérer le TOP 250 des films et des séries (selon IMDB), cette base n'a finalement pas servi les titres étant en français (impossible de trouver une version du site où les titres étaient en anglais).\n",
    "\n",
    "On a ensuite scrapper les données du site 'https://www.the-numbers.com/home-market/netflix-daily-chart/2020/12/06' qui recense quotidiennement depuis mi mars 2020 le Top 10 Netflix, donne quelques caractéristiques de ces films et séries et calcule un score d'audience : chaque jour à la première place donne 10 points, à la deuxième 9 etc...\n",
    "\n",
    "Nous nous sommes alors heurté à un problème de cohérence temporelle. En effet notre base originale avec les caractéristiques des séries ('Netflix Titles') s'arrêtait en janvier 2020 et notre base des Top quotidien commencaient début 2020, la plupart des titres contenus dans cette dernière n'apparaissent donc pas dans la première.\n",
    "\n",
    "Nous avons donc cherché une autre base, plus récente. Pour cela nous avons du prendre une base plus large en termes de platforme mais avec seulement des séries. 'All streaming shows' recense toutes les séries diffusées sur des plateformes."
   ]
  },
  {
   "cell_type": "markdown",
   "metadata": {},
   "source": [
    "## Netflix titles"
   ]
  },
  {
   "cell_type": "code",
   "execution_count": 2,
   "metadata": {},
   "outputs": [],
   "source": [
    "#cellule Myrtille\n",
    "Net_tit = pd.read_csv(r'C:\\Users\\Utilisateur\\Documents\\GitHub\\Projet_Python_2A\\netflix_titles.csv')"
   ]
  },
  {
   "cell_type": "code",
   "execution_count": 3,
   "metadata": {},
   "outputs": [],
   "source": [
    "#cellule léo\n",
    "#Net_tit = pd.read_csv(r'C:\\Users\\User\\Documents\\GitHub\\Projet_Python_2A\\netflix_titles.csv')"
   ]
  },
  {
   "cell_type": "code",
   "execution_count": 6,
   "metadata": {},
   "outputs": [],
   "source": [
    "#Net_tit.head(5)"
   ]
  },
  {
   "cell_type": "markdown",
   "metadata": {},
   "source": [
    "On compte le nombre de valeurs manquantes pour 'date_added' et 'release_year', les deux variables sur lesquelles on peut faire des opérations numériques (pour comparer les séries/films qui ont été créés par Netflix ou juste rachetés)\n"
   ]
  },
  {
   "cell_type": "code",
   "execution_count": 11,
   "metadata": {},
   "outputs": [
    {
     "data": {
      "text/plain": [
       "release_year    0\n",
       "dtype: int64"
      ]
     },
     "execution_count": 11,
     "metadata": {},
     "output_type": "execute_result"
    }
   ],
   "source": [
    "Net_tit[['date_added']].isna().sum() #11 valeurs manquantes\n",
    "Net_tit[['release_year']].isna().sum() #0 valeurs manquantes"
   ]
  },
  {
   "cell_type": "markdown",
   "metadata": {},
   "source": [
    "On créé une variable 'year_added' codée en int qui renseigne l'année où le film/série a été ajouté sur Netflix et on remplace les valeurs manquantes par des zéros. Pour cela on crée une regex qui nous permet d'extraire l'année de la date complète donnée dans date_added. On remplace ensuite les NaN par des 0 et on convertit les valeurs en entiers."
   ]
  },
  {
   "cell_type": "code",
   "execution_count": 12,
   "metadata": {},
   "outputs": [
    {
     "data": {
      "text/html": [
       "<div>\n",
       "<style scoped>\n",
       "    .dataframe tbody tr th:only-of-type {\n",
       "        vertical-align: middle;\n",
       "    }\n",
       "\n",
       "    .dataframe tbody tr th {\n",
       "        vertical-align: top;\n",
       "    }\n",
       "\n",
       "    .dataframe thead th {\n",
       "        text-align: right;\n",
       "    }\n",
       "</style>\n",
       "<table border=\"1\" class=\"dataframe\">\n",
       "  <thead>\n",
       "    <tr style=\"text-align: right;\">\n",
       "      <th></th>\n",
       "      <th>date_added</th>\n",
       "    </tr>\n",
       "  </thead>\n",
       "  <tbody>\n",
       "    <tr>\n",
       "      <th>0</th>\n",
       "      <td>September 9, 2019</td>\n",
       "    </tr>\n",
       "    <tr>\n",
       "      <th>1</th>\n",
       "      <td>September 9, 2016</td>\n",
       "    </tr>\n",
       "    <tr>\n",
       "      <th>2</th>\n",
       "      <td>September 8, 2018</td>\n",
       "    </tr>\n",
       "    <tr>\n",
       "      <th>3</th>\n",
       "      <td>September 8, 2018</td>\n",
       "    </tr>\n",
       "    <tr>\n",
       "      <th>4</th>\n",
       "      <td>September 8, 2017</td>\n",
       "    </tr>\n",
       "    <tr>\n",
       "      <th>...</th>\n",
       "      <td>...</td>\n",
       "    </tr>\n",
       "    <tr>\n",
       "      <th>6228</th>\n",
       "      <td>NaN</td>\n",
       "    </tr>\n",
       "    <tr>\n",
       "      <th>6229</th>\n",
       "      <td>NaN</td>\n",
       "    </tr>\n",
       "    <tr>\n",
       "      <th>6230</th>\n",
       "      <td>NaN</td>\n",
       "    </tr>\n",
       "    <tr>\n",
       "      <th>6231</th>\n",
       "      <td>NaN</td>\n",
       "    </tr>\n",
       "    <tr>\n",
       "      <th>6232</th>\n",
       "      <td>NaN</td>\n",
       "    </tr>\n",
       "  </tbody>\n",
       "</table>\n",
       "<p>6233 rows × 1 columns</p>\n",
       "</div>"
      ],
      "text/plain": [
       "             date_added\n",
       "0     September 9, 2019\n",
       "1     September 9, 2016\n",
       "2     September 8, 2018\n",
       "3     September 8, 2018\n",
       "4     September 8, 2017\n",
       "...                 ...\n",
       "6228                NaN\n",
       "6229                NaN\n",
       "6230                NaN\n",
       "6231                NaN\n",
       "6232                NaN\n",
       "\n",
       "[6233 rows x 1 columns]"
      ]
     },
     "execution_count": 12,
     "metadata": {},
     "output_type": "execute_result"
    }
   ],
   "source": [
    "Net_tit[['date_added']].iloc[0:6233]"
   ]
  },
  {
   "cell_type": "code",
   "execution_count": 14,
   "metadata": {},
   "outputs": [],
   "source": [
    "regex = r'([0-2][0-9][0-9][0-9])'\n",
    "Net_tit['year_added'] = Net_tit['date_added'].str.extract(regex,expand=True)\n",
    "Net_tit['year_added'] = Net_tit['year_added'].fillna(0)\n",
    "Net_tit['year_added'] = Net_tit['year_added'].astype(str).astype(int)"
   ]
  },
  {
   "cell_type": "markdown",
   "metadata": {},
   "source": [
    "### Création de df1"
   ]
  },
  {
   "cell_type": "markdown",
   "metadata": {},
   "source": [
    "On choisit des colonnes de Net_tit puis on ordonne par ordre décroissant de sortie. Pour cela on utilise date_added, plus précis que year_added."
   ]
  },
  {
   "cell_type": "code",
   "execution_count": 18,
   "metadata": {},
   "outputs": [
    {
     "data": {
      "text/html": [
       "<div>\n",
       "<style scoped>\n",
       "    .dataframe tbody tr th:only-of-type {\n",
       "        vertical-align: middle;\n",
       "    }\n",
       "\n",
       "    .dataframe tbody tr th {\n",
       "        vertical-align: top;\n",
       "    }\n",
       "\n",
       "    .dataframe thead th {\n",
       "        text-align: right;\n",
       "    }\n",
       "</style>\n",
       "<table border=\"1\" class=\"dataframe\">\n",
       "  <thead>\n",
       "    <tr style=\"text-align: right;\">\n",
       "      <th></th>\n",
       "      <th>type</th>\n",
       "      <th>title</th>\n",
       "      <th>director</th>\n",
       "      <th>cast</th>\n",
       "      <th>date_added</th>\n",
       "      <th>year_added</th>\n",
       "      <th>release_year</th>\n",
       "      <th>duration</th>\n",
       "      <th>listed_in</th>\n",
       "    </tr>\n",
       "  </thead>\n",
       "  <tbody>\n",
       "    <tr>\n",
       "      <th>3467</th>\n",
       "      <td>TV Show</td>\n",
       "      <td>Medical Police</td>\n",
       "      <td>NaN</td>\n",
       "      <td>Erinn Hayes, Rob Huebel, Malin Akerman, Rob Co...</td>\n",
       "      <td>January 10, 2020</td>\n",
       "      <td>2020</td>\n",
       "      <td>2020</td>\n",
       "      <td>1 Season</td>\n",
       "      <td>Crime TV Shows, TV Action &amp; Adventure, TV Come...</td>\n",
       "    </tr>\n",
       "    <tr>\n",
       "      <th>3249</th>\n",
       "      <td>Movie</td>\n",
       "      <td>All the Freckles in the World</td>\n",
       "      <td>Yibrán Asuad</td>\n",
       "      <td>Hánssel Casillas, Loreto Peralta, Andrea Sutto...</td>\n",
       "      <td>January 3, 2020</td>\n",
       "      <td>2020</td>\n",
       "      <td>2020</td>\n",
       "      <td>90 min</td>\n",
       "      <td>Comedies, International Movies, Romantic Movies</td>\n",
       "    </tr>\n",
       "    <tr>\n",
       "      <th>3220</th>\n",
       "      <td>TV Show</td>\n",
       "      <td>Dracula</td>\n",
       "      <td>NaN</td>\n",
       "      <td>Claes Bang, Dolly Wells, John Heffernan</td>\n",
       "      <td>January 4, 2020</td>\n",
       "      <td>2020</td>\n",
       "      <td>2020</td>\n",
       "      <td>1 Season</td>\n",
       "      <td>British TV Shows, International TV Shows, TV D...</td>\n",
       "    </tr>\n",
       "    <tr>\n",
       "      <th>3427</th>\n",
       "      <td>Movie</td>\n",
       "      <td>Leslie Jones: Time Machine</td>\n",
       "      <td>David Benioff, D.B. Weiss</td>\n",
       "      <td>Leslie Jones</td>\n",
       "      <td>January 14, 2020</td>\n",
       "      <td>2020</td>\n",
       "      <td>2020</td>\n",
       "      <td>66 min</td>\n",
       "      <td>Stand-Up Comedy</td>\n",
       "    </tr>\n",
       "    <tr>\n",
       "      <th>3436</th>\n",
       "      <td>TV Show</td>\n",
       "      <td>The Healing Powers of Dude</td>\n",
       "      <td>NaN</td>\n",
       "      <td>Jace Chapman, Larisa Oleynik, Tom Everett Scot...</td>\n",
       "      <td>January 13, 2020</td>\n",
       "      <td>2020</td>\n",
       "      <td>2020</td>\n",
       "      <td>1 Season</td>\n",
       "      <td>Kids' TV, TV Comedies, TV Dramas</td>\n",
       "    </tr>\n",
       "  </tbody>\n",
       "</table>\n",
       "</div>"
      ],
      "text/plain": [
       "         type                          title                   director  \\\n",
       "3467  TV Show                 Medical Police                        NaN   \n",
       "3249    Movie  All the Freckles in the World               Yibrán Asuad   \n",
       "3220  TV Show                        Dracula                        NaN   \n",
       "3427    Movie     Leslie Jones: Time Machine  David Benioff, D.B. Weiss   \n",
       "3436  TV Show     The Healing Powers of Dude                        NaN   \n",
       "\n",
       "                                                   cast        date_added  \\\n",
       "3467  Erinn Hayes, Rob Huebel, Malin Akerman, Rob Co...  January 10, 2020   \n",
       "3249  Hánssel Casillas, Loreto Peralta, Andrea Sutto...   January 3, 2020   \n",
       "3220            Claes Bang, Dolly Wells, John Heffernan   January 4, 2020   \n",
       "3427                                       Leslie Jones  January 14, 2020   \n",
       "3436  Jace Chapman, Larisa Oleynik, Tom Everett Scot...  January 13, 2020   \n",
       "\n",
       "      year_added  release_year  duration  \\\n",
       "3467        2020          2020  1 Season   \n",
       "3249        2020          2020    90 min   \n",
       "3220        2020          2020  1 Season   \n",
       "3427        2020          2020    66 min   \n",
       "3436        2020          2020  1 Season   \n",
       "\n",
       "                                              listed_in  \n",
       "3467  Crime TV Shows, TV Action & Adventure, TV Come...  \n",
       "3249    Comedies, International Movies, Romantic Movies  \n",
       "3220  British TV Shows, International TV Shows, TV D...  \n",
       "3427                                    Stand-Up Comedy  \n",
       "3436                   Kids' TV, TV Comedies, TV Dramas  "
      ]
     },
     "execution_count": 18,
     "metadata": {},
     "output_type": "execute_result"
    }
   ],
   "source": [
    "df1 = Net_tit[['type', 'title','director', 'cast', 'date_added', 'year_added', 'release_year', 'duration', 'listed_in']]\n",
    "df1 = df1.sort_values('release_year', ascending = False) #probleme si on veut classer selon year_added\n",
    "df1.head(5)"
   ]
  },
  {
   "cell_type": "markdown",
   "metadata": {},
   "source": [
    "### Création de df_movie et df_tvshow"
   ]
  },
  {
   "cell_type": "markdown",
   "metadata": {},
   "source": [
    "On sépare df1 en deux df, l'un pour les séries, l'autre pour les films."
   ]
  },
  {
   "cell_type": "code",
   "execution_count": 22,
   "metadata": {},
   "outputs": [
    {
     "data": {
      "text/plain": [
       "type    0\n",
       "dtype: int64"
      ]
     },
     "execution_count": 22,
     "metadata": {},
     "output_type": "execute_result"
    }
   ],
   "source": [
    "df1[['type']].isna().sum() #pas de valeurs manquantes"
   ]
  },
  {
   "cell_type": "code",
   "execution_count": null,
   "metadata": {},
   "outputs": [],
   "source": [
    "df_tvshow = df1[df1['type'].isin([\"TV Show\"])]\n",
    "df_movie = df1[df1['type'].isin(['Movie'])]"
   ]
  },
  {
   "cell_type": "markdown",
   "metadata": {},
   "source": [
    "## Top 250 IMDB"
   ]
  },
  {
   "cell_type": "markdown",
   "metadata": {},
   "source": [
    "On crée une fonction qui met dans un data frame les notes des 250 mieux notés sur ImDB (films ou séries)."
   ]
  },
  {
   "cell_type": "code",
   "execution_count": 50,
   "metadata": {},
   "outputs": [],
   "source": [
    "def recup_notes(url):\n",
    "\n",
    "    \"\"\"On récupère la page internet------------------\"\"\"\n",
    "    from urllib import request\n",
    "    request_text = request.urlopen(url).read()\n",
    "    #print(request_text[:1000]) \n",
    "    page = bs4.BeautifulSoup(request_text, \"lxml\")\n",
    "    #print(type(page))\n",
    "\n",
    "\n",
    "    \"\"\"On récupère les données------------------\"\"\"\n",
    "    tableau=page.find(\"table\",{'class' : 'chart full-width'})\n",
    "    #print(tableau)\n",
    "    table_body=tableau.find('tbody')\n",
    "    rows = table_body.find_all('tr')\n",
    "    #print (rows)\n",
    "\n",
    "\n",
    "    \"\"\"On récupére les élements correspondant au titre et à la note--------------\"\"\"\n",
    "    new_rows=[] #on crée une liste vide dans laquelle on va mettre le contenu des lignes\n",
    "    for row in rows:\n",
    "        cols = row.find_all('td')\n",
    "        #print(type(cols))\n",
    "        new_cols = []\n",
    "        for ele in cols:\n",
    "            new_cols.append([ele.text.strip()])\n",
    "        #print(new_cols)\n",
    "        new_cols=new_cols[1:3]\n",
    "        #new_cols_title=new_cols[0]\n",
    "        new_cols[0]= new_cols[0][0]\n",
    "        new_cols[1]= float(new_cols[1][0])\n",
    "        new_rows.append(new_cols)\n",
    "  #print (new_rows)\n",
    "\n",
    "    \"\"\"On nettoie les élements pour n'avoir que des listes de titres et notes\"\"\"\n",
    "    \"\"\"L'élement correspondant au titre est entouré d'informations parasites, on s'en\n",
    "    débarasse avec 2 regex successives\"\"\"\n",
    "\n",
    "    regex_debut = \"[\\d]?[\\d]?[\\d]\\.[\\n][\\s]{6}\"\n",
    "    regex_fin=\"[\\n]\\([1-2][\\d]{3}\\)\"\n",
    "\n",
    "    clean_rows=copy.copy(new_rows)\n",
    "\n",
    "    for i in range(len(new_rows)):\n",
    "        a_suppr=re.findall(regex_debut,new_rows[i][0])\n",
    "        #print (a_suppr[0])\n",
    "        clean_rows[i][0]=new_rows[i][0].replace(a_suppr[0],\"\")\n",
    "    #print (clean_rows)\n",
    "\n",
    "    really_clean_rows=copy.copy(clean_rows)\n",
    "\n",
    "    for i in range(len(clean_rows)):\n",
    "        a_suppr_fin=re.findall(regex_fin,clean_rows[i][0])\n",
    "        #print (a_suppr_fin[0])\n",
    "        really_clean_rows[i][0]=clean_rows[i][0].replace(a_suppr_fin[0],\"\")\n",
    "    #print (really_clean_rows)\n",
    "\n",
    "    \"\"\"On crée un dictionnaire dans lequel on met le contenu des lignes nettoyées\n",
    "    La clé est le titre, la valeur la note.\"\"\"\n",
    "    dico_top = dict()\n",
    "    for row in really_clean_rows:\n",
    "        cols=row\n",
    "        dico_top[cols[0]] = cols[1:]\n",
    "    dico_top\n",
    "\n",
    "    \"\"\"On crée le dataframe\"\"\"\n",
    "    df_top = pd.DataFrame.from_dict(dico_top,orient='index')\n",
    "  \n",
    "\n",
    "    \"\"\"\"On rajoute une index différente du titre\"\"\"\n",
    "    df_top.reset_index(level=0, inplace=True)\n",
    "\n",
    "    \"\"\"On change le nom des colonnes\"\"\"\n",
    "    df_top.rename(columns={'index': 'Title', 0: 'IMDb rating'}, inplace=True)\n",
    "\n",
    "    #print(df_top)\n",
    "    return (df_top)\n"
   ]
  },
  {
   "cell_type": "markdown",
   "metadata": {},
   "source": [
    "Exécution sur les deux url"
   ]
  },
  {
   "cell_type": "code",
   "execution_count": 26,
   "metadata": {},
   "outputs": [],
   "source": [
    "url_top_shows = \"https://www.imdb.com/chart/toptv/?ref_=nv_tvv_250\"\n",
    "url_top_movies= \"https://www.imdb.com/chart/top/?ref_=nv_mv_250\""
   ]
  },
  {
   "cell_type": "code",
   "execution_count": 29,
   "metadata": {},
   "outputs": [
    {
     "data": {
      "text/html": [
       "<div>\n",
       "<style scoped>\n",
       "    .dataframe tbody tr th:only-of-type {\n",
       "        vertical-align: middle;\n",
       "    }\n",
       "\n",
       "    .dataframe tbody tr th {\n",
       "        vertical-align: top;\n",
       "    }\n",
       "\n",
       "    .dataframe thead th {\n",
       "        text-align: right;\n",
       "    }\n",
       "</style>\n",
       "<table border=\"1\" class=\"dataframe\">\n",
       "  <thead>\n",
       "    <tr style=\"text-align: right;\">\n",
       "      <th></th>\n",
       "      <th>Title</th>\n",
       "      <th>IMDb rating</th>\n",
       "    </tr>\n",
       "  </thead>\n",
       "  <tbody>\n",
       "    <tr>\n",
       "      <th>0</th>\n",
       "      <td>Planet Earth II</td>\n",
       "      <td>9.5</td>\n",
       "    </tr>\n",
       "    <tr>\n",
       "      <th>1</th>\n",
       "      <td>Planète Terre</td>\n",
       "      <td>9.4</td>\n",
       "    </tr>\n",
       "    <tr>\n",
       "      <th>2</th>\n",
       "      <td>Frères d'armes</td>\n",
       "      <td>9.4</td>\n",
       "    </tr>\n",
       "    <tr>\n",
       "      <th>3</th>\n",
       "      <td>Breaking Bad</td>\n",
       "      <td>9.4</td>\n",
       "    </tr>\n",
       "    <tr>\n",
       "      <th>4</th>\n",
       "      <td>Chernobyl</td>\n",
       "      <td>9.4</td>\n",
       "    </tr>\n",
       "  </tbody>\n",
       "</table>\n",
       "</div>"
      ],
      "text/plain": [
       "             Title  IMDb rating\n",
       "0  Planet Earth II          9.5\n",
       "1    Planète Terre          9.4\n",
       "2   Frères d'armes          9.4\n",
       "3     Breaking Bad          9.4\n",
       "4        Chernobyl          9.4"
      ]
     },
     "execution_count": 29,
     "metadata": {},
     "output_type": "execute_result"
    }
   ],
   "source": [
    "df_top_shows=recup_notes(url_top_shows)\n",
    "df_top_shows.head()"
   ]
  },
  {
   "cell_type": "code",
   "execution_count": 31,
   "metadata": {},
   "outputs": [
    {
     "data": {
      "text/html": [
       "<div>\n",
       "<style scoped>\n",
       "    .dataframe tbody tr th:only-of-type {\n",
       "        vertical-align: middle;\n",
       "    }\n",
       "\n",
       "    .dataframe tbody tr th {\n",
       "        vertical-align: top;\n",
       "    }\n",
       "\n",
       "    .dataframe thead th {\n",
       "        text-align: right;\n",
       "    }\n",
       "</style>\n",
       "<table border=\"1\" class=\"dataframe\">\n",
       "  <thead>\n",
       "    <tr style=\"text-align: right;\">\n",
       "      <th></th>\n",
       "      <th>Title</th>\n",
       "      <th>IMDb rating</th>\n",
       "    </tr>\n",
       "  </thead>\n",
       "  <tbody>\n",
       "    <tr>\n",
       "      <th>0</th>\n",
       "      <td>Les évadés</td>\n",
       "      <td>9.2</td>\n",
       "    </tr>\n",
       "    <tr>\n",
       "      <th>1</th>\n",
       "      <td>Le parrain</td>\n",
       "      <td>9.1</td>\n",
       "    </tr>\n",
       "    <tr>\n",
       "      <th>2</th>\n",
       "      <td>Le parrain, 2ème partie</td>\n",
       "      <td>9.0</td>\n",
       "    </tr>\n",
       "    <tr>\n",
       "      <th>3</th>\n",
       "      <td>The Dark Knight: Le chevalier noir</td>\n",
       "      <td>9.0</td>\n",
       "    </tr>\n",
       "    <tr>\n",
       "      <th>4</th>\n",
       "      <td>12 hommes en colère</td>\n",
       "      <td>8.9</td>\n",
       "    </tr>\n",
       "  </tbody>\n",
       "</table>\n",
       "</div>"
      ],
      "text/plain": [
       "                                Title  IMDb rating\n",
       "0                          Les évadés          9.2\n",
       "1                          Le parrain          9.1\n",
       "2             Le parrain, 2ème partie          9.0\n",
       "3  The Dark Knight: Le chevalier noir          9.0\n",
       "4                 12 hommes en colère          8.9"
      ]
     },
     "execution_count": 31,
     "metadata": {},
     "output_type": "execute_result"
    }
   ],
   "source": [
    "df_top_movies=recup_notes(url_top_movies)\n",
    "df_top_movies.head()"
   ]
  },
  {
   "cell_type": "markdown",
   "metadata": {},
   "source": [
    "On sauvegarde ces deux df dans deux fichiers csv"
   ]
  },
  {
   "cell_type": "code",
   "execution_count": 43,
   "metadata": {},
   "outputs": [],
   "source": [
    "a=df_top_movies.to_csv(\"df_top_movies.csv\", index = False)\n",
    "a=df_top_shows.to_csv(\"df_top_shows.csv\", index = False)"
   ]
  },
  {
   "cell_type": "markdown",
   "metadata": {},
   "source": [
    "## Top Netflix quotidien"
   ]
  },
  {
   "cell_type": "markdown",
   "metadata": {},
   "source": [
    "De mi mars à début décembre on a 252 top quotidiens d'environ 10 lignes. On a choisi de les concaténer par mois. Comme cette opération prend un certain temps nous avons enregistrer les df obtenus sous forme de csv pour éviter de devoir répéter l'opération et les opérations de concaténations sont en annexe sous forme de commentaire (pour éviter qu'elle se lancent lors d'un Run All)."
   ]
  },
  {
   "cell_type": "markdown",
   "metadata": {},
   "source": [
    "### recup_top_netflix_gen"
   ]
  },
  {
   "cell_type": "markdown",
   "metadata": {},
   "source": [
    "Pour scrapper ces 252 top quotidiens on a défini une fonction qui prend comme argument la date souhaitée (aaaa/mm/jj) et en argument conditionnel le début de l'url.\n",
    "\n",
    "La fonction renvoie le df correspondant."
   ]
  },
  {
   "cell_type": "code",
   "execution_count": 46,
   "metadata": {},
   "outputs": [],
   "source": [
    "def recup_top_netflix_gen(date,url=\"https://www.the-numbers.com/home-market/netflix-daily-chart/\"):\n",
    "    \n",
    "    url_enrichi = url+date\n",
    "    from urllib.request import Request, urlopen\n",
    "    req_text = urlopen(Request(url_enrichi, headers={'User-Agent': 'Mozilla/5.0'})).read()\n",
    "    page = bs4.BeautifulSoup(req_text, \"lxml\")\n",
    "    #print (page)\n",
    "\n",
    "    \"\"\"On récupère les données------------------\"\"\"\n",
    "    #tableau=page.find(\"table\",{'class' : 'chart full-width'})\n",
    "    tableau=page.find(\"div\",{'id':'page_filling_chart'})\n",
    "    #print(tableau)\n",
    "    #table_body=tableau.find('tbody')\n",
    "    #print(table_body)\n",
    "    rows = tableau.find_all('tr')\n",
    "    #print (rows)\n",
    "\n",
    "  \n",
    "    \"\"\"On récupére tous les élements correspondant au titre et à la note et On crée un dictionnaire dans lequel on met le contenu des lignes nettoyées\n",
    "    L'index est le titre, la valeur la note.\n",
    "    --------------\"\"\"\n",
    "    new_rows=[]#on crée une liste vide dans laquelle on va mettre le contenu des lignes\n",
    "    new_cols = 10*[[]]\n",
    "    dico_top_netflix = dict()\n",
    "    i = 0\n",
    "    for row in rows:\n",
    "        cols = row.find_all('td') # c'est une liste\n",
    "        cols = [ele.text.strip() for ele in cols]\n",
    "        #print (cols)\n",
    "        if len(cols)> 0:\n",
    "            dico_top_netflix[cols[0]] = cols[1:]\n",
    "    #print(dico_top_netflix)    \n",
    "\n",
    "    \"\"\"\"\"\"\n",
    "\n",
    "    \"\"\"On crée ENFIN le dataframe\"\"\"\n",
    "    df_top_netflix_gen = pd.DataFrame.from_dict(dico_top_netflix,orient='index')\n",
    "\n",
    "    \"\"\"On rajoute une index différente du titre\"\"\"\n",
    "    for row in rows:\n",
    "        cols = row.find_all('th')\n",
    "        #print(cols)\n",
    "        if len(cols) > 0 : \n",
    "            cols = [ele.get_text(separator=' ').strip().title() for ele in cols]\n",
    "            columns_title = cols\n",
    "    #print (columns_title)\n",
    "    \n",
    "\n",
    "    \"\"\"On change le nom des colonnes\"\"\"\n",
    "    df_top_netflix_gen.columns=columns_title[1:]\n",
    "    \n",
    "    \"\"\"On vire les colonnes qui ne nous intéresse pas\"\"\"\n",
    "    del(df_top_netflix_gen['Yd'])\n",
    "    del(df_top_netflix_gen['Lw'])\n",
    "    del(df_top_netflix_gen['Watch Now'])\n",
    "    \n",
    "    \n",
    "    \"\"\"On rajoute une colonne 'Measure Date' \"\"\"\n",
    "    df_top_netflix_gen['Measure Date']= [date]*df_top_netflix_gen.shape[0]\n",
    "    #print (\"Graph au \"+ date)\n",
    "    return (df_top_netflix_gen)"
   ]
  },
  {
   "cell_type": "markdown",
   "metadata": {},
   "source": [
    "Le Top10 Netflix aux US le 13 décembre 2020."
   ]
  },
  {
   "cell_type": "code",
   "execution_count": 51,
   "metadata": {},
   "outputs": [
    {
     "data": {
      "text/html": [
       "<div>\n",
       "<style scoped>\n",
       "    .dataframe tbody tr th:only-of-type {\n",
       "        vertical-align: middle;\n",
       "    }\n",
       "\n",
       "    .dataframe tbody tr th {\n",
       "        vertical-align: top;\n",
       "    }\n",
       "\n",
       "    .dataframe thead th {\n",
       "        text-align: right;\n",
       "    }\n",
       "</style>\n",
       "<table border=\"1\" class=\"dataframe\">\n",
       "  <thead>\n",
       "    <tr style=\"text-align: right;\">\n",
       "      <th></th>\n",
       "      <th>Title</th>\n",
       "      <th>Type</th>\n",
       "      <th>Netflix Excl.</th>\n",
       "      <th>Netflix Release Date</th>\n",
       "      <th>Days In Top 10</th>\n",
       "      <th>Viewer- Ship Score</th>\n",
       "      <th>Measure Date</th>\n",
       "    </tr>\n",
       "  </thead>\n",
       "  <tbody>\n",
       "    <tr>\n",
       "      <th>1</th>\n",
       "      <td>Ava</td>\n",
       "      <td>Movie</td>\n",
       "      <td></td>\n",
       "      <td></td>\n",
       "      <td>6</td>\n",
       "      <td>50</td>\n",
       "      <td>2020/12/13</td>\n",
       "    </tr>\n",
       "    <tr>\n",
       "      <th>2</th>\n",
       "      <td>The Prom</td>\n",
       "      <td>Movie</td>\n",
       "      <td>Yes</td>\n",
       "      <td>Dec 11, 2020</td>\n",
       "      <td>2</td>\n",
       "      <td>15</td>\n",
       "      <td>2020/12/13</td>\n",
       "    </tr>\n",
       "    <tr>\n",
       "      <th>3</th>\n",
       "      <td>Manhunt</td>\n",
       "      <td>TV Show</td>\n",
       "      <td></td>\n",
       "      <td></td>\n",
       "      <td>4</td>\n",
       "      <td>29</td>\n",
       "      <td>2020/12/13</td>\n",
       "    </tr>\n",
       "    <tr>\n",
       "      <th>4</th>\n",
       "      <td>How the Grinch Stole Christmas</td>\n",
       "      <td>Movie</td>\n",
       "      <td></td>\n",
       "      <td></td>\n",
       "      <td>14</td>\n",
       "      <td>36</td>\n",
       "      <td>2020/12/13</td>\n",
       "    </tr>\n",
       "    <tr>\n",
       "      <th>5</th>\n",
       "      <td>Triple 9</td>\n",
       "      <td>Movie</td>\n",
       "      <td></td>\n",
       "      <td></td>\n",
       "      <td>5</td>\n",
       "      <td>28</td>\n",
       "      <td>2020/12/13</td>\n",
       "    </tr>\n",
       "    <tr>\n",
       "      <th>6</th>\n",
       "      <td>Selena: The Series</td>\n",
       "      <td>TV Show</td>\n",
       "      <td>Yes</td>\n",
       "      <td>Dec 4, 2020</td>\n",
       "      <td>9</td>\n",
       "      <td>81</td>\n",
       "      <td>2020/12/13</td>\n",
       "    </tr>\n",
       "    <tr>\n",
       "      <th>7</th>\n",
       "      <td>Big Mouth</td>\n",
       "      <td>TV Show</td>\n",
       "      <td>Yes</td>\n",
       "      <td>Sep 29, 2017</td>\n",
       "      <td>9</td>\n",
       "      <td>74</td>\n",
       "      <td>2020/12/13</td>\n",
       "    </tr>\n",
       "    <tr>\n",
       "      <th>8</th>\n",
       "      <td>Virgin River</td>\n",
       "      <td>TV Show</td>\n",
       "      <td>Yes</td>\n",
       "      <td>Nov 27, 2020</td>\n",
       "      <td>16</td>\n",
       "      <td>128</td>\n",
       "      <td>2020/12/13</td>\n",
       "    </tr>\n",
       "    <tr>\n",
       "      <th>9</th>\n",
       "      <td>The Christmas Chronicles 2</td>\n",
       "      <td>Movie</td>\n",
       "      <td>Yes</td>\n",
       "      <td>Nov 25, 2020</td>\n",
       "      <td>13</td>\n",
       "      <td>90</td>\n",
       "      <td>2020/12/13</td>\n",
       "    </tr>\n",
       "    <tr>\n",
       "      <th>10</th>\n",
       "      <td>The Queen's Gambit</td>\n",
       "      <td>TV Show</td>\n",
       "      <td>Yes</td>\n",
       "      <td>Oct 23, 2020</td>\n",
       "      <td>51</td>\n",
       "      <td>392</td>\n",
       "      <td>2020/12/13</td>\n",
       "    </tr>\n",
       "  </tbody>\n",
       "</table>\n",
       "</div>"
      ],
      "text/plain": [
       "                             Title     Type Netflix Excl.  \\\n",
       "1                              Ava    Movie                 \n",
       "2                         The Prom    Movie           Yes   \n",
       "3                          Manhunt  TV Show                 \n",
       "4   How the Grinch Stole Christmas    Movie                 \n",
       "5                         Triple 9    Movie                 \n",
       "6               Selena: The Series  TV Show           Yes   \n",
       "7                        Big Mouth  TV Show           Yes   \n",
       "8                     Virgin River  TV Show           Yes   \n",
       "9       The Christmas Chronicles 2    Movie           Yes   \n",
       "10              The Queen's Gambit  TV Show           Yes   \n",
       "\n",
       "   Netflix Release Date Days In Top 10 Viewer- Ship Score Measure Date  \n",
       "1                                    6                 50   2020/12/13  \n",
       "2          Dec 11, 2020              2                 15   2020/12/13  \n",
       "3                                    4                 29   2020/12/13  \n",
       "4                                   14                 36   2020/12/13  \n",
       "5                                    5                 28   2020/12/13  \n",
       "6           Dec 4, 2020              9                 81   2020/12/13  \n",
       "7          Sep 29, 2017              9                 74   2020/12/13  \n",
       "8          Nov 27, 2020             16                128   2020/12/13  \n",
       "9          Nov 25, 2020             13                 90   2020/12/13  \n",
       "10         Oct 23, 2020             51                392   2020/12/13  "
      ]
     },
     "execution_count": 51,
     "metadata": {},
     "output_type": "execute_result"
    }
   ],
   "source": [
    "df_12_13=recup_top_netflix_gen(\"2020/12/13\")\n",
    "df_12_13"
   ]
  },
  {
   "cell_type": "markdown",
   "metadata": {},
   "source": [
    "### Création des df des mois et concaténation vers df_carac"
   ]
  },
  {
   "cell_type": "markdown",
   "metadata": {},
   "source": [
    "On crée d'abord une liste de toutes les dates avec un Top 10.\n",
    "\n",
    "Pour cela on crée une liste avec toutes les dates de 2020 puis on enlève celles pour lesquelles on a pas de Top. On compte bien 252 dates valides."
   ]
  },
  {
   "cell_type": "code",
   "execution_count": 56,
   "metadata": {},
   "outputs": [
    {
     "name": "stdout",
     "output_type": "stream",
     "text": [
      "On a  252  dates valides.\n"
     ]
    }
   ],
   "source": [
    "liste_dates_valides=[]\n",
    "for m in range (3,13):\n",
    "    m=str(m)\n",
    "    if len(m)==1:\n",
    "        m = \"0\"+m\n",
    "    for d in range (1,32):\n",
    "        d=str(d)\n",
    "        if len(d)==1:\n",
    "            d=\"0\"+d\n",
    "        date = \"2020/\"+m+\"/\"+d\n",
    "        liste_dates_valides.append(date)\n",
    "\n",
    "#On supprime les dates sans valeurs\n",
    "for i in ['2020/03/01', '2020/03/02', '2020/03/03', '2020/03/04', '2020/03/05', '2020/03/06', '2020/03/07', '2020/03/08', \n",
    "          '2020/03/09', '2020/03/10', '2020/03/11', '2020/03/12', '2020/03/13', '2020/03/14', '2020/03/15', '2020/03/16', \n",
    "          '2020/03/17', '2020/03/18', '2020/03/19', '2020/03/20', '2020/03/21', '2020/03/22', '2020/03/23', '2020/03/28', \n",
    "          '2020/03/29', '2020/04/04', '2020/04/05', '2020/04/11', '2020/04/12', '2020/04/18', '2020/04/19', '2020/04/25', \n",
    "          '2020/04/26', '2020/08/09', '2020/08/30', '2020/12/14', '2020/12/15', '2020/12/16', '2020/12/17', '2020/12/18',\n",
    "          '2020/12/19', '2020/12/20', '2020/12/21', '2020/12/22', '2020/12/23', '2020/12/24', '2020/12/25', '2020/12/26', \n",
    "          '2020/12/27', '2020/12/28', '2020/12/29', '2020/12/30', '2020/12/31', '2020/04/31', '2020/06/31', '2020/09/31', \n",
    "          '2020/11/31', '2020/08/06']:\n",
    "    liste_dates_valides.remove(i)\n",
    "print ('On a ',len (liste_dates_valides), ' dates valides.')"
   ]
  },
  {
   "cell_type": "markdown",
   "metadata": {},
   "source": [
    "On crée un string avec toutes les dates séparées par une virgule."
   ]
  },
  {
   "cell_type": "code",
   "execution_count": 86,
   "metadata": {},
   "outputs": [],
   "source": [
    "dates=\"\"\n",
    "for i in liste_dates_valides:\n",
    "    dates=dates+i+','\n",
    "dates=dates[:-1]"
   ]
  },
  {
   "cell_type": "markdown",
   "metadata": {},
   "source": [
    "On crée une liste avec pour élément la liste des dates de chaque mois. On en fait un dictionnaire."
   ]
  },
  {
   "cell_type": "code",
   "execution_count": null,
   "metadata": {},
   "outputs": [],
   "source": [
    "janvier = []\n",
    "fevrier = []\n",
    "mars=[]\n",
    "avril=[]\n",
    "mai=[]\n",
    "juin=[]\n",
    "juillet=[]\n",
    "aout=[]\n",
    "septembre=[]\n",
    "octobre=[]\n",
    "novembre=[]\n",
    "decembre=[]\n",
    "mois = [[],janvier,fevrier,mars,avril,mai,juin,juillet,aout,septembre,octobre,novembre,decembre]\n",
    "for i,moi in enumerate(mois):\n",
    "    \n",
    "    if i <10: regex = re.compile(\"([2][0][2][0]/[0][\"+str(i)+\"]/[0-3][0-9])\")\n",
    "    else : regex = re.compile(\"([2][0][2][0]/[1][\"+str(i-10)+\"]/[0-3][0-9])\")\n",
    "    mois[i].append(regex.findall(dates))\n",
    "mois=mois[3:]\n",
    "\n",
    "dico_mois={'mars': mars, 'avril': avril, 'mai': mai, 'juin': juin, 'juillet': juillet,'aout': aout,\n",
    "           'septembre': septembre, 'octobre':octobre, 'novembre': novembre, 'decembre': decembre}"
   ]
  },
  {
   "cell_type": "markdown",
   "metadata": {},
   "source": [
    "Concaténation\n",
    "\n",
    "On crée un dico qui contiendra le df de chaque mois, on l'initie en mettant le premier df de chaque mois."
   ]
  },
  {
   "cell_type": "code",
   "execution_count": 106,
   "metadata": {},
   "outputs": [],
   "source": [
    "df_mars = recup_top_netflix_gen(\"2020/03/24\")\n",
    "df_avril = recup_top_netflix_gen(\"2020/04/01\")\n",
    "df_mai = recup_top_netflix_gen(\"2020/05/01\")\n",
    "df_juin = recup_top_netflix_gen(\"2020/06/01\")\n",
    "df_juillet = recup_top_netflix_gen(\"2020/07/01\")\n",
    "df_aout = recup_top_netflix_gen(\"2020/08/01\")\n",
    "df_septembre = recup_top_netflix_gen(\"2020/09/01\")\n",
    "df_octobre = recup_top_netflix_gen(\"2020/10/01\")\n",
    "df_novembre = recup_top_netflix_gen(\"2020/11/01\")\n",
    "df_decembre = recup_top_netflix_gen(\"2020/11/01\")\n",
    "\n",
    "dico_df_mois={\"mars\" : df_mars, \"avril\" : df_avril, \"mai\":df_mai , \"juin\":df_juin , \"juillet\":df_juillet,\n",
    "              \"aout\":df_aout ,\"septembre\" :df_septembre ,\"octobre\": df_octobre, \"novembre\" :df_novembre,\"decembre\": df_decembre}"
   ]
  },
  {
   "cell_type": "markdown",
   "metadata": {},
   "source": [
    "On enrichit chaque df avec les autres jours du mois"
   ]
  },
  {
   "cell_type": "code",
   "execution_count": 143,
   "metadata": {},
   "outputs": [
    {
     "name": "stdout",
     "output_type": "stream",
     "text": [
      "mars\n",
      "avril\n",
      "mai\n",
      "juin\n",
      "juillet\n",
      "aout\n",
      "septembre\n",
      "octobre\n",
      "novembre\n",
      "decembre\n"
     ]
    }
   ],
   "source": [
    "for key,value in dico_mois.items():\n",
    "    print (key)\n",
    "    dico_df_mois[key] = recup_top_netflix_gen(value[0][0])\n",
    "    a_conc=0\n",
    "    for i in value[0][1:]:\n",
    "        a_conc = recup_top_netflix_gen(i)\n",
    "        dico_df_mois[key] = pd.concat([dico_df_mois[key],a_conc])\n",
    "        #print(dico_df_mois[key])\n"
   ]
  },
  {
   "cell_type": "code",
   "execution_count": 152,
   "metadata": {},
   "outputs": [
    {
     "data": {
      "text/html": [
       "<div>\n",
       "<style scoped>\n",
       "    .dataframe tbody tr th:only-of-type {\n",
       "        vertical-align: middle;\n",
       "    }\n",
       "\n",
       "    .dataframe tbody tr th {\n",
       "        vertical-align: top;\n",
       "    }\n",
       "\n",
       "    .dataframe thead th {\n",
       "        text-align: right;\n",
       "    }\n",
       "</style>\n",
       "<table border=\"1\" class=\"dataframe\">\n",
       "  <thead>\n",
       "    <tr style=\"text-align: right;\">\n",
       "      <th></th>\n",
       "      <th>Title</th>\n",
       "      <th>Type</th>\n",
       "      <th>Netflix Excl.</th>\n",
       "      <th>Netflix Release Date</th>\n",
       "      <th>Days In Top 10</th>\n",
       "      <th>Viewer- Ship Score</th>\n",
       "      <th>Measure Date</th>\n",
       "    </tr>\n",
       "  </thead>\n",
       "  <tbody>\n",
       "    <tr>\n",
       "      <th>1</th>\n",
       "      <td>Virgin River</td>\n",
       "      <td>TV Show</td>\n",
       "      <td>Yes</td>\n",
       "      <td>Nov 27, 2020</td>\n",
       "      <td>4</td>\n",
       "      <td>39</td>\n",
       "      <td>2020/12/01</td>\n",
       "    </tr>\n",
       "    <tr>\n",
       "      <th>2</th>\n",
       "      <td>The Christmas Chronicles 2</td>\n",
       "      <td>Movie</td>\n",
       "      <td>Yes</td>\n",
       "      <td>Nov 25, 2020</td>\n",
       "      <td>6</td>\n",
       "      <td>57</td>\n",
       "      <td>2020/12/01</td>\n",
       "    </tr>\n",
       "    <tr>\n",
       "      <th>3</th>\n",
       "      <td>The 2nd</td>\n",
       "      <td>Movie</td>\n",
       "      <td></td>\n",
       "      <td></td>\n",
       "      <td>1</td>\n",
       "      <td>8</td>\n",
       "      <td>2020/12/01</td>\n",
       "    </tr>\n",
       "    <tr>\n",
       "      <th>4</th>\n",
       "      <td>The Queen's Gambit</td>\n",
       "      <td>TV Show</td>\n",
       "      <td>Yes</td>\n",
       "      <td>Oct 23, 2020</td>\n",
       "      <td>39</td>\n",
       "      <td>340</td>\n",
       "      <td>2020/12/01</td>\n",
       "    </tr>\n",
       "    <tr>\n",
       "      <th>5</th>\n",
       "      <td>The Crown</td>\n",
       "      <td>TV Show</td>\n",
       "      <td>Yes</td>\n",
       "      <td></td>\n",
       "      <td>16</td>\n",
       "      <td>138</td>\n",
       "      <td>2020/12/01</td>\n",
       "    </tr>\n",
       "    <tr>\n",
       "      <th>...</th>\n",
       "      <td>...</td>\n",
       "      <td>...</td>\n",
       "      <td>...</td>\n",
       "      <td>...</td>\n",
       "      <td>...</td>\n",
       "      <td>...</td>\n",
       "      <td>...</td>\n",
       "    </tr>\n",
       "    <tr>\n",
       "      <th>6</th>\n",
       "      <td>Selena: The Series</td>\n",
       "      <td>TV Show</td>\n",
       "      <td>Yes</td>\n",
       "      <td>Dec 4, 2020</td>\n",
       "      <td>9</td>\n",
       "      <td>81</td>\n",
       "      <td>2020/12/13</td>\n",
       "    </tr>\n",
       "    <tr>\n",
       "      <th>7</th>\n",
       "      <td>Big Mouth</td>\n",
       "      <td>TV Show</td>\n",
       "      <td>Yes</td>\n",
       "      <td>Sep 29, 2017</td>\n",
       "      <td>9</td>\n",
       "      <td>74</td>\n",
       "      <td>2020/12/13</td>\n",
       "    </tr>\n",
       "    <tr>\n",
       "      <th>8</th>\n",
       "      <td>Virgin River</td>\n",
       "      <td>TV Show</td>\n",
       "      <td>Yes</td>\n",
       "      <td>Nov 27, 2020</td>\n",
       "      <td>16</td>\n",
       "      <td>128</td>\n",
       "      <td>2020/12/13</td>\n",
       "    </tr>\n",
       "    <tr>\n",
       "      <th>9</th>\n",
       "      <td>The Christmas Chronicles 2</td>\n",
       "      <td>Movie</td>\n",
       "      <td>Yes</td>\n",
       "      <td>Nov 25, 2020</td>\n",
       "      <td>13</td>\n",
       "      <td>90</td>\n",
       "      <td>2020/12/13</td>\n",
       "    </tr>\n",
       "    <tr>\n",
       "      <th>10</th>\n",
       "      <td>The Queen's Gambit</td>\n",
       "      <td>TV Show</td>\n",
       "      <td>Yes</td>\n",
       "      <td>Oct 23, 2020</td>\n",
       "      <td>51</td>\n",
       "      <td>392</td>\n",
       "      <td>2020/12/13</td>\n",
       "    </tr>\n",
       "  </tbody>\n",
       "</table>\n",
       "<p>130 rows × 7 columns</p>\n",
       "</div>"
      ],
      "text/plain": [
       "                         Title     Type Netflix Excl. Netflix Release Date  \\\n",
       "1                 Virgin River  TV Show           Yes         Nov 27, 2020   \n",
       "2   The Christmas Chronicles 2    Movie           Yes         Nov 25, 2020   \n",
       "3                      The 2nd    Movie                                      \n",
       "4           The Queen's Gambit  TV Show           Yes         Oct 23, 2020   \n",
       "5                    The Crown  TV Show           Yes                        \n",
       "..                         ...      ...           ...                  ...   \n",
       "6           Selena: The Series  TV Show           Yes          Dec 4, 2020   \n",
       "7                    Big Mouth  TV Show           Yes         Sep 29, 2017   \n",
       "8                 Virgin River  TV Show           Yes         Nov 27, 2020   \n",
       "9   The Christmas Chronicles 2    Movie           Yes         Nov 25, 2020   \n",
       "10          The Queen's Gambit  TV Show           Yes         Oct 23, 2020   \n",
       "\n",
       "   Days In Top 10 Viewer- Ship Score Measure Date  \n",
       "1               4                 39   2020/12/01  \n",
       "2               6                 57   2020/12/01  \n",
       "3               1                  8   2020/12/01  \n",
       "4              39                340   2020/12/01  \n",
       "5              16                138   2020/12/01  \n",
       "..            ...                ...          ...  \n",
       "6               9                 81   2020/12/13  \n",
       "7               9                 74   2020/12/13  \n",
       "8              16                128   2020/12/13  \n",
       "9              13                 90   2020/12/13  \n",
       "10             51                392   2020/12/13  \n",
       "\n",
       "[130 rows x 7 columns]"
      ]
     },
     "execution_count": 152,
     "metadata": {},
     "output_type": "execute_result"
    }
   ],
   "source": []
  },
  {
   "cell_type": "markdown",
   "metadata": {},
   "source": [
    "## All Streaming Shows"
   ]
  },
  {
   "cell_type": "markdown",
   "metadata": {},
   "source": [
    "# Analyse descriptive et représentation graphique"
   ]
  },
  {
   "cell_type": "markdown",
   "metadata": {},
   "source": [
    "# Modélisation"
   ]
  },
  {
   "cell_type": "markdown",
   "metadata": {},
   "source": [
    "# Conclusion"
   ]
  },
  {
   "cell_type": "markdown",
   "metadata": {},
   "source": [
    "# Annexe"
   ]
  }
 ],
 "metadata": {
  "kernelspec": {
   "display_name": "Python 3",
   "language": "python",
   "name": "python3"
  },
  "language_info": {
   "codemirror_mode": {
    "name": "ipython",
    "version": 3
   },
   "file_extension": ".py",
   "mimetype": "text/x-python",
   "name": "python",
   "nbconvert_exporter": "python",
   "pygments_lexer": "ipython3",
   "version": "3.7.6"
  }
 },
 "nbformat": 4,
 "nbformat_minor": 4
}
