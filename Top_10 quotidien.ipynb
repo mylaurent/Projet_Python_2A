{
 "cells": [
  {
   "cell_type": "markdown",
   "metadata": {
    "id": "bTB77grksmc4"
   },
   "source": [
    "# Importation des Package"
   ]
  },
  {
   "cell_type": "code",
   "execution_count": 330,
   "metadata": {
    "executionInfo": {
     "elapsed": 2182,
     "status": "ok",
     "timestamp": 1607448277690,
     "user": {
      "displayName": "Myrtille Laurent",
      "photoUrl": "https://lh3.googleusercontent.com/a-/AOh14GilIqT9kYfEyLlOR6xsV5GMFxyoqZu54aFKm2afEw=s64",
      "userId": "02978430492940885021"
     },
     "user_tz": -60
    },
    "id": "EwDKSSvKvBRp"
   },
   "outputs": [],
   "source": [
    "import numpy as np\n",
    "import pandas as pd\n",
    "import matplotlib.pyplot as plt\n",
    "import urllib\n",
    "import bs4\n",
    "import re\n",
    "import copy\n",
    "import collections as co\n",
    "import plotly\n",
    "import plotly.graph_objects as go\n",
    "import matplotlib.pyplot as plt\n",
    "import numpy as np\n"
   ]
  },
  {
   "cell_type": "markdown",
   "metadata": {
    "id": "4DLXvrjrXscs"
   },
   "source": [
    "# Webscrapping du top 10 netflix journalier"
   ]
  },
  {
   "cell_type": "markdown",
   "metadata": {},
   "source": [
    "#### Fonction qui récupère le dataframe quand on lui donne la date sous forme string \"aaaa/mm/jj\", url est un argument conditionnel."
   ]
  },
  {
   "cell_type": "code",
   "execution_count": 374,
   "metadata": {
    "executionInfo": {
     "elapsed": 548,
     "status": "ok",
     "timestamp": 1607448336670,
     "user": {
      "displayName": "Myrtille Laurent",
      "photoUrl": "https://lh3.googleusercontent.com/a-/AOh14GilIqT9kYfEyLlOR6xsV5GMFxyoqZu54aFKm2afEw=s64",
      "userId": "02978430492940885021"
     },
     "user_tz": -60
    },
    "id": "SpkTwUrj2GJV"
   },
   "outputs": [],
   "source": [
    "def recup_top_netflix_gen(date,url=\"https://www.the-numbers.com/home-market/netflix-daily-chart/\"):\n",
    "    \n",
    "    url_enrichi = url+date\n",
    "    from urllib.request import Request, urlopen\n",
    "    req_text = urlopen(Request(url_enrichi, headers={'User-Agent': 'Mozilla/5.0'})).read()\n",
    "    page = bs4.BeautifulSoup(req_text, \"lxml\")\n",
    "    #print (page)\n",
    "\n",
    "    \"\"\"On récupère les données------------------\"\"\"\n",
    "    #tableau=page.find(\"table\",{'class' : 'chart full-width'})\n",
    "    tableau=page.find(\"div\",{'id':'page_filling_chart'})\n",
    "    #print(tableau)\n",
    "    #table_body=tableau.find('tbody')\n",
    "    #print(table_body)\n",
    "    rows = tableau.find_all('tr')\n",
    "    #print (rows)\n",
    "\n",
    "  \n",
    "    \"\"\"On récupére tous les élements correspondant au titre et à la note et On crée un dictionnaire dans lequel on met le contenu des lignes nettoyées\n",
    "    L'index est le titre, la valeur la note.\n",
    "    --------------\"\"\"\n",
    "    new_rows=[]#on crée une liste vide dans laquelle on va mettre le contenu des lignes\n",
    "    new_cols = 10*[[]]\n",
    "    dico_top_netflix = dict()\n",
    "    i = 0\n",
    "    for row in rows:\n",
    "        cols = row.find_all('td') # c'est une liste\n",
    "        cols = [ele.text.strip() for ele in cols]\n",
    "        #print (cols)\n",
    "        if len(cols)> 0:\n",
    "            dico_top_netflix[cols[0]] = cols[1:]\n",
    "    #print(dico_top_netflix)    \n",
    "\n",
    "    \"\"\"\"\"\"\n",
    "\n",
    "    \"\"\"On crée ENFIN le dataframe\"\"\"\n",
    "    df_top_netflix_gen = pd.DataFrame.from_dict(dico_top_netflix,orient='index')\n",
    "\n",
    "    \"\"\"On rajoute une index différente du titre\"\"\"\n",
    "    for row in rows:\n",
    "        cols = row.find_all('th')\n",
    "        #print(cols)\n",
    "        if len(cols) > 0 : \n",
    "            cols = [ele.get_text(separator=' ').strip().title() for ele in cols]\n",
    "            columns_title = cols\n",
    "    #print (columns_title)\n",
    "    \n",
    "\n",
    "    \"\"\"On change le nom des colonnes\"\"\"\n",
    "    df_top_netflix_gen.columns=columns_title[1:]\n",
    "    \n",
    "    \"\"\"On vire les colonnes qui ne nous intéresse pas\"\"\"\n",
    "    del(df_top_netflix_gen['Yd'])\n",
    "    del(df_top_netflix_gen['Lw'])\n",
    "    del(df_top_netflix_gen['Watch Now'])\n",
    "    \n",
    "    \"\"\"On rajoute une colonne 'Measure Date' \"\"\"\n",
    "    df_top_netflix_gen['Measure Date']= [date]*10\n",
    "    \n",
    "    #print (\"Graph au \"+ date)\n",
    "    return (df_top_netflix_gen)"
   ]
  },
  {
   "cell_type": "code",
   "execution_count": 375,
   "metadata": {},
   "outputs": [
    {
     "data": {
      "text/html": [
       "<div>\n",
       "<style scoped>\n",
       "    .dataframe tbody tr th:only-of-type {\n",
       "        vertical-align: middle;\n",
       "    }\n",
       "\n",
       "    .dataframe tbody tr th {\n",
       "        vertical-align: top;\n",
       "    }\n",
       "\n",
       "    .dataframe thead th {\n",
       "        text-align: right;\n",
       "    }\n",
       "</style>\n",
       "<table border=\"1\" class=\"dataframe\">\n",
       "  <thead>\n",
       "    <tr style=\"text-align: right;\">\n",
       "      <th></th>\n",
       "      <th>Title</th>\n",
       "      <th>Type</th>\n",
       "      <th>Netflix Excl.</th>\n",
       "      <th>Netflix Release Date</th>\n",
       "      <th>Days In Top 10</th>\n",
       "      <th>Viewer- Ship Score</th>\n",
       "      <th>Measure Date</th>\n",
       "    </tr>\n",
       "  </thead>\n",
       "  <tbody>\n",
       "    <tr>\n",
       "      <th>1</th>\n",
       "      <td>Outer Banks</td>\n",
       "      <td>TV Show</td>\n",
       "      <td>Yes</td>\n",
       "      <td>Apr 15, 2020</td>\n",
       "      <td>16</td>\n",
       "      <td>134</td>\n",
       "      <td>2020/05/05</td>\n",
       "    </tr>\n",
       "    <tr>\n",
       "      <th>2</th>\n",
       "      <td>Dangerous Lies</td>\n",
       "      <td>Movie</td>\n",
       "      <td>Yes</td>\n",
       "      <td>Apr 30, 2020</td>\n",
       "      <td>5</td>\n",
       "      <td>48</td>\n",
       "      <td>2020/05/05</td>\n",
       "    </tr>\n",
       "    <tr>\n",
       "      <th>3</th>\n",
       "      <td>Hollywood</td>\n",
       "      <td>TV Show</td>\n",
       "      <td>Yes</td>\n",
       "      <td>May 1, 2020</td>\n",
       "      <td>3</td>\n",
       "      <td>21</td>\n",
       "      <td>2020/05/05</td>\n",
       "    </tr>\n",
       "    <tr>\n",
       "      <th>4</th>\n",
       "      <td>Never Have I Ever</td>\n",
       "      <td>TV Show</td>\n",
       "      <td>Yes</td>\n",
       "      <td>Apr 27, 2020</td>\n",
       "      <td>8</td>\n",
       "      <td>65</td>\n",
       "      <td>2020/05/05</td>\n",
       "    </tr>\n",
       "    <tr>\n",
       "      <th>5</th>\n",
       "      <td>All Day and a Night</td>\n",
       "      <td>Movie</td>\n",
       "      <td>Yes</td>\n",
       "      <td>May 1, 2020</td>\n",
       "      <td>4</td>\n",
       "      <td>22</td>\n",
       "      <td>2020/05/05</td>\n",
       "    </tr>\n",
       "    <tr>\n",
       "      <th>6</th>\n",
       "      <td>Den of Thieves</td>\n",
       "      <td>Movie</td>\n",
       "      <td></td>\n",
       "      <td></td>\n",
       "      <td>3</td>\n",
       "      <td>13</td>\n",
       "      <td>2020/05/05</td>\n",
       "    </tr>\n",
       "    <tr>\n",
       "      <th>7</th>\n",
       "      <td>Extraction</td>\n",
       "      <td>Movie</td>\n",
       "      <td>Yes</td>\n",
       "      <td>Apr 24, 2020</td>\n",
       "      <td>9</td>\n",
       "      <td>69</td>\n",
       "      <td>2020/05/05</td>\n",
       "    </tr>\n",
       "    <tr>\n",
       "      <th>8</th>\n",
       "      <td>Arctic Dogs</td>\n",
       "      <td>Movie</td>\n",
       "      <td></td>\n",
       "      <td></td>\n",
       "      <td>1</td>\n",
       "      <td>3</td>\n",
       "      <td>2020/05/05</td>\n",
       "    </tr>\n",
       "    <tr>\n",
       "      <th>9</th>\n",
       "      <td>The Last Kingdom</td>\n",
       "      <td>TV Show</td>\n",
       "      <td>Yes</td>\n",
       "      <td></td>\n",
       "      <td>9</td>\n",
       "      <td>41</td>\n",
       "      <td>2020/05/05</td>\n",
       "    </tr>\n",
       "    <tr>\n",
       "      <th>10</th>\n",
       "      <td>Murder to Mercy: The Cyntoi…</td>\n",
       "      <td>Movie</td>\n",
       "      <td>Yes</td>\n",
       "      <td>Apr 29, 2020</td>\n",
       "      <td>6</td>\n",
       "      <td>25</td>\n",
       "      <td>2020/05/05</td>\n",
       "    </tr>\n",
       "  </tbody>\n",
       "</table>\n",
       "</div>"
      ],
      "text/plain": [
       "                           Title     Type Netflix Excl. Netflix Release Date  \\\n",
       "1                    Outer Banks  TV Show           Yes         Apr 15, 2020   \n",
       "2                 Dangerous Lies    Movie           Yes         Apr 30, 2020   \n",
       "3                      Hollywood  TV Show           Yes          May 1, 2020   \n",
       "4              Never Have I Ever  TV Show           Yes         Apr 27, 2020   \n",
       "5            All Day and a Night    Movie           Yes          May 1, 2020   \n",
       "6                 Den of Thieves    Movie                                      \n",
       "7                     Extraction    Movie           Yes         Apr 24, 2020   \n",
       "8                    Arctic Dogs    Movie                                      \n",
       "9               The Last Kingdom  TV Show           Yes                        \n",
       "10  Murder to Mercy: The Cyntoi…    Movie           Yes         Apr 29, 2020   \n",
       "\n",
       "   Days In Top 10 Viewer- Ship Score Measure Date  \n",
       "1              16                134   2020/05/05  \n",
       "2               5                 48   2020/05/05  \n",
       "3               3                 21   2020/05/05  \n",
       "4               8                 65   2020/05/05  \n",
       "5               4                 22   2020/05/05  \n",
       "6               3                 13   2020/05/05  \n",
       "7               9                 69   2020/05/05  \n",
       "8               1                  3   2020/05/05  \n",
       "9               9                 41   2020/05/05  \n",
       "10              6                 25   2020/05/05  "
      ]
     },
     "execution_count": 375,
     "metadata": {},
     "output_type": "execute_result"
    }
   ],
   "source": [
    "df=recup_top_netflix_gen(\"2020/05/05\")\n",
    "df"
   ]
  },
  {
   "cell_type": "code",
   "execution_count": null,
   "metadata": {},
   "outputs": [],
   "source": [
    "liste_dates_valides=[]"
   ]
  }
 ],
 "metadata": {
  "colab": {
   "collapsed_sections": [],
   "name": "Projet.ipynb",
   "provenance": [
    {
     "file_id": "1y4vOEUdmFlrVemWFMBr2ltAvw-VLV3HS",
     "timestamp": 1604736444068
    }
   ],
   "toc_visible": true
  },
  "kernelspec": {
   "display_name": "Python 3",
   "language": "python",
   "name": "python3"
  },
  "language_info": {
   "codemirror_mode": {
    "name": "ipython",
    "version": 3
   },
   "file_extension": ".py",
   "mimetype": "text/x-python",
   "name": "python",
   "nbconvert_exporter": "python",
   "pygments_lexer": "ipython3",
   "version": "3.7.6"
  }
 },
 "nbformat": 4,
 "nbformat_minor": 1
}
