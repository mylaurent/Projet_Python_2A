{
 "cells": [
  {
   "cell_type": "markdown",
   "metadata": {
    "id": "bTB77grksmc4"
   },
   "source": [
    "# Importation des Package"
   ]
  },
  {
   "cell_type": "code",
   "execution_count": 327,
   "metadata": {
    "executionInfo": {
     "elapsed": 2182,
     "status": "ok",
     "timestamp": 1607448277690,
     "user": {
      "displayName": "Myrtille Laurent",
      "photoUrl": "https://lh3.googleusercontent.com/a-/AOh14GilIqT9kYfEyLlOR6xsV5GMFxyoqZu54aFKm2afEw=s64",
      "userId": "02978430492940885021"
     },
     "user_tz": -60
    },
    "id": "EwDKSSvKvBRp"
   },
   "outputs": [
    {
     "ename": "ModuleNotFoundError",
     "evalue": "No module named 'plotly'",
     "output_type": "error",
     "traceback": [
      "\u001b[1;31m---------------------------------------------------------------------------\u001b[0m",
      "\u001b[1;31mModuleNotFoundError\u001b[0m                       Traceback (most recent call last)",
      "\u001b[1;32m<ipython-input-327-a2f98651f876>\u001b[0m in \u001b[0;36m<module>\u001b[1;34m\u001b[0m\n\u001b[0;32m      7\u001b[0m \u001b[1;32mimport\u001b[0m \u001b[0mcopy\u001b[0m\u001b[1;33m\u001b[0m\u001b[1;33m\u001b[0m\u001b[0m\n\u001b[0;32m      8\u001b[0m \u001b[1;32mimport\u001b[0m \u001b[0mcollections\u001b[0m \u001b[1;32mas\u001b[0m \u001b[0mco\u001b[0m\u001b[1;33m\u001b[0m\u001b[1;33m\u001b[0m\u001b[0m\n\u001b[1;32m----> 9\u001b[1;33m \u001b[1;32mimport\u001b[0m \u001b[0mplotly\u001b[0m\u001b[1;33m\u001b[0m\u001b[1;33m\u001b[0m\u001b[0m\n\u001b[0m\u001b[0;32m     10\u001b[0m \u001b[1;32mimport\u001b[0m \u001b[0mplotly\u001b[0m\u001b[1;33m.\u001b[0m\u001b[0mgraph_objects\u001b[0m \u001b[1;32mas\u001b[0m \u001b[0mgo\u001b[0m\u001b[1;33m\u001b[0m\u001b[1;33m\u001b[0m\u001b[0m\n\u001b[0;32m     11\u001b[0m \u001b[1;32mimport\u001b[0m \u001b[0mmatplotlib\u001b[0m\u001b[1;33m.\u001b[0m\u001b[0mpyplot\u001b[0m \u001b[1;32mas\u001b[0m \u001b[0mplt\u001b[0m\u001b[1;33m\u001b[0m\u001b[1;33m\u001b[0m\u001b[0m\n",
      "\u001b[1;31mModuleNotFoundError\u001b[0m: No module named 'plotly'"
     ]
    }
   ],
   "source": [
    "import numpy as np\n",
    "import pandas as pd\n",
    "import matplotlib.pyplot as plt\n",
    "import urllib\n",
    "import bs4\n",
    "import re\n",
    "import copy\n",
    "import collections as co\n",
    "import plotly\n",
    "import plotly.graph_objects as go\n",
    "import matplotlib.pyplot as plt\n",
    "import numpy as np\n"
   ]
  },
  {
   "cell_type": "markdown",
   "metadata": {
    "id": "jHFPZGLgsu3V"
   },
   "source": [
    "# Premiers bails sur la base (Léo)\n"
   ]
  },
  {
   "cell_type": "code",
   "execution_count": 25,
   "metadata": {},
   "outputs": [],
   "source": [
    "#cellule Myrtille\n",
    "df = pd.read_csv(r'C:\\Users\\Utilisateur\\Documents\\GitHub\\Projet_Python_2A\\netflix_titles.csv')\n",
    "#ça marchait pas et je comprenais pas pk, j'ai vu sur un forum de rajouter un r avant et ça marche"
   ]
  },
  {
   "cell_type": "code",
   "execution_count": 26,
   "metadata": {},
   "outputs": [],
   "source": [
    "#cellule Léo\n",
    "#df = pd.read_csv(r'Mets ton chemin')"
   ]
  },
  {
   "cell_type": "markdown",
   "metadata": {
    "id": "Lb0cW2NovBRt"
   },
   "source": [
    "Téléchargement de la base de données des films et série présent sur Netflix"
   ]
  },
  {
   "cell_type": "code",
   "execution_count": 27,
   "metadata": {
    "colab": {
     "base_uri": "https://localhost:8080/"
    },
    "executionInfo": {
     "elapsed": 41663,
     "status": "ok",
     "timestamp": 1607448317187,
     "user": {
      "displayName": "Myrtille Laurent",
      "photoUrl": "https://lh3.googleusercontent.com/a-/AOh14GilIqT9kYfEyLlOR6xsV5GMFxyoqZu54aFKm2afEw=s64",
      "userId": "02978430492940885021"
     },
     "user_tz": -60
    },
    "id": "c2vSMiSxkydm",
    "outputId": "62104567-0891-4692-83c3-2dc1ac200c7e"
   },
   "outputs": [],
   "source": [
    "#from google.colab import drive\n",
    "\n",
    "#drive.mount('/content/gdrive')"
   ]
  },
  {
   "cell_type": "code",
   "execution_count": 28,
   "metadata": {
    "executionInfo": {
     "elapsed": 42152,
     "status": "ok",
     "timestamp": 1607448317678,
     "user": {
      "displayName": "Myrtille Laurent",
      "photoUrl": "https://lh3.googleusercontent.com/a-/AOh14GilIqT9kYfEyLlOR6xsV5GMFxyoqZu54aFKm2afEw=s64",
      "userId": "02978430492940885021"
     },
     "user_tz": -60
    },
    "id": "3-np4nbcvBRu",
    "scrolled": true
   },
   "outputs": [],
   "source": [
    " #df = pd.read_csv(\"/content/gdrive/My Drive/Python - Netflix/Projet Python 2A/netflix_titles.csv\")"
   ]
  },
  {
   "cell_type": "code",
   "execution_count": 29,
   "metadata": {
    "colab": {
     "base_uri": "https://localhost:8080/",
     "height": 606
    },
    "executionInfo": {
     "elapsed": 42152,
     "status": "ok",
     "timestamp": 1607448317688,
     "user": {
      "displayName": "Myrtille Laurent",
      "photoUrl": "https://lh3.googleusercontent.com/a-/AOh14GilIqT9kYfEyLlOR6xsV5GMFxyoqZu54aFKm2afEw=s64",
      "userId": "02978430492940885021"
     },
     "user_tz": -60
    },
    "id": "sNM49ogTvBRy",
    "outputId": "be746b8d-9473-4bd1-d1e0-79b03ed92c4a"
   },
   "outputs": [
    {
     "data": {
      "text/html": [
       "<div>\n",
       "<style scoped>\n",
       "    .dataframe tbody tr th:only-of-type {\n",
       "        vertical-align: middle;\n",
       "    }\n",
       "\n",
       "    .dataframe tbody tr th {\n",
       "        vertical-align: top;\n",
       "    }\n",
       "\n",
       "    .dataframe thead th {\n",
       "        text-align: right;\n",
       "    }\n",
       "</style>\n",
       "<table border=\"1\" class=\"dataframe\">\n",
       "  <thead>\n",
       "    <tr style=\"text-align: right;\">\n",
       "      <th></th>\n",
       "      <th>show_id</th>\n",
       "      <th>type</th>\n",
       "      <th>title</th>\n",
       "      <th>director</th>\n",
       "      <th>cast</th>\n",
       "      <th>country</th>\n",
       "      <th>date_added</th>\n",
       "      <th>release_year</th>\n",
       "      <th>rating</th>\n",
       "      <th>duration</th>\n",
       "      <th>listed_in</th>\n",
       "      <th>description</th>\n",
       "    </tr>\n",
       "  </thead>\n",
       "  <tbody>\n",
       "    <tr>\n",
       "      <th>6134</th>\n",
       "      <td>80176929</td>\n",
       "      <td>TV Show</td>\n",
       "      <td>Abnormal Summit</td>\n",
       "      <td>Jung-ah Im, Seung-uk Jo</td>\n",
       "      <td>Hyun-moo Jun, Si-kyung Sung, Se-yoon Yoo</td>\n",
       "      <td>South Korea</td>\n",
       "      <td>August 4, 2017</td>\n",
       "      <td>2017</td>\n",
       "      <td>TV-PG</td>\n",
       "      <td>2 Seasons</td>\n",
       "      <td>International TV Shows, Korean TV Shows, Stand...</td>\n",
       "      <td>Led by a trio of Korean celebs, a multinationa...</td>\n",
       "    </tr>\n",
       "    <tr>\n",
       "      <th>6135</th>\n",
       "      <td>80176931</td>\n",
       "      <td>TV Show</td>\n",
       "      <td>Chef &amp; My Fridge</td>\n",
       "      <td>NaN</td>\n",
       "      <td>Seong-joo Kim​, Jung-hwan Ahn</td>\n",
       "      <td>South Korea</td>\n",
       "      <td>August 4, 2017</td>\n",
       "      <td>2017</td>\n",
       "      <td>TV-PG</td>\n",
       "      <td>2 Seasons</td>\n",
       "      <td>International TV Shows, Korean TV Shows, Reali...</td>\n",
       "      <td>The best chefs of Korea go head-to-head to cre...</td>\n",
       "    </tr>\n",
       "    <tr>\n",
       "      <th>6136</th>\n",
       "      <td>80194367</td>\n",
       "      <td>TV Show</td>\n",
       "      <td>Paranormal Survivor</td>\n",
       "      <td>NaN</td>\n",
       "      <td>NaN</td>\n",
       "      <td>Canada</td>\n",
       "      <td>August 4, 2017</td>\n",
       "      <td>2016</td>\n",
       "      <td>TV-14</td>\n",
       "      <td>2 Seasons</td>\n",
       "      <td>Docuseries</td>\n",
       "      <td>In interviews and reenactments, ordinary peopl...</td>\n",
       "    </tr>\n",
       "    <tr>\n",
       "      <th>6137</th>\n",
       "      <td>80117552</td>\n",
       "      <td>TV Show</td>\n",
       "      <td>Ozark</td>\n",
       "      <td>NaN</td>\n",
       "      <td>Jason Bateman, Sofia Hublitz, Laura Linney, Sk...</td>\n",
       "      <td>United States</td>\n",
       "      <td>August 31, 2018</td>\n",
       "      <td>2018</td>\n",
       "      <td>TV-MA</td>\n",
       "      <td>2 Seasons</td>\n",
       "      <td>Crime TV Shows, TV Dramas, TV Thrillers</td>\n",
       "      <td>A financial adviser drags his family from Chic...</td>\n",
       "    </tr>\n",
       "    <tr>\n",
       "      <th>6138</th>\n",
       "      <td>80223138</td>\n",
       "      <td>TV Show</td>\n",
       "      <td>The Comedy Lineup</td>\n",
       "      <td>NaN</td>\n",
       "      <td>Michelle Buteau, Ian Karmel, Taylor Tomlinson,...</td>\n",
       "      <td>United States</td>\n",
       "      <td>August 31, 2018</td>\n",
       "      <td>2018</td>\n",
       "      <td>TV-MA</td>\n",
       "      <td>2 Seasons</td>\n",
       "      <td>Stand-Up Comedy &amp; Talk Shows, TV Comedies</td>\n",
       "      <td>A diverse group of up-and-coming comedians per...</td>\n",
       "    </tr>\n",
       "    <tr>\n",
       "      <th>...</th>\n",
       "      <td>...</td>\n",
       "      <td>...</td>\n",
       "      <td>...</td>\n",
       "      <td>...</td>\n",
       "      <td>...</td>\n",
       "      <td>...</td>\n",
       "      <td>...</td>\n",
       "      <td>...</td>\n",
       "      <td>...</td>\n",
       "      <td>...</td>\n",
       "      <td>...</td>\n",
       "      <td>...</td>\n",
       "    </tr>\n",
       "    <tr>\n",
       "      <th>6229</th>\n",
       "      <td>80000063</td>\n",
       "      <td>TV Show</td>\n",
       "      <td>Red vs. Blue</td>\n",
       "      <td>NaN</td>\n",
       "      <td>Burnie Burns, Jason Saldaña, Gustavo Sorola, G...</td>\n",
       "      <td>United States</td>\n",
       "      <td>NaN</td>\n",
       "      <td>2015</td>\n",
       "      <td>NR</td>\n",
       "      <td>13 Seasons</td>\n",
       "      <td>TV Action &amp; Adventure, TV Comedies, TV Sci-Fi ...</td>\n",
       "      <td>This parody of first-person shooter games, mil...</td>\n",
       "    </tr>\n",
       "    <tr>\n",
       "      <th>6230</th>\n",
       "      <td>70286564</td>\n",
       "      <td>TV Show</td>\n",
       "      <td>Maron</td>\n",
       "      <td>NaN</td>\n",
       "      <td>Marc Maron, Judd Hirsch, Josh Brener, Nora Zeh...</td>\n",
       "      <td>United States</td>\n",
       "      <td>NaN</td>\n",
       "      <td>2016</td>\n",
       "      <td>TV-MA</td>\n",
       "      <td>4 Seasons</td>\n",
       "      <td>TV Comedies</td>\n",
       "      <td>Marc Maron stars as Marc Maron, who interviews...</td>\n",
       "    </tr>\n",
       "    <tr>\n",
       "      <th>6231</th>\n",
       "      <td>80116008</td>\n",
       "      <td>Movie</td>\n",
       "      <td>Little Baby Bum: Nursery Rhyme Friends</td>\n",
       "      <td>NaN</td>\n",
       "      <td>NaN</td>\n",
       "      <td>NaN</td>\n",
       "      <td>NaN</td>\n",
       "      <td>2016</td>\n",
       "      <td>NaN</td>\n",
       "      <td>60 min</td>\n",
       "      <td>Movies</td>\n",
       "      <td>Nursery rhymes and original music for children...</td>\n",
       "    </tr>\n",
       "    <tr>\n",
       "      <th>6232</th>\n",
       "      <td>70281022</td>\n",
       "      <td>TV Show</td>\n",
       "      <td>A Young Doctor's Notebook and Other Stories</td>\n",
       "      <td>NaN</td>\n",
       "      <td>Daniel Radcliffe, Jon Hamm, Adam Godley, Chris...</td>\n",
       "      <td>United Kingdom</td>\n",
       "      <td>NaN</td>\n",
       "      <td>2013</td>\n",
       "      <td>TV-MA</td>\n",
       "      <td>2 Seasons</td>\n",
       "      <td>British TV Shows, TV Comedies, TV Dramas</td>\n",
       "      <td>Set during the Russian Revolution, this comic ...</td>\n",
       "    </tr>\n",
       "    <tr>\n",
       "      <th>6233</th>\n",
       "      <td>70153404</td>\n",
       "      <td>TV Show</td>\n",
       "      <td>Friends</td>\n",
       "      <td>NaN</td>\n",
       "      <td>Jennifer Aniston, Courteney Cox, Lisa Kudrow, ...</td>\n",
       "      <td>United States</td>\n",
       "      <td>NaN</td>\n",
       "      <td>2003</td>\n",
       "      <td>TV-14</td>\n",
       "      <td>10 Seasons</td>\n",
       "      <td>Classic &amp; Cult TV, TV Comedies</td>\n",
       "      <td>This hit sitcom follows the merry misadventure...</td>\n",
       "    </tr>\n",
       "  </tbody>\n",
       "</table>\n",
       "<p>100 rows × 12 columns</p>\n",
       "</div>"
      ],
      "text/plain": [
       "       show_id     type                                        title  \\\n",
       "6134  80176929  TV Show                              Abnormal Summit   \n",
       "6135  80176931  TV Show                             Chef & My Fridge   \n",
       "6136  80194367  TV Show                          Paranormal Survivor   \n",
       "6137  80117552  TV Show                                        Ozark   \n",
       "6138  80223138  TV Show                            The Comedy Lineup   \n",
       "...        ...      ...                                          ...   \n",
       "6229  80000063  TV Show                                 Red vs. Blue   \n",
       "6230  70286564  TV Show                                        Maron   \n",
       "6231  80116008    Movie       Little Baby Bum: Nursery Rhyme Friends   \n",
       "6232  70281022  TV Show  A Young Doctor's Notebook and Other Stories   \n",
       "6233  70153404  TV Show                                      Friends   \n",
       "\n",
       "                     director  \\\n",
       "6134  Jung-ah Im, Seung-uk Jo   \n",
       "6135                      NaN   \n",
       "6136                      NaN   \n",
       "6137                      NaN   \n",
       "6138                      NaN   \n",
       "...                       ...   \n",
       "6229                      NaN   \n",
       "6230                      NaN   \n",
       "6231                      NaN   \n",
       "6232                      NaN   \n",
       "6233                      NaN   \n",
       "\n",
       "                                                   cast         country  \\\n",
       "6134           Hyun-moo Jun, Si-kyung Sung, Se-yoon Yoo     South Korea   \n",
       "6135                      Seong-joo Kim​, Jung-hwan Ahn     South Korea   \n",
       "6136                                                NaN          Canada   \n",
       "6137  Jason Bateman, Sofia Hublitz, Laura Linney, Sk...   United States   \n",
       "6138  Michelle Buteau, Ian Karmel, Taylor Tomlinson,...   United States   \n",
       "...                                                 ...             ...   \n",
       "6229  Burnie Burns, Jason Saldaña, Gustavo Sorola, G...   United States   \n",
       "6230  Marc Maron, Judd Hirsch, Josh Brener, Nora Zeh...   United States   \n",
       "6231                                                NaN             NaN   \n",
       "6232  Daniel Radcliffe, Jon Hamm, Adam Godley, Chris...  United Kingdom   \n",
       "6233  Jennifer Aniston, Courteney Cox, Lisa Kudrow, ...   United States   \n",
       "\n",
       "            date_added  release_year rating    duration  \\\n",
       "6134    August 4, 2017          2017  TV-PG   2 Seasons   \n",
       "6135    August 4, 2017          2017  TV-PG   2 Seasons   \n",
       "6136    August 4, 2017          2016  TV-14   2 Seasons   \n",
       "6137   August 31, 2018          2018  TV-MA   2 Seasons   \n",
       "6138   August 31, 2018          2018  TV-MA   2 Seasons   \n",
       "...                ...           ...    ...         ...   \n",
       "6229               NaN          2015     NR  13 Seasons   \n",
       "6230               NaN          2016  TV-MA   4 Seasons   \n",
       "6231               NaN          2016    NaN      60 min   \n",
       "6232               NaN          2013  TV-MA   2 Seasons   \n",
       "6233               NaN          2003  TV-14  10 Seasons   \n",
       "\n",
       "                                              listed_in  \\\n",
       "6134  International TV Shows, Korean TV Shows, Stand...   \n",
       "6135  International TV Shows, Korean TV Shows, Reali...   \n",
       "6136                                         Docuseries   \n",
       "6137            Crime TV Shows, TV Dramas, TV Thrillers   \n",
       "6138          Stand-Up Comedy & Talk Shows, TV Comedies   \n",
       "...                                                 ...   \n",
       "6229  TV Action & Adventure, TV Comedies, TV Sci-Fi ...   \n",
       "6230                                        TV Comedies   \n",
       "6231                                             Movies   \n",
       "6232           British TV Shows, TV Comedies, TV Dramas   \n",
       "6233                     Classic & Cult TV, TV Comedies   \n",
       "\n",
       "                                            description  \n",
       "6134  Led by a trio of Korean celebs, a multinationa...  \n",
       "6135  The best chefs of Korea go head-to-head to cre...  \n",
       "6136  In interviews and reenactments, ordinary peopl...  \n",
       "6137  A financial adviser drags his family from Chic...  \n",
       "6138  A diverse group of up-and-coming comedians per...  \n",
       "...                                                 ...  \n",
       "6229  This parody of first-person shooter games, mil...  \n",
       "6230  Marc Maron stars as Marc Maron, who interviews...  \n",
       "6231  Nursery rhymes and original music for children...  \n",
       "6232  Set during the Russian Revolution, this comic ...  \n",
       "6233  This hit sitcom follows the merry misadventure...  \n",
       "\n",
       "[100 rows x 12 columns]"
      ]
     },
     "execution_count": 29,
     "metadata": {},
     "output_type": "execute_result"
    }
   ],
   "source": [
    "df.tail(100)"
   ]
  },
  {
   "cell_type": "markdown",
   "metadata": {
    "id": "EprJKJrLvBR2"
   },
   "source": [
    "La plupart des variables sont codées comme objet, il faudra recoder certaines en int pour pouvoir faire des opérations."
   ]
  },
  {
   "cell_type": "code",
   "execution_count": 30,
   "metadata": {
    "colab": {
     "base_uri": "https://localhost:8080/"
    },
    "executionInfo": {
     "elapsed": 42145,
     "status": "ok",
     "timestamp": 1607448317690,
     "user": {
      "displayName": "Myrtille Laurent",
      "photoUrl": "https://lh3.googleusercontent.com/a-/AOh14GilIqT9kYfEyLlOR6xsV5GMFxyoqZu54aFKm2afEw=s64",
      "userId": "02978430492940885021"
     },
     "user_tz": -60
    },
    "id": "k44-AshtvBR2",
    "outputId": "c25ed72a-6235-482c-8555-7628eb36d6a5",
    "scrolled": true
   },
   "outputs": [
    {
     "data": {
      "text/plain": [
       "show_id          int64\n",
       "type            object\n",
       "title           object\n",
       "director        object\n",
       "cast            object\n",
       "country         object\n",
       "date_added      object\n",
       "release_year     int64\n",
       "rating          object\n",
       "duration        object\n",
       "listed_in       object\n",
       "description     object\n",
       "dtype: object"
      ]
     },
     "execution_count": 30,
     "metadata": {},
     "output_type": "execute_result"
    }
   ],
   "source": [
    "df.dtypes"
   ]
  },
  {
   "cell_type": "markdown",
   "metadata": {
    "id": "5BJMEXmE0b4Y"
   },
   "source": [
    "\n",
    "On compte le nombre de valeurs manquantes pour 'date_added' et 'release_year', les deux variables sur lesquelles on peut faire des opérations numériques (pour comparer les séries/films qui ont été créés par Netflix ou juste rachetés)\n"
   ]
  },
  {
   "cell_type": "code",
   "execution_count": 31,
   "metadata": {
    "colab": {
     "base_uri": "https://localhost:8080/"
    },
    "executionInfo": {
     "elapsed": 42142,
     "status": "ok",
     "timestamp": 1607448317694,
     "user": {
      "displayName": "Myrtille Laurent",
      "photoUrl": "https://lh3.googleusercontent.com/a-/AOh14GilIqT9kYfEyLlOR6xsV5GMFxyoqZu54aFKm2afEw=s64",
      "userId": "02978430492940885021"
     },
     "user_tz": -60
    },
    "id": "nFEN8oJ9vBR9",
    "outputId": "d78455f1-edd1-444b-8417-3da6ec29e239"
   },
   "outputs": [
    {
     "data": {
      "text/plain": [
       "date_added    11\n",
       "dtype: int64"
      ]
     },
     "execution_count": 31,
     "metadata": {},
     "output_type": "execute_result"
    }
   ],
   "source": [
    "df[['date_added']].isna().sum()"
   ]
  },
  {
   "cell_type": "code",
   "execution_count": 32,
   "metadata": {
    "colab": {
     "base_uri": "https://localhost:8080/"
    },
    "executionInfo": {
     "elapsed": 42135,
     "status": "ok",
     "timestamp": 1607448317695,
     "user": {
      "displayName": "Myrtille Laurent",
      "photoUrl": "https://lh3.googleusercontent.com/a-/AOh14GilIqT9kYfEyLlOR6xsV5GMFxyoqZu54aFKm2afEw=s64",
      "userId": "02978430492940885021"
     },
     "user_tz": -60
    },
    "id": "mv9tqQK3vBSA",
    "outputId": "ceb96ee4-e3b6-4afb-b1bd-3ef75054acf2"
   },
   "outputs": [
    {
     "data": {
      "text/plain": [
       "release_year    0\n",
       "dtype: int64"
      ]
     },
     "execution_count": 32,
     "metadata": {},
     "output_type": "execute_result"
    }
   ],
   "source": [
    "df[['release_year']].isna().sum()"
   ]
  },
  {
   "cell_type": "markdown",
   "metadata": {
    "id": "fPWm20dqvBSE"
   },
   "source": [
    "On créé une variable 'year_added' codée en int qui renseigne l'année où le film/série a été ajouté sur Netflix et on remplace les valeurs manquantes par des zéros."
   ]
  },
  {
   "cell_type": "code",
   "execution_count": 33,
   "metadata": {
    "colab": {
     "base_uri": "https://localhost:8080/",
     "height": 419
    },
    "executionInfo": {
     "elapsed": 42127,
     "status": "ok",
     "timestamp": 1607448317696,
     "user": {
      "displayName": "Myrtille Laurent",
      "photoUrl": "https://lh3.googleusercontent.com/a-/AOh14GilIqT9kYfEyLlOR6xsV5GMFxyoqZu54aFKm2afEw=s64",
      "userId": "02978430492940885021"
     },
     "user_tz": -60
    },
    "id": "4gd3O6k8vBSF",
    "outputId": "d3e3640e-7e8a-422e-9f61-03c7f5bd2f35"
   },
   "outputs": [
    {
     "data": {
      "text/html": [
       "<div>\n",
       "<style scoped>\n",
       "    .dataframe tbody tr th:only-of-type {\n",
       "        vertical-align: middle;\n",
       "    }\n",
       "\n",
       "    .dataframe tbody tr th {\n",
       "        vertical-align: top;\n",
       "    }\n",
       "\n",
       "    .dataframe thead th {\n",
       "        text-align: right;\n",
       "    }\n",
       "</style>\n",
       "<table border=\"1\" class=\"dataframe\">\n",
       "  <thead>\n",
       "    <tr style=\"text-align: right;\">\n",
       "      <th></th>\n",
       "      <th>date_added</th>\n",
       "    </tr>\n",
       "  </thead>\n",
       "  <tbody>\n",
       "    <tr>\n",
       "      <th>0</th>\n",
       "      <td>September 9, 2019</td>\n",
       "    </tr>\n",
       "    <tr>\n",
       "      <th>1</th>\n",
       "      <td>September 9, 2016</td>\n",
       "    </tr>\n",
       "    <tr>\n",
       "      <th>2</th>\n",
       "      <td>September 8, 2018</td>\n",
       "    </tr>\n",
       "    <tr>\n",
       "      <th>3</th>\n",
       "      <td>September 8, 2018</td>\n",
       "    </tr>\n",
       "    <tr>\n",
       "      <th>4</th>\n",
       "      <td>September 8, 2017</td>\n",
       "    </tr>\n",
       "    <tr>\n",
       "      <th>...</th>\n",
       "      <td>...</td>\n",
       "    </tr>\n",
       "    <tr>\n",
       "      <th>6228</th>\n",
       "      <td>NaN</td>\n",
       "    </tr>\n",
       "    <tr>\n",
       "      <th>6229</th>\n",
       "      <td>NaN</td>\n",
       "    </tr>\n",
       "    <tr>\n",
       "      <th>6230</th>\n",
       "      <td>NaN</td>\n",
       "    </tr>\n",
       "    <tr>\n",
       "      <th>6231</th>\n",
       "      <td>NaN</td>\n",
       "    </tr>\n",
       "    <tr>\n",
       "      <th>6232</th>\n",
       "      <td>NaN</td>\n",
       "    </tr>\n",
       "  </tbody>\n",
       "</table>\n",
       "<p>6233 rows × 1 columns</p>\n",
       "</div>"
      ],
      "text/plain": [
       "             date_added\n",
       "0     September 9, 2019\n",
       "1     September 9, 2016\n",
       "2     September 8, 2018\n",
       "3     September 8, 2018\n",
       "4     September 8, 2017\n",
       "...                 ...\n",
       "6228                NaN\n",
       "6229                NaN\n",
       "6230                NaN\n",
       "6231                NaN\n",
       "6232                NaN\n",
       "\n",
       "[6233 rows x 1 columns]"
      ]
     },
     "execution_count": 33,
     "metadata": {},
     "output_type": "execute_result"
    }
   ],
   "source": [
    "df[['date_added']].iloc[0:6233]"
   ]
  },
  {
   "cell_type": "code",
   "execution_count": 34,
   "metadata": {
    "executionInfo": {
     "elapsed": 42126,
     "status": "ok",
     "timestamp": 1607448317698,
     "user": {
      "displayName": "Myrtille Laurent",
      "photoUrl": "https://lh3.googleusercontent.com/a-/AOh14GilIqT9kYfEyLlOR6xsV5GMFxyoqZu54aFKm2afEw=s64",
      "userId": "02978430492940885021"
     },
     "user_tz": -60
    },
    "id": "ZplM9b4JvBSI",
    "scrolled": false
   },
   "outputs": [],
   "source": [
    "regex = r'([0-2][0-9][0-9][0-9])'\n",
    "df['year_added'] = df['date_added'].str.extract(regex,expand=True)"
   ]
  },
  {
   "cell_type": "code",
   "execution_count": 35,
   "metadata": {
    "executionInfo": {
     "elapsed": 42124,
     "status": "ok",
     "timestamp": 1607448317698,
     "user": {
      "displayName": "Myrtille Laurent",
      "photoUrl": "https://lh3.googleusercontent.com/a-/AOh14GilIqT9kYfEyLlOR6xsV5GMFxyoqZu54aFKm2afEw=s64",
      "userId": "02978430492940885021"
     },
     "user_tz": -60
    },
    "id": "2IMI3gFDvBSM"
   },
   "outputs": [],
   "source": [
    "df['year_added'] = df['year_added'].fillna(0)"
   ]
  },
  {
   "cell_type": "code",
   "execution_count": 36,
   "metadata": {
    "executionInfo": {
     "elapsed": 42554,
     "status": "ok",
     "timestamp": 1607448318130,
     "user": {
      "displayName": "Myrtille Laurent",
      "photoUrl": "https://lh3.googleusercontent.com/a-/AOh14GilIqT9kYfEyLlOR6xsV5GMFxyoqZu54aFKm2afEw=s64",
      "userId": "02978430492940885021"
     },
     "user_tz": -60
    },
    "id": "j_H5sLRpvBSP"
   },
   "outputs": [],
   "source": [
    "df['year_added'] = df['year_added'].astype(str).astype(int)"
   ]
  },
  {
   "cell_type": "code",
   "execution_count": 37,
   "metadata": {
    "colab": {
     "base_uri": "https://localhost:8080/"
    },
    "executionInfo": {
     "elapsed": 42549,
     "status": "ok",
     "timestamp": 1607448318132,
     "user": {
      "displayName": "Myrtille Laurent",
      "photoUrl": "https://lh3.googleusercontent.com/a-/AOh14GilIqT9kYfEyLlOR6xsV5GMFxyoqZu54aFKm2afEw=s64",
      "userId": "02978430492940885021"
     },
     "user_tz": -60
    },
    "id": "3T_XlsjGvBSS",
    "outputId": "99ddd6fd-9e25-4342-ee16-1d3869816808",
    "scrolled": true
   },
   "outputs": [
    {
     "data": {
      "text/plain": [
       "show_id          int64\n",
       "type            object\n",
       "title           object\n",
       "director        object\n",
       "cast            object\n",
       "country         object\n",
       "date_added      object\n",
       "release_year     int64\n",
       "rating          object\n",
       "duration        object\n",
       "listed_in       object\n",
       "description     object\n",
       "year_added       int32\n",
       "dtype: object"
      ]
     },
     "execution_count": 37,
     "metadata": {},
     "output_type": "execute_result"
    }
   ],
   "source": [
    "df.dtypes"
   ]
  },
  {
   "cell_type": "markdown",
   "metadata": {
    "id": "WRId-Kums6Vm"
   },
   "source": [
    "##Création de df1 (colonnes choisies)"
   ]
  },
  {
   "cell_type": "markdown",
   "metadata": {
    "id": "7BisfgTHvBSU"
   },
   "source": [
    "On crée une nouvelle base qui ne prend que certaines variables."
   ]
  },
  {
   "cell_type": "code",
   "execution_count": 38,
   "metadata": {
    "executionInfo": {
     "elapsed": 42548,
     "status": "ok",
     "timestamp": 1607448318133,
     "user": {
      "displayName": "Myrtille Laurent",
      "photoUrl": "https://lh3.googleusercontent.com/a-/AOh14GilIqT9kYfEyLlOR6xsV5GMFxyoqZu54aFKm2afEw=s64",
      "userId": "02978430492940885021"
     },
     "user_tz": -60
    },
    "id": "VlVHfnl4vBSV"
   },
   "outputs": [],
   "source": [
    "df1 = df[['type', 'title','director', 'cast', 'date_added', 'year_added', 'release_year', 'duration', 'listed_in']]"
   ]
  },
  {
   "cell_type": "code",
   "execution_count": 39,
   "metadata": {
    "colab": {
     "base_uri": "https://localhost:8080/",
     "height": 608
    },
    "executionInfo": {
     "elapsed": 42545,
     "status": "ok",
     "timestamp": 1607448318139,
     "user": {
      "displayName": "Myrtille Laurent",
      "photoUrl": "https://lh3.googleusercontent.com/a-/AOh14GilIqT9kYfEyLlOR6xsV5GMFxyoqZu54aFKm2afEw=s64",
      "userId": "02978430492940885021"
     },
     "user_tz": -60
    },
    "id": "BAeIRsWuvBSZ",
    "outputId": "65fabbf8-bfbf-4279-a3ca-bcbfd5ae1a9a",
    "scrolled": true
   },
   "outputs": [
    {
     "data": {
      "text/html": [
       "<div>\n",
       "<style scoped>\n",
       "    .dataframe tbody tr th:only-of-type {\n",
       "        vertical-align: middle;\n",
       "    }\n",
       "\n",
       "    .dataframe tbody tr th {\n",
       "        vertical-align: top;\n",
       "    }\n",
       "\n",
       "    .dataframe thead th {\n",
       "        text-align: right;\n",
       "    }\n",
       "</style>\n",
       "<table border=\"1\" class=\"dataframe\">\n",
       "  <thead>\n",
       "    <tr style=\"text-align: right;\">\n",
       "      <th></th>\n",
       "      <th>type</th>\n",
       "      <th>title</th>\n",
       "      <th>director</th>\n",
       "      <th>cast</th>\n",
       "      <th>date_added</th>\n",
       "      <th>year_added</th>\n",
       "      <th>release_year</th>\n",
       "      <th>duration</th>\n",
       "      <th>listed_in</th>\n",
       "    </tr>\n",
       "  </thead>\n",
       "  <tbody>\n",
       "    <tr>\n",
       "      <th>6222</th>\n",
       "      <td>TV Show</td>\n",
       "      <td>Weeds</td>\n",
       "      <td>NaN</td>\n",
       "      <td>Mary-Louise Parker, Hunter Parrish, Alexander ...</td>\n",
       "      <td>April 1, 2014</td>\n",
       "      <td>2014</td>\n",
       "      <td>2012</td>\n",
       "      <td>8 Seasons</td>\n",
       "      <td>TV Comedies, TV Dramas</td>\n",
       "    </tr>\n",
       "    <tr>\n",
       "      <th>6223</th>\n",
       "      <td>TV Show</td>\n",
       "      <td>Gunslinger Girl</td>\n",
       "      <td>NaN</td>\n",
       "      <td>Yuuka Nanri, Kanako Mitsuhashi, Eri Sendai, Am...</td>\n",
       "      <td>NaN</td>\n",
       "      <td>0</td>\n",
       "      <td>2008</td>\n",
       "      <td>2 Seasons</td>\n",
       "      <td>Anime Series, Crime TV Shows</td>\n",
       "    </tr>\n",
       "    <tr>\n",
       "      <th>6224</th>\n",
       "      <td>TV Show</td>\n",
       "      <td>Anthony Bourdain: Parts Unknown</td>\n",
       "      <td>NaN</td>\n",
       "      <td>Anthony Bourdain</td>\n",
       "      <td>NaN</td>\n",
       "      <td>0</td>\n",
       "      <td>2018</td>\n",
       "      <td>5 Seasons</td>\n",
       "      <td>Docuseries</td>\n",
       "    </tr>\n",
       "    <tr>\n",
       "      <th>6225</th>\n",
       "      <td>TV Show</td>\n",
       "      <td>Frasier</td>\n",
       "      <td>NaN</td>\n",
       "      <td>Kelsey Grammer, Jane Leeves, David Hyde Pierce...</td>\n",
       "      <td>NaN</td>\n",
       "      <td>0</td>\n",
       "      <td>2003</td>\n",
       "      <td>11 Seasons</td>\n",
       "      <td>Classic &amp; Cult TV, TV Comedies</td>\n",
       "    </tr>\n",
       "    <tr>\n",
       "      <th>6226</th>\n",
       "      <td>TV Show</td>\n",
       "      <td>La Familia P. Luche</td>\n",
       "      <td>NaN</td>\n",
       "      <td>Eugenio Derbez, Consuelo Duval, Luis Manuel Áv...</td>\n",
       "      <td>NaN</td>\n",
       "      <td>0</td>\n",
       "      <td>2012</td>\n",
       "      <td>3 Seasons</td>\n",
       "      <td>International TV Shows, Spanish-Language TV Sh...</td>\n",
       "    </tr>\n",
       "    <tr>\n",
       "      <th>6227</th>\n",
       "      <td>TV Show</td>\n",
       "      <td>The Adventures of Figaro Pho</td>\n",
       "      <td>NaN</td>\n",
       "      <td>Luke Jurevicius, Craig Behenna, Charlotte Haml...</td>\n",
       "      <td>NaN</td>\n",
       "      <td>0</td>\n",
       "      <td>2015</td>\n",
       "      <td>2 Seasons</td>\n",
       "      <td>Kids' TV, TV Comedies</td>\n",
       "    </tr>\n",
       "    <tr>\n",
       "      <th>6228</th>\n",
       "      <td>TV Show</td>\n",
       "      <td>Kikoriki</td>\n",
       "      <td>NaN</td>\n",
       "      <td>Igor Dmitriev</td>\n",
       "      <td>NaN</td>\n",
       "      <td>0</td>\n",
       "      <td>2010</td>\n",
       "      <td>2 Seasons</td>\n",
       "      <td>Kids' TV</td>\n",
       "    </tr>\n",
       "    <tr>\n",
       "      <th>6229</th>\n",
       "      <td>TV Show</td>\n",
       "      <td>Red vs. Blue</td>\n",
       "      <td>NaN</td>\n",
       "      <td>Burnie Burns, Jason Saldaña, Gustavo Sorola, G...</td>\n",
       "      <td>NaN</td>\n",
       "      <td>0</td>\n",
       "      <td>2015</td>\n",
       "      <td>13 Seasons</td>\n",
       "      <td>TV Action &amp; Adventure, TV Comedies, TV Sci-Fi ...</td>\n",
       "    </tr>\n",
       "    <tr>\n",
       "      <th>6230</th>\n",
       "      <td>TV Show</td>\n",
       "      <td>Maron</td>\n",
       "      <td>NaN</td>\n",
       "      <td>Marc Maron, Judd Hirsch, Josh Brener, Nora Zeh...</td>\n",
       "      <td>NaN</td>\n",
       "      <td>0</td>\n",
       "      <td>2016</td>\n",
       "      <td>4 Seasons</td>\n",
       "      <td>TV Comedies</td>\n",
       "    </tr>\n",
       "    <tr>\n",
       "      <th>6231</th>\n",
       "      <td>Movie</td>\n",
       "      <td>Little Baby Bum: Nursery Rhyme Friends</td>\n",
       "      <td>NaN</td>\n",
       "      <td>NaN</td>\n",
       "      <td>NaN</td>\n",
       "      <td>0</td>\n",
       "      <td>2016</td>\n",
       "      <td>60 min</td>\n",
       "      <td>Movies</td>\n",
       "    </tr>\n",
       "    <tr>\n",
       "      <th>6232</th>\n",
       "      <td>TV Show</td>\n",
       "      <td>A Young Doctor's Notebook and Other Stories</td>\n",
       "      <td>NaN</td>\n",
       "      <td>Daniel Radcliffe, Jon Hamm, Adam Godley, Chris...</td>\n",
       "      <td>NaN</td>\n",
       "      <td>0</td>\n",
       "      <td>2013</td>\n",
       "      <td>2 Seasons</td>\n",
       "      <td>British TV Shows, TV Comedies, TV Dramas</td>\n",
       "    </tr>\n",
       "    <tr>\n",
       "      <th>6233</th>\n",
       "      <td>TV Show</td>\n",
       "      <td>Friends</td>\n",
       "      <td>NaN</td>\n",
       "      <td>Jennifer Aniston, Courteney Cox, Lisa Kudrow, ...</td>\n",
       "      <td>NaN</td>\n",
       "      <td>0</td>\n",
       "      <td>2003</td>\n",
       "      <td>10 Seasons</td>\n",
       "      <td>Classic &amp; Cult TV, TV Comedies</td>\n",
       "    </tr>\n",
       "  </tbody>\n",
       "</table>\n",
       "</div>"
      ],
      "text/plain": [
       "         type                                        title director  \\\n",
       "6222  TV Show                                        Weeds      NaN   \n",
       "6223  TV Show                              Gunslinger Girl      NaN   \n",
       "6224  TV Show              Anthony Bourdain: Parts Unknown      NaN   \n",
       "6225  TV Show                                      Frasier      NaN   \n",
       "6226  TV Show                          La Familia P. Luche      NaN   \n",
       "6227  TV Show                 The Adventures of Figaro Pho      NaN   \n",
       "6228  TV Show                                     Kikoriki      NaN   \n",
       "6229  TV Show                                 Red vs. Blue      NaN   \n",
       "6230  TV Show                                        Maron      NaN   \n",
       "6231    Movie       Little Baby Bum: Nursery Rhyme Friends      NaN   \n",
       "6232  TV Show  A Young Doctor's Notebook and Other Stories      NaN   \n",
       "6233  TV Show                                      Friends      NaN   \n",
       "\n",
       "                                                   cast      date_added  \\\n",
       "6222  Mary-Louise Parker, Hunter Parrish, Alexander ...   April 1, 2014   \n",
       "6223  Yuuka Nanri, Kanako Mitsuhashi, Eri Sendai, Am...             NaN   \n",
       "6224                                   Anthony Bourdain             NaN   \n",
       "6225  Kelsey Grammer, Jane Leeves, David Hyde Pierce...             NaN   \n",
       "6226  Eugenio Derbez, Consuelo Duval, Luis Manuel Áv...             NaN   \n",
       "6227  Luke Jurevicius, Craig Behenna, Charlotte Haml...             NaN   \n",
       "6228                                      Igor Dmitriev             NaN   \n",
       "6229  Burnie Burns, Jason Saldaña, Gustavo Sorola, G...             NaN   \n",
       "6230  Marc Maron, Judd Hirsch, Josh Brener, Nora Zeh...             NaN   \n",
       "6231                                                NaN             NaN   \n",
       "6232  Daniel Radcliffe, Jon Hamm, Adam Godley, Chris...             NaN   \n",
       "6233  Jennifer Aniston, Courteney Cox, Lisa Kudrow, ...             NaN   \n",
       "\n",
       "      year_added  release_year    duration  \\\n",
       "6222        2014          2012   8 Seasons   \n",
       "6223           0          2008   2 Seasons   \n",
       "6224           0          2018   5 Seasons   \n",
       "6225           0          2003  11 Seasons   \n",
       "6226           0          2012   3 Seasons   \n",
       "6227           0          2015   2 Seasons   \n",
       "6228           0          2010   2 Seasons   \n",
       "6229           0          2015  13 Seasons   \n",
       "6230           0          2016   4 Seasons   \n",
       "6231           0          2016      60 min   \n",
       "6232           0          2013   2 Seasons   \n",
       "6233           0          2003  10 Seasons   \n",
       "\n",
       "                                              listed_in  \n",
       "6222                             TV Comedies, TV Dramas  \n",
       "6223                       Anime Series, Crime TV Shows  \n",
       "6224                                         Docuseries  \n",
       "6225                     Classic & Cult TV, TV Comedies  \n",
       "6226  International TV Shows, Spanish-Language TV Sh...  \n",
       "6227                              Kids' TV, TV Comedies  \n",
       "6228                                           Kids' TV  \n",
       "6229  TV Action & Adventure, TV Comedies, TV Sci-Fi ...  \n",
       "6230                                        TV Comedies  \n",
       "6231                                             Movies  \n",
       "6232           British TV Shows, TV Comedies, TV Dramas  \n",
       "6233                     Classic & Cult TV, TV Comedies  "
      ]
     },
     "execution_count": 39,
     "metadata": {},
     "output_type": "execute_result"
    }
   ],
   "source": [
    "df1.tail(12)"
   ]
  },
  {
   "cell_type": "markdown",
   "metadata": {
    "id": "1kU0Y8q403Iq"
   },
   "source": [
    "On classe la base par ordre décroissant des dates de sortie."
   ]
  },
  {
   "cell_type": "code",
   "execution_count": 40,
   "metadata": {
    "executionInfo": {
     "elapsed": 42544,
     "status": "ok",
     "timestamp": 1607448318141,
     "user": {
      "displayName": "Myrtille Laurent",
      "photoUrl": "https://lh3.googleusercontent.com/a-/AOh14GilIqT9kYfEyLlOR6xsV5GMFxyoqZu54aFKm2afEw=s64",
      "userId": "02978430492940885021"
     },
     "user_tz": -60
    },
    "id": "XvTMmkETvBSh"
   },
   "outputs": [],
   "source": [
    "df1 = df1.sort_values('release_year', ascending = False) #probleme si on veut classer selon year_added"
   ]
  },
  {
   "cell_type": "code",
   "execution_count": 41,
   "metadata": {
    "colab": {
     "base_uri": "https://localhost:8080/",
     "height": 289
    },
    "executionInfo": {
     "elapsed": 42537,
     "status": "ok",
     "timestamp": 1607448318143,
     "user": {
      "displayName": "Myrtille Laurent",
      "photoUrl": "https://lh3.googleusercontent.com/a-/AOh14GilIqT9kYfEyLlOR6xsV5GMFxyoqZu54aFKm2afEw=s64",
      "userId": "02978430492940885021"
     },
     "user_tz": -60
    },
    "id": "hLe5_5o5vBSj",
    "outputId": "c0de0482-f95a-44e3-b69c-d0f481239fb7"
   },
   "outputs": [
    {
     "data": {
      "text/html": [
       "<div>\n",
       "<style scoped>\n",
       "    .dataframe tbody tr th:only-of-type {\n",
       "        vertical-align: middle;\n",
       "    }\n",
       "\n",
       "    .dataframe tbody tr th {\n",
       "        vertical-align: top;\n",
       "    }\n",
       "\n",
       "    .dataframe thead th {\n",
       "        text-align: right;\n",
       "    }\n",
       "</style>\n",
       "<table border=\"1\" class=\"dataframe\">\n",
       "  <thead>\n",
       "    <tr style=\"text-align: right;\">\n",
       "      <th></th>\n",
       "      <th>type</th>\n",
       "      <th>title</th>\n",
       "      <th>director</th>\n",
       "      <th>cast</th>\n",
       "      <th>date_added</th>\n",
       "      <th>year_added</th>\n",
       "      <th>release_year</th>\n",
       "      <th>duration</th>\n",
       "      <th>listed_in</th>\n",
       "    </tr>\n",
       "  </thead>\n",
       "  <tbody>\n",
       "    <tr>\n",
       "      <th>3467</th>\n",
       "      <td>TV Show</td>\n",
       "      <td>Medical Police</td>\n",
       "      <td>NaN</td>\n",
       "      <td>Erinn Hayes, Rob Huebel, Malin Akerman, Rob Co...</td>\n",
       "      <td>January 10, 2020</td>\n",
       "      <td>2020</td>\n",
       "      <td>2020</td>\n",
       "      <td>1 Season</td>\n",
       "      <td>Crime TV Shows, TV Action &amp; Adventure, TV Come...</td>\n",
       "    </tr>\n",
       "    <tr>\n",
       "      <th>3249</th>\n",
       "      <td>Movie</td>\n",
       "      <td>All the Freckles in the World</td>\n",
       "      <td>Yibrán Asuad</td>\n",
       "      <td>Hánssel Casillas, Loreto Peralta, Andrea Sutto...</td>\n",
       "      <td>January 3, 2020</td>\n",
       "      <td>2020</td>\n",
       "      <td>2020</td>\n",
       "      <td>90 min</td>\n",
       "      <td>Comedies, International Movies, Romantic Movies</td>\n",
       "    </tr>\n",
       "    <tr>\n",
       "      <th>3220</th>\n",
       "      <td>TV Show</td>\n",
       "      <td>Dracula</td>\n",
       "      <td>NaN</td>\n",
       "      <td>Claes Bang, Dolly Wells, John Heffernan</td>\n",
       "      <td>January 4, 2020</td>\n",
       "      <td>2020</td>\n",
       "      <td>2020</td>\n",
       "      <td>1 Season</td>\n",
       "      <td>British TV Shows, International TV Shows, TV D...</td>\n",
       "    </tr>\n",
       "    <tr>\n",
       "      <th>3427</th>\n",
       "      <td>Movie</td>\n",
       "      <td>Leslie Jones: Time Machine</td>\n",
       "      <td>David Benioff, D.B. Weiss</td>\n",
       "      <td>Leslie Jones</td>\n",
       "      <td>January 14, 2020</td>\n",
       "      <td>2020</td>\n",
       "      <td>2020</td>\n",
       "      <td>66 min</td>\n",
       "      <td>Stand-Up Comedy</td>\n",
       "    </tr>\n",
       "    <tr>\n",
       "      <th>3436</th>\n",
       "      <td>TV Show</td>\n",
       "      <td>The Healing Powers of Dude</td>\n",
       "      <td>NaN</td>\n",
       "      <td>Jace Chapman, Larisa Oleynik, Tom Everett Scot...</td>\n",
       "      <td>January 13, 2020</td>\n",
       "      <td>2020</td>\n",
       "      <td>2020</td>\n",
       "      <td>1 Season</td>\n",
       "      <td>Kids' TV, TV Comedies, TV Dramas</td>\n",
       "    </tr>\n",
       "  </tbody>\n",
       "</table>\n",
       "</div>"
      ],
      "text/plain": [
       "         type                          title                   director  \\\n",
       "3467  TV Show                 Medical Police                        NaN   \n",
       "3249    Movie  All the Freckles in the World               Yibrán Asuad   \n",
       "3220  TV Show                        Dracula                        NaN   \n",
       "3427    Movie     Leslie Jones: Time Machine  David Benioff, D.B. Weiss   \n",
       "3436  TV Show     The Healing Powers of Dude                        NaN   \n",
       "\n",
       "                                                   cast        date_added  \\\n",
       "3467  Erinn Hayes, Rob Huebel, Malin Akerman, Rob Co...  January 10, 2020   \n",
       "3249  Hánssel Casillas, Loreto Peralta, Andrea Sutto...   January 3, 2020   \n",
       "3220            Claes Bang, Dolly Wells, John Heffernan   January 4, 2020   \n",
       "3427                                       Leslie Jones  January 14, 2020   \n",
       "3436  Jace Chapman, Larisa Oleynik, Tom Everett Scot...  January 13, 2020   \n",
       "\n",
       "      year_added  release_year  duration  \\\n",
       "3467        2020          2020  1 Season   \n",
       "3249        2020          2020    90 min   \n",
       "3220        2020          2020  1 Season   \n",
       "3427        2020          2020    66 min   \n",
       "3436        2020          2020  1 Season   \n",
       "\n",
       "                                              listed_in  \n",
       "3467  Crime TV Shows, TV Action & Adventure, TV Come...  \n",
       "3249    Comedies, International Movies, Romantic Movies  \n",
       "3220  British TV Shows, International TV Shows, TV D...  \n",
       "3427                                    Stand-Up Comedy  \n",
       "3436                   Kids' TV, TV Comedies, TV Dramas  "
      ]
     },
     "execution_count": 41,
     "metadata": {},
     "output_type": "execute_result"
    }
   ],
   "source": [
    "df1.head()"
   ]
  },
  {
   "cell_type": "code",
   "execution_count": 42,
   "metadata": {
    "colab": {
     "base_uri": "https://localhost:8080/",
     "height": 204
    },
    "executionInfo": {
     "elapsed": 42527,
     "status": "ok",
     "timestamp": 1607448318144,
     "user": {
      "displayName": "Myrtille Laurent",
      "photoUrl": "https://lh3.googleusercontent.com/a-/AOh14GilIqT9kYfEyLlOR6xsV5GMFxyoqZu54aFKm2afEw=s64",
      "userId": "02978430492940885021"
     },
     "user_tz": -60
    },
    "id": "1IG3M2vpvBSm",
    "outputId": "cfa61c1e-5af8-427c-a57a-c6ad4c509924"
   },
   "outputs": [
    {
     "data": {
      "text/html": [
       "<div>\n",
       "<style scoped>\n",
       "    .dataframe tbody tr th:only-of-type {\n",
       "        vertical-align: middle;\n",
       "    }\n",
       "\n",
       "    .dataframe tbody tr th {\n",
       "        vertical-align: top;\n",
       "    }\n",
       "\n",
       "    .dataframe thead th {\n",
       "        text-align: right;\n",
       "    }\n",
       "</style>\n",
       "<table border=\"1\" class=\"dataframe\">\n",
       "  <thead>\n",
       "    <tr style=\"text-align: right;\">\n",
       "      <th></th>\n",
       "      <th>type</th>\n",
       "      <th>title</th>\n",
       "      <th>director</th>\n",
       "      <th>cast</th>\n",
       "      <th>date_added</th>\n",
       "      <th>year_added</th>\n",
       "      <th>release_year</th>\n",
       "      <th>duration</th>\n",
       "      <th>listed_in</th>\n",
       "    </tr>\n",
       "  </thead>\n",
       "  <tbody>\n",
       "    <tr>\n",
       "      <th>2023</th>\n",
       "      <td>Movie</td>\n",
       "      <td>Why We Fight: The Battle of Russia</td>\n",
       "      <td>Frank Capra, Anatole Litvak</td>\n",
       "      <td>NaN</td>\n",
       "      <td>March 31, 2017</td>\n",
       "      <td>2017</td>\n",
       "      <td>1943</td>\n",
       "      <td>82 min</td>\n",
       "      <td>Documentaries</td>\n",
       "    </tr>\n",
       "    <tr>\n",
       "      <th>2022</th>\n",
       "      <td>Movie</td>\n",
       "      <td>Undercover: How to Operate Behind Enemy Lines</td>\n",
       "      <td>John Ford</td>\n",
       "      <td>NaN</td>\n",
       "      <td>March 31, 2017</td>\n",
       "      <td>2017</td>\n",
       "      <td>1943</td>\n",
       "      <td>61 min</td>\n",
       "      <td>Classic Movies, Documentaries</td>\n",
       "    </tr>\n",
       "    <tr>\n",
       "      <th>2013</th>\n",
       "      <td>Movie</td>\n",
       "      <td>The Battle of Midway</td>\n",
       "      <td>John Ford</td>\n",
       "      <td>Henry Fonda, Jane Darwell</td>\n",
       "      <td>March 31, 2017</td>\n",
       "      <td>2017</td>\n",
       "      <td>1942</td>\n",
       "      <td>18 min</td>\n",
       "      <td>Classic Movies, Documentaries</td>\n",
       "    </tr>\n",
       "    <tr>\n",
       "      <th>2011</th>\n",
       "      <td>Movie</td>\n",
       "      <td>Prelude to War</td>\n",
       "      <td>Frank Capra</td>\n",
       "      <td>NaN</td>\n",
       "      <td>March 31, 2017</td>\n",
       "      <td>2017</td>\n",
       "      <td>1942</td>\n",
       "      <td>52 min</td>\n",
       "      <td>Classic Movies, Documentaries</td>\n",
       "    </tr>\n",
       "    <tr>\n",
       "      <th>4292</th>\n",
       "      <td>TV Show</td>\n",
       "      <td>Pioneers: First Women Filmmakers*</td>\n",
       "      <td>NaN</td>\n",
       "      <td>NaN</td>\n",
       "      <td>December 30, 2018</td>\n",
       "      <td>2018</td>\n",
       "      <td>1925</td>\n",
       "      <td>1 Season</td>\n",
       "      <td>TV Shows</td>\n",
       "    </tr>\n",
       "  </tbody>\n",
       "</table>\n",
       "</div>"
      ],
      "text/plain": [
       "         type                                          title  \\\n",
       "2023    Movie             Why We Fight: The Battle of Russia   \n",
       "2022    Movie  Undercover: How to Operate Behind Enemy Lines   \n",
       "2013    Movie                           The Battle of Midway   \n",
       "2011    Movie                                 Prelude to War   \n",
       "4292  TV Show              Pioneers: First Women Filmmakers*   \n",
       "\n",
       "                         director                       cast  \\\n",
       "2023  Frank Capra, Anatole Litvak                        NaN   \n",
       "2022                    John Ford                        NaN   \n",
       "2013                    John Ford  Henry Fonda, Jane Darwell   \n",
       "2011                  Frank Capra                        NaN   \n",
       "4292                          NaN                        NaN   \n",
       "\n",
       "             date_added  year_added  release_year  duration  \\\n",
       "2023     March 31, 2017        2017          1943    82 min   \n",
       "2022     March 31, 2017        2017          1943    61 min   \n",
       "2013     March 31, 2017        2017          1942    18 min   \n",
       "2011     March 31, 2017        2017          1942    52 min   \n",
       "4292  December 30, 2018        2018          1925  1 Season   \n",
       "\n",
       "                          listed_in  \n",
       "2023                  Documentaries  \n",
       "2022  Classic Movies, Documentaries  \n",
       "2013  Classic Movies, Documentaries  \n",
       "2011  Classic Movies, Documentaries  \n",
       "4292                       TV Shows  "
      ]
     },
     "execution_count": 42,
     "metadata": {},
     "output_type": "execute_result"
    }
   ],
   "source": [
    "df1.tail()"
   ]
  },
  {
   "cell_type": "markdown",
   "metadata": {
    "id": "Jw9JqaWRvBSo"
   },
   "source": [
    "## Création de df_movie et df_tvshow\n",
    " On créé deux bases une avec les séries et une avec les films."
   ]
  },
  {
   "cell_type": "code",
   "execution_count": 43,
   "metadata": {
    "executionInfo": {
     "elapsed": 42526,
     "status": "ok",
     "timestamp": 1607448318145,
     "user": {
      "displayName": "Myrtille Laurent",
      "photoUrl": "https://lh3.googleusercontent.com/a-/AOh14GilIqT9kYfEyLlOR6xsV5GMFxyoqZu54aFKm2afEw=s64",
      "userId": "02978430492940885021"
     },
     "user_tz": -60
    },
    "id": "iCnZCG7AvBSv",
    "scrolled": true
   },
   "outputs": [],
   "source": [
    "df_tvshow = df1[df1['type'].isin([\"TV Show\"])]"
   ]
  },
  {
   "cell_type": "code",
   "execution_count": 44,
   "metadata": {
    "executionInfo": {
     "elapsed": 42525,
     "status": "ok",
     "timestamp": 1607448318146,
     "user": {
      "displayName": "Myrtille Laurent",
      "photoUrl": "https://lh3.googleusercontent.com/a-/AOh14GilIqT9kYfEyLlOR6xsV5GMFxyoqZu54aFKm2afEw=s64",
      "userId": "02978430492940885021"
     },
     "user_tz": -60
    },
    "id": "TyXmDIlJvBSy"
   },
   "outputs": [],
   "source": [
    "df_movie = df1[df1['type'].isin(['Movie'])]"
   ]
  },
  {
   "cell_type": "markdown",
   "metadata": {
    "id": "mQ2FqCT8vBS1"
   },
   "source": [
    "reset index ?"
   ]
  },
  {
   "cell_type": "code",
   "execution_count": 45,
   "metadata": {
    "colab": {
     "base_uri": "https://localhost:8080/",
     "height": 204
    },
    "executionInfo": {
     "elapsed": 42516,
     "status": "ok",
     "timestamp": 1607448318147,
     "user": {
      "displayName": "Myrtille Laurent",
      "photoUrl": "https://lh3.googleusercontent.com/a-/AOh14GilIqT9kYfEyLlOR6xsV5GMFxyoqZu54aFKm2afEw=s64",
      "userId": "02978430492940885021"
     },
     "user_tz": -60
    },
    "id": "26qwIusdvBS2",
    "outputId": "b4e6a787-a179-46ff-cfc3-ef7fcf9ab7f0"
   },
   "outputs": [
    {
     "data": {
      "text/html": [
       "<div>\n",
       "<style scoped>\n",
       "    .dataframe tbody tr th:only-of-type {\n",
       "        vertical-align: middle;\n",
       "    }\n",
       "\n",
       "    .dataframe tbody tr th {\n",
       "        vertical-align: top;\n",
       "    }\n",
       "\n",
       "    .dataframe thead th {\n",
       "        text-align: right;\n",
       "    }\n",
       "</style>\n",
       "<table border=\"1\" class=\"dataframe\">\n",
       "  <thead>\n",
       "    <tr style=\"text-align: right;\">\n",
       "      <th></th>\n",
       "      <th>type</th>\n",
       "      <th>title</th>\n",
       "      <th>director</th>\n",
       "      <th>cast</th>\n",
       "      <th>date_added</th>\n",
       "      <th>year_added</th>\n",
       "      <th>release_year</th>\n",
       "      <th>duration</th>\n",
       "      <th>listed_in</th>\n",
       "    </tr>\n",
       "  </thead>\n",
       "  <tbody>\n",
       "    <tr>\n",
       "      <th>3467</th>\n",
       "      <td>TV Show</td>\n",
       "      <td>Medical Police</td>\n",
       "      <td>NaN</td>\n",
       "      <td>Erinn Hayes, Rob Huebel, Malin Akerman, Rob Co...</td>\n",
       "      <td>January 10, 2020</td>\n",
       "      <td>2020</td>\n",
       "      <td>2020</td>\n",
       "      <td>1 Season</td>\n",
       "      <td>Crime TV Shows, TV Action &amp; Adventure, TV Come...</td>\n",
       "    </tr>\n",
       "    <tr>\n",
       "      <th>3220</th>\n",
       "      <td>TV Show</td>\n",
       "      <td>Dracula</td>\n",
       "      <td>NaN</td>\n",
       "      <td>Claes Bang, Dolly Wells, John Heffernan</td>\n",
       "      <td>January 4, 2020</td>\n",
       "      <td>2020</td>\n",
       "      <td>2020</td>\n",
       "      <td>1 Season</td>\n",
       "      <td>British TV Shows, International TV Shows, TV D...</td>\n",
       "    </tr>\n",
       "    <tr>\n",
       "      <th>3436</th>\n",
       "      <td>TV Show</td>\n",
       "      <td>The Healing Powers of Dude</td>\n",
       "      <td>NaN</td>\n",
       "      <td>Jace Chapman, Larisa Oleynik, Tom Everett Scot...</td>\n",
       "      <td>January 13, 2020</td>\n",
       "      <td>2020</td>\n",
       "      <td>2020</td>\n",
       "      <td>1 Season</td>\n",
       "      <td>Kids' TV, TV Comedies, TV Dramas</td>\n",
       "    </tr>\n",
       "    <tr>\n",
       "      <th>3189</th>\n",
       "      <td>TV Show</td>\n",
       "      <td>Cheer</td>\n",
       "      <td>NaN</td>\n",
       "      <td>NaN</td>\n",
       "      <td>January 8, 2020</td>\n",
       "      <td>2020</td>\n",
       "      <td>2020</td>\n",
       "      <td>1 Season</td>\n",
       "      <td>Docuseries, Reality TV, Teen TV Shows</td>\n",
       "    </tr>\n",
       "    <tr>\n",
       "      <th>3464</th>\n",
       "      <td>TV Show</td>\n",
       "      <td>AJ and the Queen</td>\n",
       "      <td>NaN</td>\n",
       "      <td>RuPaul Charles, Izzy G., Michael-Leon Wooley, ...</td>\n",
       "      <td>January 10, 2020</td>\n",
       "      <td>2020</td>\n",
       "      <td>2020</td>\n",
       "      <td>1 Season</td>\n",
       "      <td>TV Comedies, TV Dramas</td>\n",
       "    </tr>\n",
       "  </tbody>\n",
       "</table>\n",
       "</div>"
      ],
      "text/plain": [
       "         type                       title director  \\\n",
       "3467  TV Show              Medical Police      NaN   \n",
       "3220  TV Show                     Dracula      NaN   \n",
       "3436  TV Show  The Healing Powers of Dude      NaN   \n",
       "3189  TV Show                       Cheer      NaN   \n",
       "3464  TV Show            AJ and the Queen      NaN   \n",
       "\n",
       "                                                   cast        date_added  \\\n",
       "3467  Erinn Hayes, Rob Huebel, Malin Akerman, Rob Co...  January 10, 2020   \n",
       "3220            Claes Bang, Dolly Wells, John Heffernan   January 4, 2020   \n",
       "3436  Jace Chapman, Larisa Oleynik, Tom Everett Scot...  January 13, 2020   \n",
       "3189                                                NaN   January 8, 2020   \n",
       "3464  RuPaul Charles, Izzy G., Michael-Leon Wooley, ...  January 10, 2020   \n",
       "\n",
       "      year_added  release_year  duration  \\\n",
       "3467        2020          2020  1 Season   \n",
       "3220        2020          2020  1 Season   \n",
       "3436        2020          2020  1 Season   \n",
       "3189        2020          2020  1 Season   \n",
       "3464        2020          2020  1 Season   \n",
       "\n",
       "                                              listed_in  \n",
       "3467  Crime TV Shows, TV Action & Adventure, TV Come...  \n",
       "3220  British TV Shows, International TV Shows, TV D...  \n",
       "3436                   Kids' TV, TV Comedies, TV Dramas  \n",
       "3189              Docuseries, Reality TV, Teen TV Shows  \n",
       "3464                             TV Comedies, TV Dramas  "
      ]
     },
     "execution_count": 45,
     "metadata": {},
     "output_type": "execute_result"
    }
   ],
   "source": [
    "df_tvshow.head()"
   ]
  },
  {
   "cell_type": "code",
   "execution_count": 46,
   "metadata": {
    "colab": {
     "base_uri": "https://localhost:8080/",
     "height": 289
    },
    "executionInfo": {
     "elapsed": 42503,
     "status": "ok",
     "timestamp": 1607448318147,
     "user": {
      "displayName": "Myrtille Laurent",
      "photoUrl": "https://lh3.googleusercontent.com/a-/AOh14GilIqT9kYfEyLlOR6xsV5GMFxyoqZu54aFKm2afEw=s64",
      "userId": "02978430492940885021"
     },
     "user_tz": -60
    },
    "id": "uMm3RO8BvBS5",
    "outputId": "610bddfa-9ae4-4f6b-e008-586b25f4b6ad"
   },
   "outputs": [
    {
     "data": {
      "text/html": [
       "<div>\n",
       "<style scoped>\n",
       "    .dataframe tbody tr th:only-of-type {\n",
       "        vertical-align: middle;\n",
       "    }\n",
       "\n",
       "    .dataframe tbody tr th {\n",
       "        vertical-align: top;\n",
       "    }\n",
       "\n",
       "    .dataframe thead th {\n",
       "        text-align: right;\n",
       "    }\n",
       "</style>\n",
       "<table border=\"1\" class=\"dataframe\">\n",
       "  <thead>\n",
       "    <tr style=\"text-align: right;\">\n",
       "      <th></th>\n",
       "      <th>type</th>\n",
       "      <th>title</th>\n",
       "      <th>director</th>\n",
       "      <th>cast</th>\n",
       "      <th>date_added</th>\n",
       "      <th>year_added</th>\n",
       "      <th>release_year</th>\n",
       "      <th>duration</th>\n",
       "      <th>listed_in</th>\n",
       "    </tr>\n",
       "  </thead>\n",
       "  <tbody>\n",
       "    <tr>\n",
       "      <th>5704</th>\n",
       "      <td>TV Show</td>\n",
       "      <td>Star Trek</td>\n",
       "      <td>NaN</td>\n",
       "      <td>William Shatner, Leonard Nimoy, DeForest Kelle...</td>\n",
       "      <td>October 1, 2017</td>\n",
       "      <td>2017</td>\n",
       "      <td>1968</td>\n",
       "      <td>3 Seasons</td>\n",
       "      <td>Classic &amp; Cult TV, TV Action &amp; Adventure, TV S...</td>\n",
       "    </tr>\n",
       "    <tr>\n",
       "      <th>5980</th>\n",
       "      <td>TV Show</td>\n",
       "      <td>The Andy Griffith Show</td>\n",
       "      <td>NaN</td>\n",
       "      <td>Andy Griffith, Ron Howard, Don Knotts, Frances...</td>\n",
       "      <td>July 1, 2017</td>\n",
       "      <td>2017</td>\n",
       "      <td>1967</td>\n",
       "      <td>8 Seasons</td>\n",
       "      <td>Classic &amp; Cult TV, TV Comedies</td>\n",
       "    </tr>\n",
       "    <tr>\n",
       "      <th>5981</th>\n",
       "      <td>TV Show</td>\n",
       "      <td>The Twilight Zone (Original Series)</td>\n",
       "      <td>NaN</td>\n",
       "      <td>Rod Serling</td>\n",
       "      <td>July 1, 2017</td>\n",
       "      <td>2017</td>\n",
       "      <td>1963</td>\n",
       "      <td>4 Seasons</td>\n",
       "      <td>Classic &amp; Cult TV, TV Sci-Fi &amp; Fantasy</td>\n",
       "    </tr>\n",
       "    <tr>\n",
       "      <th>4079</th>\n",
       "      <td>TV Show</td>\n",
       "      <td>Pioneers of African-American Cinema</td>\n",
       "      <td>Oscar Micheaux, Spencer Williams, Richard E. N...</td>\n",
       "      <td>NaN</td>\n",
       "      <td>February 1, 2017</td>\n",
       "      <td>2017</td>\n",
       "      <td>1946</td>\n",
       "      <td>1 Season</td>\n",
       "      <td>TV Shows</td>\n",
       "    </tr>\n",
       "    <tr>\n",
       "      <th>4292</th>\n",
       "      <td>TV Show</td>\n",
       "      <td>Pioneers: First Women Filmmakers*</td>\n",
       "      <td>NaN</td>\n",
       "      <td>NaN</td>\n",
       "      <td>December 30, 2018</td>\n",
       "      <td>2018</td>\n",
       "      <td>1925</td>\n",
       "      <td>1 Season</td>\n",
       "      <td>TV Shows</td>\n",
       "    </tr>\n",
       "  </tbody>\n",
       "</table>\n",
       "</div>"
      ],
      "text/plain": [
       "         type                                title  \\\n",
       "5704  TV Show                            Star Trek   \n",
       "5980  TV Show               The Andy Griffith Show   \n",
       "5981  TV Show  The Twilight Zone (Original Series)   \n",
       "4079  TV Show  Pioneers of African-American Cinema   \n",
       "4292  TV Show    Pioneers: First Women Filmmakers*   \n",
       "\n",
       "                                               director  \\\n",
       "5704                                                NaN   \n",
       "5980                                                NaN   \n",
       "5981                                                NaN   \n",
       "4079  Oscar Micheaux, Spencer Williams, Richard E. N...   \n",
       "4292                                                NaN   \n",
       "\n",
       "                                                   cast         date_added  \\\n",
       "5704  William Shatner, Leonard Nimoy, DeForest Kelle...    October 1, 2017   \n",
       "5980  Andy Griffith, Ron Howard, Don Knotts, Frances...       July 1, 2017   \n",
       "5981                                        Rod Serling       July 1, 2017   \n",
       "4079                                                NaN   February 1, 2017   \n",
       "4292                                                NaN  December 30, 2018   \n",
       "\n",
       "      year_added  release_year   duration  \\\n",
       "5704        2017          1968  3 Seasons   \n",
       "5980        2017          1967  8 Seasons   \n",
       "5981        2017          1963  4 Seasons   \n",
       "4079        2017          1946   1 Season   \n",
       "4292        2018          1925   1 Season   \n",
       "\n",
       "                                              listed_in  \n",
       "5704  Classic & Cult TV, TV Action & Adventure, TV S...  \n",
       "5980                     Classic & Cult TV, TV Comedies  \n",
       "5981             Classic & Cult TV, TV Sci-Fi & Fantasy  \n",
       "4079                                           TV Shows  \n",
       "4292                                           TV Shows  "
      ]
     },
     "execution_count": 46,
     "metadata": {},
     "output_type": "execute_result"
    }
   ],
   "source": [
    "df_tvshow.tail()"
   ]
  },
  {
   "cell_type": "code",
   "execution_count": 47,
   "metadata": {
    "colab": {
     "base_uri": "https://localhost:8080/",
     "height": 289
    },
    "executionInfo": {
     "elapsed": 42495,
     "status": "ok",
     "timestamp": 1607448318149,
     "user": {
      "displayName": "Myrtille Laurent",
      "photoUrl": "https://lh3.googleusercontent.com/a-/AOh14GilIqT9kYfEyLlOR6xsV5GMFxyoqZu54aFKm2afEw=s64",
      "userId": "02978430492940885021"
     },
     "user_tz": -60
    },
    "id": "oDtlP7YMvBS_",
    "outputId": "28bcf294-7a0e-4248-839a-c0ce05e2d6ff"
   },
   "outputs": [
    {
     "data": {
      "text/html": [
       "<div>\n",
       "<style scoped>\n",
       "    .dataframe tbody tr th:only-of-type {\n",
       "        vertical-align: middle;\n",
       "    }\n",
       "\n",
       "    .dataframe tbody tr th {\n",
       "        vertical-align: top;\n",
       "    }\n",
       "\n",
       "    .dataframe thead th {\n",
       "        text-align: right;\n",
       "    }\n",
       "</style>\n",
       "<table border=\"1\" class=\"dataframe\">\n",
       "  <thead>\n",
       "    <tr style=\"text-align: right;\">\n",
       "      <th></th>\n",
       "      <th>type</th>\n",
       "      <th>title</th>\n",
       "      <th>director</th>\n",
       "      <th>cast</th>\n",
       "      <th>date_added</th>\n",
       "      <th>year_added</th>\n",
       "      <th>release_year</th>\n",
       "      <th>duration</th>\n",
       "      <th>listed_in</th>\n",
       "    </tr>\n",
       "  </thead>\n",
       "  <tbody>\n",
       "    <tr>\n",
       "      <th>3249</th>\n",
       "      <td>Movie</td>\n",
       "      <td>All the Freckles in the World</td>\n",
       "      <td>Yibrán Asuad</td>\n",
       "      <td>Hánssel Casillas, Loreto Peralta, Andrea Sutto...</td>\n",
       "      <td>January 3, 2020</td>\n",
       "      <td>2020</td>\n",
       "      <td>2020</td>\n",
       "      <td>90 min</td>\n",
       "      <td>Comedies, International Movies, Romantic Movies</td>\n",
       "    </tr>\n",
       "    <tr>\n",
       "      <th>3427</th>\n",
       "      <td>Movie</td>\n",
       "      <td>Leslie Jones: Time Machine</td>\n",
       "      <td>David Benioff, D.B. Weiss</td>\n",
       "      <td>Leslie Jones</td>\n",
       "      <td>January 14, 2020</td>\n",
       "      <td>2020</td>\n",
       "      <td>2020</td>\n",
       "      <td>66 min</td>\n",
       "      <td>Stand-Up Comedy</td>\n",
       "    </tr>\n",
       "    <tr>\n",
       "      <th>3195</th>\n",
       "      <td>Movie</td>\n",
       "      <td>Live Twice, Love Once</td>\n",
       "      <td>Maria Ripoll</td>\n",
       "      <td>Oscar Martínez, Inma Cuesta, Mafalda Carbonell...</td>\n",
       "      <td>January 7, 2020</td>\n",
       "      <td>2020</td>\n",
       "      <td>2020</td>\n",
       "      <td>102 min</td>\n",
       "      <td>Comedies, Dramas, International Movies</td>\n",
       "    </tr>\n",
       "    <tr>\n",
       "      <th>3180</th>\n",
       "      <td>Movie</td>\n",
       "      <td>Bulletproof 2</td>\n",
       "      <td>Don Michael Paul</td>\n",
       "      <td>Faizon Love, Kirk Fox, Tony Todd, Pearl Thusi,...</td>\n",
       "      <td>January 9, 2020</td>\n",
       "      <td>2020</td>\n",
       "      <td>2020</td>\n",
       "      <td>97 min</td>\n",
       "      <td>Action &amp; Adventure, Comedies</td>\n",
       "    </tr>\n",
       "    <tr>\n",
       "      <th>3518</th>\n",
       "      <td>Movie</td>\n",
       "      <td>Ghost Stories</td>\n",
       "      <td>Anurag Kashyap, Dibakar Banerjee, Karan Johar,...</td>\n",
       "      <td>Janhvi Kapoor, Sobhita Dhulipala, Sukant Goel,...</td>\n",
       "      <td>January 1, 2020</td>\n",
       "      <td>2020</td>\n",
       "      <td>2020</td>\n",
       "      <td>145 min</td>\n",
       "      <td>Horror Movies, International Movies, Thrillers</td>\n",
       "    </tr>\n",
       "  </tbody>\n",
       "</table>\n",
       "</div>"
      ],
      "text/plain": [
       "       type                          title  \\\n",
       "3249  Movie  All the Freckles in the World   \n",
       "3427  Movie     Leslie Jones: Time Machine   \n",
       "3195  Movie          Live Twice, Love Once   \n",
       "3180  Movie                  Bulletproof 2   \n",
       "3518  Movie                  Ghost Stories   \n",
       "\n",
       "                                               director  \\\n",
       "3249                                       Yibrán Asuad   \n",
       "3427                          David Benioff, D.B. Weiss   \n",
       "3195                                       Maria Ripoll   \n",
       "3180                                   Don Michael Paul   \n",
       "3518  Anurag Kashyap, Dibakar Banerjee, Karan Johar,...   \n",
       "\n",
       "                                                   cast        date_added  \\\n",
       "3249  Hánssel Casillas, Loreto Peralta, Andrea Sutto...   January 3, 2020   \n",
       "3427                                       Leslie Jones  January 14, 2020   \n",
       "3195  Oscar Martínez, Inma Cuesta, Mafalda Carbonell...   January 7, 2020   \n",
       "3180  Faizon Love, Kirk Fox, Tony Todd, Pearl Thusi,...   January 9, 2020   \n",
       "3518  Janhvi Kapoor, Sobhita Dhulipala, Sukant Goel,...   January 1, 2020   \n",
       "\n",
       "      year_added  release_year duration  \\\n",
       "3249        2020          2020   90 min   \n",
       "3427        2020          2020   66 min   \n",
       "3195        2020          2020  102 min   \n",
       "3180        2020          2020   97 min   \n",
       "3518        2020          2020  145 min   \n",
       "\n",
       "                                            listed_in  \n",
       "3249  Comedies, International Movies, Romantic Movies  \n",
       "3427                                  Stand-Up Comedy  \n",
       "3195           Comedies, Dramas, International Movies  \n",
       "3180                     Action & Adventure, Comedies  \n",
       "3518   Horror Movies, International Movies, Thrillers  "
      ]
     },
     "execution_count": 47,
     "metadata": {},
     "output_type": "execute_result"
    }
   ],
   "source": [
    "df_movie.head()"
   ]
  },
  {
   "cell_type": "code",
   "execution_count": 48,
   "metadata": {
    "colab": {
     "base_uri": "https://localhost:8080/",
     "height": 80
    },
    "executionInfo": {
     "elapsed": 42682,
     "status": "ok",
     "timestamp": 1607448318346,
     "user": {
      "displayName": "Myrtille Laurent",
      "photoUrl": "https://lh3.googleusercontent.com/a-/AOh14GilIqT9kYfEyLlOR6xsV5GMFxyoqZu54aFKm2afEw=s64",
      "userId": "02978430492940885021"
     },
     "user_tz": -60
    },
    "id": "pnwH3V8nvBTE",
    "outputId": "4d7d8335-9fa8-4236-bd3d-f03783dfda5a"
   },
   "outputs": [
    {
     "data": {
      "text/html": [
       "<div>\n",
       "<style scoped>\n",
       "    .dataframe tbody tr th:only-of-type {\n",
       "        vertical-align: middle;\n",
       "    }\n",
       "\n",
       "    .dataframe tbody tr th {\n",
       "        vertical-align: top;\n",
       "    }\n",
       "\n",
       "    .dataframe thead th {\n",
       "        text-align: right;\n",
       "    }\n",
       "</style>\n",
       "<table border=\"1\" class=\"dataframe\">\n",
       "  <thead>\n",
       "    <tr style=\"text-align: right;\">\n",
       "      <th></th>\n",
       "      <th>type</th>\n",
       "      <th>title</th>\n",
       "      <th>director</th>\n",
       "      <th>cast</th>\n",
       "      <th>date_added</th>\n",
       "      <th>year_added</th>\n",
       "      <th>release_year</th>\n",
       "      <th>duration</th>\n",
       "      <th>listed_in</th>\n",
       "    </tr>\n",
       "  </thead>\n",
       "  <tbody>\n",
       "    <tr>\n",
       "      <th>5741</th>\n",
       "      <td>TV Show</td>\n",
       "      <td>House of Cards</td>\n",
       "      <td>NaN</td>\n",
       "      <td>Kevin Spacey, Robin Wright, Kate Mara, Corey S...</td>\n",
       "      <td>November 2, 2018</td>\n",
       "      <td>2018</td>\n",
       "      <td>2018</td>\n",
       "      <td>6 Seasons</td>\n",
       "      <td>TV Dramas, TV Thrillers</td>\n",
       "    </tr>\n",
       "  </tbody>\n",
       "</table>\n",
       "</div>"
      ],
      "text/plain": [
       "         type           title director  \\\n",
       "5741  TV Show  House of Cards      NaN   \n",
       "\n",
       "                                                   cast         date_added  \\\n",
       "5741  Kevin Spacey, Robin Wright, Kate Mara, Corey S...   November 2, 2018   \n",
       "\n",
       "      year_added  release_year   duration                listed_in  \n",
       "5741        2018          2018  6 Seasons  TV Dramas, TV Thrillers  "
      ]
     },
     "execution_count": 48,
     "metadata": {},
     "output_type": "execute_result"
    }
   ],
   "source": [
    "df1[df1['title'].isin(['House of Cards'])]"
   ]
  },
  {
   "cell_type": "code",
   "execution_count": 49,
   "metadata": {
    "executionInfo": {
     "elapsed": 42680,
     "status": "ok",
     "timestamp": 1607448318347,
     "user": {
      "displayName": "Myrtille Laurent",
      "photoUrl": "https://lh3.googleusercontent.com/a-/AOh14GilIqT9kYfEyLlOR6xsV5GMFxyoqZu54aFKm2afEw=s64",
      "userId": "02978430492940885021"
     },
     "user_tz": -60
    },
    "id": "bfpeJTtHvBTJ"
   },
   "outputs": [],
   "source": [
    "#df2.head()"
   ]
  },
  {
   "cell_type": "markdown",
   "metadata": {
    "id": "pUubcfbk1uw8"
   },
   "source": [
    "# Webscrapping des notes ImDB des 250 mieux notés films et séries\n"
   ]
  },
  {
   "cell_type": "markdown",
   "metadata": {
    "id": "GO74NEDL2Yxl"
   },
   "source": [
    "On crée une fonction qui met dans un data frame les notes des 250 mieux notés sur ImDB (films ou séries)"
   ]
  },
  {
   "cell_type": "code",
   "execution_count": 225,
   "metadata": {
    "executionInfo": {
     "elapsed": 42678,
     "status": "ok",
     "timestamp": 1607448318347,
     "user": {
      "displayName": "Myrtille Laurent",
      "photoUrl": "https://lh3.googleusercontent.com/a-/AOh14GilIqT9kYfEyLlOR6xsV5GMFxyoqZu54aFKm2afEw=s64",
      "userId": "02978430492940885021"
     },
     "user_tz": -60
    },
    "id": "b4QAI7dD1w-n"
   },
   "outputs": [],
   "source": [
    "def recup_notes(url):\n",
    "\n",
    "    \"\"\"On récupère la page internet------------------\"\"\"\n",
    "    from urllib import request\n",
    "    request_text = request.urlopen(url).read()\n",
    "    #print(request_text[:1000]) \n",
    "    page = bs4.BeautifulSoup(request_text, \"lxml\")\n",
    "    #print(type(page))\n",
    "\n",
    "\n",
    "    \"\"\"On récupère les données------------------\"\"\"\n",
    "    tableau=page.find(\"table\",{'class' : 'chart full-width'})\n",
    "    #print(tableau)\n",
    "    table_body=tableau.find('tbody')\n",
    "    rows = table_body.find_all('tr')\n",
    "    #print (rows)\n",
    "\n",
    "\n",
    "    \"\"\"On récupére les élements correspondant au titre et à la note--------------\"\"\"\n",
    "    new_rows=[] #on crée une liste vide dans laquelle on va mettre le contenu des lignes\n",
    "    for row in rows:\n",
    "        cols = row.find_all('td')\n",
    "        #print(type(cols))\n",
    "        new_cols = []\n",
    "        for ele in cols:\n",
    "            new_cols.append([ele.text.strip()])\n",
    "        #print(new_cols)\n",
    "        new_cols=new_cols[1:3]\n",
    "        #new_cols_title=new_cols[0]\n",
    "        new_cols[0]= new_cols[0][0]\n",
    "        new_cols[1]= float(new_cols[1][0])\n",
    "        new_rows.append(new_cols)\n",
    "  #print (new_rows)\n",
    "\n",
    "    \"\"\"On nettoie les élements pour n'avoir que des listes de titres et notes\"\"\"\n",
    "    \"\"\"L'élement correspondant au titre est entouré d'informations parasites, on s'en\n",
    "    débarasse avec 2 regex successives\"\"\"\n",
    "\n",
    "    regex_debut = \"[\\d]?[\\d]?[\\d]\\.[\\n][\\s]{6}\"\n",
    "    regex_fin=\"[\\n]\\([1-2][\\d]{3}\\)\"\n",
    "\n",
    "    clean_rows=copy.copy(new_rows)\n",
    "\n",
    "    for i in range(len(new_rows)):\n",
    "        a_suppr=re.findall(regex_debut,new_rows[i][0])\n",
    "        #print (a_suppr[0])\n",
    "        clean_rows[i][0]=new_rows[i][0].replace(a_suppr[0],\"\")\n",
    "    #print (clean_rows)\n",
    "\n",
    "    really_clean_rows=copy.copy(clean_rows)\n",
    "\n",
    "    for i in range(len(clean_rows)):\n",
    "        a_suppr_fin=re.findall(regex_fin,clean_rows[i][0])\n",
    "        #print (a_suppr_fin[0])\n",
    "        really_clean_rows[i][0]=clean_rows[i][0].replace(a_suppr_fin[0],\"\")\n",
    "    #print (really_clean_rows)\n",
    "\n",
    "    \"\"\"On crée un dictionnaire dans lequel on met le contenu des lignes nettoyées\n",
    "    L'index est le titre, la valeur la note.\"\"\"\n",
    "    dico_top = dict()\n",
    "    for row in really_clean_rows:\n",
    "        cols=row\n",
    "        dico_top[cols[0]] = cols[1:]\n",
    "    dico_top\n",
    "\n",
    "    \"\"\"On crée ENFIN le dataframe\"\"\"\n",
    "    df_top = pd.DataFrame.from_dict(dico_top,orient='index')\n",
    "  \n",
    "\n",
    "    \"\"\"\"On rajoute une index différente du titre\"\"\"\n",
    "    df_top.reset_index(level=0, inplace=True)\n",
    "\n",
    "    \"\"\"On change le nom des colonnes\"\"\"\n",
    "    df_top.rename(columns={'index': 'Title', 0: 'IMDb rating'}, inplace=True)\n",
    "\n",
    "    #print(df_top)\n",
    "    return (df_top)\n"
   ]
  },
  {
   "cell_type": "markdown",
   "metadata": {
    "id": "lF9svNDo2id6"
   },
   "source": [
    "Test sur les 2 urls"
   ]
  },
  {
   "cell_type": "code",
   "execution_count": 51,
   "metadata": {
    "executionInfo": {
     "elapsed": 42677,
     "status": "ok",
     "timestamp": 1607448318348,
     "user": {
      "displayName": "Myrtille Laurent",
      "photoUrl": "https://lh3.googleusercontent.com/a-/AOh14GilIqT9kYfEyLlOR6xsV5GMFxyoqZu54aFKm2afEw=s64",
      "userId": "02978430492940885021"
     },
     "user_tz": -60
    },
    "id": "KlJr1SRwvBTM"
   },
   "outputs": [],
   "source": [
    "url_top_shows = \"https://www.imdb.com/chart/toptv/?ref_=nv_tvv_250\"\n",
    "url_top_movies= \"https://www.imdb.com/chart/top/?ref_=nv_mv_250\""
   ]
  },
  {
   "cell_type": "code",
   "execution_count": 226,
   "metadata": {
    "colab": {
     "base_uri": "https://localhost:8080/",
     "height": 419
    },
    "executionInfo": {
     "elapsed": 43374,
     "status": "ok",
     "timestamp": 1607448319054,
     "user": {
      "displayName": "Myrtille Laurent",
      "photoUrl": "https://lh3.googleusercontent.com/a-/AOh14GilIqT9kYfEyLlOR6xsV5GMFxyoqZu54aFKm2afEw=s64",
      "userId": "02978430492940885021"
     },
     "user_tz": -60
    },
    "id": "eKt64M6821Cl",
    "outputId": "6b7091c8-f23e-4882-baeb-79569b063b53"
   },
   "outputs": [
    {
     "data": {
      "text/html": [
       "<div>\n",
       "<style scoped>\n",
       "    .dataframe tbody tr th:only-of-type {\n",
       "        vertical-align: middle;\n",
       "    }\n",
       "\n",
       "    .dataframe tbody tr th {\n",
       "        vertical-align: top;\n",
       "    }\n",
       "\n",
       "    .dataframe thead th {\n",
       "        text-align: right;\n",
       "    }\n",
       "</style>\n",
       "<table border=\"1\" class=\"dataframe\">\n",
       "  <thead>\n",
       "    <tr style=\"text-align: right;\">\n",
       "      <th></th>\n",
       "      <th>Title</th>\n",
       "      <th>IMDb rating</th>\n",
       "    </tr>\n",
       "  </thead>\n",
       "  <tbody>\n",
       "    <tr>\n",
       "      <th>0</th>\n",
       "      <td>Planet Earth II</td>\n",
       "      <td>9.5</td>\n",
       "    </tr>\n",
       "    <tr>\n",
       "      <th>1</th>\n",
       "      <td>Planète Terre</td>\n",
       "      <td>9.4</td>\n",
       "    </tr>\n",
       "    <tr>\n",
       "      <th>2</th>\n",
       "      <td>Frères d'armes</td>\n",
       "      <td>9.4</td>\n",
       "    </tr>\n",
       "    <tr>\n",
       "      <th>3</th>\n",
       "      <td>Breaking Bad</td>\n",
       "      <td>9.4</td>\n",
       "    </tr>\n",
       "    <tr>\n",
       "      <th>4</th>\n",
       "      <td>Chernobyl</td>\n",
       "      <td>9.4</td>\n",
       "    </tr>\n",
       "    <tr>\n",
       "      <th>...</th>\n",
       "      <td>...</td>\n",
       "      <td>...</td>\n",
       "    </tr>\n",
       "    <tr>\n",
       "      <th>239</th>\n",
       "      <td>Gobelin</td>\n",
       "      <td>8.4</td>\n",
       "    </tr>\n",
       "    <tr>\n",
       "      <th>240</th>\n",
       "      <td>Wentworth</td>\n",
       "      <td>8.4</td>\n",
       "    </tr>\n",
       "    <tr>\n",
       "      <th>241</th>\n",
       "      <td>Vikings</td>\n",
       "      <td>8.4</td>\n",
       "    </tr>\n",
       "    <tr>\n",
       "      <th>242</th>\n",
       "      <td>Unsere Mütter, unsere Väter</td>\n",
       "      <td>8.4</td>\n",
       "    </tr>\n",
       "    <tr>\n",
       "      <th>243</th>\n",
       "      <td>Bose: Dead/Alive</td>\n",
       "      <td>8.4</td>\n",
       "    </tr>\n",
       "  </tbody>\n",
       "</table>\n",
       "<p>244 rows × 2 columns</p>\n",
       "</div>"
      ],
      "text/plain": [
       "                           Title  IMDb rating\n",
       "0                Planet Earth II          9.5\n",
       "1                  Planète Terre          9.4\n",
       "2                 Frères d'armes          9.4\n",
       "3                   Breaking Bad          9.4\n",
       "4                      Chernobyl          9.4\n",
       "..                           ...          ...\n",
       "239                      Gobelin          8.4\n",
       "240                    Wentworth          8.4\n",
       "241                      Vikings          8.4\n",
       "242  Unsere Mütter, unsere Väter          8.4\n",
       "243             Bose: Dead/Alive          8.4\n",
       "\n",
       "[244 rows x 2 columns]"
      ]
     },
     "execution_count": 226,
     "metadata": {},
     "output_type": "execute_result"
    }
   ],
   "source": [
    "df_top_shows=recup_notes(url_top_shows)\n",
    "df_top_shows\n",
    "#problème : on a que 245 valeurs ..."
   ]
  },
  {
   "cell_type": "code",
   "execution_count": 53,
   "metadata": {
    "colab": {
     "base_uri": "https://localhost:8080/",
     "height": 419
    },
    "executionInfo": {
     "elapsed": 44173,
     "status": "ok",
     "timestamp": 1607448319864,
     "user": {
      "displayName": "Myrtille Laurent",
      "photoUrl": "https://lh3.googleusercontent.com/a-/AOh14GilIqT9kYfEyLlOR6xsV5GMFxyoqZu54aFKm2afEw=s64",
      "userId": "02978430492940885021"
     },
     "user_tz": -60
    },
    "id": "3fyIaz-A3Na1",
    "outputId": "5e983e92-a9ed-448e-8f78-747b25ac19f0"
   },
   "outputs": [
    {
     "data": {
      "text/html": [
       "<div>\n",
       "<style scoped>\n",
       "    .dataframe tbody tr th:only-of-type {\n",
       "        vertical-align: middle;\n",
       "    }\n",
       "\n",
       "    .dataframe tbody tr th {\n",
       "        vertical-align: top;\n",
       "    }\n",
       "\n",
       "    .dataframe thead th {\n",
       "        text-align: right;\n",
       "    }\n",
       "</style>\n",
       "<table border=\"1\" class=\"dataframe\">\n",
       "  <thead>\n",
       "    <tr style=\"text-align: right;\">\n",
       "      <th></th>\n",
       "      <th>Title</th>\n",
       "      <th>IMDb rating</th>\n",
       "    </tr>\n",
       "  </thead>\n",
       "  <tbody>\n",
       "    <tr>\n",
       "      <th>0</th>\n",
       "      <td>Les évadés</td>\n",
       "      <td>9.2</td>\n",
       "    </tr>\n",
       "    <tr>\n",
       "      <th>1</th>\n",
       "      <td>Le parrain</td>\n",
       "      <td>9.1</td>\n",
       "    </tr>\n",
       "    <tr>\n",
       "      <th>2</th>\n",
       "      <td>Le parrain, 2ème partie</td>\n",
       "      <td>9.0</td>\n",
       "    </tr>\n",
       "    <tr>\n",
       "      <th>3</th>\n",
       "      <td>The Dark Knight: Le chevalier noir</td>\n",
       "      <td>9.0</td>\n",
       "    </tr>\n",
       "    <tr>\n",
       "      <th>4</th>\n",
       "      <td>12 hommes en colère</td>\n",
       "      <td>8.9</td>\n",
       "    </tr>\n",
       "    <tr>\n",
       "      <th>...</th>\n",
       "      <td>...</td>\n",
       "      <td>...</td>\n",
       "    </tr>\n",
       "    <tr>\n",
       "      <th>244</th>\n",
       "      <td>Princess Bride</td>\n",
       "      <td>8.0</td>\n",
       "    </tr>\n",
       "    <tr>\n",
       "      <th>245</th>\n",
       "      <td>La bataille d'Alger</td>\n",
       "      <td>8.0</td>\n",
       "    </tr>\n",
       "    <tr>\n",
       "      <th>246</th>\n",
       "      <td>Mandarines</td>\n",
       "      <td>8.0</td>\n",
       "    </tr>\n",
       "    <tr>\n",
       "      <th>247</th>\n",
       "      <td>Le cirque</td>\n",
       "      <td>8.0</td>\n",
       "    </tr>\n",
       "    <tr>\n",
       "      <th>248</th>\n",
       "      <td>Terminator</td>\n",
       "      <td>8.0</td>\n",
       "    </tr>\n",
       "  </tbody>\n",
       "</table>\n",
       "<p>249 rows × 2 columns</p>\n",
       "</div>"
      ],
      "text/plain": [
       "                                  Title  IMDb rating\n",
       "0                            Les évadés          9.2\n",
       "1                            Le parrain          9.1\n",
       "2               Le parrain, 2ème partie          9.0\n",
       "3    The Dark Knight: Le chevalier noir          9.0\n",
       "4                   12 hommes en colère          8.9\n",
       "..                                  ...          ...\n",
       "244                      Princess Bride          8.0\n",
       "245                 La bataille d'Alger          8.0\n",
       "246                          Mandarines          8.0\n",
       "247                           Le cirque          8.0\n",
       "248                          Terminator          8.0\n",
       "\n",
       "[249 rows x 2 columns]"
      ]
     },
     "execution_count": 53,
     "metadata": {},
     "output_type": "execute_result"
    }
   ],
   "source": [
    "df_top_movies=recup_notes(url_top_movies)\n",
    "df_top_movies"
   ]
  },
  {
   "cell_type": "markdown",
   "metadata": {
    "id": "4DLXvrjrXscs"
   },
   "source": [
    "# Webscrapping du top 10 netflix journalier"
   ]
  },
  {
   "cell_type": "markdown",
   "metadata": {},
   "source": [
    "#### Fonction qui récupère le dataframe quand on lui donne la date sous forme string \"aaaa/mm/jj\", url est un argument conditionnel."
   ]
  },
  {
   "cell_type": "code",
   "execution_count": 318,
   "metadata": {
    "executionInfo": {
     "elapsed": 548,
     "status": "ok",
     "timestamp": 1607448336670,
     "user": {
      "displayName": "Myrtille Laurent",
      "photoUrl": "https://lh3.googleusercontent.com/a-/AOh14GilIqT9kYfEyLlOR6xsV5GMFxyoqZu54aFKm2afEw=s64",
      "userId": "02978430492940885021"
     },
     "user_tz": -60
    },
    "id": "SpkTwUrj2GJV"
   },
   "outputs": [],
   "source": [
    "def recup_top_netflix_gen(date,url=\"https://www.the-numbers.com/home-market/netflix-daily-chart/\"):\n",
    "    \n",
    "    url_enrichi = url+date\n",
    "    from urllib.request import Request, urlopen\n",
    "    req_text = urlopen(Request(url_enrichi, headers={'User-Agent': 'Mozilla/5.0'})).read()\n",
    "    page = bs4.BeautifulSoup(req_text, \"lxml\")\n",
    "    #print (page)\n",
    "\n",
    "    \"\"\"On récupère les données------------------\"\"\"\n",
    "    #tableau=page.find(\"table\",{'class' : 'chart full-width'})\n",
    "    tableau=page.find(\"div\",{'id':'page_filling_chart'})\n",
    "    #print(tableau)\n",
    "    #table_body=tableau.find('tbody')\n",
    "    #print(table_body)\n",
    "    rows = tableau.find_all('tr')\n",
    "    #print (rows)\n",
    "\n",
    "  \n",
    "    \"\"\"On récupére tous les élements correspondant au titre et à la note et On crée un dictionnaire dans lequel on met le contenu des lignes nettoyées\n",
    "    L'index est le titre, la valeur la note.\n",
    "    --------------\"\"\"\n",
    "    new_rows=[]#on crée une liste vide dans laquelle on va mettre le contenu des lignes\n",
    "    new_cols = 10*[[]]\n",
    "    dico_top_netflix = dict()\n",
    "    i = 0\n",
    "    for row in rows:\n",
    "        cols = row.find_all('td') # c'est une liste\n",
    "        cols = [ele.text.strip() for ele in cols]\n",
    "        #print (cols)\n",
    "        if len(cols)> 0:\n",
    "            dico_top_netflix[cols[0]] = cols[1:]\n",
    "    #print(dico_top_netflix)    \n",
    "\n",
    "    \"\"\"\"\"\"\n",
    "\n",
    "    \"\"\"On crée ENFIN le dataframe\"\"\"\n",
    "    df_top_netflix_gen = pd.DataFrame.from_dict(dico_top_netflix,orient='index')\n",
    "\n",
    "    \"\"\"On rajoute une index différente du titre\"\"\"\n",
    "    for row in rows:\n",
    "        cols = row.find_all('th')\n",
    "        #print(cols)\n",
    "        if len(cols) > 0 : \n",
    "            cols = [ele.get_text(separator=' ').strip().title() for ele in cols]\n",
    "            columns_title = cols\n",
    "    #print (columns_title)\n",
    "    \n",
    "\n",
    "    \"\"\"On change le nom des colonnes\"\"\"\n",
    "    df_top_netflix_gen.columns=columns_title[1:]\n",
    "    \n",
    "    \"\"\"On vire les colonnes qui ne nous intéresse pas\"\"\"\n",
    "    del(df_top_netflix_gen['Yd'])\n",
    "    del(df_top_netflix_gen['Lw'])\n",
    "    del(df_top_netflix_gen['Watch Now'])\n",
    "    \n",
    "    #print (\"Graph au \"+ date)\n",
    "    return (df_top_netflix_gen)"
   ]
  },
  {
   "cell_type": "code",
   "execution_count": 322,
   "metadata": {},
   "outputs": [
    {
     "data": {
      "text/html": [
       "<div>\n",
       "<style scoped>\n",
       "    .dataframe tbody tr th:only-of-type {\n",
       "        vertical-align: middle;\n",
       "    }\n",
       "\n",
       "    .dataframe tbody tr th {\n",
       "        vertical-align: top;\n",
       "    }\n",
       "\n",
       "    .dataframe thead th {\n",
       "        text-align: right;\n",
       "    }\n",
       "</style>\n",
       "<table border=\"1\" class=\"dataframe\">\n",
       "  <thead>\n",
       "    <tr style=\"text-align: right;\">\n",
       "      <th></th>\n",
       "      <th>Title</th>\n",
       "      <th>Type</th>\n",
       "      <th>Netflix Excl.</th>\n",
       "      <th>Netflix Release Date</th>\n",
       "      <th>Days In Top 10</th>\n",
       "      <th>Viewer- Ship Score</th>\n",
       "    </tr>\n",
       "  </thead>\n",
       "  <tbody>\n",
       "    <tr>\n",
       "      <th>1</th>\n",
       "      <td>Outer Banks</td>\n",
       "      <td>TV Show</td>\n",
       "      <td>Yes</td>\n",
       "      <td>Apr 15, 2020</td>\n",
       "      <td>16</td>\n",
       "      <td>134</td>\n",
       "    </tr>\n",
       "    <tr>\n",
       "      <th>2</th>\n",
       "      <td>Dangerous Lies</td>\n",
       "      <td>Movie</td>\n",
       "      <td>Yes</td>\n",
       "      <td>Apr 30, 2020</td>\n",
       "      <td>5</td>\n",
       "      <td>48</td>\n",
       "    </tr>\n",
       "    <tr>\n",
       "      <th>3</th>\n",
       "      <td>Hollywood</td>\n",
       "      <td>TV Show</td>\n",
       "      <td>Yes</td>\n",
       "      <td>May 1, 2020</td>\n",
       "      <td>3</td>\n",
       "      <td>21</td>\n",
       "    </tr>\n",
       "    <tr>\n",
       "      <th>4</th>\n",
       "      <td>Never Have I Ever</td>\n",
       "      <td>TV Show</td>\n",
       "      <td>Yes</td>\n",
       "      <td>Apr 27, 2020</td>\n",
       "      <td>8</td>\n",
       "      <td>65</td>\n",
       "    </tr>\n",
       "    <tr>\n",
       "      <th>5</th>\n",
       "      <td>All Day and a Night</td>\n",
       "      <td>Movie</td>\n",
       "      <td>Yes</td>\n",
       "      <td>May 1, 2020</td>\n",
       "      <td>4</td>\n",
       "      <td>22</td>\n",
       "    </tr>\n",
       "    <tr>\n",
       "      <th>6</th>\n",
       "      <td>Den of Thieves</td>\n",
       "      <td>Movie</td>\n",
       "      <td></td>\n",
       "      <td></td>\n",
       "      <td>3</td>\n",
       "      <td>13</td>\n",
       "    </tr>\n",
       "    <tr>\n",
       "      <th>7</th>\n",
       "      <td>Extraction</td>\n",
       "      <td>Movie</td>\n",
       "      <td>Yes</td>\n",
       "      <td>Apr 24, 2020</td>\n",
       "      <td>9</td>\n",
       "      <td>69</td>\n",
       "    </tr>\n",
       "    <tr>\n",
       "      <th>8</th>\n",
       "      <td>Arctic Dogs</td>\n",
       "      <td>Movie</td>\n",
       "      <td></td>\n",
       "      <td></td>\n",
       "      <td>1</td>\n",
       "      <td>3</td>\n",
       "    </tr>\n",
       "    <tr>\n",
       "      <th>9</th>\n",
       "      <td>The Last Kingdom</td>\n",
       "      <td>TV Show</td>\n",
       "      <td>Yes</td>\n",
       "      <td></td>\n",
       "      <td>9</td>\n",
       "      <td>41</td>\n",
       "    </tr>\n",
       "    <tr>\n",
       "      <th>10</th>\n",
       "      <td>Murder to Mercy: The Cyntoi…</td>\n",
       "      <td>Movie</td>\n",
       "      <td>Yes</td>\n",
       "      <td>Apr 29, 2020</td>\n",
       "      <td>6</td>\n",
       "      <td>25</td>\n",
       "    </tr>\n",
       "  </tbody>\n",
       "</table>\n",
       "</div>"
      ],
      "text/plain": [
       "                           Title     Type Netflix Excl. Netflix Release Date  \\\n",
       "1                    Outer Banks  TV Show           Yes         Apr 15, 2020   \n",
       "2                 Dangerous Lies    Movie           Yes         Apr 30, 2020   \n",
       "3                      Hollywood  TV Show           Yes          May 1, 2020   \n",
       "4              Never Have I Ever  TV Show           Yes         Apr 27, 2020   \n",
       "5            All Day and a Night    Movie           Yes          May 1, 2020   \n",
       "6                 Den of Thieves    Movie                                      \n",
       "7                     Extraction    Movie           Yes         Apr 24, 2020   \n",
       "8                    Arctic Dogs    Movie                                      \n",
       "9               The Last Kingdom  TV Show           Yes                        \n",
       "10  Murder to Mercy: The Cyntoi…    Movie           Yes         Apr 29, 2020   \n",
       "\n",
       "   Days In Top 10 Viewer- Ship Score  \n",
       "1              16                134  \n",
       "2               5                 48  \n",
       "3               3                 21  \n",
       "4               8                 65  \n",
       "5               4                 22  \n",
       "6               3                 13  \n",
       "7               9                 69  \n",
       "8               1                  3  \n",
       "9               9                 41  \n",
       "10              6                 25  "
      ]
     },
     "execution_count": 322,
     "metadata": {},
     "output_type": "execute_result"
    }
   ],
   "source": [
    "df=recup_top_netflix_gen(\"2020/05/05\")\n",
    "df"
   ]
  },
  {
   "cell_type": "markdown",
   "metadata": {
    "id": "N73WU_zKTv4t"
   },
   "source": [
    "# Travail sur les genres"
   ]
  },
  {
   "cell_type": "markdown",
   "metadata": {
    "id": "b-7vGI5P0tfo"
   },
   "source": [
    "#### des essais peu efficaces mais que je garde au cas ou"
   ]
  },
  {
   "cell_type": "code",
   "execution_count": null,
   "metadata": {
    "colab": {
     "base_uri": "https://localhost:8080/",
     "height": 55
    },
    "executionInfo": {
     "elapsed": 505,
     "status": "ok",
     "timestamp": 1607421902357,
     "user": {
      "displayName": "Léopold Charvillat",
      "photoUrl": "",
      "userId": "07767099832968603437"
     },
     "user_tz": -60
    },
    "id": "ohOvwIWdGwtL",
    "outputId": "595b6780-4c8e-4eec-d742-4316a5bbf18f"
   },
   "outputs": [],
   "source": [
    "\"\"\"def clean(regex,contenu):\n",
    "  sup=re.findall(regex,contenu)\n",
    "  for i in range(len(sup)):\n",
    "    print(i)\n",
    "    contenu_clean=contenu.replace(sup[i],\"\")\n",
    "    print(contenu_clean)\n",
    "  return (contenu_clean)\"\"\""
   ]
  },
  {
   "cell_type": "code",
   "execution_count": null,
   "metadata": {
    "colab": {
     "base_uri": "https://localhost:8080/",
     "height": 55
    },
    "executionInfo": {
     "elapsed": 772,
     "status": "ok",
     "timestamp": 1607421903801,
     "user": {
      "displayName": "Léopold Charvillat",
      "photoUrl": "",
      "userId": "07767099832968603437"
     },
     "user_tz": -60
    },
    "id": "SA58NvZ8HWtV",
    "outputId": "28134075-8cca-4553-f76d-37d2705e86b4"
   },
   "outputs": [],
   "source": [
    "\"\"\"def clean_virg_esp(contenu):\n",
    "  contenu_conca=clean(\"[\\s]\",contenu)\n",
    "  contenu_conca=clean(\",\",contenu_conca)\n",
    "  return (contenu_conca)\"\"\""
   ]
  },
  {
   "cell_type": "markdown",
   "metadata": {
    "id": "K0NAx1d5Gu8y"
   },
   "source": [
    "On crée une fonction de nettoyage générique."
   ]
  },
  {
   "cell_type": "code",
   "execution_count": null,
   "metadata": {
    "id": "cmKrrq5GPhuT"
   },
   "outputs": [],
   "source": [
    "def clean(regex,contenu):\n",
    "  sup=re.findall(regex,contenu)\n",
    "  #print(sup)\n",
    "  while len(sup)>0:\n",
    "    contenu_clean=contenu.replace(sup[0],\"\")\n",
    "    return (contenu_clean)\n",
    "  else:\n",
    "    return(contenu)"
   ]
  },
  {
   "cell_type": "markdown",
   "metadata": {
    "id": "2NxjwGJCGgdO"
   },
   "source": [
    "On crée une fonction qui vire tous les esapces et virgules dans 'listed_in', revient à concaténer le contenu de chaque cellule (pour simplifier la regex ensuite)."
   ]
  },
  {
   "cell_type": "code",
   "execution_count": null,
   "metadata": {
    "id": "7fqyDA5EPtQ_"
   },
   "outputs": [],
   "source": [
    "def clean_virg_esp(contenu):\n",
    "  contenu_conca=clean(\"[\\s]\",contenu)\n",
    "  #print(contenu_conca)\n",
    "  contenu_conca=clean(\",\",contenu_conca)\n",
    "  #print(contenu_conca)\n",
    "  return (contenu_conca)"
   ]
  },
  {
   "cell_type": "markdown",
   "metadata": {
    "id": "-EcISlJVUfmo"
   },
   "source": [
    "On l'applique aux deux bases"
   ]
  },
  {
   "cell_type": "code",
   "execution_count": null,
   "metadata": {
    "id": "4QBVFzBrIEOi"
   },
   "outputs": [],
   "source": [
    "#df_tvshow['listed_in']=df_tvshow['listed_in'].apply(clean_virg_esp)\n",
    "#df_tvshow.head()"
   ]
  },
  {
   "cell_type": "code",
   "execution_count": null,
   "metadata": {
    "id": "nmABdo6JUl2M"
   },
   "outputs": [],
   "source": [
    "#df_movie['listed_in']=df_movie['listed_in'].apply(clean_virg_esp)\n",
    "#df_movie.head()"
   ]
  },
  {
   "cell_type": "code",
   "execution_count": null,
   "metadata": {
    "colab": {
     "base_uri": "https://localhost:8080/",
     "height": 36
    },
    "executionInfo": {
     "elapsed": 629,
     "status": "ok",
     "timestamp": 1607421911080,
     "user": {
      "displayName": "Léopold Charvillat",
      "photoUrl": "",
      "userId": "07767099832968603437"
     },
     "user_tz": -60
    },
    "id": "5kNri5noC1bC",
    "outputId": "8c84bc8d-df63-4fb1-f723-ca326c4819db"
   },
   "outputs": [],
   "source": [
    "regex"
   ]
  },
  {
   "cell_type": "code",
   "execution_count": null,
   "metadata": {
    "colab": {
     "base_uri": "https://localhost:8080/",
     "height": 206
    },
    "executionInfo": {
     "elapsed": 314,
     "status": "ok",
     "timestamp": 1607421911347,
     "user": {
      "displayName": "Léopold Charvillat",
      "photoUrl": "",
      "userId": "07767099832968603437"
     },
     "user_tz": -60
    },
    "id": "pndAWnaMAgl3",
    "outputId": "21ff8cae-3b99-4da6-a122-a104dc6d7431"
   },
   "outputs": [],
   "source": [
    "#print(essai)\n",
    "essai = pd.DataFrame({'title': [\"Avatar, la vie\", \"Chernobyl , histoire\", \"ta mere\", \"pourquoi Avatar\",\"avata,r\"], 'note': [2, 10, 9,8,5]})\n",
    "\n",
    "essai['title']=essai['title'].apply(clean_virg_esp)\n",
    "essai"
   ]
  },
  {
   "cell_type": "markdown",
   "metadata": {
    "id": "gnm3djHG01gb"
   },
   "source": [
    "## la version élégante"
   ]
  },
  {
   "cell_type": "code",
   "execution_count": null,
   "metadata": {
    "colab": {
     "base_uri": "https://localhost:8080/",
     "height": 423
    },
    "executionInfo": {
     "elapsed": 466,
     "status": "ok",
     "timestamp": 1607421913535,
     "user": {
      "displayName": "Léopold Charvillat",
      "photoUrl": "",
      "userId": "07767099832968603437"
     },
     "user_tz": -60
    },
    "id": "FGiUoLsmin5d",
    "outputId": "ad89e710-0ea0-4aa5-b1b5-8355f286adc5"
   },
   "outputs": [],
   "source": [
    "#le fait que les types se combinent demande d'être moins bourrin\n",
    "col = \"listed_in\"\n",
    "grouped = df[col].value_counts().reset_index()\n",
    "grouped"
   ]
  },
  {
   "cell_type": "code",
   "execution_count": null,
   "metadata": {
    "colab": {
     "base_uri": "https://localhost:8080/"
    },
    "executionInfo": {
     "elapsed": 304,
     "status": "ok",
     "timestamp": 1607421914328,
     "user": {
      "displayName": "Léopold Charvillat",
      "photoUrl": "",
      "userId": "07767099832968603437"
     },
     "user_tz": -60
    },
    "id": "wPZI6DLPo17x",
    "outputId": "7743801a-664f-44c7-9009-6d399b9f0a5a"
   },
   "outputs": [],
   "source": [
    "liste2=[\"a\", \"ab\", 5]\n",
    "print (liste2)\n",
    "liste2=liste2\n",
    "print (liste2)"
   ]
  },
  {
   "cell_type": "code",
   "execution_count": null,
   "metadata": {
    "id": "2piRSlnFooFS"
   },
   "outputs": [],
   "source": []
  },
  {
   "cell_type": "markdown",
   "metadata": {
    "id": "EVVfTFGd1LGg"
   },
   "source": [
    "### count_genra(data_f)\n",
    "fonction qui retourne un graph bar du nombre de titres (fils ou séries) classés dans chacun des x genres les plus populaires.\n",
    "\n",
    "nombre : combien de genres on retient (max 22 pour les TV shows, 20 pour les films)\n",
    "\n",
    "date : permet de changer la date dans le titre\n",
    "\n",
    "internat: si différent de 1 omet le genre International (qui veut dire non-Américain)"
   ]
  },
  {
   "cell_type": "code",
   "execution_count": 324,
   "metadata": {
    "id": "ZfxMZkEPwb6u"
   },
   "outputs": [],
   "source": [
    "def count_genra (data_f,nombre=22,internat=1,date=\"Netflix\"):\n",
    "  #on récupère les catégories\n",
    "  col = \"listed_in\"\n",
    "  categories = \", \".join(data_f['listed_in']).split(\", \")\n",
    "  #print (categories)\n",
    "\n",
    "  if internat != 1:\n",
    "    while \"International TV Shows\" in categories:\n",
    "      categories.remove(\"International TV Shows\")\n",
    "    while 'International Movies' in categories:\n",
    "      categories.remove('International Movies')\n",
    "\n",
    "  #print(categories)\n",
    "\n",
    "  #On compte le nombre d'occurences de chaque type et on garde les 50 qui apparaissent le plus souvent\n",
    "  counter_list = co.Counter(categories).most_common(nombre)\n",
    "  #print (type(counter_list_all))\n",
    "\n",
    "  #On conserve le premier élément de chaque couple de counter_list (ie. sur le genre) et on inverse l'ordre de la liste\n",
    "  labels = [_[0] for _ in counter_list][::-1]\n",
    "  #print (labels)\n",
    "\n",
    "  #Idem pour le nombre d'occurrences\n",
    "  values = [_[1] for _ in counter_list][::-1]\n",
    "\n",
    "  trace1 = go.Bar(y=labels, x=values, orientation=\"h\", name=\"TV Shows\", marker=dict(color=\"#a678de\"))\n",
    "\n",
    "  data = [trace1]\n",
    "  layout = go.Layout(title=\"Content added on \"+str(date), legend=dict(x=0.1, y=1.1, orientation=\"h\"))\n",
    "  fig = go.Figure(data, layout=layout)\n",
    "  fig.show()\n",
    "\n",
    "  return(trace1)"
   ]
  },
  {
   "cell_type": "markdown",
   "metadata": {
    "id": "ETWBpsT01bO2"
   },
   "source": [
    "Appliqué à la base df_tvshow"
   ]
  },
  {
   "cell_type": "code",
   "execution_count": 325,
   "metadata": {
    "colab": {
     "base_uri": "https://localhost:8080/",
     "height": 785
    },
    "executionInfo": {
     "elapsed": 1663,
     "status": "ok",
     "timestamp": 1607421918400,
     "user": {
      "displayName": "Léopold Charvillat",
      "photoUrl": "",
      "userId": "07767099832968603437"
     },
     "user_tz": -60
    },
    "id": "Ufhl3PjC0YbB",
    "outputId": "630b0c40-7515-46b6-ed4a-e53fc6fe30c4"
   },
   "outputs": [
    {
     "ename": "NameError",
     "evalue": "name 'go' is not defined",
     "output_type": "error",
     "traceback": [
      "\u001b[1;31m---------------------------------------------------------------------------\u001b[0m",
      "\u001b[1;31mNameError\u001b[0m                                 Traceback (most recent call last)",
      "\u001b[1;32m<ipython-input-325-901a996d6be8>\u001b[0m in \u001b[0;36m<module>\u001b[1;34m\u001b[0m\n\u001b[1;32m----> 1\u001b[1;33m \u001b[0mcount_genra\u001b[0m\u001b[1;33m(\u001b[0m\u001b[0mdf_tvshow\u001b[0m\u001b[1;33m)\u001b[0m\u001b[1;33m\u001b[0m\u001b[1;33m\u001b[0m\u001b[0m\n\u001b[0m",
      "\u001b[1;32m<ipython-input-324-018a23a3928f>\u001b[0m in \u001b[0;36mcount_genra\u001b[1;34m(data_f, nombre, internat, date)\u001b[0m\n\u001b[0;32m     24\u001b[0m   \u001b[0mvalues\u001b[0m \u001b[1;33m=\u001b[0m \u001b[1;33m[\u001b[0m\u001b[0m_\u001b[0m\u001b[1;33m[\u001b[0m\u001b[1;36m1\u001b[0m\u001b[1;33m]\u001b[0m \u001b[1;32mfor\u001b[0m \u001b[0m_\u001b[0m \u001b[1;32min\u001b[0m \u001b[0mcounter_list\u001b[0m\u001b[1;33m]\u001b[0m\u001b[1;33m[\u001b[0m\u001b[1;33m:\u001b[0m\u001b[1;33m:\u001b[0m\u001b[1;33m-\u001b[0m\u001b[1;36m1\u001b[0m\u001b[1;33m]\u001b[0m\u001b[1;33m\u001b[0m\u001b[1;33m\u001b[0m\u001b[0m\n\u001b[0;32m     25\u001b[0m \u001b[1;33m\u001b[0m\u001b[0m\n\u001b[1;32m---> 26\u001b[1;33m   \u001b[0mtrace1\u001b[0m \u001b[1;33m=\u001b[0m \u001b[0mgo\u001b[0m\u001b[1;33m.\u001b[0m\u001b[0mBar\u001b[0m\u001b[1;33m(\u001b[0m\u001b[0my\u001b[0m\u001b[1;33m=\u001b[0m\u001b[0mlabels\u001b[0m\u001b[1;33m,\u001b[0m \u001b[0mx\u001b[0m\u001b[1;33m=\u001b[0m\u001b[0mvalues\u001b[0m\u001b[1;33m,\u001b[0m \u001b[0morientation\u001b[0m\u001b[1;33m=\u001b[0m\u001b[1;34m\"h\"\u001b[0m\u001b[1;33m,\u001b[0m \u001b[0mname\u001b[0m\u001b[1;33m=\u001b[0m\u001b[1;34m\"TV Shows\"\u001b[0m\u001b[1;33m,\u001b[0m \u001b[0mmarker\u001b[0m\u001b[1;33m=\u001b[0m\u001b[0mdict\u001b[0m\u001b[1;33m(\u001b[0m\u001b[0mcolor\u001b[0m\u001b[1;33m=\u001b[0m\u001b[1;34m\"#a678de\"\u001b[0m\u001b[1;33m)\u001b[0m\u001b[1;33m)\u001b[0m\u001b[1;33m\u001b[0m\u001b[1;33m\u001b[0m\u001b[0m\n\u001b[0m\u001b[0;32m     27\u001b[0m \u001b[1;33m\u001b[0m\u001b[0m\n\u001b[0;32m     28\u001b[0m   \u001b[0mdata\u001b[0m \u001b[1;33m=\u001b[0m \u001b[1;33m[\u001b[0m\u001b[0mtrace1\u001b[0m\u001b[1;33m]\u001b[0m\u001b[1;33m\u001b[0m\u001b[1;33m\u001b[0m\u001b[0m\n",
      "\u001b[1;31mNameError\u001b[0m: name 'go' is not defined"
     ]
    }
   ],
   "source": [
    "count_genra(df_tvshow)"
   ]
  },
  {
   "cell_type": "markdown",
   "metadata": {
    "id": "3MgI98KJ1gbq"
   },
   "source": [
    "Appliqué à la base df_movie"
   ]
  },
  {
   "cell_type": "code",
   "execution_count": null,
   "metadata": {
    "colab": {
     "base_uri": "https://localhost:8080/",
     "height": 766
    },
    "executionInfo": {
     "elapsed": 644,
     "status": "ok",
     "timestamp": 1607421920395,
     "user": {
      "displayName": "Léopold Charvillat",
      "photoUrl": "",
      "userId": "07767099832968603437"
     },
     "user_tz": -60
    },
    "id": "Qag4tCEK1fzE",
    "outputId": "c14c1d2d-3a0b-4dee-f14a-ce9acc7b83f1"
   },
   "outputs": [],
   "source": [
    "count_genra(df_movie)"
   ]
  },
  {
   "cell_type": "markdown",
   "metadata": {
    "id": "9zjksCha10WW"
   },
   "source": [
    "### les genres dans le temps\n",
    "Comme les séries sont enregistrées en tant que leur dernière saison sortie, l'analyse n'est probabelement pas pertinente.\n",
    "\n",
    "A la limite on peut considérer que les séries qui ne sont pas arriver en 2020 sont celles qui n'ont pas eu de succès ?\n",
    "\n",
    "A terme se focaliser sur les films."
   ]
  },
  {
   "cell_type": "code",
   "execution_count": null,
   "metadata": {
    "colab": {
     "base_uri": "https://localhost:8080/",
     "height": 211
    },
    "executionInfo": {
     "elapsed": 445,
     "status": "error",
     "timestamp": 1607421922392,
     "user": {
      "displayName": "Léopold Charvillat",
      "photoUrl": "",
      "userId": "07767099832968603437"
     },
     "user_tz": -60
    },
    "id": "MAg1ifBE7xcu",
    "outputId": "4332017f-f4c7-489a-872f-954727d3c678"
   },
   "outputs": [],
   "source": [
    "a_1=4\n",
    "a_2=7\n",
    "a_3=3 \n",
    "a_4 = 9\n",
    "liste= [a_1,a_2,a_3,a_4]\n",
    "listes=[]\n",
    "for i in range(1,5):\n",
    "  listes.append()"
   ]
  },
  {
   "cell_type": "code",
   "execution_count": null,
   "metadata": {
    "colab": {
     "base_uri": "https://localhost:8080/",
     "height": 597
    },
    "executionInfo": {
     "elapsed": 483,
     "status": "ok",
     "timestamp": 1607421923333,
     "user": {
      "displayName": "Léopold Charvillat",
      "photoUrl": "",
      "userId": "07767099832968603437"
     },
     "user_tz": -60
    },
    "id": "lMxo3NFn564G",
    "outputId": "f46e1ae8-85f3-40c0-a944-541746561a64"
   },
   "outputs": [],
   "source": [
    "df_tvshow.sort_values(\"year_added\")\n",
    "#valeurs en 2008 puis 2012-2020"
   ]
  },
  {
   "cell_type": "code",
   "execution_count": null,
   "metadata": {
    "id": "hqqdJz_z6NXm"
   },
   "outputs": [],
   "source": [
    "df_tvshow_2008 = df_tvshow[df_tvshow['year_added'].isin([2008])]\n",
    "df_tvshow_2009 = df_tvshow[df_tvshow['year_added'].isin([2009])]\n",
    "df_tvshow_2010 = df_tvshow[df_tvshow['year_added'].isin([2010])]\n",
    "df_tvshow_2011 = df_tvshow[df_tvshow['year_added'].isin([2011])]\n",
    "df_tvshow_2012 = df_tvshow[df_tvshow['year_added'].isin([2012])]\n",
    "df_tvshow_2013 = df_tvshow[df_tvshow['year_added'].isin([2013])]\n",
    "df_tvshow_2014 = df_tvshow[df_tvshow['year_added'].isin([2014])]\n",
    "df_tvshow_2015 = df_tvshow[df_tvshow['year_added'].isin([2015])]\n",
    "df_tvshow_2016 = df_tvshow[df_tvshow['year_added'].isin([2016])]\n",
    "df_tvshow_2017 = df_tvshow[df_tvshow['year_added'].isin([2017])]\n",
    "df_tvshow_2018 = df_tvshow[df_tvshow['year_added'].isin([2018])]\n",
    "df_tvshow_2019 = df_tvshow[df_tvshow['year_added'].isin([2019])]\n",
    "df_tvshow_2020 = df_tvshow[df_tvshow['year_added'].isin([2020])]\n"
   ]
  },
  {
   "cell_type": "code",
   "execution_count": null,
   "metadata": {
    "colab": {
     "base_uri": "https://localhost:8080/",
     "height": 1000
    },
    "executionInfo": {
     "elapsed": 2407,
     "status": "ok",
     "timestamp": 1607421927634,
     "user": {
      "displayName": "Léopold Charvillat",
      "photoUrl": "",
      "userId": "07767099832968603437"
     },
     "user_tz": -60
    },
    "id": "lQ0mRm9c81J-",
    "outputId": "c74328b5-043d-48d0-dec3-c442e1af1079"
   },
   "outputs": [],
   "source": [
    "Liste=[df_tvshow_2012,df_tvshow_2013,df_tvshow_2014,df_tvshow_2015,df_tvshow_2016,df_tvshow_2017,df_tvshow_2018,df_tvshow_2019,df_tvshow_2020]\n",
    "d = 2011\n",
    "for i in Liste:\n",
    "  d+=1\n",
    "  count_genra(i,22,1,d)"
   ]
  },
  {
   "cell_type": "code",
   "execution_count": null,
   "metadata": {
    "colab": {
     "base_uri": "https://localhost:8080/",
     "height": 649
    },
    "executionInfo": {
     "elapsed": 557,
     "status": "ok",
     "timestamp": 1607421971368,
     "user": {
      "displayName": "Léopold Charvillat",
      "photoUrl": "",
      "userId": "07767099832968603437"
     },
     "user_tz": -60
    },
    "id": "eotkimIS4-4U",
    "outputId": "3a8c1814-ce0e-4cf3-e449-c3ef81930dd3"
   },
   "outputs": [],
   "source": [
    "df_movie.sort_values(\"year_added\")\n",
    "#2008-2020"
   ]
  },
  {
   "cell_type": "code",
   "execution_count": null,
   "metadata": {
    "id": "4kPp2q4I0ATp"
   },
   "outputs": [],
   "source": [
    "df_movie_2008 = df_movie[df_movie['year_added'].isin([2008])]\n",
    "df_movie_2009 = df_movie[df_movie['year_added'].isin([2009])]\n",
    "df_movie_2010 = df_movie[df_movie['year_added'].isin([2010])]\n",
    "df_movie_2011 = df_movie[df_movie['year_added'].isin([2011])]\n",
    "df_movie_2012 = df_movie[df_movie['year_added'].isin([2012])]\n",
    "df_movie_2013 = df_movie[df_movie['year_added'].isin([2013])]\n",
    "df_movie_2014 = df_movie[df_movie['year_added'].isin([2014])]\n",
    "df_movie_2015 = df_movie[df_movie['year_added'].isin([2015])]\n",
    "df_movie_2016 = df_movie[df_movie['year_added'].isin([2016])]\n",
    "df_movie_2017 = df_movie[df_movie['year_added'].isin([2017])]\n",
    "df_movie_2018 = df_movie[df_movie['year_added'].isin([2018])]\n",
    "df_movie_2019 = df_movie[df_movie['year_added'].isin([2019])]\n",
    "df_movie_2020 = df_movie[df_movie['year_added'].isin([2020])]"
   ]
  },
  {
   "cell_type": "code",
   "execution_count": null,
   "metadata": {
    "colab": {
     "base_uri": "https://localhost:8080/",
     "height": 1000
    },
    "executionInfo": {
     "elapsed": 3560,
     "status": "ok",
     "timestamp": 1607421975985,
     "user": {
      "displayName": "Léopold Charvillat",
      "photoUrl": "",
      "userId": "07767099832968603437"
     },
     "user_tz": -60
    },
    "id": "iqe6DENxw9xt",
    "outputId": "7d18c739-1253-4e79-ab22-f2352c9b3b9a"
   },
   "outputs": [],
   "source": [
    "Liste = [df_movie_2008,df_movie_2009,df_movie_2010,df_movie_2011,df_movie_2012,df_movie_2013,df_movie_2014,df_movie_2015,df_movie_2016,df_movie_2017,df_movie_2018,df_movie_2019,df_movie_2020]\n",
    "d=2007\n",
    "for i in Liste:\n",
    "  d+=1\n",
    "  count_genra(i,22,0,d)"
   ]
  }
 ],
 "metadata": {
  "colab": {
   "collapsed_sections": [],
   "name": "Projet.ipynb",
   "provenance": [
    {
     "file_id": "1y4vOEUdmFlrVemWFMBr2ltAvw-VLV3HS",
     "timestamp": 1604736444068
    }
   ],
   "toc_visible": true
  },
  "kernelspec": {
   "display_name": "Python 3",
   "language": "python",
   "name": "python3"
  },
  "language_info": {
   "codemirror_mode": {
    "name": "ipython",
    "version": 3
   },
   "file_extension": ".py",
   "mimetype": "text/x-python",
   "name": "python",
   "nbconvert_exporter": "python",
   "pygments_lexer": "ipython3",
   "version": "3.7.6"
  }
 },
 "nbformat": 4,
 "nbformat_minor": 1
}
