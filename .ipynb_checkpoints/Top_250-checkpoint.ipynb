{
 "cells": [
  {
   "cell_type": "markdown",
   "metadata": {
    "id": "bTB77grksmc4"
   },
   "source": [
    "# Importation des Package"
   ]
  },
  {
   "cell_type": "code",
   "execution_count": 3,
   "metadata": {
    "executionInfo": {
     "elapsed": 2182,
     "status": "ok",
     "timestamp": 1607448277690,
     "user": {
      "displayName": "Myrtille Laurent",
      "photoUrl": "https://lh3.googleusercontent.com/a-/AOh14GilIqT9kYfEyLlOR6xsV5GMFxyoqZu54aFKm2afEw=s64",
      "userId": "02978430492940885021"
     },
     "user_tz": -60
    },
    "id": "EwDKSSvKvBRp"
   },
   "outputs": [],
   "source": [
    "import numpy as np\n",
    "import pandas as pd\n",
    "import matplotlib.pyplot as plt\n",
    "import urllib\n",
    "import bs4\n",
    "import re\n",
    "import copy\n",
    "import collections as co\n",
    "import plotly\n",
    "import plotly.graph_objects as go\n",
    "import matplotlib.pyplot as plt\n",
    "import numpy as np\n"
   ]
  },
  {
   "cell_type": "markdown",
   "metadata": {
    "id": "pUubcfbk1uw8"
   },
   "source": [
    "# Webscrapping des notes ImDB des 250 mieux notés films et séries\n"
   ]
  },
  {
   "cell_type": "markdown",
   "metadata": {
    "id": "GO74NEDL2Yxl"
   },
   "source": [
    "On crée une fonction qui met dans un data frame les notes des 250 mieux notés sur ImDB (films ou séries)"
   ]
  },
  {
   "cell_type": "code",
   "execution_count": 5,
   "metadata": {
    "executionInfo": {
     "elapsed": 42678,
     "status": "ok",
     "timestamp": 1607448318347,
     "user": {
      "displayName": "Myrtille Laurent",
      "photoUrl": "https://lh3.googleusercontent.com/a-/AOh14GilIqT9kYfEyLlOR6xsV5GMFxyoqZu54aFKm2afEw=s64",
      "userId": "02978430492940885021"
     },
     "user_tz": -60
    },
    "id": "b4QAI7dD1w-n"
   },
   "outputs": [],
   "source": [
    "def recup_notes(url):\n",
    "\n",
    "    \"\"\"On récupère la page internet------------------\"\"\"\n",
    "    from urllib import request\n",
    "    request_text = request.urlopen(url).read()\n",
    "    #print(request_text[:1000]) \n",
    "    page = bs4.BeautifulSoup(request_text, \"lxml\")\n",
    "    #print(type(page))\n",
    "\n",
    "\n",
    "    \"\"\"On récupère les données------------------\"\"\"\n",
    "    tableau=page.find(\"table\",{'class' : 'chart full-width'})\n",
    "    #print(tableau)\n",
    "    table_body=tableau.find('tbody')\n",
    "    rows = table_body.find_all('tr')\n",
    "    #print (rows)\n",
    "\n",
    "\n",
    "    \"\"\"On récupére les élements correspondant au titre et à la note--------------\"\"\"\n",
    "    new_rows=[] #on crée une liste vide dans laquelle on va mettre le contenu des lignes\n",
    "    for row in rows:\n",
    "        cols = row.find_all('td')\n",
    "        #print(type(cols))\n",
    "        new_cols = []\n",
    "        for ele in cols:\n",
    "            new_cols.append([ele.text.strip()])\n",
    "        #print(new_cols)\n",
    "        new_cols=new_cols[1:3]\n",
    "        #new_cols_title=new_cols[0]\n",
    "        new_cols[0]= new_cols[0][0]\n",
    "        new_cols[1]= float(new_cols[1][0])\n",
    "        new_rows.append(new_cols)\n",
    "  #print (new_rows)\n",
    "\n",
    "    \"\"\"On nettoie les élements pour n'avoir que des listes de titres et notes\"\"\"\n",
    "    \"\"\"L'élement correspondant au titre est entouré d'informations parasites, on s'en\n",
    "    débarasse avec 2 regex successives\"\"\"\n",
    "\n",
    "    regex_debut = \"[\\d]?[\\d]?[\\d]\\.[\\n][\\s]{6}\"\n",
    "    regex_fin=\"[\\n]\\([1-2][\\d]{3}\\)\"\n",
    "\n",
    "    clean_rows=copy.copy(new_rows)\n",
    "\n",
    "    for i in range(len(new_rows)):\n",
    "        a_suppr=re.findall(regex_debut,new_rows[i][0])\n",
    "        #print (a_suppr[0])\n",
    "        clean_rows[i][0]=new_rows[i][0].replace(a_suppr[0],\"\")\n",
    "    #print (clean_rows)\n",
    "\n",
    "    really_clean_rows=copy.copy(clean_rows)\n",
    "\n",
    "    for i in range(len(clean_rows)):\n",
    "        a_suppr_fin=re.findall(regex_fin,clean_rows[i][0])\n",
    "        #print (a_suppr_fin[0])\n",
    "        really_clean_rows[i][0]=clean_rows[i][0].replace(a_suppr_fin[0],\"\")\n",
    "    #print (really_clean_rows)\n",
    "\n",
    "    \"\"\"On crée un dictionnaire dans lequel on met le contenu des lignes nettoyées\n",
    "    L'index est le titre, la valeur la note.\"\"\"\n",
    "    dico_top = dict()\n",
    "    for row in really_clean_rows:\n",
    "        cols=row\n",
    "        dico_top[cols[0]] = cols[1:]\n",
    "    dico_top\n",
    "\n",
    "    \"\"\"On crée ENFIN le dataframe\"\"\"\n",
    "    df_top = pd.DataFrame.from_dict(dico_top,orient='index')\n",
    "  \n",
    "\n",
    "    \"\"\"\"On rajoute une index différente du titre\"\"\"\n",
    "    df_top.reset_index(level=0, inplace=True)\n",
    "\n",
    "    \"\"\"On change le nom des colonnes\"\"\"\n",
    "    df_top.rename(columns={'index': 'Title', 0: 'IMDb rating'}, inplace=True)\n",
    "\n",
    "    #print(df_top)\n",
    "    return (df_top)\n"
   ]
  },
  {
   "cell_type": "markdown",
   "metadata": {
    "id": "lF9svNDo2id6"
   },
   "source": [
    "Test sur les 2 urls"
   ]
  },
  {
   "cell_type": "code",
   "execution_count": 7,
   "metadata": {
    "executionInfo": {
     "elapsed": 42677,
     "status": "ok",
     "timestamp": 1607448318348,
     "user": {
      "displayName": "Myrtille Laurent",
      "photoUrl": "https://lh3.googleusercontent.com/a-/AOh14GilIqT9kYfEyLlOR6xsV5GMFxyoqZu54aFKm2afEw=s64",
      "userId": "02978430492940885021"
     },
     "user_tz": -60
    },
    "id": "KlJr1SRwvBTM"
   },
   "outputs": [],
   "source": [
    "url_top_shows = \"https://www.imdb.com/chart/toptv/?ref_=nv_tvv_250\"\n",
    "url_top_movies= \"https://www.imdb.com/chart/top/?ref_=nv_mv_250\""
   ]
  },
  {
   "cell_type": "code",
   "execution_count": 358,
   "metadata": {
    "colab": {
     "base_uri": "https://localhost:8080/",
     "height": 419
    },
    "executionInfo": {
     "elapsed": 43374,
     "status": "ok",
     "timestamp": 1607448319054,
     "user": {
      "displayName": "Myrtille Laurent",
      "photoUrl": "https://lh3.googleusercontent.com/a-/AOh14GilIqT9kYfEyLlOR6xsV5GMFxyoqZu54aFKm2afEw=s64",
      "userId": "02978430492940885021"
     },
     "user_tz": -60
    },
    "id": "eKt64M6821Cl",
    "outputId": "6b7091c8-f23e-4882-baeb-79569b063b53"
   },
   "outputs": [
    {
     "data": {
      "text/html": [
       "<div>\n",
       "<style scoped>\n",
       "    .dataframe tbody tr th:only-of-type {\n",
       "        vertical-align: middle;\n",
       "    }\n",
       "\n",
       "    .dataframe tbody tr th {\n",
       "        vertical-align: top;\n",
       "    }\n",
       "\n",
       "    .dataframe thead th {\n",
       "        text-align: right;\n",
       "    }\n",
       "</style>\n",
       "<table border=\"1\" class=\"dataframe\">\n",
       "  <thead>\n",
       "    <tr style=\"text-align: right;\">\n",
       "      <th></th>\n",
       "      <th>Title</th>\n",
       "      <th>IMDb rating</th>\n",
       "    </tr>\n",
       "  </thead>\n",
       "  <tbody>\n",
       "    <tr>\n",
       "      <th>0</th>\n",
       "      <td>Planet Earth II</td>\n",
       "      <td>9.5</td>\n",
       "    </tr>\n",
       "    <tr>\n",
       "      <th>1</th>\n",
       "      <td>Planète Terre</td>\n",
       "      <td>9.4</td>\n",
       "    </tr>\n",
       "    <tr>\n",
       "      <th>2</th>\n",
       "      <td>Frères d'armes</td>\n",
       "      <td>9.4</td>\n",
       "    </tr>\n",
       "    <tr>\n",
       "      <th>3</th>\n",
       "      <td>Breaking Bad</td>\n",
       "      <td>9.4</td>\n",
       "    </tr>\n",
       "    <tr>\n",
       "      <th>4</th>\n",
       "      <td>Chernobyl</td>\n",
       "      <td>9.4</td>\n",
       "    </tr>\n",
       "    <tr>\n",
       "      <th>...</th>\n",
       "      <td>...</td>\n",
       "      <td>...</td>\n",
       "    </tr>\n",
       "    <tr>\n",
       "      <th>239</th>\n",
       "      <td>Community</td>\n",
       "      <td>8.4</td>\n",
       "    </tr>\n",
       "    <tr>\n",
       "      <th>240</th>\n",
       "      <td>Wentworth</td>\n",
       "      <td>8.4</td>\n",
       "    </tr>\n",
       "    <tr>\n",
       "      <th>241</th>\n",
       "      <td>Vikings</td>\n",
       "      <td>8.4</td>\n",
       "    </tr>\n",
       "    <tr>\n",
       "      <th>242</th>\n",
       "      <td>Unsere Mütter, unsere Väter</td>\n",
       "      <td>8.4</td>\n",
       "    </tr>\n",
       "    <tr>\n",
       "      <th>243</th>\n",
       "      <td>Clannad: After Story</td>\n",
       "      <td>8.4</td>\n",
       "    </tr>\n",
       "  </tbody>\n",
       "</table>\n",
       "<p>244 rows × 2 columns</p>\n",
       "</div>"
      ],
      "text/plain": [
       "                           Title  IMDb rating\n",
       "0                Planet Earth II          9.5\n",
       "1                  Planète Terre          9.4\n",
       "2                 Frères d'armes          9.4\n",
       "3                   Breaking Bad          9.4\n",
       "4                      Chernobyl          9.4\n",
       "..                           ...          ...\n",
       "239                    Community          8.4\n",
       "240                    Wentworth          8.4\n",
       "241                      Vikings          8.4\n",
       "242  Unsere Mütter, unsere Väter          8.4\n",
       "243         Clannad: After Story          8.4\n",
       "\n",
       "[244 rows x 2 columns]"
      ]
     },
     "execution_count": 358,
     "metadata": {},
     "output_type": "execute_result"
    }
   ],
   "source": [
    "df_top_shows=recup_notes(url_top_shows)\n",
    "df_top_shows\n",
    "#problème : on a que 245 valeurs ..."
   ]
  },
  {
   "cell_type": "code",
   "execution_count": 9,
   "metadata": {},
   "outputs": [
    {
     "data": {
      "text/html": [
       "<div>\n",
       "<style scoped>\n",
       "    .dataframe tbody tr th:only-of-type {\n",
       "        vertical-align: middle;\n",
       "    }\n",
       "\n",
       "    .dataframe tbody tr th {\n",
       "        vertical-align: top;\n",
       "    }\n",
       "\n",
       "    .dataframe thead th {\n",
       "        text-align: right;\n",
       "    }\n",
       "</style>\n",
       "<table border=\"1\" class=\"dataframe\">\n",
       "  <thead>\n",
       "    <tr style=\"text-align: right;\">\n",
       "      <th></th>\n",
       "      <th>Title</th>\n",
       "      <th>IMDb rating</th>\n",
       "    </tr>\n",
       "  </thead>\n",
       "  <tbody>\n",
       "    <tr>\n",
       "      <th>0</th>\n",
       "      <td>Les évadés</td>\n",
       "      <td>9.2</td>\n",
       "    </tr>\n",
       "    <tr>\n",
       "      <th>1</th>\n",
       "      <td>Le parrain</td>\n",
       "      <td>9.1</td>\n",
       "    </tr>\n",
       "    <tr>\n",
       "      <th>2</th>\n",
       "      <td>Le parrain, 2ème partie</td>\n",
       "      <td>9.0</td>\n",
       "    </tr>\n",
       "    <tr>\n",
       "      <th>3</th>\n",
       "      <td>The Dark Knight: Le chevalier noir</td>\n",
       "      <td>9.0</td>\n",
       "    </tr>\n",
       "    <tr>\n",
       "      <th>4</th>\n",
       "      <td>12 hommes en colère</td>\n",
       "      <td>8.9</td>\n",
       "    </tr>\n",
       "    <tr>\n",
       "      <th>...</th>\n",
       "      <td>...</td>\n",
       "      <td>...</td>\n",
       "    </tr>\n",
       "    <tr>\n",
       "      <th>244</th>\n",
       "      <td>Princess Bride</td>\n",
       "      <td>8.0</td>\n",
       "    </tr>\n",
       "    <tr>\n",
       "      <th>245</th>\n",
       "      <td>La bataille d'Alger</td>\n",
       "      <td>8.0</td>\n",
       "    </tr>\n",
       "    <tr>\n",
       "      <th>246</th>\n",
       "      <td>Mandarines</td>\n",
       "      <td>8.0</td>\n",
       "    </tr>\n",
       "    <tr>\n",
       "      <th>247</th>\n",
       "      <td>Le cirque</td>\n",
       "      <td>8.0</td>\n",
       "    </tr>\n",
       "    <tr>\n",
       "      <th>248</th>\n",
       "      <td>Terminator</td>\n",
       "      <td>8.0</td>\n",
       "    </tr>\n",
       "  </tbody>\n",
       "</table>\n",
       "<p>249 rows × 2 columns</p>\n",
       "</div>"
      ],
      "text/plain": [
       "                                  Title  IMDb rating\n",
       "0                            Les évadés          9.2\n",
       "1                            Le parrain          9.1\n",
       "2               Le parrain, 2ème partie          9.0\n",
       "3    The Dark Knight: Le chevalier noir          9.0\n",
       "4                   12 hommes en colère          8.9\n",
       "..                                  ...          ...\n",
       "244                      Princess Bride          8.0\n",
       "245                 La bataille d'Alger          8.0\n",
       "246                          Mandarines          8.0\n",
       "247                           Le cirque          8.0\n",
       "248                          Terminator          8.0\n",
       "\n",
       "[249 rows x 2 columns]"
      ]
     },
     "execution_count": 9,
     "metadata": {},
     "output_type": "execute_result"
    }
   ],
   "source": [
    "df_top_movies=recup_notes(url_top_movies)\n",
    "df_top_movies\n"
   ]
  }
 ],
 "metadata": {
  "colab": {
   "collapsed_sections": [],
   "name": "Projet.ipynb",
   "provenance": [
    {
     "file_id": "1y4vOEUdmFlrVemWFMBr2ltAvw-VLV3HS",
     "timestamp": 1604736444068
    }
   ],
   "toc_visible": true
  },
  "kernelspec": {
   "display_name": "Python 3",
   "language": "python",
   "name": "python3"
  },
  "language_info": {
   "codemirror_mode": {
    "name": "ipython",
    "version": 3
   },
   "file_extension": ".py",
   "mimetype": "text/x-python",
   "name": "python",
   "nbconvert_exporter": "python",
   "pygments_lexer": "ipython3",
   "version": "3.7.6"
  }
 },
 "nbformat": 4,
 "nbformat_minor": 1
}
