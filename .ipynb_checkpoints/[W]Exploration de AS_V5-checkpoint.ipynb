{
 "cells": [
  {
   "cell_type": "code",
   "execution_count": 1,
   "metadata": {},
   "outputs": [],
   "source": [
    "import numpy as np\n",
    "import pandas as pd\n",
    "import matplotlib.pyplot as plt\n",
    "import urllib\n",
    "import bs4\n",
    "import re\n",
    "import copy\n",
    "import collections as co\n",
    "\n",
    "import plotly as plt\n",
    "import plotly.express as px\n",
    "import plotly.graph_objects as go\n",
    "from plotly.offline import init_notebook_mode\n",
    "import matplotlib.pyplot as mplt\n",
    "\n",
    "\n",
    "\n",
    "from wordcloud import WordCloud\n",
    "from wordcloud import STOPWORDS\n",
    "from PIL import Image\n",
    "import requests\n",
    "from io import BytesIO"
   ]
  },
  {
   "cell_type": "markdown",
   "metadata": {},
   "source": [
    "On importe AS"
   ]
  },
  {
   "cell_type": "markdown",
   "metadata": {},
   "source": [
    "On créé une variable Top IMDB qui vaut 1 si la série fait partie du top 250 d'IMDB et 0 sinon.\n",
    "On transforme les variables No of Seasons et Top IMDB en entier pour pouvoir faire des opérations dessus."
   ]
  },
  {
   "cell_type": "code",
   "execution_count": 78,
   "metadata": {},
   "outputs": [],
   "source": [
    "#gfg_csv_data = AS.to_csv('AS.csv', index = True) "
   ]
  },
  {
   "cell_type": "code",
   "execution_count": 76,
   "metadata": {},
   "outputs": [],
   "source": [
    "#AS['Top IMDB'] = AS['IMDB Rating'].apply(lambda x: '1' if x >= 8.4 else '0')\n",
    "\n",
    "#regex = r'([0-9]?[0-9])'\n",
    "#AS['No of Seasons'] = AS['No of Seasons'].str.extract(regex,expand=True)\n",
    "#AS['No of Seasons'] = AS['No of Seasons'].fillna(0)\n",
    "#AS['No of Seasons'] = AS['No of Seasons'].astype(str).astype(int)\n",
    "#AS['Top IMDB'] = AS['Top IMDB'].astype(str).astype(int)"
   ]
  },
  {
   "cell_type": "code",
   "execution_count": 2,
   "metadata": {},
   "outputs": [],
   "source": [
    "#Cellule léo\n",
    "#AS= pd.read_csv(r'C:\\Users\\User\\Documents\\GitHub\\Projet_Python_2A\\AS.csv',sep=',')\n",
    "#AS.shape[0] #12 353\n",
    "#AS.head(5)"
   ]
  },
  {
   "cell_type": "code",
   "execution_count": 79,
   "metadata": {},
   "outputs": [
    {
     "data": {
      "text/html": [
       "<div>\n",
       "<style scoped>\n",
       "    .dataframe tbody tr th:only-of-type {\n",
       "        vertical-align: middle;\n",
       "    }\n",
       "\n",
       "    .dataframe tbody tr th {\n",
       "        vertical-align: top;\n",
       "    }\n",
       "\n",
       "    .dataframe thead th {\n",
       "        text-align: right;\n",
       "    }\n",
       "</style>\n",
       "<table border=\"1\" class=\"dataframe\">\n",
       "  <thead>\n",
       "    <tr style=\"text-align: right;\">\n",
       "      <th></th>\n",
       "      <th>Unnamed: 0</th>\n",
       "      <th>Series Title</th>\n",
       "      <th>Year Released</th>\n",
       "      <th>Content Rating</th>\n",
       "      <th>IMDB Rating</th>\n",
       "      <th>R Rating</th>\n",
       "      <th>Genre</th>\n",
       "      <th>Description</th>\n",
       "      <th>No of Seasons</th>\n",
       "      <th>Streaming Platform</th>\n",
       "      <th>Top IMDB</th>\n",
       "    </tr>\n",
       "  </thead>\n",
       "  <tbody>\n",
       "    <tr>\n",
       "      <th>0</th>\n",
       "      <td>0</td>\n",
       "      <td>Breaking Bad</td>\n",
       "      <td>2008</td>\n",
       "      <td>18+</td>\n",
       "      <td>9.5</td>\n",
       "      <td>100</td>\n",
       "      <td>Crime,Drama</td>\n",
       "      <td>When Walter White, a New Mexico chemistry teac...</td>\n",
       "      <td>5</td>\n",
       "      <td>Netflix</td>\n",
       "      <td>1</td>\n",
       "    </tr>\n",
       "    <tr>\n",
       "      <th>1</th>\n",
       "      <td>1</td>\n",
       "      <td>Game of Thrones</td>\n",
       "      <td>2011</td>\n",
       "      <td>18+</td>\n",
       "      <td>9.3</td>\n",
       "      <td>99</td>\n",
       "      <td>Action &amp; Adventure,Drama</td>\n",
       "      <td>Seven noble families fight for control of the ...</td>\n",
       "      <td>8</td>\n",
       "      <td>HBO MAX,HBO</td>\n",
       "      <td>1</td>\n",
       "    </tr>\n",
       "    <tr>\n",
       "      <th>2</th>\n",
       "      <td>2</td>\n",
       "      <td>Rick and Morty</td>\n",
       "      <td>2013</td>\n",
       "      <td>18+</td>\n",
       "      <td>9.2</td>\n",
       "      <td>97</td>\n",
       "      <td>Animation,Comedy</td>\n",
       "      <td>Rick is a mentally-unbalanced but scientifical...</td>\n",
       "      <td>4</td>\n",
       "      <td>Free Services,HBO MAX,Hulu</td>\n",
       "      <td>1</td>\n",
       "    </tr>\n",
       "    <tr>\n",
       "      <th>3</th>\n",
       "      <td>3</td>\n",
       "      <td>Stranger Things</td>\n",
       "      <td>2016</td>\n",
       "      <td>16+</td>\n",
       "      <td>8.8</td>\n",
       "      <td>96</td>\n",
       "      <td>Drama,Fantasy</td>\n",
       "      <td>When a young boy vanishes, a small town uncove...</td>\n",
       "      <td>3</td>\n",
       "      <td>Netflix</td>\n",
       "      <td>1</td>\n",
       "    </tr>\n",
       "    <tr>\n",
       "      <th>4</th>\n",
       "      <td>4</td>\n",
       "      <td>The Boys</td>\n",
       "      <td>2019</td>\n",
       "      <td>18+</td>\n",
       "      <td>8.7</td>\n",
       "      <td>95</td>\n",
       "      <td>Action &amp; Adventure,Comedy</td>\n",
       "      <td>A group of vigilantes known informally as “The...</td>\n",
       "      <td>2</td>\n",
       "      <td>Prime Video</td>\n",
       "      <td>1</td>\n",
       "    </tr>\n",
       "  </tbody>\n",
       "</table>\n",
       "</div>"
      ],
      "text/plain": [
       "   Unnamed: 0     Series Title  Year Released Content Rating  IMDB Rating  \\\n",
       "0           0     Breaking Bad           2008            18+          9.5   \n",
       "1           1  Game of Thrones           2011            18+          9.3   \n",
       "2           2   Rick and Morty           2013            18+          9.2   \n",
       "3           3  Stranger Things           2016            16+          8.8   \n",
       "4           4         The Boys           2019            18+          8.7   \n",
       "\n",
       "   R Rating                      Genre  \\\n",
       "0       100                Crime,Drama   \n",
       "1        99   Action & Adventure,Drama   \n",
       "2        97           Animation,Comedy   \n",
       "3        96              Drama,Fantasy   \n",
       "4        95  Action & Adventure,Comedy   \n",
       "\n",
       "                                         Description  No of Seasons  \\\n",
       "0  When Walter White, a New Mexico chemistry teac...              5   \n",
       "1  Seven noble families fight for control of the ...              8   \n",
       "2  Rick is a mentally-unbalanced but scientifical...              4   \n",
       "3  When a young boy vanishes, a small town uncove...              3   \n",
       "4  A group of vigilantes known informally as “The...              2   \n",
       "\n",
       "           Streaming Platform  Top IMDB  \n",
       "0                     Netflix         1  \n",
       "1                 HBO MAX,HBO         1  \n",
       "2  Free Services,HBO MAX,Hulu         1  \n",
       "3                     Netflix         1  \n",
       "4                 Prime Video         1  "
      ]
     },
     "execution_count": 79,
     "metadata": {},
     "output_type": "execute_result"
    }
   ],
   "source": [
    "#Cellule Myrtille\n",
    "AS= pd.read_csv(r'C:\\Users\\Utilisateur\\Documents\\GitHub\\Projet_Python_2A\\AS.csv',sep=',')\n",
    "AS.shape[0] #12 353\n",
    "AS.head(5)"
   ]
  },
  {
   "cell_type": "code",
   "execution_count": 77,
   "metadata": {},
   "outputs": [
    {
     "data": {
      "text/html": [
       "<div>\n",
       "<style scoped>\n",
       "    .dataframe tbody tr th:only-of-type {\n",
       "        vertical-align: middle;\n",
       "    }\n",
       "\n",
       "    .dataframe tbody tr th {\n",
       "        vertical-align: top;\n",
       "    }\n",
       "\n",
       "    .dataframe thead th {\n",
       "        text-align: right;\n",
       "    }\n",
       "</style>\n",
       "<table border=\"1\" class=\"dataframe\">\n",
       "  <thead>\n",
       "    <tr style=\"text-align: right;\">\n",
       "      <th></th>\n",
       "      <th>Series Title</th>\n",
       "      <th>Year Released</th>\n",
       "      <th>Content Rating</th>\n",
       "      <th>IMDB Rating</th>\n",
       "      <th>R Rating</th>\n",
       "      <th>Genre</th>\n",
       "      <th>Description</th>\n",
       "      <th>No of Seasons</th>\n",
       "      <th>Streaming Platform</th>\n",
       "      <th>Top IMDB</th>\n",
       "    </tr>\n",
       "  </thead>\n",
       "  <tbody>\n",
       "    <tr>\n",
       "      <th>0</th>\n",
       "      <td>Breaking Bad</td>\n",
       "      <td>2008</td>\n",
       "      <td>18+</td>\n",
       "      <td>9.5</td>\n",
       "      <td>100</td>\n",
       "      <td>Crime,Drama</td>\n",
       "      <td>When Walter White, a New Mexico chemistry teac...</td>\n",
       "      <td>5</td>\n",
       "      <td>Netflix</td>\n",
       "      <td>1</td>\n",
       "    </tr>\n",
       "    <tr>\n",
       "      <th>1</th>\n",
       "      <td>Game of Thrones</td>\n",
       "      <td>2011</td>\n",
       "      <td>18+</td>\n",
       "      <td>9.3</td>\n",
       "      <td>99</td>\n",
       "      <td>Action &amp; Adventure,Drama</td>\n",
       "      <td>Seven noble families fight for control of the ...</td>\n",
       "      <td>8</td>\n",
       "      <td>HBO MAX,HBO</td>\n",
       "      <td>1</td>\n",
       "    </tr>\n",
       "    <tr>\n",
       "      <th>2</th>\n",
       "      <td>Rick and Morty</td>\n",
       "      <td>2013</td>\n",
       "      <td>18+</td>\n",
       "      <td>9.2</td>\n",
       "      <td>97</td>\n",
       "      <td>Animation,Comedy</td>\n",
       "      <td>Rick is a mentally-unbalanced but scientifical...</td>\n",
       "      <td>4</td>\n",
       "      <td>Free Services,HBO MAX,Hulu</td>\n",
       "      <td>1</td>\n",
       "    </tr>\n",
       "    <tr>\n",
       "      <th>3</th>\n",
       "      <td>Stranger Things</td>\n",
       "      <td>2016</td>\n",
       "      <td>16+</td>\n",
       "      <td>8.8</td>\n",
       "      <td>96</td>\n",
       "      <td>Drama,Fantasy</td>\n",
       "      <td>When a young boy vanishes, a small town uncove...</td>\n",
       "      <td>3</td>\n",
       "      <td>Netflix</td>\n",
       "      <td>1</td>\n",
       "    </tr>\n",
       "    <tr>\n",
       "      <th>4</th>\n",
       "      <td>The Boys</td>\n",
       "      <td>2019</td>\n",
       "      <td>18+</td>\n",
       "      <td>8.7</td>\n",
       "      <td>95</td>\n",
       "      <td>Action &amp; Adventure,Comedy</td>\n",
       "      <td>A group of vigilantes known informally as “The...</td>\n",
       "      <td>2</td>\n",
       "      <td>Prime Video</td>\n",
       "      <td>1</td>\n",
       "    </tr>\n",
       "  </tbody>\n",
       "</table>\n",
       "</div>"
      ],
      "text/plain": [
       "      Series Title  Year Released Content Rating  IMDB Rating  R Rating  \\\n",
       "0     Breaking Bad           2008            18+          9.5       100   \n",
       "1  Game of Thrones           2011            18+          9.3        99   \n",
       "2   Rick and Morty           2013            18+          9.2        97   \n",
       "3  Stranger Things           2016            16+          8.8        96   \n",
       "4         The Boys           2019            18+          8.7        95   \n",
       "\n",
       "                       Genre  \\\n",
       "0                Crime,Drama   \n",
       "1   Action & Adventure,Drama   \n",
       "2           Animation,Comedy   \n",
       "3              Drama,Fantasy   \n",
       "4  Action & Adventure,Comedy   \n",
       "\n",
       "                                         Description  No of Seasons  \\\n",
       "0  When Walter White, a New Mexico chemistry teac...              5   \n",
       "1  Seven noble families fight for control of the ...              8   \n",
       "2  Rick is a mentally-unbalanced but scientifical...              4   \n",
       "3  When a young boy vanishes, a small town uncove...              3   \n",
       "4  A group of vigilantes known informally as “The...              2   \n",
       "\n",
       "           Streaming Platform  Top IMDB  \n",
       "0                     Netflix         1  \n",
       "1                 HBO MAX,HBO         1  \n",
       "2  Free Services,HBO MAX,Hulu         1  \n",
       "3                     Netflix         1  \n",
       "4                 Prime Video         1  "
      ]
     },
     "execution_count": 77,
     "metadata": {},
     "output_type": "execute_result"
    }
   ],
   "source": [
    "AS.head()"
   ]
  },
  {
   "cell_type": "code",
   "execution_count": 5,
   "metadata": {},
   "outputs": [],
   "source": [
    "#AS.dtypes"
   ]
  },
  {
   "cell_type": "markdown",
   "metadata": {},
   "source": [
    "### Création du AS_N ac seulement Netflix"
   ]
  },
  {
   "cell_type": "markdown",
   "metadata": {},
   "source": [
    "On a 1427 titres."
   ]
  },
  {
   "cell_type": "code",
   "execution_count": 6,
   "metadata": {},
   "outputs": [
    {
     "data": {
      "text/plain": [
       "1427"
      ]
     },
     "execution_count": 6,
     "metadata": {},
     "output_type": "execute_result"
    }
   ],
   "source": [
    "AS['Streaming Platform'].isna().sum() #1983 valeurs manquantes\n",
    "AS['Streaming Platform'].isin(['Netflix']).sum() #1 427 titres Netflix"
   ]
  },
  {
   "cell_type": "code",
   "execution_count": 8,
   "metadata": {},
   "outputs": [],
   "source": [
    "AS_N=AS[AS['Streaming Platform'].isin(['Netflix'])]\n",
    "#gfg_csv_data = AS_N.to_csv('AS_N.csv', index = True) "
   ]
  },
  {
   "cell_type": "code",
   "execution_count": 9,
   "metadata": {},
   "outputs": [],
   "source": [
    "#Cellule Myrtille\n",
    "AS_N= pd.read_csv(r'C:\\Users\\Utilisateur\\Documents\\GitHub\\Projet_Python_2A\\AS_N.csv',sep=',')\n",
    "del AS_N['Unnamed: 0']"
   ]
  },
  {
   "cell_type": "code",
   "execution_count": 10,
   "metadata": {},
   "outputs": [],
   "source": [
    "#Cellule Léo\n",
    "#AS_N= pd.read_csv(r'C:\\Users\\User\\Documents\\GitHub\\Projet_Python_2A\\AS_N.csv',sep=',')\n",
    "#del AS_N['Unnamed: 0']"
   ]
  },
  {
   "cell_type": "code",
   "execution_count": 11,
   "metadata": {},
   "outputs": [
    {
     "data": {
      "text/html": [
       "<div>\n",
       "<style scoped>\n",
       "    .dataframe tbody tr th:only-of-type {\n",
       "        vertical-align: middle;\n",
       "    }\n",
       "\n",
       "    .dataframe tbody tr th {\n",
       "        vertical-align: top;\n",
       "    }\n",
       "\n",
       "    .dataframe thead th {\n",
       "        text-align: right;\n",
       "    }\n",
       "</style>\n",
       "<table border=\"1\" class=\"dataframe\">\n",
       "  <thead>\n",
       "    <tr style=\"text-align: right;\">\n",
       "      <th></th>\n",
       "      <th>Series Title</th>\n",
       "      <th>Year Released</th>\n",
       "      <th>Content Rating</th>\n",
       "      <th>IMDB Rating</th>\n",
       "      <th>R Rating</th>\n",
       "      <th>Genre</th>\n",
       "      <th>Description</th>\n",
       "      <th>No of Seasons</th>\n",
       "      <th>Streaming Platform</th>\n",
       "      <th>Top IMDB</th>\n",
       "    </tr>\n",
       "  </thead>\n",
       "  <tbody>\n",
       "    <tr>\n",
       "      <th>0</th>\n",
       "      <td>Breaking Bad</td>\n",
       "      <td>2008</td>\n",
       "      <td>18+</td>\n",
       "      <td>9.5</td>\n",
       "      <td>100</td>\n",
       "      <td>Crime,Drama</td>\n",
       "      <td>When Walter White, a New Mexico chemistry teac...</td>\n",
       "      <td>5</td>\n",
       "      <td>Netflix</td>\n",
       "      <td>1</td>\n",
       "    </tr>\n",
       "    <tr>\n",
       "      <th>1</th>\n",
       "      <td>Stranger Things</td>\n",
       "      <td>2016</td>\n",
       "      <td>16+</td>\n",
       "      <td>8.8</td>\n",
       "      <td>96</td>\n",
       "      <td>Drama,Fantasy</td>\n",
       "      <td>When a young boy vanishes, a small town uncove...</td>\n",
       "      <td>3</td>\n",
       "      <td>Netflix</td>\n",
       "      <td>1</td>\n",
       "    </tr>\n",
       "    <tr>\n",
       "      <th>2</th>\n",
       "      <td>Dark</td>\n",
       "      <td>2017</td>\n",
       "      <td>16+</td>\n",
       "      <td>8.8</td>\n",
       "      <td>95</td>\n",
       "      <td>Crime,Drama</td>\n",
       "      <td>A missing child causes four families to help e...</td>\n",
       "      <td>3</td>\n",
       "      <td>Netflix</td>\n",
       "      <td>1</td>\n",
       "    </tr>\n",
       "    <tr>\n",
       "      <th>3</th>\n",
       "      <td>Sherlock</td>\n",
       "      <td>2010</td>\n",
       "      <td>16+</td>\n",
       "      <td>9.1</td>\n",
       "      <td>94</td>\n",
       "      <td>Action &amp; Adventure,Crime</td>\n",
       "      <td>A modern update finds the famous sleuth and hi...</td>\n",
       "      <td>4</td>\n",
       "      <td>Netflix</td>\n",
       "      <td>1</td>\n",
       "    </tr>\n",
       "    <tr>\n",
       "      <th>4</th>\n",
       "      <td>Better Call Saul</td>\n",
       "      <td>2015</td>\n",
       "      <td>18+</td>\n",
       "      <td>8.7</td>\n",
       "      <td>92</td>\n",
       "      <td>Comedy,Crime</td>\n",
       "      <td>Six years before Saul Goodman meets Walter Whi...</td>\n",
       "      <td>5</td>\n",
       "      <td>Netflix</td>\n",
       "      <td>1</td>\n",
       "    </tr>\n",
       "  </tbody>\n",
       "</table>\n",
       "</div>"
      ],
      "text/plain": [
       "       Series Title  Year Released Content Rating  IMDB Rating  R Rating  \\\n",
       "0      Breaking Bad           2008            18+          9.5       100   \n",
       "1   Stranger Things           2016            16+          8.8        96   \n",
       "2              Dark           2017            16+          8.8        95   \n",
       "3          Sherlock           2010            16+          9.1        94   \n",
       "4  Better Call Saul           2015            18+          8.7        92   \n",
       "\n",
       "                      Genre  \\\n",
       "0               Crime,Drama   \n",
       "1             Drama,Fantasy   \n",
       "2               Crime,Drama   \n",
       "3  Action & Adventure,Crime   \n",
       "4              Comedy,Crime   \n",
       "\n",
       "                                         Description  No of Seasons  \\\n",
       "0  When Walter White, a New Mexico chemistry teac...              5   \n",
       "1  When a young boy vanishes, a small town uncove...              3   \n",
       "2  A missing child causes four families to help e...              3   \n",
       "3  A modern update finds the famous sleuth and hi...              4   \n",
       "4  Six years before Saul Goodman meets Walter Whi...              5   \n",
       "\n",
       "  Streaming Platform  Top IMDB  \n",
       "0            Netflix         1  \n",
       "1            Netflix         1  \n",
       "2            Netflix         1  \n",
       "3            Netflix         1  \n",
       "4            Netflix         1  "
      ]
     },
     "execution_count": 11,
     "metadata": {},
     "output_type": "execute_result"
    }
   ],
   "source": [
    "AS_N.head()"
   ]
  },
  {
   "cell_type": "markdown",
   "metadata": {},
   "source": [
    "Sur les 1427 titres, 1321 ont une note IMdB renseignée"
   ]
  },
  {
   "cell_type": "code",
   "execution_count": 12,
   "metadata": {
    "scrolled": true
   },
   "outputs": [
    {
     "data": {
      "text/plain": [
       "1341"
      ]
     },
     "execution_count": 12,
     "metadata": {},
     "output_type": "execute_result"
    }
   ],
   "source": [
    "AS_N['IMDB Rating'].notna().sum() #1341 notes IMdB"
   ]
  },
  {
   "cell_type": "markdown",
   "metadata": {},
   "source": [
    "# STATISTIQUES DESCRIPTIVES"
   ]
  },
  {
   "cell_type": "markdown",
   "metadata": {},
   "source": [
    "Baisse en 2020 -> année tronquée + corona"
   ]
  },
  {
   "cell_type": "markdown",
   "metadata": {},
   "source": [
    "## Années de création des séries sur Netflix"
   ]
  },
  {
   "cell_type": "code",
   "execution_count": 32,
   "metadata": {},
   "outputs": [
    {
     "data": {
      "application/vnd.plotly.v1+json": {
       "config": {
        "plotlyServerURL": "https://plot.ly"
       },
       "data": [
        {
         "name": "Séries sorties chaque année",
         "type": "bar",
         "x": [
          1994,
          1995,
          1996,
          1997,
          1998,
          1999,
          2000,
          2001,
          2002,
          2003,
          2004,
          2005,
          2006,
          2007,
          2008,
          2009,
          2010,
          2011,
          2012,
          2013,
          2014,
          2015,
          2016,
          2017,
          2018,
          2019,
          2020
         ],
         "xaxis": "x",
         "y": [
          2,
          3,
          2,
          1,
          1,
          2,
          1,
          3,
          4,
          5,
          5,
          4,
          2,
          8,
          10,
          20,
          18,
          23,
          39,
          39,
          43,
          99,
          156,
          195,
          267,
          271,
          198
         ],
         "yaxis": "y"
        },
        {
         "mode": "lines",
         "name": "Trendline du nombre de séries",
         "type": "scatter",
         "x": [
          1994,
          1995,
          1996,
          1997,
          1998,
          1999,
          2000,
          2001,
          2002,
          2003,
          2004,
          2005,
          2006,
          2007,
          2008,
          2009,
          2010,
          2011,
          2012,
          2013,
          2014,
          2015,
          2016,
          2017,
          2018,
          2019,
          2020
         ],
         "xaxis": "x",
         "y": [
          2,
          5,
          7,
          8,
          9,
          11,
          12,
          15,
          19,
          24,
          29,
          33,
          35,
          43,
          53,
          73,
          91,
          114,
          153,
          192,
          235,
          334,
          490,
          685,
          952,
          1223,
          1421
         ],
         "yaxis": "y2"
        }
       ],
       "layout": {
        "font": {
         "family": "Calibri"
        },
        "legend": {
         "x": 0.01,
         "xanchor": "left",
         "y": 0.99,
         "yanchor": "top"
        },
        "margin": {
         "b": 30,
         "l": 80,
         "r": 80,
         "t": 60
        },
        "showlegend": true,
        "template": {
         "data": {
          "pie": [
           {
            "automargin": true,
            "type": "pie"
           }
          ],
          "scatter": [
           {
            "line": {
             "width": 3
            },
            "marker": {
             "size": 9
            },
            "type": "scatter"
           }
          ],
          "scatter3d": [
           {
            "line": {
             "width": 3
            },
            "marker": {
             "size": 9
            },
            "type": "scatter3d"
           }
          ],
          "scattergeo": [
           {
            "line": {
             "width": 3
            },
            "marker": {
             "size": 9
            },
            "type": "scattergeo"
           }
          ],
          "scattergl": [
           {
            "line": {
             "width": 3
            },
            "marker": {
             "size": 9
            },
            "type": "scattergl"
           }
          ],
          "scatterpolar": [
           {
            "line": {
             "width": 3
            },
            "marker": {
             "size": 9
            },
            "type": "scatterpolar"
           }
          ],
          "scatterpolargl": [
           {
            "line": {
             "width": 3
            },
            "marker": {
             "size": 9
            },
            "type": "scatterpolargl"
           }
          ],
          "scatterternary": [
           {
            "line": {
             "width": 3
            },
            "marker": {
             "size": 9
            },
            "type": "scatterternary"
           }
          ],
          "table": [
           {
            "cells": {
             "height": 30
            },
            "header": {
             "height": 36
            },
            "type": "table"
           }
          ]
         },
         "layout": {
          "font": {
           "size": 18
          },
          "xaxis": {
           "title": {
            "standoff": 15
           }
          },
          "yaxis": {
           "title": {
            "standoff": 15
           }
          }
         }
        },
        "title": {
         "font": {
          "color": "black"
         },
         "text": "<b>Séries crées dans le Temps</b>",
         "x": 0.5
        },
        "xaxis": {
         "anchor": "y",
         "domain": [
          0,
          0.94
         ]
        },
        "yaxis": {
         "anchor": "x",
         "domain": [
          0,
          1
         ]
        },
        "yaxis2": {
         "anchor": "x",
         "overlaying": "y",
         "side": "right"
        }
       }
      },
      "text/html": [
       "<div>                            <div id=\"12db9e3d-5a23-4367-a872-7c22049c8ccc\" class=\"plotly-graph-div\" style=\"height:525px; width:100%;\"></div>            <script type=\"text/javascript\">                require([\"plotly\"], function(Plotly) {                    window.PLOTLYENV=window.PLOTLYENV || {};                                    if (document.getElementById(\"12db9e3d-5a23-4367-a872-7c22049c8ccc\")) {                    Plotly.newPlot(                        \"12db9e3d-5a23-4367-a872-7c22049c8ccc\",                        [{\"name\": \"S\\u00e9ries sorties chaque ann\\u00e9e\", \"type\": \"bar\", \"x\": [1994, 1995, 1996, 1997, 1998, 1999, 2000, 2001, 2002, 2003, 2004, 2005, 2006, 2007, 2008, 2009, 2010, 2011, 2012, 2013, 2014, 2015, 2016, 2017, 2018, 2019, 2020], \"xaxis\": \"x\", \"y\": [2, 3, 2, 1, 1, 2, 1, 3, 4, 5, 5, 4, 2, 8, 10, 20, 18, 23, 39, 39, 43, 99, 156, 195, 267, 271, 198], \"yaxis\": \"y\"}, {\"mode\": \"lines\", \"name\": \"Trendline du nombre de s\\u00e9ries\", \"type\": \"scatter\", \"x\": [1994, 1995, 1996, 1997, 1998, 1999, 2000, 2001, 2002, 2003, 2004, 2005, 2006, 2007, 2008, 2009, 2010, 2011, 2012, 2013, 2014, 2015, 2016, 2017, 2018, 2019, 2020], \"xaxis\": \"x\", \"y\": [2, 5, 7, 8, 9, 11, 12, 15, 19, 24, 29, 33, 35, 43, 53, 73, 91, 114, 153, 192, 235, 334, 490, 685, 952, 1223, 1421], \"yaxis\": \"y2\"}],                        {\"font\": {\"family\": \"Calibri\"}, \"legend\": {\"x\": 0.01, \"xanchor\": \"left\", \"y\": 0.99, \"yanchor\": \"top\"}, \"margin\": {\"b\": 30, \"l\": 80, \"r\": 80, \"t\": 60}, \"showlegend\": true, \"template\": {\"data\": {\"pie\": [{\"automargin\": true, \"type\": \"pie\"}], \"scatter\": [{\"line\": {\"width\": 3}, \"marker\": {\"size\": 9}, \"type\": \"scatter\"}], \"scatter3d\": [{\"line\": {\"width\": 3}, \"marker\": {\"size\": 9}, \"type\": \"scatter3d\"}], \"scattergeo\": [{\"line\": {\"width\": 3}, \"marker\": {\"size\": 9}, \"type\": \"scattergeo\"}], \"scattergl\": [{\"line\": {\"width\": 3}, \"marker\": {\"size\": 9}, \"type\": \"scattergl\"}], \"scatterpolar\": [{\"line\": {\"width\": 3}, \"marker\": {\"size\": 9}, \"type\": \"scatterpolar\"}], \"scatterpolargl\": [{\"line\": {\"width\": 3}, \"marker\": {\"size\": 9}, \"type\": \"scatterpolargl\"}], \"scatterternary\": [{\"line\": {\"width\": 3}, \"marker\": {\"size\": 9}, \"type\": \"scatterternary\"}], \"table\": [{\"cells\": {\"height\": 30}, \"header\": {\"height\": 36}, \"type\": \"table\"}]}, \"layout\": {\"font\": {\"size\": 18}, \"xaxis\": {\"title\": {\"standoff\": 15}}, \"yaxis\": {\"title\": {\"standoff\": 15}}}}, \"title\": {\"font\": {\"color\": \"black\"}, \"text\": \"<b>S\\u00e9ries cr\\u00e9es dans le Temps</b>\", \"x\": 0.5}, \"xaxis\": {\"anchor\": \"y\", \"domain\": [0.0, 0.94]}, \"yaxis\": {\"anchor\": \"x\", \"domain\": [0.0, 1.0]}, \"yaxis2\": {\"anchor\": \"x\", \"overlaying\": \"y\", \"side\": \"right\"}},                        {\"responsive\": true}                    ).then(function(){\n",
       "                            \n",
       "var gd = document.getElementById('12db9e3d-5a23-4367-a872-7c22049c8ccc');\n",
       "var x = new MutationObserver(function (mutations, observer) {{\n",
       "        var display = window.getComputedStyle(gd).display;\n",
       "        if (!display || display === 'none') {{\n",
       "            console.log([gd, 'removed!']);\n",
       "            Plotly.purge(gd);\n",
       "            observer.disconnect();\n",
       "        }}\n",
       "}});\n",
       "\n",
       "// Listen for the removal of the full notebook cells\n",
       "var notebookContainer = gd.closest('#notebook-container');\n",
       "if (notebookContainer) {{\n",
       "    x.observe(notebookContainer, {childList: true});\n",
       "}}\n",
       "\n",
       "// Listen for the clearing of the current output cell\n",
       "var outputEl = gd.closest('.output');\n",
       "if (outputEl) {{\n",
       "    x.observe(outputEl, {childList: true});\n",
       "}}\n",
       "\n",
       "                        })                };                });            </script>        </div>"
      ]
     },
     "metadata": {},
     "output_type": "display_data"
    }
   ],
   "source": [
    "#creating the plot of number of movies released each year and the cumsum of that calculation\n",
    "moviesReleasedEachYear = AS_N['Year Released'].value_counts().sort_index()\n",
    "cumsumMoviesReleased = AS_N['Year Released'].value_counts().sort_index().cumsum()\n",
    "\n",
    "trace1 = go.Bar(x = list(moviesReleasedEachYear.index), y = list(moviesReleasedEachYear.values),name = 'Séries sorties chaque année')\n",
    "trace2 = go.Scatter(x = list(cumsumMoviesReleased.index), \n",
    "                    y = list(cumsumMoviesReleased.values), \n",
    "                    mode='lines',name = 'Trendline du nombre de séries')\n",
    "\n",
    "fig = plt.subplots.make_subplots(specs=[[{\"secondary_y\": True}]])\n",
    "fig.add_trace(trace1, secondary_y=False)\n",
    "fig.add_trace(trace2, secondary_y=True)\n",
    "\n",
    "fig.update_layout(template = 'presentation',margin=dict(l=80, r=80, t=60, b=30),\n",
    "                  title = { 'text' : '<b>Séries crées dans le Temps</b>', 'x' : 0.5},\n",
    "                 font_family = 'Calibri',title_font_color= 'black', showlegend = True)\n",
    "\n",
    "fig.update_layout(legend=dict(\n",
    "    yanchor=\"top\",\n",
    "    y=0.99,\n",
    "    xanchor=\"left\",\n",
    "    x=0.01))\n",
    "\n",
    "fig.show()"
   ]
  },
  {
   "cell_type": "markdown",
   "metadata": {},
   "source": [
    "## Travail sur le genres"
   ]
  },
  {
   "cell_type": "markdown",
   "metadata": {},
   "source": [
    "### Contenu ajouté sur Netflix en fonction du genre"
   ]
  },
  {
   "cell_type": "code",
   "execution_count": 14,
   "metadata": {},
   "outputs": [],
   "source": [
    "\"\"\"-------------------------Fonction qui récupère les genres des Séries-------------------------\"\"\"\n",
    "\n",
    "\n",
    "def recup_cat(data):\n",
    "    \n",
    "    col = \"Genre\"\n",
    "    categories = \", \".join(data['Genre']).split(\", \")\n",
    "    #print (categories)\n",
    "    categories = \",\".join(data['Genre']).split(\",\")\n",
    "    #print (categories)\n",
    "    \n",
    "    \"\"\"on enlève les catégories débiles\"\"\"\n",
    "    for i in ['2018','2017','2016','2019','2020','Netflix','2015','2012','2007','2004',\n",
    "              '2010','2013','2009','1969','2005','2006','2014','1999','1972','2002','2011',\n",
    "              '2008','Hulu','Prime Video','fuboTV']:\n",
    "        while i in categories:\n",
    "            categories.remove(i)\n",
    "    return(categories)"
   ]
  },
  {
   "cell_type": "code",
   "execution_count": 15,
   "metadata": {},
   "outputs": [],
   "source": [
    "\"\"\"-------------------------Fonction qui retourne les effectifs de chaque genre-------------------------\"\"\"\n",
    "\n",
    "def count_genra (data_f,nombre=7):\n",
    "    \n",
    "    categories=recup_cat(data_f)\n",
    "\n",
    "    #print(categories)\n",
    "\n",
    "    \"\"\"On compte le nombre d'occurences de chaque type et on garde les 50 qui apparaissent le plus souvent\"\"\"\n",
    "    counter_list = co.Counter(categories).most_common(nombre)\n",
    "    #print ((counter_list))\n",
    "\n",
    "    \"\"\"On conserve le premier élément de chaque couple de counter_list (ie. sur le genre) et on inverse l'ordre de la liste\"\"\"\n",
    "    labels = [_[0] for _ in counter_list][::-1]\n",
    "    #print (labels)\n",
    "\n",
    "    \"\"\"Idem pour le nombre d'occurrences\"\"\"\n",
    "    values = [_[1] for _ in counter_list][::-1]\n",
    "    return (values,labels)"
   ]
  },
  {
   "cell_type": "code",
   "execution_count": 16,
   "metadata": {},
   "outputs": [
    {
     "data": {
      "text/plain": [
       "([71, 103, 104, 192, 206, 212, 216, 359, 577],\n",
       " ['Family',\n",
       "  'Romance',\n",
       "  'Reality',\n",
       "  'Animation',\n",
       "  'Crime',\n",
       "  'Action & Adventure',\n",
       "  'Documentary',\n",
       "  'Comedy',\n",
       "  'Drama'])"
      ]
     },
     "execution_count": 16,
     "metadata": {},
     "output_type": "execute_result"
    }
   ],
   "source": [
    "count_genra(AS_N,9)"
   ]
  },
  {
   "cell_type": "code",
   "execution_count": 17,
   "metadata": {},
   "outputs": [],
   "source": [
    "\"\"\"-------------------------Fonction qui trace un graph des effectifs des genres-------------------------\"\"\"\n",
    "\n",
    "def trace(values,labels,nombre=7,date=\"Netflix\") :  \n",
    "    colors =['#DF0101','#086A87'] *int(nombre/2) if (nombre%2 == 0) else ['#086A87']+(['#DF0101','#086A87']*int(nombre/2))\n",
    "    trace1 = go.Bar(y=labels, x=values, orientation=\"h\",marker_color=colors, name=\"TV Shows\", marker=dict(color=\"#a678de\"))\n",
    "\n",
    "    data = [trace1]\n",
    "    layout = go.Layout(template = 'presentation',margin=dict(l=160, r=80, t=80, b=50),\n",
    "                       title=\"Contenu sur \"+str(date), font_size= 15, legend=dict(x=0.1, y=1.1, orientation=\"h\"))\n",
    "    fig = go.Figure(data, layout=layout)\n",
    "    fig.show()\n",
    "    return"
   ]
  },
  {
   "cell_type": "code",
   "execution_count": 18,
   "metadata": {},
   "outputs": [
    {
     "data": {
      "application/vnd.plotly.v1+json": {
       "config": {
        "plotlyServerURL": "https://plot.ly"
       },
       "data": [
        {
         "marker": {
          "color": [
           "#086A87",
           "#DF0101",
           "#086A87",
           "#DF0101",
           "#086A87",
           "#DF0101",
           "#086A87"
          ]
         },
         "name": "TV Shows",
         "orientation": "h",
         "type": "bar",
         "x": [
          104,
          192,
          206,
          212,
          216,
          359,
          577
         ],
         "y": [
          "Reality",
          "Animation",
          "Crime",
          "Action & Adventure",
          "Documentary",
          "Comedy",
          "Drama"
         ]
        }
       ],
       "layout": {
        "font": {
         "size": 15
        },
        "legend": {
         "orientation": "h",
         "x": 0.1,
         "y": 1.1
        },
        "margin": {
         "b": 50,
         "l": 160,
         "r": 80,
         "t": 80
        },
        "template": {
         "data": {
          "pie": [
           {
            "automargin": true,
            "type": "pie"
           }
          ],
          "scatter": [
           {
            "line": {
             "width": 3
            },
            "marker": {
             "size": 9
            },
            "type": "scatter"
           }
          ],
          "scatter3d": [
           {
            "line": {
             "width": 3
            },
            "marker": {
             "size": 9
            },
            "type": "scatter3d"
           }
          ],
          "scattergeo": [
           {
            "line": {
             "width": 3
            },
            "marker": {
             "size": 9
            },
            "type": "scattergeo"
           }
          ],
          "scattergl": [
           {
            "line": {
             "width": 3
            },
            "marker": {
             "size": 9
            },
            "type": "scattergl"
           }
          ],
          "scatterpolar": [
           {
            "line": {
             "width": 3
            },
            "marker": {
             "size": 9
            },
            "type": "scatterpolar"
           }
          ],
          "scatterpolargl": [
           {
            "line": {
             "width": 3
            },
            "marker": {
             "size": 9
            },
            "type": "scatterpolargl"
           }
          ],
          "scatterternary": [
           {
            "line": {
             "width": 3
            },
            "marker": {
             "size": 9
            },
            "type": "scatterternary"
           }
          ],
          "table": [
           {
            "cells": {
             "height": 30
            },
            "header": {
             "height": 36
            },
            "type": "table"
           }
          ]
         },
         "layout": {
          "font": {
           "size": 18
          },
          "xaxis": {
           "title": {
            "standoff": 15
           }
          },
          "yaxis": {
           "title": {
            "standoff": 15
           }
          }
         }
        },
        "title": {
         "text": "Contenu sur Netflix"
        }
       }
      },
      "text/html": [
       "<div>                            <div id=\"b9e65a78-be4b-4b8e-80c6-09fe448b8851\" class=\"plotly-graph-div\" style=\"height:525px; width:100%;\"></div>            <script type=\"text/javascript\">                require([\"plotly\"], function(Plotly) {                    window.PLOTLYENV=window.PLOTLYENV || {};                                    if (document.getElementById(\"b9e65a78-be4b-4b8e-80c6-09fe448b8851\")) {                    Plotly.newPlot(                        \"b9e65a78-be4b-4b8e-80c6-09fe448b8851\",                        [{\"marker\": {\"color\": [\"#086A87\", \"#DF0101\", \"#086A87\", \"#DF0101\", \"#086A87\", \"#DF0101\", \"#086A87\"]}, \"name\": \"TV Shows\", \"orientation\": \"h\", \"type\": \"bar\", \"x\": [104, 192, 206, 212, 216, 359, 577], \"y\": [\"Reality\", \"Animation\", \"Crime\", \"Action & Adventure\", \"Documentary\", \"Comedy\", \"Drama\"]}],                        {\"font\": {\"size\": 15}, \"legend\": {\"orientation\": \"h\", \"x\": 0.1, \"y\": 1.1}, \"margin\": {\"b\": 50, \"l\": 160, \"r\": 80, \"t\": 80}, \"template\": {\"data\": {\"pie\": [{\"automargin\": true, \"type\": \"pie\"}], \"scatter\": [{\"line\": {\"width\": 3}, \"marker\": {\"size\": 9}, \"type\": \"scatter\"}], \"scatter3d\": [{\"line\": {\"width\": 3}, \"marker\": {\"size\": 9}, \"type\": \"scatter3d\"}], \"scattergeo\": [{\"line\": {\"width\": 3}, \"marker\": {\"size\": 9}, \"type\": \"scattergeo\"}], \"scattergl\": [{\"line\": {\"width\": 3}, \"marker\": {\"size\": 9}, \"type\": \"scattergl\"}], \"scatterpolar\": [{\"line\": {\"width\": 3}, \"marker\": {\"size\": 9}, \"type\": \"scatterpolar\"}], \"scatterpolargl\": [{\"line\": {\"width\": 3}, \"marker\": {\"size\": 9}, \"type\": \"scatterpolargl\"}], \"scatterternary\": [{\"line\": {\"width\": 3}, \"marker\": {\"size\": 9}, \"type\": \"scatterternary\"}], \"table\": [{\"cells\": {\"height\": 30}, \"header\": {\"height\": 36}, \"type\": \"table\"}]}, \"layout\": {\"font\": {\"size\": 18}, \"xaxis\": {\"title\": {\"standoff\": 15}}, \"yaxis\": {\"title\": {\"standoff\": 15}}}}, \"title\": {\"text\": \"Contenu sur Netflix\"}},                        {\"responsive\": true}                    ).then(function(){\n",
       "                            \n",
       "var gd = document.getElementById('b9e65a78-be4b-4b8e-80c6-09fe448b8851');\n",
       "var x = new MutationObserver(function (mutations, observer) {{\n",
       "        var display = window.getComputedStyle(gd).display;\n",
       "        if (!display || display === 'none') {{\n",
       "            console.log([gd, 'removed!']);\n",
       "            Plotly.purge(gd);\n",
       "            observer.disconnect();\n",
       "        }}\n",
       "}});\n",
       "\n",
       "// Listen for the removal of the full notebook cells\n",
       "var notebookContainer = gd.closest('#notebook-container');\n",
       "if (notebookContainer) {{\n",
       "    x.observe(notebookContainer, {childList: true});\n",
       "}}\n",
       "\n",
       "// Listen for the clearing of the current output cell\n",
       "var outputEl = gd.closest('.output');\n",
       "if (outputEl) {{\n",
       "    x.observe(outputEl, {childList: true});\n",
       "}}\n",
       "\n",
       "                        })                };                });            </script>        </div>"
      ]
     },
     "metadata": {},
     "output_type": "display_data"
    }
   ],
   "source": [
    "trace(count_genra(AS_N)[0],count_genra(AS_N)[1])"
   ]
  },
  {
   "cell_type": "code",
   "execution_count": 19,
   "metadata": {},
   "outputs": [
    {
     "name": "stdout",
     "output_type": "stream",
     "text": [
      "[1969, 1972, 1983, 1986, 1987, 1994, 1995, 1996, 1997, 1998, 1999, 2000, 2001, 2002, 2003, 2004, 2005, 2006, 2007, 2008, 2009, 2010, 2011, 2012, 2013, 2014, 2015, 2016, 2017, 2018, 2019, 2020]\n"
     ]
    }
   ],
   "source": [
    "\"\"\"-------------------------Liste des dates où une ou plusieurs séries ont été crées-------------------------\"\"\"\n",
    "liste_date=[]\n",
    "for i in range(1969,2021):\n",
    "    if AS_N['Year Released'].isin([i]).sum() != 0:\n",
    "        liste_date.append(i)\n",
    "print (liste_date)"
   ]
  },
  {
   "cell_type": "code",
   "execution_count": 20,
   "metadata": {},
   "outputs": [],
   "source": [
    "\"\"\"---------------Fonction qui compte les effectifs des genres puis les représente pour une année donnée---------------\"\"\"\n",
    "\n",
    "def count_trace_genra_y (annee,nombre=15):\n",
    "    \n",
    "    \"\"\"On crée le df dont on a besoin à partir de la date voulue\"\"\"\n",
    "    data_f = AS_N[AS_N['Year Released'].isin([annee])]\n",
    "    \n",
    "    a=count_genra(data_f,nombre)\n",
    "    trace(a[0],a[1],nombre,annee)\n",
    "\n",
    "    return"
   ]
  },
  {
   "cell_type": "code",
   "execution_count": 21,
   "metadata": {},
   "outputs": [
    {
     "data": {
      "application/vnd.plotly.v1+json": {
       "config": {
        "plotlyServerURL": "https://plot.ly"
       },
       "data": [
        {
         "marker": {
          "color": [
           "#DF0101",
           "#086A87",
           "#DF0101",
           "#086A87",
           "#DF0101",
           "#086A87",
           "#DF0101",
           "#086A87",
           "#DF0101",
           "#086A87"
          ]
         },
         "name": "TV Shows",
         "orientation": "h",
         "type": "bar",
         "x": [
          9,
          12,
          15,
          24,
          26,
          28,
          33,
          40,
          43,
          69
         ],
         "y": [
          "Horror",
          "Family",
          "Romance",
          "Action & Adventure",
          "Animation",
          "Reality",
          "Crime",
          "Comedy",
          "Documentary",
          "Drama"
         ]
        }
       ],
       "layout": {
        "font": {
         "size": 15
        },
        "legend": {
         "orientation": "h",
         "x": 0.1,
         "y": 1.1
        },
        "margin": {
         "b": 50,
         "l": 160,
         "r": 80,
         "t": 80
        },
        "template": {
         "data": {
          "pie": [
           {
            "automargin": true,
            "type": "pie"
           }
          ],
          "scatter": [
           {
            "line": {
             "width": 3
            },
            "marker": {
             "size": 9
            },
            "type": "scatter"
           }
          ],
          "scatter3d": [
           {
            "line": {
             "width": 3
            },
            "marker": {
             "size": 9
            },
            "type": "scatter3d"
           }
          ],
          "scattergeo": [
           {
            "line": {
             "width": 3
            },
            "marker": {
             "size": 9
            },
            "type": "scattergeo"
           }
          ],
          "scattergl": [
           {
            "line": {
             "width": 3
            },
            "marker": {
             "size": 9
            },
            "type": "scattergl"
           }
          ],
          "scatterpolar": [
           {
            "line": {
             "width": 3
            },
            "marker": {
             "size": 9
            },
            "type": "scatterpolar"
           }
          ],
          "scatterpolargl": [
           {
            "line": {
             "width": 3
            },
            "marker": {
             "size": 9
            },
            "type": "scatterpolargl"
           }
          ],
          "scatterternary": [
           {
            "line": {
             "width": 3
            },
            "marker": {
             "size": 9
            },
            "type": "scatterternary"
           }
          ],
          "table": [
           {
            "cells": {
             "height": 30
            },
            "header": {
             "height": 36
            },
            "type": "table"
           }
          ]
         },
         "layout": {
          "font": {
           "size": 18
          },
          "xaxis": {
           "title": {
            "standoff": 15
           }
          },
          "yaxis": {
           "title": {
            "standoff": 15
           }
          }
         }
        },
        "title": {
         "text": "Contenu sur 2020"
        }
       }
      },
      "text/html": [
       "<div>                            <div id=\"f98f38ae-a60d-48cb-996e-6a4adf1a1e5c\" class=\"plotly-graph-div\" style=\"height:525px; width:100%;\"></div>            <script type=\"text/javascript\">                require([\"plotly\"], function(Plotly) {                    window.PLOTLYENV=window.PLOTLYENV || {};                                    if (document.getElementById(\"f98f38ae-a60d-48cb-996e-6a4adf1a1e5c\")) {                    Plotly.newPlot(                        \"f98f38ae-a60d-48cb-996e-6a4adf1a1e5c\",                        [{\"marker\": {\"color\": [\"#DF0101\", \"#086A87\", \"#DF0101\", \"#086A87\", \"#DF0101\", \"#086A87\", \"#DF0101\", \"#086A87\", \"#DF0101\", \"#086A87\"]}, \"name\": \"TV Shows\", \"orientation\": \"h\", \"type\": \"bar\", \"x\": [9, 12, 15, 24, 26, 28, 33, 40, 43, 69], \"y\": [\"Horror\", \"Family\", \"Romance\", \"Action & Adventure\", \"Animation\", \"Reality\", \"Crime\", \"Comedy\", \"Documentary\", \"Drama\"]}],                        {\"font\": {\"size\": 15}, \"legend\": {\"orientation\": \"h\", \"x\": 0.1, \"y\": 1.1}, \"margin\": {\"b\": 50, \"l\": 160, \"r\": 80, \"t\": 80}, \"template\": {\"data\": {\"pie\": [{\"automargin\": true, \"type\": \"pie\"}], \"scatter\": [{\"line\": {\"width\": 3}, \"marker\": {\"size\": 9}, \"type\": \"scatter\"}], \"scatter3d\": [{\"line\": {\"width\": 3}, \"marker\": {\"size\": 9}, \"type\": \"scatter3d\"}], \"scattergeo\": [{\"line\": {\"width\": 3}, \"marker\": {\"size\": 9}, \"type\": \"scattergeo\"}], \"scattergl\": [{\"line\": {\"width\": 3}, \"marker\": {\"size\": 9}, \"type\": \"scattergl\"}], \"scatterpolar\": [{\"line\": {\"width\": 3}, \"marker\": {\"size\": 9}, \"type\": \"scatterpolar\"}], \"scatterpolargl\": [{\"line\": {\"width\": 3}, \"marker\": {\"size\": 9}, \"type\": \"scatterpolargl\"}], \"scatterternary\": [{\"line\": {\"width\": 3}, \"marker\": {\"size\": 9}, \"type\": \"scatterternary\"}], \"table\": [{\"cells\": {\"height\": 30}, \"header\": {\"height\": 36}, \"type\": \"table\"}]}, \"layout\": {\"font\": {\"size\": 18}, \"xaxis\": {\"title\": {\"standoff\": 15}}, \"yaxis\": {\"title\": {\"standoff\": 15}}}}, \"title\": {\"text\": \"Contenu sur 2020\"}},                        {\"responsive\": true}                    ).then(function(){\n",
       "                            \n",
       "var gd = document.getElementById('f98f38ae-a60d-48cb-996e-6a4adf1a1e5c');\n",
       "var x = new MutationObserver(function (mutations, observer) {{\n",
       "        var display = window.getComputedStyle(gd).display;\n",
       "        if (!display || display === 'none') {{\n",
       "            console.log([gd, 'removed!']);\n",
       "            Plotly.purge(gd);\n",
       "            observer.disconnect();\n",
       "        }}\n",
       "}});\n",
       "\n",
       "// Listen for the removal of the full notebook cells\n",
       "var notebookContainer = gd.closest('#notebook-container');\n",
       "if (notebookContainer) {{\n",
       "    x.observe(notebookContainer, {childList: true});\n",
       "}}\n",
       "\n",
       "// Listen for the clearing of the current output cell\n",
       "var outputEl = gd.closest('.output');\n",
       "if (outputEl) {{\n",
       "    x.observe(outputEl, {childList: true});\n",
       "}}\n",
       "\n",
       "                        })                };                });            </script>        </div>"
      ]
     },
     "metadata": {},
     "output_type": "display_data"
    }
   ],
   "source": [
    "count_trace_genra_y(2020,10)"
   ]
  },
  {
   "cell_type": "code",
   "execution_count": 22,
   "metadata": {},
   "outputs": [],
   "source": [
    "\"\"\"----------Fonction intermédiaire qui compte les effectifs des genres les plus populaires pour une année donnée----------\"\"\"\n",
    "\n",
    "def prep (annee,nombre=5):\n",
    "    \n",
    "    \"\"\"On récupère les x genres les plus populaires overall \"\"\"\n",
    "    counter_list = co.Counter(recup_cat(AS_N)).most_common(nombre)\n",
    "    counter_list = dict(counter_list)\n",
    "    print(counter_list)\n",
    "    \n",
    "    \"\"\"On crée le df dont on a besoin à partir de la date voulue\"\"\"\n",
    "    data_f = AS_N[AS_N['Year Released'].isin([annee])]\n",
    "    \n",
    "    \"\"\"On récupère les genres les plus populaires de cette année \"\"\"    \n",
    "    categories_y=recup_cat(data_f)\n",
    "    \n",
    "    counter_list_y = co.Counter(categories_y).most_common()\n",
    "    counter_list_y = dict(counter_list_y)\n",
    "    \n",
    "    dico=dict()\n",
    "    for i in counter_list_y.keys():\n",
    "        if i in counter_list:\n",
    "            dico[i]=counter_list_y[i]\n",
    "    \n",
    "    \n",
    "    \"\"\"On conserve le premier élément de chaque couple de counter_list (ie. sur le genre) et on inverse l'ordre de la liste\"\"\"\n",
    "    labels = [key for key in dico.keys()]\n",
    "    #labels = [_[0] for _ in dico][::-1]\n",
    "    #print (labels)\n",
    "\n",
    "    \"\"\"Idem pour le nombre d'occurrences\"\"\"\n",
    "    values = [value for value in dico.values()]\n",
    "    #values = [_[1] for _ in dico][::-1]\n",
    "    return (values,labels)"
   ]
  },
  {
   "cell_type": "code",
   "execution_count": 23,
   "metadata": {},
   "outputs": [],
   "source": [
    "\"\"\"----------Fonction qui compare les effectifs des genres populaires pour 3 années données----------\"\"\"\n",
    "\n",
    "def genra_comp(year1,year2,year3,nombre=5):\n",
    "    fig = go.Figure(data=[\n",
    "        go.Bar(name=str(year1), y=prep(year1,nombre)[0], x=prep(year1,nombre)[1]),\n",
    "        go.Bar(name=str(year2), y=prep(year2,nombre)[0], x=prep(year2,nombre)[1]),\n",
    "        go.Bar(name=str(year3), y=prep(year3,nombre)[0], x=prep(year3,nombre)[1])\n",
    "    ])\n",
    "    # Change the bar mode\n",
    "    fig.update_layout(barmode='group')\n",
    "    \n",
    "    fig.update_layout(template = 'presentation',\n",
    "                      title='Contenu populaire en '+str(year1)+\", \"+str(year2)+\" et \"+str(year3),\n",
    "                      font_size= 15, legend=dict(yanchor=\"top\", y=0.99, xanchor=\"right\", x=1))\n",
    "    fig.show()\n",
    "    return"
   ]
  },
  {
   "cell_type": "code",
   "execution_count": 24,
   "metadata": {},
   "outputs": [
    {
     "name": "stdout",
     "output_type": "stream",
     "text": [
      "{'Drama': 577, 'Comedy': 359, 'Documentary': 216, 'Action & Adventure': 212, 'Crime': 206}\n",
      "{'Drama': 577, 'Comedy': 359, 'Documentary': 216, 'Action & Adventure': 212, 'Crime': 206}\n",
      "{'Drama': 577, 'Comedy': 359, 'Documentary': 216, 'Action & Adventure': 212, 'Crime': 206}\n",
      "{'Drama': 577, 'Comedy': 359, 'Documentary': 216, 'Action & Adventure': 212, 'Crime': 206}\n",
      "{'Drama': 577, 'Comedy': 359, 'Documentary': 216, 'Action & Adventure': 212, 'Crime': 206}\n",
      "{'Drama': 577, 'Comedy': 359, 'Documentary': 216, 'Action & Adventure': 212, 'Crime': 206}\n"
     ]
    },
    {
     "data": {
      "application/vnd.plotly.v1+json": {
       "config": {
        "plotlyServerURL": "https://plot.ly"
       },
       "data": [
        {
         "name": "2015",
         "type": "bar",
         "x": [
          "Drama",
          "Comedy",
          "Crime",
          "Action & Adventure",
          "Documentary"
         ],
         "y": [
          45,
          26,
          18,
          13,
          6
         ]
        },
        {
         "name": "2017",
         "type": "bar",
         "x": [
          "Drama",
          "Comedy",
          "Crime",
          "Documentary",
          "Action & Adventure"
         ],
         "y": [
          80,
          47,
          36,
          29,
          27
         ]
        },
        {
         "name": "2020",
         "type": "bar",
         "x": [
          "Drama",
          "Documentary",
          "Comedy",
          "Crime",
          "Action & Adventure"
         ],
         "y": [
          69,
          43,
          40,
          33,
          24
         ]
        }
       ],
       "layout": {
        "barmode": "group",
        "font": {
         "size": 15
        },
        "legend": {
         "x": 1,
         "xanchor": "right",
         "y": 0.99,
         "yanchor": "top"
        },
        "template": {
         "data": {
          "pie": [
           {
            "automargin": true,
            "type": "pie"
           }
          ],
          "scatter": [
           {
            "line": {
             "width": 3
            },
            "marker": {
             "size": 9
            },
            "type": "scatter"
           }
          ],
          "scatter3d": [
           {
            "line": {
             "width": 3
            },
            "marker": {
             "size": 9
            },
            "type": "scatter3d"
           }
          ],
          "scattergeo": [
           {
            "line": {
             "width": 3
            },
            "marker": {
             "size": 9
            },
            "type": "scattergeo"
           }
          ],
          "scattergl": [
           {
            "line": {
             "width": 3
            },
            "marker": {
             "size": 9
            },
            "type": "scattergl"
           }
          ],
          "scatterpolar": [
           {
            "line": {
             "width": 3
            },
            "marker": {
             "size": 9
            },
            "type": "scatterpolar"
           }
          ],
          "scatterpolargl": [
           {
            "line": {
             "width": 3
            },
            "marker": {
             "size": 9
            },
            "type": "scatterpolargl"
           }
          ],
          "scatterternary": [
           {
            "line": {
             "width": 3
            },
            "marker": {
             "size": 9
            },
            "type": "scatterternary"
           }
          ],
          "table": [
           {
            "cells": {
             "height": 30
            },
            "header": {
             "height": 36
            },
            "type": "table"
           }
          ]
         },
         "layout": {
          "font": {
           "size": 18
          },
          "xaxis": {
           "title": {
            "standoff": 15
           }
          },
          "yaxis": {
           "title": {
            "standoff": 15
           }
          }
         }
        },
        "title": {
         "text": "Contenu populaire en 2015, 2017 et 2020"
        }
       }
      },
      "text/html": [
       "<div>                            <div id=\"8a539161-159c-4567-9689-f927d7c36b2b\" class=\"plotly-graph-div\" style=\"height:525px; width:100%;\"></div>            <script type=\"text/javascript\">                require([\"plotly\"], function(Plotly) {                    window.PLOTLYENV=window.PLOTLYENV || {};                                    if (document.getElementById(\"8a539161-159c-4567-9689-f927d7c36b2b\")) {                    Plotly.newPlot(                        \"8a539161-159c-4567-9689-f927d7c36b2b\",                        [{\"name\": \"2015\", \"type\": \"bar\", \"x\": [\"Drama\", \"Comedy\", \"Crime\", \"Action & Adventure\", \"Documentary\"], \"y\": [45, 26, 18, 13, 6]}, {\"name\": \"2017\", \"type\": \"bar\", \"x\": [\"Drama\", \"Comedy\", \"Crime\", \"Documentary\", \"Action & Adventure\"], \"y\": [80, 47, 36, 29, 27]}, {\"name\": \"2020\", \"type\": \"bar\", \"x\": [\"Drama\", \"Documentary\", \"Comedy\", \"Crime\", \"Action & Adventure\"], \"y\": [69, 43, 40, 33, 24]}],                        {\"barmode\": \"group\", \"font\": {\"size\": 15}, \"legend\": {\"x\": 1, \"xanchor\": \"right\", \"y\": 0.99, \"yanchor\": \"top\"}, \"template\": {\"data\": {\"pie\": [{\"automargin\": true, \"type\": \"pie\"}], \"scatter\": [{\"line\": {\"width\": 3}, \"marker\": {\"size\": 9}, \"type\": \"scatter\"}], \"scatter3d\": [{\"line\": {\"width\": 3}, \"marker\": {\"size\": 9}, \"type\": \"scatter3d\"}], \"scattergeo\": [{\"line\": {\"width\": 3}, \"marker\": {\"size\": 9}, \"type\": \"scattergeo\"}], \"scattergl\": [{\"line\": {\"width\": 3}, \"marker\": {\"size\": 9}, \"type\": \"scattergl\"}], \"scatterpolar\": [{\"line\": {\"width\": 3}, \"marker\": {\"size\": 9}, \"type\": \"scatterpolar\"}], \"scatterpolargl\": [{\"line\": {\"width\": 3}, \"marker\": {\"size\": 9}, \"type\": \"scatterpolargl\"}], \"scatterternary\": [{\"line\": {\"width\": 3}, \"marker\": {\"size\": 9}, \"type\": \"scatterternary\"}], \"table\": [{\"cells\": {\"height\": 30}, \"header\": {\"height\": 36}, \"type\": \"table\"}]}, \"layout\": {\"font\": {\"size\": 18}, \"xaxis\": {\"title\": {\"standoff\": 15}}, \"yaxis\": {\"title\": {\"standoff\": 15}}}}, \"title\": {\"text\": \"Contenu populaire en 2015, 2017 et 2020\"}},                        {\"responsive\": true}                    ).then(function(){\n",
       "                            \n",
       "var gd = document.getElementById('8a539161-159c-4567-9689-f927d7c36b2b');\n",
       "var x = new MutationObserver(function (mutations, observer) {{\n",
       "        var display = window.getComputedStyle(gd).display;\n",
       "        if (!display || display === 'none') {{\n",
       "            console.log([gd, 'removed!']);\n",
       "            Plotly.purge(gd);\n",
       "            observer.disconnect();\n",
       "        }}\n",
       "}});\n",
       "\n",
       "// Listen for the removal of the full notebook cells\n",
       "var notebookContainer = gd.closest('#notebook-container');\n",
       "if (notebookContainer) {{\n",
       "    x.observe(notebookContainer, {childList: true});\n",
       "}}\n",
       "\n",
       "// Listen for the clearing of the current output cell\n",
       "var outputEl = gd.closest('.output');\n",
       "if (outputEl) {{\n",
       "    x.observe(outputEl, {childList: true});\n",
       "}}\n",
       "\n",
       "                        })                };                });            </script>        </div>"
      ]
     },
     "metadata": {},
     "output_type": "display_data"
    }
   ],
   "source": [
    "genra_comp(2015,2017,2020,5)"
   ]
  },
  {
   "cell_type": "code",
   "execution_count": 35,
   "metadata": {},
   "outputs": [
    {
     "data": {
      "text/plain": [
       "Series Title           object\n",
       "Year Released           int64\n",
       "Content Rating         object\n",
       "IMDB Rating           float64\n",
       "R Rating                int64\n",
       "Genre                  object\n",
       "Description            object\n",
       "No of Seasons           int64\n",
       "Streaming Platform     object\n",
       "Top IMDB                int64\n",
       "dtype: object"
      ]
     },
     "execution_count": 35,
     "metadata": {},
     "output_type": "execute_result"
    }
   ],
   "source": [
    "AS_N.dtypes"
   ]
  },
  {
   "cell_type": "code",
   "execution_count": 67,
   "metadata": {},
   "outputs": [
    {
     "data": {
      "text/plain": [
       "array(['Netflix', 'HBO MAX,HBO', 'Free Services,HBO MAX,Hulu',\n",
       "       'Prime Video', 'Hulu', 'Netflix,CBS All Access,Hoopla',\n",
       "       'HBO MAX,Hulu,TBS', 'Netflix,Comedy Central,fuboTV',\n",
       "       'Free Services,Netflix,TNT', 'Free Services,Netflix,Hulu',\n",
       "       'Free Services,Prime Video,NBC', 'Prime Video,USA,fuboTV',\n",
       "       'Free Services,Netflix,YouTube Premium', 'Free Services,Hulu,FX',\n",
       "       'Disney+', 'Prime Video,Hulu', 'Netflix,AMC,fuboTV',\n",
       "       'Free Services,Hulu', 'Free Services,Hulu,TBS',\n",
       "       'Free Services,Netflix,Showtime',\n",
       "       'Free Services,Netflix,Prime Video', 'Free Services,Netflix',\n",
       "       'Free Services', 'Netflix,Showtime,fuboTV',\n",
       "       'Free Services,Hulu,ABC', 'Free Services,Prime Video',\n",
       "       'Hulu,FX,Viceland', 'Netflix,Showtime,Hulu', 'Hulu,TBS,fuboTV',\n",
       "       'Free Services,Netflix,HBO MAX',\n",
       "       'Free Services,Prime Video,BritBox',\n",
       "       'Free Services,Showtime,fuboTV', 'Free Services,Netflix,fuboTV',\n",
       "       'Free Services,Hulu,Crunchyroll', 'Netflix,Starz',\n",
       "       'Hulu,Syfy,Comedy Central', 'Free Services,Netflix,CBS All Access',\n",
       "       'Hulu,FX,fuboTV', 'Free Services,Hulu,Disney+', 'Netflix,Hulu',\n",
       "       'Hulu,BBC America', 'Free Services,fuboTV,Peacock Premium',\n",
       "       'Free Services,Hulu,BBC America', 'Free Services,Hulu,NBC',\n",
       "       'HBO MAX,Prime Video,Starz', 'Prime Video,BBC America',\n",
       "       'DC Universe', 'HBO MAX,HBO,Prime Video', 'Hulu,Comedy Central',\n",
       "       'Netflix,Prime Video,Hulu', 'HBO MAX,Hulu,BritBox', 'BBC America',\n",
       "       'Apple TV+', 'Netflix,Hulu,CBS All Access', 'Netflix,TBS',\n",
       "       'Hulu,AcornTV,AMC', 'Free Services,Hulu,Starz', 'HBO MAX',\n",
       "       'Hulu,FX,FOX', 'HBO MAX,DC Universe',\n",
       "       'Free Services,Prime Video,Hulu', 'Netflix,USA,fuboTV',\n",
       "       'Free Services,CBS All Access,Comedy Central',\n",
       "       'Free Services,Hulu,Adult Swim', 'Prime Video,CBS All Access',\n",
       "       'HBO MAX,BBC America', nan, 'Netflix,FOX', 'Prime Video,Hulu,TNT',\n",
       "       'Free Services,Hulu,CBS All Access', 'Hulu,Funimation',\n",
       "       'Prime Video,Hulu,AcornTV', 'Cinemax', 'Starz',\n",
       "       'HBO MAX,TNT,Hoopla', 'Free Services,Starz',\n",
       "       'Free Services,Hulu,Funimation',\n",
       "       'Free Services,Prime Video,Showtime', 'BritBox',\n",
       "       'Free Services,HBO MAX', 'Free Services,Prime Video,fuboTV',\n",
       "       'Netflix,Showtime', 'Netflix,Syfy,fuboTV', 'Netflix,Hoopla',\n",
       "       'Funimation', 'Prime Video,Hoopla', 'Free Services,Disney+,fuboTV',\n",
       "       'Free Services,fuboTV', 'Free Services,Hulu,Comedy Central',\n",
       "       'Netflix,fuboTV', 'HBO MAX,Prime Video,BritBox',\n",
       "       'Free Services,Prime Video,AcornTV', 'Free Services,Hulu,FOX',\n",
       "       'Free Services,Hoopla', 'Netflix,Comedy Central', 'Netflix,TNT',\n",
       "       'Prime Video,BritBox', 'CBS All Access',\n",
       "       'Free Services,YouTube Premium',\n",
       "       'Free Services,HBO MAX,Adult Swim', 'Hulu,TNT,Hoopla',\n",
       "       'Free Services,Hulu,fuboTV', 'Hulu,FOX', 'Netflix,AcornTV',\n",
       "       'Free Services,Netflix,Hoopla', 'Prime Video,Hulu,MTV',\n",
       "       'Prime Video,Starz', 'Free Services,DC Universe',\n",
       "       'Netflix,Prime Video', 'Free Services,HBO MAX,fuboTV',\n",
       "       'Free Services,Hulu,TVLand', 'HBO MAX,Prime Video,BBC America',\n",
       "       'Netflix,USA', 'Hulu,fuboTV', 'Prime Video,CBS All Access,Nick',\n",
       "       'IFC,TVLand,fuboTV', 'Hulu,Disney+', 'Hulu,Hoopla',\n",
       "       'Prime Video,Showtime,fuboTV', 'Netflix,Hulu,Funimation',\n",
       "       'Free Services,HBO', 'Netflix,Prime Video,fuboTV',\n",
       "       'TBS,Adult Swim', 'AcornTV', 'Hoopla',\n",
       "       'Free Services,Peacock Premium', 'Free Services,AMC Premiere',\n",
       "       'Free Services,HBO MAX,Prime Video', 'Prime Video,TNT',\n",
       "       'Free Services,Syfy,fuboTV', 'Free Services,Adult Swim',\n",
       "       'Hulu,TVLand', 'Hulu,AcornTV,BritBox', 'Hulu,BritBox,Hoopla',\n",
       "       'HBO MAX,BritBox', 'Netflix,IFC,fuboTV',\n",
       "       'Free Services,CBS All Access', 'AcornTV,BritBox,Hoopla',\n",
       "       'BritBox,Hoopla', 'AcornTV,Hoopla', 'TBS,Peacock Premium',\n",
       "       'Hulu,IFC,AMC', 'HBO MAX,Hulu,Cartoon Network',\n",
       "       'Netflix,Funimation', 'Free Services,Adult Swim,fuboTV',\n",
       "       'Free Services,Prime Video,CBS All Access', 'Prime Video,Cinemax',\n",
       "       'Showtime,fuboTV', 'Free Services,AcornTV,BritBox',\n",
       "       'Free Services,HBO MAX,CBS All Access', 'Epix',\n",
       "       'Free Services,HBO MAX,Crunchyroll', 'Hulu,Science',\n",
       "       'Free Services,AcornTV', 'HBO MAX,Hoopla',\n",
       "       'Free Services,Netflix,Funimation', 'HBO MAX,Hulu,Hoopla',\n",
       "       'Free Services,Funimation', 'Prime Video,Hulu,CBS All Access',\n",
       "       'Free Services,Comedy Central', 'Free Services,Hulu,History',\n",
       "       'Prime Video,Hulu,BritBox', 'Hulu,FOX,Hoopla',\n",
       "       'Free Services,Starz,Hoopla', 'Shudder,AMC Premiere',\n",
       "       'Hulu,CBS All Access,VH1', 'Free Services,Comedy Central,fuboTV',\n",
       "       'Sundance,TNT,fuboTV', 'Hulu,BBC America,AMC', 'BET',\n",
       "       'Free Services,Hulu,Hoopla', 'Free Services,Nick,Hoopla',\n",
       "       'Free Services,HBO MAX,HBO', 'HBO MAX,Hulu',\n",
       "       'Free Services,CBS All Access,USA',\n",
       "       'Netflix,Prime Video,CBS All Access', 'Hulu,Viceland',\n",
       "       'Free Services,Hulu,AcornTV', 'TVLand,Peacock Premium',\n",
       "       'Free Services,Prime Video,Starz', 'Prime Video,Epix',\n",
       "       'Free Services,Netflix,BritBox', 'TNT',\n",
       "       'Free Services,Netflix,NatGeo', 'Hulu,TBS', 'Hulu,Nick',\n",
       "       'Free Services,Disney+', 'HBO MAX,TBS', 'Shudder,fuboTV',\n",
       "       'Free Services,NBC', 'Starz,Hoopla', 'AMC Premiere',\n",
       "       'Free Services,Hulu,NatGeo', 'Netflix,TruTV,Hoopla',\n",
       "       'Sundance,fuboTV', 'Free Services,NatGeo',\n",
       "       'Free Services,Hulu,MTV', 'Free Services,CBS All Access,fuboTV',\n",
       "       'Free Services,Hulu,Syfy', 'HBO MAX,Hulu,TruTV',\n",
       "       'Hulu,Nick,Hoopla', 'CBS All Access,fuboTV,Hoopla', 'fuboTV',\n",
       "       'AMC,AMC Premiere', 'Hulu,History', 'CBS All Access,Nick,fuboTV',\n",
       "       'Shudder', 'Free Services,Prime Video,Sundance',\n",
       "       'Hulu,CBS All Access,fuboTV', 'Hulu,AcornTV,Hoopla', 'TBS',\n",
       "       'Syfy,fuboTV', 'Free Services,Hulu,USA', 'Hulu,TBS,Hoopla',\n",
       "       'Netflix,Hallmark', 'Free Services,CBS All Access,MTV',\n",
       "       'Free Services,Hulu,Travel Channel', 'Hulu,FOX,NatGeo',\n",
       "       'fuboTV,Hoopla', 'Hulu,CBS All Access',\n",
       "       'Hulu,Adult Swim,Funimation', 'BET+', 'Hulu,FX',\n",
       "       'Free Services,Prime Video,Viceland', 'Hulu,A&E',\n",
       "       'Prime Video,BritBox,Hoopla', 'Netflix,Epix', 'Hulu,BritBox',\n",
       "       'Science', 'Hulu,TNT', 'Prime Video,Hulu,Hoopla',\n",
       "       'HBO MAX,TruTV,fuboTV', 'CBS All Access,BET,BET+',\n",
       "       'Prime Video,AcornTV,Hoopla', 'Hulu,Travel Channel,Food Network',\n",
       "       'Free Services,Disney+,Disney',\n",
       "       'Free Services,HBO MAX,Comedy Central', 'Netflix,Lifetime,Hoopla',\n",
       "       'Free Services,HBO MAX,Cartoon Network', 'Free Services,MTV',\n",
       "       'AMC,fuboTV,AMC Premiere', 'Hallmark,Hallmark Movies Now',\n",
       "       'Free Services,Crunchyroll', 'Prime Video,Hulu,Science',\n",
       "       'Hulu,Bravo,fuboTV', 'Netflix,History,Hoopla', 'IFC',\n",
       "       'Netflix,Hulu,Hoopla', 'Free Services,FOX', 'FOX',\n",
       "       'Hulu,AMC Premiere', 'Nick', 'Free Services,Netflix,TBS',\n",
       "       'Free Services,CBS All Access,TNT', 'Netflix,Hulu,fuboTV',\n",
       "       'Netflix,HBO MAX,TruTV', 'Free Services,Hulu,A&E',\n",
       "       'Free Services,Bravo,fuboTV', 'Syfy', 'Hulu,fuboTV,BET+',\n",
       "       'USA,fuboTV', 'Peacock Premium', 'Netflix,Hulu,History', 'HBO',\n",
       "       'HBO MAX,HBO,Hoopla', 'Free Services,Crunchyroll,Funimation',\n",
       "       'Epix,AMC,fuboTV', 'Free Services,VH1', 'Free Services,Hulu,Bravo',\n",
       "       'Free Services,Food Network', 'Hulu,Disney+,fuboTV',\n",
       "       'Free Services,CBS All Access,TVLand',\n",
       "       'Free Services,Prime Video,Hoopla', 'BBC America,fuboTV',\n",
       "       'Free Services,MTV,VH1', 'FX', 'Prime Video,Hulu,BBC America',\n",
       "       'Hulu,Science,fuboTV', 'Free Services,BritBox',\n",
       "       'Free Services,A&E,fuboTV', 'CBS All Access,Comedy Central,fuboTV',\n",
       "       'Free Services,Hulu,Food Network', 'Hulu,Starz',\n",
       "       'HBO MAX,Adult Swim', 'Hulu,Sundance,fuboTV',\n",
       "       'fuboTV,Peacock Premium', 'Hulu,Disney+,FOX',\n",
       "       'Free Services,CBS All Access,Nick',\n",
       "       'Free Services,Netflix,Crunchyroll', 'Free Services,Syfy', 'TLC',\n",
       "       'Hulu,Sundance', 'Free Services,Hulu,HGTV', 'Hulu,TLC,fuboTV',\n",
       "       'Free Services,CNBC,fuboTV', 'Free Services,IndieFlix,Hoopla',\n",
       "       'FX,fuboTV', 'Free Services,TVLand,Hoopla',\n",
       "       'Free Services,CBS All Access,BET+', 'Hulu,BET+',\n",
       "       'Free Services,Netflix,Starz', 'Showtime,Hulu,fuboTV',\n",
       "       'Free Services,HBO MAX,Funimation', 'Free Services,fuboTV,Hoopla',\n",
       "       'A&E', 'IndieFlix,Hoopla', 'Free Services,Hulu,Cartoon Network',\n",
       "       'Disney+,NatGeo', 'Netflix,AcornTV,CBS All Access',\n",
       "       'AcornTV,BritBox', 'Prime Video,fuboTV,Hoopla',\n",
       "       'Prime Video,fuboTV', 'Netflix,Prime Video,AcornTV', 'Sundance',\n",
       "       'History', 'Free Services,History,fuboTV', 'Netflix,BET+',\n",
       "       'Nick,fuboTV', 'Free Services,CBS All Access,NBC',\n",
       "       'Free Services,Hallmark Movies Now', 'Free Services,VH1,fuboTV',\n",
       "       'Prime Video,Hulu,TLC', 'Free Services,History', 'Netflix,Disney+',\n",
       "       'Free Services,Showtime,Hulu', 'Netflix,CBS All Access',\n",
       "       'Prime Video,Hulu,fuboTV', 'Hulu,TLC',\n",
       "       'Free Services,Showtime,BET', 'Free Services,Lifetime,fuboTV',\n",
       "       'Free Services,CBS All Access,BET', 'Showtime', 'YouTube Premium',\n",
       "       'Prime Video,History,Hoopla', 'Showtime,Hulu',\n",
       "       'Free Services,HGTV,fuboTV', 'Hulu,FOX,fuboTV',\n",
       "       'CBS All Access,fuboTV', 'Hulu,HGTV,fuboTV',\n",
       "       'Free Services,Hulu,Lifetime', 'HBO MAX,TruTV', 'Science,fuboTV',\n",
       "       'Free Services,Hulu,BritBox', 'Viceland',\n",
       "       'Free Services,Food Network,fuboTV', 'Free Services,MTV,fuboTV',\n",
       "       'Free Services,A&E,Hoopla', 'Hallmark Movies Now', 'AMC',\n",
       "       'Netflix,TBS,Hoopla', 'Hulu,AMC,AMC Premiere',\n",
       "       'Prime Video,AcornTV', 'Free Services,Travel Channel',\n",
       "       'Free Services,BET,fuboTV', 'Free Services,History,Hoopla',\n",
       "       'Free Services,AMC,fuboTV', 'Free Services,USA,fuboTV',\n",
       "       'TNT,fuboTV', 'TLC,fuboTV', 'Lifetime,fuboTV',\n",
       "       'Hulu,TLC,Food Network', 'Prime Video,CBS All Access,fuboTV',\n",
       "       'Free Services,Hulu,IndieFlix', 'Prime Video,Hulu,A&E',\n",
       "       'Free Services,BET,BET+', 'Free Services,Netflix,Bravo',\n",
       "       'Free Services,Prime Video,A&E', 'BET,BET+', 'Hulu,NBC,USA',\n",
       "       'Netflix,Hulu,TruTV', 'Free Services,A&E',\n",
       "       'Free Services,Disney+,FOX', 'Prime Video,CBS All Access,MTV',\n",
       "       'Free Services,Hulu,DIY', 'Free Services,AcornTV,Hoopla',\n",
       "       'Free Services,TVLand', 'Starz,fuboTV', 'Hulu,Food Network,fuboTV',\n",
       "       'Free Services,Starz,CBS All Access', 'TruTV',\n",
       "       'Free Services,Lifetime', 'VH1,BET+',\n",
       "       'Free Services,Netflix,Disney+', 'Free Services,BritBox,Hoopla',\n",
       "       'Hulu,NatGeo', 'Hulu,DIY,fuboTV', 'CBS All Access,BET+',\n",
       "       'Hulu,Epix', 'Comedy Central', 'Crunchyroll',\n",
       "       'Starz,CBS All Access', 'CBS All Access,fuboTV,BET+',\n",
       "       'Free Services,Prime Video,Travel Channel', 'Prime Video,Showtime',\n",
       "       'Free Services,Cartoon Network,fuboTV', 'Prime Video,TLC',\n",
       "       'Free Services,Viceland', 'Free Services,IndieFlix',\n",
       "       'Hulu,History,fuboTV', 'Viceland,fuboTV',\n",
       "       'Free Services,Prime Video,History', 'Lifetime,Hoopla',\n",
       "       'Hulu,Starz,CBS All Access', 'Free Services,VH1,Hoopla',\n",
       "       'Bravo,fuboTV', 'Free Services,MTV,Hoopla', 'Hulu,Nick,fuboTV',\n",
       "       'Free Services,AMC,AMC Premiere', 'CBS All Access,MTV,Hoopla',\n",
       "       'NatGeo', 'Free Services,DIY,fuboTV', 'Prime Video,Science,fuboTV',\n",
       "       'Free Services,Hulu,Nick', 'History,Hoopla', 'Prime Video,History',\n",
       "       'Sundance,fuboTV,AMC Premiere', 'Free Services,Hulu,Viceland',\n",
       "       'Hulu,fuboTV,Hoopla', 'HBO MAX,HBO,Hulu',\n",
       "       'Prime Video,Hulu,NatGeo', 'Free Services,FYI',\n",
       "       'Free Services,VH1,BET+', 'Prime Video,AcornTV,BritBox',\n",
       "       'Hulu,IFC,fuboTV', 'Free Services,CBS All Access,Hoopla',\n",
       "       'Free Services,FYI,Hoopla', 'Hulu,Peacock Premium',\n",
       "       'Free Services,Netflix,Cartoon Network',\n",
       "       'Prime Video,Hallmark Movies Now', 'Free Services,TLC',\n",
       "       'NBC,USA,fuboTV', 'Disney+,FOX,NatGeo', 'Free Services,TLC,fuboTV',\n",
       "       'HBO MAX,Hulu,fuboTV', 'Free Services,Nick',\n",
       "       'Free Services,HBO,Viceland', 'Netflix,Bravo',\n",
       "       'Free Services,Disney', 'MTV,fuboTV', 'Disney+,fuboTV', 'MTV',\n",
       "       'MTV,Hoopla', 'Prime Video,TLC,fuboTV', 'Free Services,CNBC,NBC',\n",
       "       'Hulu,DIY,HGTV', 'Hulu,USA,fuboTV', 'Travel Channel',\n",
       "       'Food Network,fuboTV', 'Free Services,DIY,HGTV',\n",
       "       'Free Services,TVLand,BET+', '-1',\n",
       "       'Free Services,Netflix,Lifetime', 'fuboTV,BET+',\n",
       "       'Free Services,Comedy Central,Hoopla',\n",
       "       'Travel Channel,Food Network,fuboTV', 'Free Services,HGTV',\n",
       "       'Free Services,Prime Video,Crunchyroll', 'Free Services,DIY,TLC',\n",
       "       'A&E,Hoopla', 'Free Services,Hulu,Peacock Premium',\n",
       "       'Prime Video,DC Universe', 'Free Services,Starz,Funimation',\n",
       "       'Starz,Funimation', 'Free Services,Syfy,YouTube Premium',\n",
       "       'HGTV,fuboTV', 'Free Services,MTV,BET+', 'Free Services,CNBC',\n",
       "       'Comedy Central,Hoopla', 'Free Services,USA', 'ABC', 'Lifetime',\n",
       "       'DIY,HGTV,fuboTV', 'AcornTV,fuboTV,Hoopla', 'IndieFlix,fuboTV',\n",
       "       'Free Services,Hulu,VH1', 'Food Network',\n",
       "       'Free Services,Prime Video,Food Network',\n",
       "       'Netflix,Prime Video,Hoopla', 'FOX,NatGeo', 'Prime Video,BET+',\n",
       "       'Free Services,FYI,A&E', 'TruTV,fuboTV', 'Netflix,A&E',\n",
       "       'Free Services,Comedy Central,BET+',\n",
       "       'Free Services,Prime Video,TLC', 'Prime Video,Science,Hoopla',\n",
       "       'Free Services,Lifetime,Hoopla', 'Hulu,History,Hoopla',\n",
       "       'Travel Channel,fuboTV', 'Netflix,Peacock Premium', 'HGTV',\n",
       "       'Disney+,NatGeo,fuboTV', 'IFC,fuboTV', 'Hulu,ABC',\n",
       "       'Hoopla,Hallmark Movies Now', 'Bravo', 'USA', 'Hulu,A&E,Hoopla',\n",
       "       'Free Services,BET+', 'Comedy Central,fuboTV', 'DIY,HGTV',\n",
       "       'Free Services,Cartoon Network', 'Hulu,Food Network',\n",
       "       'HBO MAX,Prime Video', 'Free Services,Hulu,CNBC', 'HBO,Hoopla',\n",
       "       'Free Services,Travel Channel,fuboTV', 'DIY,fuboTV',\n",
       "       'Free Services,Prime Video,MTV',\n",
       "       'Free Services,Prime Video,Lifetime', 'Free Services,NBC,fuboTV',\n",
       "       'HBO,TLC', 'Hulu,HGTV', 'Viceland,fuboTV,Hoopla',\n",
       "       'Science,TLC,fuboTV', 'Prime Video,IndieFlix',\n",
       "       'YouTube Premium,Hoopla', 'Free Services,Viceland,Hoopla', 'DIY',\n",
       "       'Prime Video,Hulu,Starz', 'CBS All Access,Lifetime',\n",
       "       'Free Services,Prime Video,Funimation', 'Free Services,DIY',\n",
       "       'Free Services,FOX,NatGeo', 'Netflix,Food Network',\n",
       "       'Free Services,Prime Video,Science', 'Prime Video,Science', 'VH1',\n",
       "       'Free Services,BET', 'Hallmark,fuboTV', 'FYI'], dtype=object)"
      ]
     },
     "execution_count": 67,
     "metadata": {},
     "output_type": "execute_result"
    }
   ],
   "source": [
    "AS['Streaming Platform'].unique()"
   ]
  },
  {
   "cell_type": "code",
   "execution_count": null,
   "metadata": {},
   "outputs": [],
   "source": []
  },
  {
   "cell_type": "code",
   "execution_count": 64,
   "metadata": {},
   "outputs": [],
   "source": [
    "AS_N=AS[AS['Streaming Platform'].isin(['Netflix','Netflix,CBS All Access,Hoopla','Free Services,Netflix,TNT','Free Services,Netflix,YouTube Premium'])]\n",
    "AS_P=AS[AS['Streaming Platform'].isin(['Prime Video'])]\n",
    "AS_H=AS[AS['Streaming Platform'].isin(['Hulu','Free Services,HBO MAX,Hulu'])]\n",
    "AS_F=AS[AS['Streaming Platform'].isin(['fuboTV'])]\n"
   ]
  },
  {
   "cell_type": "code",
   "execution_count": 66,
   "metadata": {},
   "outputs": [
    {
     "data": {
      "text/html": [
       "<div>\n",
       "<style scoped>\n",
       "    .dataframe tbody tr th:only-of-type {\n",
       "        vertical-align: middle;\n",
       "    }\n",
       "\n",
       "    .dataframe tbody tr th {\n",
       "        vertical-align: top;\n",
       "    }\n",
       "\n",
       "    .dataframe thead th {\n",
       "        text-align: right;\n",
       "    }\n",
       "</style>\n",
       "<table border=\"1\" class=\"dataframe\">\n",
       "  <thead>\n",
       "    <tr style=\"text-align: right;\">\n",
       "      <th></th>\n",
       "      <th>Series Title</th>\n",
       "      <th>Year Released</th>\n",
       "      <th>Content Rating</th>\n",
       "      <th>IMDB Rating</th>\n",
       "      <th>R Rating</th>\n",
       "      <th>Genre</th>\n",
       "      <th>Description</th>\n",
       "      <th>No of Seasons</th>\n",
       "      <th>Streaming Platform</th>\n",
       "      <th>Top IMDB</th>\n",
       "    </tr>\n",
       "  </thead>\n",
       "  <tbody>\n",
       "    <tr>\n",
       "      <th>2</th>\n",
       "      <td>Rick and Morty</td>\n",
       "      <td>2013</td>\n",
       "      <td>18+</td>\n",
       "      <td>9.2</td>\n",
       "      <td>97</td>\n",
       "      <td>Animation,Comedy</td>\n",
       "      <td>Rick is a mentally-unbalanced but scientifical...</td>\n",
       "      <td>4</td>\n",
       "      <td>Free Services,HBO MAX,Hulu</td>\n",
       "      <td>1</td>\n",
       "    </tr>\n",
       "    <tr>\n",
       "      <th>8</th>\n",
       "      <td>Fargo</td>\n",
       "      <td>2014</td>\n",
       "      <td>18+</td>\n",
       "      <td>8.9</td>\n",
       "      <td>94</td>\n",
       "      <td>Crime,Drama</td>\n",
       "      <td>A close-knit anthology series dealing with sto...</td>\n",
       "      <td>3</td>\n",
       "      <td>Hulu</td>\n",
       "      <td>1</td>\n",
       "    </tr>\n",
       "    <tr>\n",
       "      <th>38</th>\n",
       "      <td>South Park</td>\n",
       "      <td>1997</td>\n",
       "      <td>18+</td>\n",
       "      <td>8.7</td>\n",
       "      <td>90</td>\n",
       "      <td>Animation,Comedy</td>\n",
       "      <td>Follows the misadventures of four irreverent g...</td>\n",
       "      <td>23</td>\n",
       "      <td>Free Services,HBO MAX,Hulu</td>\n",
       "      <td>1</td>\n",
       "    </tr>\n",
       "    <tr>\n",
       "      <th>42</th>\n",
       "      <td>Firefly</td>\n",
       "      <td>2002</td>\n",
       "      <td>16+</td>\n",
       "      <td>9.0</td>\n",
       "      <td>90</td>\n",
       "      <td>Drama,Science-Fiction</td>\n",
       "      <td>In the year 2517, after the arrival of humans ...</td>\n",
       "      <td>1</td>\n",
       "      <td>Hulu</td>\n",
       "      <td>1</td>\n",
       "    </tr>\n",
       "    <tr>\n",
       "      <th>61</th>\n",
       "      <td>How I Met Your Mother</td>\n",
       "      <td>2005</td>\n",
       "      <td>16+</td>\n",
       "      <td>8.3</td>\n",
       "      <td>89</td>\n",
       "      <td>Comedy,Romance</td>\n",
       "      <td>A father recounts to his children - through a ...</td>\n",
       "      <td>9</td>\n",
       "      <td>Hulu</td>\n",
       "      <td>0</td>\n",
       "    </tr>\n",
       "  </tbody>\n",
       "</table>\n",
       "</div>"
      ],
      "text/plain": [
       "             Series Title  Year Released Content Rating  IMDB Rating  \\\n",
       "2          Rick and Morty           2013            18+          9.2   \n",
       "8                   Fargo           2014            18+          8.9   \n",
       "38             South Park           1997            18+          8.7   \n",
       "42                Firefly           2002            16+          9.0   \n",
       "61  How I Met Your Mother           2005            16+          8.3   \n",
       "\n",
       "    R Rating                  Genre  \\\n",
       "2         97       Animation,Comedy   \n",
       "8         94            Crime,Drama   \n",
       "38        90       Animation,Comedy   \n",
       "42        90  Drama,Science-Fiction   \n",
       "61        89         Comedy,Romance   \n",
       "\n",
       "                                          Description  No of Seasons  \\\n",
       "2   Rick is a mentally-unbalanced but scientifical...              4   \n",
       "8   A close-knit anthology series dealing with sto...              3   \n",
       "38  Follows the misadventures of four irreverent g...             23   \n",
       "42  In the year 2517, after the arrival of humans ...              1   \n",
       "61  A father recounts to his children - through a ...              9   \n",
       "\n",
       "            Streaming Platform  Top IMDB  \n",
       "2   Free Services,HBO MAX,Hulu         1  \n",
       "8                         Hulu         1  \n",
       "38  Free Services,HBO MAX,Hulu         1  \n",
       "42                        Hulu         1  \n",
       "61                        Hulu         0  "
      ]
     },
     "execution_count": 66,
     "metadata": {},
     "output_type": "execute_result"
    }
   ],
   "source": [
    "AS_H.head()"
   ]
  },
  {
   "cell_type": "code",
   "execution_count": 54,
   "metadata": {},
   "outputs": [
    {
     "ename": "KeyError",
     "evalue": "False",
     "output_type": "error",
     "traceback": [
      "\u001b[1;31m---------------------------------------------------------------------------\u001b[0m",
      "\u001b[1;31mKeyError\u001b[0m                                  Traceback (most recent call last)",
      "\u001b[1;32m~\\Anaconda3\\lib\\site-packages\\pandas\\core\\indexes\\base.py\u001b[0m in \u001b[0;36mget_loc\u001b[1;34m(self, key, method, tolerance)\u001b[0m\n\u001b[0;32m   2645\u001b[0m             \u001b[1;32mtry\u001b[0m\u001b[1;33m:\u001b[0m\u001b[1;33m\u001b[0m\u001b[1;33m\u001b[0m\u001b[0m\n\u001b[1;32m-> 2646\u001b[1;33m                 \u001b[1;32mreturn\u001b[0m \u001b[0mself\u001b[0m\u001b[1;33m.\u001b[0m\u001b[0m_engine\u001b[0m\u001b[1;33m.\u001b[0m\u001b[0mget_loc\u001b[0m\u001b[1;33m(\u001b[0m\u001b[0mkey\u001b[0m\u001b[1;33m)\u001b[0m\u001b[1;33m\u001b[0m\u001b[1;33m\u001b[0m\u001b[0m\n\u001b[0m\u001b[0;32m   2647\u001b[0m             \u001b[1;32mexcept\u001b[0m \u001b[0mKeyError\u001b[0m\u001b[1;33m:\u001b[0m\u001b[1;33m\u001b[0m\u001b[1;33m\u001b[0m\u001b[0m\n",
      "\u001b[1;32mpandas\\_libs\\index.pyx\u001b[0m in \u001b[0;36mpandas._libs.index.IndexEngine.get_loc\u001b[1;34m()\u001b[0m\n",
      "\u001b[1;32mpandas\\_libs\\index.pyx\u001b[0m in \u001b[0;36mpandas._libs.index.IndexEngine.get_loc\u001b[1;34m()\u001b[0m\n",
      "\u001b[1;32mpandas\\_libs\\hashtable_class_helper.pxi\u001b[0m in \u001b[0;36mpandas._libs.hashtable.PyObjectHashTable.get_item\u001b[1;34m()\u001b[0m\n",
      "\u001b[1;32mpandas\\_libs\\hashtable_class_helper.pxi\u001b[0m in \u001b[0;36mpandas._libs.hashtable.PyObjectHashTable.get_item\u001b[1;34m()\u001b[0m\n",
      "\u001b[1;31mKeyError\u001b[0m: False",
      "\nDuring handling of the above exception, another exception occurred:\n",
      "\u001b[1;31mKeyError\u001b[0m                                  Traceback (most recent call last)",
      "\u001b[1;32m<ipython-input-54-43dd95e976e3>\u001b[0m in \u001b[0;36m<module>\u001b[1;34m\u001b[0m\n\u001b[0;32m      1\u001b[0m \u001b[1;31m#df_carac[df_carac['Netflix Exclusive'] == 'Yes']\u001b[0m\u001b[1;33m\u001b[0m\u001b[1;33m\u001b[0m\u001b[1;33m\u001b[0m\u001b[0m\n\u001b[1;32m----> 2\u001b[1;33m \u001b[0mAS\u001b[0m\u001b[1;33m[\u001b[0m\u001b[1;34m'Netflix'\u001b[0m \u001b[1;32min\u001b[0m \u001b[0mAS\u001b[0m\u001b[1;33m[\u001b[0m\u001b[1;34m'Streaming Platform'\u001b[0m\u001b[1;33m]\u001b[0m\u001b[1;33m]\u001b[0m\u001b[1;33m\u001b[0m\u001b[1;33m\u001b[0m\u001b[0m\n\u001b[0m",
      "\u001b[1;32m~\\Anaconda3\\lib\\site-packages\\pandas\\core\\frame.py\u001b[0m in \u001b[0;36m__getitem__\u001b[1;34m(self, key)\u001b[0m\n\u001b[0;32m   2798\u001b[0m             \u001b[1;32mif\u001b[0m \u001b[0mself\u001b[0m\u001b[1;33m.\u001b[0m\u001b[0mcolumns\u001b[0m\u001b[1;33m.\u001b[0m\u001b[0mnlevels\u001b[0m \u001b[1;33m>\u001b[0m \u001b[1;36m1\u001b[0m\u001b[1;33m:\u001b[0m\u001b[1;33m\u001b[0m\u001b[1;33m\u001b[0m\u001b[0m\n\u001b[0;32m   2799\u001b[0m                 \u001b[1;32mreturn\u001b[0m \u001b[0mself\u001b[0m\u001b[1;33m.\u001b[0m\u001b[0m_getitem_multilevel\u001b[0m\u001b[1;33m(\u001b[0m\u001b[0mkey\u001b[0m\u001b[1;33m)\u001b[0m\u001b[1;33m\u001b[0m\u001b[1;33m\u001b[0m\u001b[0m\n\u001b[1;32m-> 2800\u001b[1;33m             \u001b[0mindexer\u001b[0m \u001b[1;33m=\u001b[0m \u001b[0mself\u001b[0m\u001b[1;33m.\u001b[0m\u001b[0mcolumns\u001b[0m\u001b[1;33m.\u001b[0m\u001b[0mget_loc\u001b[0m\u001b[1;33m(\u001b[0m\u001b[0mkey\u001b[0m\u001b[1;33m)\u001b[0m\u001b[1;33m\u001b[0m\u001b[1;33m\u001b[0m\u001b[0m\n\u001b[0m\u001b[0;32m   2801\u001b[0m             \u001b[1;32mif\u001b[0m \u001b[0mis_integer\u001b[0m\u001b[1;33m(\u001b[0m\u001b[0mindexer\u001b[0m\u001b[1;33m)\u001b[0m\u001b[1;33m:\u001b[0m\u001b[1;33m\u001b[0m\u001b[1;33m\u001b[0m\u001b[0m\n\u001b[0;32m   2802\u001b[0m                 \u001b[0mindexer\u001b[0m \u001b[1;33m=\u001b[0m \u001b[1;33m[\u001b[0m\u001b[0mindexer\u001b[0m\u001b[1;33m]\u001b[0m\u001b[1;33m\u001b[0m\u001b[1;33m\u001b[0m\u001b[0m\n",
      "\u001b[1;32m~\\Anaconda3\\lib\\site-packages\\pandas\\core\\indexes\\base.py\u001b[0m in \u001b[0;36mget_loc\u001b[1;34m(self, key, method, tolerance)\u001b[0m\n\u001b[0;32m   2646\u001b[0m                 \u001b[1;32mreturn\u001b[0m \u001b[0mself\u001b[0m\u001b[1;33m.\u001b[0m\u001b[0m_engine\u001b[0m\u001b[1;33m.\u001b[0m\u001b[0mget_loc\u001b[0m\u001b[1;33m(\u001b[0m\u001b[0mkey\u001b[0m\u001b[1;33m)\u001b[0m\u001b[1;33m\u001b[0m\u001b[1;33m\u001b[0m\u001b[0m\n\u001b[0;32m   2647\u001b[0m             \u001b[1;32mexcept\u001b[0m \u001b[0mKeyError\u001b[0m\u001b[1;33m:\u001b[0m\u001b[1;33m\u001b[0m\u001b[1;33m\u001b[0m\u001b[0m\n\u001b[1;32m-> 2648\u001b[1;33m                 \u001b[1;32mreturn\u001b[0m \u001b[0mself\u001b[0m\u001b[1;33m.\u001b[0m\u001b[0m_engine\u001b[0m\u001b[1;33m.\u001b[0m\u001b[0mget_loc\u001b[0m\u001b[1;33m(\u001b[0m\u001b[0mself\u001b[0m\u001b[1;33m.\u001b[0m\u001b[0m_maybe_cast_indexer\u001b[0m\u001b[1;33m(\u001b[0m\u001b[0mkey\u001b[0m\u001b[1;33m)\u001b[0m\u001b[1;33m)\u001b[0m\u001b[1;33m\u001b[0m\u001b[1;33m\u001b[0m\u001b[0m\n\u001b[0m\u001b[0;32m   2649\u001b[0m         \u001b[0mindexer\u001b[0m \u001b[1;33m=\u001b[0m \u001b[0mself\u001b[0m\u001b[1;33m.\u001b[0m\u001b[0mget_indexer\u001b[0m\u001b[1;33m(\u001b[0m\u001b[1;33m[\u001b[0m\u001b[0mkey\u001b[0m\u001b[1;33m]\u001b[0m\u001b[1;33m,\u001b[0m \u001b[0mmethod\u001b[0m\u001b[1;33m=\u001b[0m\u001b[0mmethod\u001b[0m\u001b[1;33m,\u001b[0m \u001b[0mtolerance\u001b[0m\u001b[1;33m=\u001b[0m\u001b[0mtolerance\u001b[0m\u001b[1;33m)\u001b[0m\u001b[1;33m\u001b[0m\u001b[1;33m\u001b[0m\u001b[0m\n\u001b[0;32m   2650\u001b[0m         \u001b[1;32mif\u001b[0m \u001b[0mindexer\u001b[0m\u001b[1;33m.\u001b[0m\u001b[0mndim\u001b[0m \u001b[1;33m>\u001b[0m \u001b[1;36m1\u001b[0m \u001b[1;32mor\u001b[0m \u001b[0mindexer\u001b[0m\u001b[1;33m.\u001b[0m\u001b[0msize\u001b[0m \u001b[1;33m>\u001b[0m \u001b[1;36m1\u001b[0m\u001b[1;33m:\u001b[0m\u001b[1;33m\u001b[0m\u001b[1;33m\u001b[0m\u001b[0m\n",
      "\u001b[1;32mpandas\\_libs\\index.pyx\u001b[0m in \u001b[0;36mpandas._libs.index.IndexEngine.get_loc\u001b[1;34m()\u001b[0m\n",
      "\u001b[1;32mpandas\\_libs\\index.pyx\u001b[0m in \u001b[0;36mpandas._libs.index.IndexEngine.get_loc\u001b[1;34m()\u001b[0m\n",
      "\u001b[1;32mpandas\\_libs\\hashtable_class_helper.pxi\u001b[0m in \u001b[0;36mpandas._libs.hashtable.PyObjectHashTable.get_item\u001b[1;34m()\u001b[0m\n",
      "\u001b[1;32mpandas\\_libs\\hashtable_class_helper.pxi\u001b[0m in \u001b[0;36mpandas._libs.hashtable.PyObjectHashTable.get_item\u001b[1;34m()\u001b[0m\n",
      "\u001b[1;31mKeyError\u001b[0m: False"
     ]
    }
   ],
   "source": [
    "#df_carac[df_carac['Netflix Exclusive'] == 'Yes']\n",
    "AS[AS['Streaming Platform'] == 'Netflix']"
   ]
  },
  {
   "cell_type": "code",
   "execution_count": 45,
   "metadata": {},
   "outputs": [
    {
     "data": {
      "text/plain": [
       "6.973155677476236"
      ]
     },
     "execution_count": 45,
     "metadata": {},
     "output_type": "execute_result"
    }
   ],
   "source": [
    "mean=AS['IMDB Rating'].mean()\n",
    "mean"
   ]
  },
  {
   "cell_type": "code",
   "execution_count": 43,
   "metadata": {},
   "outputs": [
    {
     "ename": "KeyError",
     "evalue": "False",
     "output_type": "error",
     "traceback": [
      "\u001b[1;31m---------------------------------------------------------------------------\u001b[0m",
      "\u001b[1;31mKeyError\u001b[0m                                  Traceback (most recent call last)",
      "\u001b[1;32m~\\Anaconda3\\lib\\site-packages\\pandas\\core\\indexes\\base.py\u001b[0m in \u001b[0;36mget_loc\u001b[1;34m(self, key, method, tolerance)\u001b[0m\n\u001b[0;32m   2645\u001b[0m             \u001b[1;32mtry\u001b[0m\u001b[1;33m:\u001b[0m\u001b[1;33m\u001b[0m\u001b[1;33m\u001b[0m\u001b[0m\n\u001b[1;32m-> 2646\u001b[1;33m                 \u001b[1;32mreturn\u001b[0m \u001b[0mself\u001b[0m\u001b[1;33m.\u001b[0m\u001b[0m_engine\u001b[0m\u001b[1;33m.\u001b[0m\u001b[0mget_loc\u001b[0m\u001b[1;33m(\u001b[0m\u001b[0mkey\u001b[0m\u001b[1;33m)\u001b[0m\u001b[1;33m\u001b[0m\u001b[1;33m\u001b[0m\u001b[0m\n\u001b[0m\u001b[0;32m   2647\u001b[0m             \u001b[1;32mexcept\u001b[0m \u001b[0mKeyError\u001b[0m\u001b[1;33m:\u001b[0m\u001b[1;33m\u001b[0m\u001b[1;33m\u001b[0m\u001b[0m\n",
      "\u001b[1;32mpandas\\_libs\\index.pyx\u001b[0m in \u001b[0;36mpandas._libs.index.IndexEngine.get_loc\u001b[1;34m()\u001b[0m\n",
      "\u001b[1;32mpandas\\_libs\\index.pyx\u001b[0m in \u001b[0;36mpandas._libs.index.IndexEngine.get_loc\u001b[1;34m()\u001b[0m\n",
      "\u001b[1;32mpandas\\_libs\\hashtable_class_helper.pxi\u001b[0m in \u001b[0;36mpandas._libs.hashtable.PyObjectHashTable.get_item\u001b[1;34m()\u001b[0m\n",
      "\u001b[1;32mpandas\\_libs\\hashtable_class_helper.pxi\u001b[0m in \u001b[0;36mpandas._libs.hashtable.PyObjectHashTable.get_item\u001b[1;34m()\u001b[0m\n",
      "\u001b[1;31mKeyError\u001b[0m: False",
      "\nDuring handling of the above exception, another exception occurred:\n",
      "\u001b[1;31mKeyError\u001b[0m                                  Traceback (most recent call last)",
      "\u001b[1;32m<ipython-input-43-ac2a22d3c933>\u001b[0m in \u001b[0;36m<module>\u001b[1;34m\u001b[0m\n\u001b[1;32m----> 1\u001b[1;33m \u001b[0mmean_IMDB_Hulu\u001b[0m \u001b[1;33m=\u001b[0m \u001b[0mAS\u001b[0m\u001b[1;33m[\u001b[0m\u001b[1;34m'Hulu'\u001b[0m \u001b[1;32min\u001b[0m \u001b[0mAS\u001b[0m\u001b[1;33m[\u001b[0m\u001b[1;34m'Streaming Platform'\u001b[0m\u001b[1;33m]\u001b[0m\u001b[1;33m]\u001b[0m\u001b[1;33m[\u001b[0m\u001b[1;34m'IMDB Rating'\u001b[0m\u001b[1;33m]\u001b[0m\u001b[1;33m.\u001b[0m\u001b[0mmean\u001b[0m\u001b[1;33m(\u001b[0m\u001b[1;33m)\u001b[0m\u001b[1;33m\u001b[0m\u001b[1;33m\u001b[0m\u001b[0m\n\u001b[0m",
      "\u001b[1;32m~\\Anaconda3\\lib\\site-packages\\pandas\\core\\frame.py\u001b[0m in \u001b[0;36m__getitem__\u001b[1;34m(self, key)\u001b[0m\n\u001b[0;32m   2798\u001b[0m             \u001b[1;32mif\u001b[0m \u001b[0mself\u001b[0m\u001b[1;33m.\u001b[0m\u001b[0mcolumns\u001b[0m\u001b[1;33m.\u001b[0m\u001b[0mnlevels\u001b[0m \u001b[1;33m>\u001b[0m \u001b[1;36m1\u001b[0m\u001b[1;33m:\u001b[0m\u001b[1;33m\u001b[0m\u001b[1;33m\u001b[0m\u001b[0m\n\u001b[0;32m   2799\u001b[0m                 \u001b[1;32mreturn\u001b[0m \u001b[0mself\u001b[0m\u001b[1;33m.\u001b[0m\u001b[0m_getitem_multilevel\u001b[0m\u001b[1;33m(\u001b[0m\u001b[0mkey\u001b[0m\u001b[1;33m)\u001b[0m\u001b[1;33m\u001b[0m\u001b[1;33m\u001b[0m\u001b[0m\n\u001b[1;32m-> 2800\u001b[1;33m             \u001b[0mindexer\u001b[0m \u001b[1;33m=\u001b[0m \u001b[0mself\u001b[0m\u001b[1;33m.\u001b[0m\u001b[0mcolumns\u001b[0m\u001b[1;33m.\u001b[0m\u001b[0mget_loc\u001b[0m\u001b[1;33m(\u001b[0m\u001b[0mkey\u001b[0m\u001b[1;33m)\u001b[0m\u001b[1;33m\u001b[0m\u001b[1;33m\u001b[0m\u001b[0m\n\u001b[0m\u001b[0;32m   2801\u001b[0m             \u001b[1;32mif\u001b[0m \u001b[0mis_integer\u001b[0m\u001b[1;33m(\u001b[0m\u001b[0mindexer\u001b[0m\u001b[1;33m)\u001b[0m\u001b[1;33m:\u001b[0m\u001b[1;33m\u001b[0m\u001b[1;33m\u001b[0m\u001b[0m\n\u001b[0;32m   2802\u001b[0m                 \u001b[0mindexer\u001b[0m \u001b[1;33m=\u001b[0m \u001b[1;33m[\u001b[0m\u001b[0mindexer\u001b[0m\u001b[1;33m]\u001b[0m\u001b[1;33m\u001b[0m\u001b[1;33m\u001b[0m\u001b[0m\n",
      "\u001b[1;32m~\\Anaconda3\\lib\\site-packages\\pandas\\core\\indexes\\base.py\u001b[0m in \u001b[0;36mget_loc\u001b[1;34m(self, key, method, tolerance)\u001b[0m\n\u001b[0;32m   2646\u001b[0m                 \u001b[1;32mreturn\u001b[0m \u001b[0mself\u001b[0m\u001b[1;33m.\u001b[0m\u001b[0m_engine\u001b[0m\u001b[1;33m.\u001b[0m\u001b[0mget_loc\u001b[0m\u001b[1;33m(\u001b[0m\u001b[0mkey\u001b[0m\u001b[1;33m)\u001b[0m\u001b[1;33m\u001b[0m\u001b[1;33m\u001b[0m\u001b[0m\n\u001b[0;32m   2647\u001b[0m             \u001b[1;32mexcept\u001b[0m \u001b[0mKeyError\u001b[0m\u001b[1;33m:\u001b[0m\u001b[1;33m\u001b[0m\u001b[1;33m\u001b[0m\u001b[0m\n\u001b[1;32m-> 2648\u001b[1;33m                 \u001b[1;32mreturn\u001b[0m \u001b[0mself\u001b[0m\u001b[1;33m.\u001b[0m\u001b[0m_engine\u001b[0m\u001b[1;33m.\u001b[0m\u001b[0mget_loc\u001b[0m\u001b[1;33m(\u001b[0m\u001b[0mself\u001b[0m\u001b[1;33m.\u001b[0m\u001b[0m_maybe_cast_indexer\u001b[0m\u001b[1;33m(\u001b[0m\u001b[0mkey\u001b[0m\u001b[1;33m)\u001b[0m\u001b[1;33m)\u001b[0m\u001b[1;33m\u001b[0m\u001b[1;33m\u001b[0m\u001b[0m\n\u001b[0m\u001b[0;32m   2649\u001b[0m         \u001b[0mindexer\u001b[0m \u001b[1;33m=\u001b[0m \u001b[0mself\u001b[0m\u001b[1;33m.\u001b[0m\u001b[0mget_indexer\u001b[0m\u001b[1;33m(\u001b[0m\u001b[1;33m[\u001b[0m\u001b[0mkey\u001b[0m\u001b[1;33m]\u001b[0m\u001b[1;33m,\u001b[0m \u001b[0mmethod\u001b[0m\u001b[1;33m=\u001b[0m\u001b[0mmethod\u001b[0m\u001b[1;33m,\u001b[0m \u001b[0mtolerance\u001b[0m\u001b[1;33m=\u001b[0m\u001b[0mtolerance\u001b[0m\u001b[1;33m)\u001b[0m\u001b[1;33m\u001b[0m\u001b[1;33m\u001b[0m\u001b[0m\n\u001b[0;32m   2650\u001b[0m         \u001b[1;32mif\u001b[0m \u001b[0mindexer\u001b[0m\u001b[1;33m.\u001b[0m\u001b[0mndim\u001b[0m \u001b[1;33m>\u001b[0m \u001b[1;36m1\u001b[0m \u001b[1;32mor\u001b[0m \u001b[0mindexer\u001b[0m\u001b[1;33m.\u001b[0m\u001b[0msize\u001b[0m \u001b[1;33m>\u001b[0m \u001b[1;36m1\u001b[0m\u001b[1;33m:\u001b[0m\u001b[1;33m\u001b[0m\u001b[1;33m\u001b[0m\u001b[0m\n",
      "\u001b[1;32mpandas\\_libs\\index.pyx\u001b[0m in \u001b[0;36mpandas._libs.index.IndexEngine.get_loc\u001b[1;34m()\u001b[0m\n",
      "\u001b[1;32mpandas\\_libs\\index.pyx\u001b[0m in \u001b[0;36mpandas._libs.index.IndexEngine.get_loc\u001b[1;34m()\u001b[0m\n",
      "\u001b[1;32mpandas\\_libs\\hashtable_class_helper.pxi\u001b[0m in \u001b[0;36mpandas._libs.hashtable.PyObjectHashTable.get_item\u001b[1;34m()\u001b[0m\n",
      "\u001b[1;32mpandas\\_libs\\hashtable_class_helper.pxi\u001b[0m in \u001b[0;36mpandas._libs.hashtable.PyObjectHashTable.get_item\u001b[1;34m()\u001b[0m\n",
      "\u001b[1;31mKeyError\u001b[0m: False"
     ]
    }
   ],
   "source": [
    "mean_IMDB_Hulu = AS['Hulu' in AS['Streaming Platform']]['IMDB Rating'].mean()"
   ]
  },
  {
   "cell_type": "markdown",
   "metadata": {},
   "source": [
    "# Comparaison entre Plateformes"
   ]
  },
  {
   "cell_type": "markdown",
   "metadata": {},
   "source": [
    "Est-ce que Netflix a plus de séries que les autres?"
   ]
  },
  {
   "cell_type": "code",
   "execution_count": 25,
   "metadata": {},
   "outputs": [
    {
     "data": {
      "application/vnd.plotly.v1+json": {
       "config": {
        "plotlyServerURL": "https://plot.ly"
       },
       "data": [
        {
         "marker": {
          "color": "#DF0101"
         },
         "mode": "lines",
         "name": "Netflix",
         "type": "scatter",
         "x": [
          1994,
          1995,
          1996,
          1997,
          1998,
          1999,
          2000,
          2001,
          2002,
          2003,
          2004,
          2005,
          2006,
          2007,
          2008,
          2009,
          2010,
          2011,
          2012,
          2013,
          2014,
          2015,
          2016,
          2017,
          2018,
          2019,
          2020
         ],
         "xaxis": "x",
         "y": [
          2,
          5,
          7,
          8,
          9,
          11,
          12,
          15,
          19,
          24,
          29,
          33,
          35,
          43,
          53,
          73,
          91,
          114,
          153,
          192,
          235,
          334,
          490,
          685,
          952,
          1223,
          1421
         ],
         "yaxis": "y"
        },
        {
         "marker": {
          "color": "#086A87"
         },
         "mode": "lines",
         "name": "Prime",
         "type": "scatter",
         "x": [
          1990,
          1991,
          1992,
          1993,
          1994,
          1995,
          1996,
          1997,
          1998,
          1999,
          2000,
          2001,
          2002,
          2003,
          2004,
          2005,
          2006,
          2007,
          2008,
          2009,
          2010,
          2011,
          2012,
          2013,
          2014,
          2015,
          2016,
          2017,
          2018,
          2019,
          2020
         ],
         "xaxis": "x",
         "y": [
          8,
          11,
          12,
          14,
          19,
          20,
          24,
          32,
          40,
          44,
          53,
          59,
          71,
          80,
          89,
          104,
          113,
          128,
          145,
          168,
          199,
          244,
          307,
          367,
          431,
          524,
          695,
          946,
          1065,
          1091,
          1115
         ],
         "yaxis": "y"
        },
        {
         "marker": {
          "color": "#58FA82"
         },
         "mode": "lines",
         "name": "Hulu",
         "type": "scatter",
         "x": [
          1990,
          1991,
          1992,
          1993,
          1994,
          1995,
          1996,
          1997,
          1998,
          1999,
          2000,
          2001,
          2002,
          2003,
          2004,
          2005,
          2006,
          2007,
          2008,
          2009,
          2010,
          2011,
          2012,
          2013,
          2014,
          2015,
          2016,
          2017,
          2018,
          2019,
          2020
         ],
         "xaxis": "x",
         "y": [
          2,
          4,
          6,
          8,
          11,
          13,
          15,
          23,
          24,
          28,
          31,
          34,
          40,
          47,
          52,
          64,
          75,
          86,
          96,
          110,
          137,
          172,
          220,
          269,
          321,
          380,
          442,
          506,
          572,
          615,
          636
         ],
         "yaxis": "y"
        },
        {
         "marker": {
          "color": "yellow"
         },
         "mode": "lines",
         "name": "fuboTV",
         "type": "scatter",
         "x": [
          1995,
          1996,
          1997,
          1999,
          2001,
          2002,
          2003,
          2004,
          2005,
          2006,
          2007,
          2008,
          2009,
          2010,
          2011,
          2012,
          2013,
          2014,
          2015,
          2016,
          2017,
          2018,
          2019,
          2020
         ],
         "xaxis": "x",
         "y": [
          2,
          3,
          7,
          8,
          9,
          11,
          14,
          18,
          20,
          24,
          27,
          34,
          41,
          48,
          59,
          79,
          96,
          122,
          138,
          173,
          207,
          240,
          286,
          295
         ],
         "yaxis": "y"
        }
       ],
       "layout": {
        "font": {
         "family": "Calibri",
         "size": 16
        },
        "legend": {
         "x": 0.01,
         "xanchor": "left",
         "y": 0.99,
         "yanchor": "top"
        },
        "margin": {
         "b": 50,
         "l": 80,
         "r": 80,
         "t": 25
        },
        "showlegend": true,
        "template": {
         "data": {
          "pie": [
           {
            "automargin": true,
            "type": "pie"
           }
          ],
          "scatter": [
           {
            "line": {
             "width": 3
            },
            "marker": {
             "size": 9
            },
            "type": "scatter"
           }
          ],
          "scatter3d": [
           {
            "line": {
             "width": 3
            },
            "marker": {
             "size": 9
            },
            "type": "scatter3d"
           }
          ],
          "scattergeo": [
           {
            "line": {
             "width": 3
            },
            "marker": {
             "size": 9
            },
            "type": "scattergeo"
           }
          ],
          "scattergl": [
           {
            "line": {
             "width": 3
            },
            "marker": {
             "size": 9
            },
            "type": "scattergl"
           }
          ],
          "scatterpolar": [
           {
            "line": {
             "width": 3
            },
            "marker": {
             "size": 9
            },
            "type": "scatterpolar"
           }
          ],
          "scatterpolargl": [
           {
            "line": {
             "width": 3
            },
            "marker": {
             "size": 9
            },
            "type": "scatterpolargl"
           }
          ],
          "scatterternary": [
           {
            "line": {
             "width": 3
            },
            "marker": {
             "size": 9
            },
            "type": "scatterternary"
           }
          ],
          "table": [
           {
            "cells": {
             "height": 30
            },
            "header": {
             "height": 36
            },
            "type": "table"
           }
          ]
         },
         "layout": {
          "font": {
           "size": 18
          },
          "xaxis": {
           "title": {
            "standoff": 15
           }
          },
          "yaxis": {
           "title": {
            "standoff": 15
           }
          }
         }
        },
        "title": {
         "font": {
          "color": "black"
         },
         "text": "<b>Ancienneté du contenu sur les plateformes</b>",
         "x": 0.5,
         "y": 0.94
        },
        "xaxis": {
         "anchor": "y",
         "domain": [
          0,
          0.94
         ]
        },
        "yaxis": {
         "anchor": "x",
         "domain": [
          0,
          1
         ]
        },
        "yaxis2": {
         "anchor": "x",
         "overlaying": "y",
         "side": "right"
        }
       }
      },
      "text/html": [
       "<div>                            <div id=\"394015e7-63c7-4035-ba3b-35e890c1a221\" class=\"plotly-graph-div\" style=\"height:525px; width:100%;\"></div>            <script type=\"text/javascript\">                require([\"plotly\"], function(Plotly) {                    window.PLOTLYENV=window.PLOTLYENV || {};                                    if (document.getElementById(\"394015e7-63c7-4035-ba3b-35e890c1a221\")) {                    Plotly.newPlot(                        \"394015e7-63c7-4035-ba3b-35e890c1a221\",                        [{\"marker\": {\"color\": \"#DF0101\"}, \"mode\": \"lines\", \"name\": \"Netflix\", \"type\": \"scatter\", \"x\": [1994, 1995, 1996, 1997, 1998, 1999, 2000, 2001, 2002, 2003, 2004, 2005, 2006, 2007, 2008, 2009, 2010, 2011, 2012, 2013, 2014, 2015, 2016, 2017, 2018, 2019, 2020], \"xaxis\": \"x\", \"y\": [2, 5, 7, 8, 9, 11, 12, 15, 19, 24, 29, 33, 35, 43, 53, 73, 91, 114, 153, 192, 235, 334, 490, 685, 952, 1223, 1421], \"yaxis\": \"y\"}, {\"marker\": {\"color\": \"#086A87\"}, \"mode\": \"lines\", \"name\": \"Prime\", \"type\": \"scatter\", \"x\": [1990, 1991, 1992, 1993, 1994, 1995, 1996, 1997, 1998, 1999, 2000, 2001, 2002, 2003, 2004, 2005, 2006, 2007, 2008, 2009, 2010, 2011, 2012, 2013, 2014, 2015, 2016, 2017, 2018, 2019, 2020], \"xaxis\": \"x\", \"y\": [8, 11, 12, 14, 19, 20, 24, 32, 40, 44, 53, 59, 71, 80, 89, 104, 113, 128, 145, 168, 199, 244, 307, 367, 431, 524, 695, 946, 1065, 1091, 1115], \"yaxis\": \"y\"}, {\"marker\": {\"color\": \"#58FA82\"}, \"mode\": \"lines\", \"name\": \"Hulu\", \"type\": \"scatter\", \"x\": [1990, 1991, 1992, 1993, 1994, 1995, 1996, 1997, 1998, 1999, 2000, 2001, 2002, 2003, 2004, 2005, 2006, 2007, 2008, 2009, 2010, 2011, 2012, 2013, 2014, 2015, 2016, 2017, 2018, 2019, 2020], \"xaxis\": \"x\", \"y\": [2, 4, 6, 8, 11, 13, 15, 23, 24, 28, 31, 34, 40, 47, 52, 64, 75, 86, 96, 110, 137, 172, 220, 269, 321, 380, 442, 506, 572, 615, 636], \"yaxis\": \"y\"}, {\"marker\": {\"color\": \"yellow\"}, \"mode\": \"lines\", \"name\": \"fuboTV\", \"type\": \"scatter\", \"x\": [1995, 1996, 1997, 1999, 2001, 2002, 2003, 2004, 2005, 2006, 2007, 2008, 2009, 2010, 2011, 2012, 2013, 2014, 2015, 2016, 2017, 2018, 2019, 2020], \"xaxis\": \"x\", \"y\": [2, 3, 7, 8, 9, 11, 14, 18, 20, 24, 27, 34, 41, 48, 59, 79, 96, 122, 138, 173, 207, 240, 286, 295], \"yaxis\": \"y\"}],                        {\"font\": {\"family\": \"Calibri\", \"size\": 16}, \"legend\": {\"x\": 0.01, \"xanchor\": \"left\", \"y\": 0.99, \"yanchor\": \"top\"}, \"margin\": {\"b\": 50, \"l\": 80, \"r\": 80, \"t\": 25}, \"showlegend\": true, \"template\": {\"data\": {\"pie\": [{\"automargin\": true, \"type\": \"pie\"}], \"scatter\": [{\"line\": {\"width\": 3}, \"marker\": {\"size\": 9}, \"type\": \"scatter\"}], \"scatter3d\": [{\"line\": {\"width\": 3}, \"marker\": {\"size\": 9}, \"type\": \"scatter3d\"}], \"scattergeo\": [{\"line\": {\"width\": 3}, \"marker\": {\"size\": 9}, \"type\": \"scattergeo\"}], \"scattergl\": [{\"line\": {\"width\": 3}, \"marker\": {\"size\": 9}, \"type\": \"scattergl\"}], \"scatterpolar\": [{\"line\": {\"width\": 3}, \"marker\": {\"size\": 9}, \"type\": \"scatterpolar\"}], \"scatterpolargl\": [{\"line\": {\"width\": 3}, \"marker\": {\"size\": 9}, \"type\": \"scatterpolargl\"}], \"scatterternary\": [{\"line\": {\"width\": 3}, \"marker\": {\"size\": 9}, \"type\": \"scatterternary\"}], \"table\": [{\"cells\": {\"height\": 30}, \"header\": {\"height\": 36}, \"type\": \"table\"}]}, \"layout\": {\"font\": {\"size\": 18}, \"xaxis\": {\"title\": {\"standoff\": 15}}, \"yaxis\": {\"title\": {\"standoff\": 15}}}}, \"title\": {\"font\": {\"color\": \"black\"}, \"text\": \"<b>Anciennet\\u00e9 du contenu sur les plateformes</b>\", \"x\": 0.5, \"y\": 0.94}, \"xaxis\": {\"anchor\": \"y\", \"domain\": [0.0, 0.94]}, \"yaxis\": {\"anchor\": \"x\", \"domain\": [0.0, 1.0]}, \"yaxis2\": {\"anchor\": \"x\", \"overlaying\": \"y\", \"side\": \"right\"}},                        {\"responsive\": true}                    ).then(function(){\n",
       "                            \n",
       "var gd = document.getElementById('394015e7-63c7-4035-ba3b-35e890c1a221');\n",
       "var x = new MutationObserver(function (mutations, observer) {{\n",
       "        var display = window.getComputedStyle(gd).display;\n",
       "        if (!display || display === 'none') {{\n",
       "            console.log([gd, 'removed!']);\n",
       "            Plotly.purge(gd);\n",
       "            observer.disconnect();\n",
       "        }}\n",
       "}});\n",
       "\n",
       "// Listen for the removal of the full notebook cells\n",
       "var notebookContainer = gd.closest('#notebook-container');\n",
       "if (notebookContainer) {{\n",
       "    x.observe(notebookContainer, {childList: true});\n",
       "}}\n",
       "\n",
       "// Listen for the clearing of the current output cell\n",
       "var outputEl = gd.closest('.output');\n",
       "if (outputEl) {{\n",
       "    x.observe(outputEl, {childList: true});\n",
       "}}\n",
       "\n",
       "                        })                };                });            </script>        </div>"
      ]
     },
     "metadata": {},
     "output_type": "display_data"
    }
   ],
   "source": [
    "\"\"\"----------On crée les 3 df correspondant aux 3 principaux concurrents de Netflix : Prime Video, Hulu et fuboTV----------\"\"\"\n",
    "\n",
    "AS_P=AS[AS['Streaming Platform'].isin(['Prime Video'])]\n",
    "AS_H=AS[AS['Streaming Platform'].isin(['Hulu'])]\n",
    "AS_F=AS[AS['Streaming Platform'].isin(['fuboTV'])]\n",
    "\n",
    "\"\"\"----------On se limite aux années post 1990----------\"\"\"\n",
    "\n",
    "start_year=1990\n",
    "years=[]\n",
    "for i in range (start_year,2025):\n",
    "    years.append(i)\n",
    "    \n",
    "AS_N=AS_N[AS_N['Year Released'].isin(years)]\n",
    "AS_P=AS_P[AS_P['Year Released'].isin(years)]\n",
    "AS_H=AS_H[AS_H['Year Released'].isin(years)]\n",
    "AS_F=AS_F[AS_F['Year Released'].isin(years)]\n",
    "\n",
    "\"\"\"----------Graphiques de l'ancienneté des séries sur les Plateformes----------\"\"\"\n",
    "\n",
    "fig = plt.subplots.make_subplots(specs=[[{\"secondary_y\": True}]])\n",
    "colors =['#DF0101','#086A87','#58FA82','yellow']\n",
    "\n",
    "\n",
    "for e,i in enumerate([AS_N,AS_P,AS_H,AS_F]):\n",
    "    \n",
    "    cumsumMoviesReleased_i=i['Year Released'].value_counts().sort_index().cumsum()\n",
    "    trace = go.Scatter(x = list(cumsumMoviesReleased_i.index), y = list(cumsumMoviesReleased_i.values),\n",
    "                       marker_color=colors[e],\n",
    "                       mode='lines', name = ['Netflix','Prime','Hulu','fuboTV'][e])\n",
    "    fig.add_trace(trace, secondary_y=False)\n",
    "\n",
    "\n",
    "fig.update_layout(template = 'presentation',margin=dict(l=80, r=80, t=25, b=50),\n",
    "                  title = { 'text' : '<b>Ancienneté du contenu sur les plateformes</b>', 'x' : 0.5, 'y' : 0.94},\n",
    "                 font_family = 'Calibri',font_size = 16, title_font_color= 'black', showlegend = True)\n",
    "\n",
    "fig.update_layout(legend=dict(\n",
    "    yanchor=\"top\",\n",
    "    y=0.99,\n",
    "    xanchor=\"left\",\n",
    "    x=0.01))\n",
    "\n",
    "fig.show()"
   ]
  },
  {
   "cell_type": "markdown",
   "metadata": {},
   "source": [
    "Hypothèse : Prime au dessus de Netflix avant 2019 parce que possède beaucoup de contenu racheté et donc plus ancien que Netflix qui a beaucoup de contenu original crée dans les dernières années d'ou la croissance quasi exponentielle."
   ]
  },
  {
   "cell_type": "markdown",
   "metadata": {},
   "source": [
    "Est-ce que Netflix a le meme type de Séries que les autres ?"
   ]
  },
  {
   "cell_type": "code",
   "execution_count": 26,
   "metadata": {},
   "outputs": [],
   "source": [
    "\"\"\"----------Fonction qui compare les genres les plus populaires en fonction des plateformes----------\"\"\"\n",
    "def comp_platforms_genra(nombre):\n",
    "    genre_count={}\n",
    "    genre_count[\"Netflix\"]=count_genra(AS_N,nombre)\n",
    "    genre_count[\"Prime\"]=count_genra(AS_P,nombre)\n",
    "    genre_count[\"Hulu\"]=count_genra(AS_H,nombre)\n",
    "    genre_count[\"fuboTV\"]=count_genra(AS_F,nombre)\n",
    "    print(genre_count)\n",
    "    colors =['#DF0101','#086A87','#58FA82','yellow']\n",
    "\n",
    "    fig = plt.subplots.make_subplots(rows = 2, cols = 2, subplot_titles = ['Netflix','Prime','Hulu','fuboTV'],\n",
    "                                    horizontal_spacing=0.15,\n",
    "                                    vertical_spacing=0.2)\n",
    "    for e,i in enumerate(['Netflix','Prime','Hulu','fuboTV']):\n",
    "        trace = go.Bar(y = genre_count[i][1], x=genre_count[i][0],\n",
    "                       marker_color=colors[e],name =\"titres\" , orientation = 'h')\n",
    "        fig.add_trace(trace, row = (e//2) + 1, col = (e%2) + 1)\n",
    "\n",
    "    fig.update_layout(showlegend = False)\n",
    "    fig.update_layout(template = 'presentation',margin=dict(l=180, r=80, t=70, b=50),\n",
    "                      title = { 'text' : '<b>Contenu le plus populaire selon les plateformes</b>', 'x' : 0.5},\n",
    "                     font_family = 'Calibri', font_size = 16, title_font_color= 'black', showlegend = False)\n",
    "    fig.show()\n",
    "    return\n"
   ]
  },
  {
   "cell_type": "code",
   "execution_count": 27,
   "metadata": {},
   "outputs": [
    {
     "name": "stdout",
     "output_type": "stream",
     "text": [
      "{'Netflix': ([206, 211, 216, 356, 575], ['Crime', 'Action & Adventure', 'Documentary', 'Comedy', 'Drama']), 'Prime': ([79, 93, 102, 140, 175], ['Action & Adventure', 'Animation', 'Comedy', 'Documentary', 'Drama']), 'Hulu': ([69, 72, 79, 148, 174], ['Crime', 'Action & Adventure', 'Animation', 'Comedy', 'Drama']), 'fuboTV': ([15, 21, 65, 113, 157], ['Drama', 'Action & Adventure', 'Crime', 'Reality', 'Documentary'])}\n"
     ]
    },
    {
     "data": {
      "application/vnd.plotly.v1+json": {
       "config": {
        "plotlyServerURL": "https://plot.ly"
       },
       "data": [
        {
         "marker": {
          "color": "#DF0101"
         },
         "name": "titres",
         "orientation": "h",
         "type": "bar",
         "x": [
          206,
          211,
          216,
          356,
          575
         ],
         "xaxis": "x",
         "y": [
          "Crime",
          "Action & Adventure",
          "Documentary",
          "Comedy",
          "Drama"
         ],
         "yaxis": "y"
        },
        {
         "marker": {
          "color": "#086A87"
         },
         "name": "titres",
         "orientation": "h",
         "type": "bar",
         "x": [
          79,
          93,
          102,
          140,
          175
         ],
         "xaxis": "x2",
         "y": [
          "Action & Adventure",
          "Animation",
          "Comedy",
          "Documentary",
          "Drama"
         ],
         "yaxis": "y2"
        },
        {
         "marker": {
          "color": "#58FA82"
         },
         "name": "titres",
         "orientation": "h",
         "type": "bar",
         "x": [
          69,
          72,
          79,
          148,
          174
         ],
         "xaxis": "x3",
         "y": [
          "Crime",
          "Action & Adventure",
          "Animation",
          "Comedy",
          "Drama"
         ],
         "yaxis": "y3"
        },
        {
         "marker": {
          "color": "yellow"
         },
         "name": "titres",
         "orientation": "h",
         "type": "bar",
         "x": [
          15,
          21,
          65,
          113,
          157
         ],
         "xaxis": "x4",
         "y": [
          "Drama",
          "Action & Adventure",
          "Crime",
          "Reality",
          "Documentary"
         ],
         "yaxis": "y4"
        }
       ],
       "layout": {
        "annotations": [
         {
          "font": {
           "size": 16
          },
          "showarrow": false,
          "text": "Netflix",
          "x": 0.2125,
          "xanchor": "center",
          "xref": "paper",
          "y": 1,
          "yanchor": "bottom",
          "yref": "paper"
         },
         {
          "font": {
           "size": 16
          },
          "showarrow": false,
          "text": "Prime",
          "x": 0.7875,
          "xanchor": "center",
          "xref": "paper",
          "y": 1,
          "yanchor": "bottom",
          "yref": "paper"
         },
         {
          "font": {
           "size": 16
          },
          "showarrow": false,
          "text": "Hulu",
          "x": 0.2125,
          "xanchor": "center",
          "xref": "paper",
          "y": 0.4,
          "yanchor": "bottom",
          "yref": "paper"
         },
         {
          "font": {
           "size": 16
          },
          "showarrow": false,
          "text": "fuboTV",
          "x": 0.7875,
          "xanchor": "center",
          "xref": "paper",
          "y": 0.4,
          "yanchor": "bottom",
          "yref": "paper"
         }
        ],
        "font": {
         "family": "Calibri",
         "size": 16
        },
        "margin": {
         "b": 50,
         "l": 180,
         "r": 80,
         "t": 70
        },
        "showlegend": false,
        "template": {
         "data": {
          "pie": [
           {
            "automargin": true,
            "type": "pie"
           }
          ],
          "scatter": [
           {
            "line": {
             "width": 3
            },
            "marker": {
             "size": 9
            },
            "type": "scatter"
           }
          ],
          "scatter3d": [
           {
            "line": {
             "width": 3
            },
            "marker": {
             "size": 9
            },
            "type": "scatter3d"
           }
          ],
          "scattergeo": [
           {
            "line": {
             "width": 3
            },
            "marker": {
             "size": 9
            },
            "type": "scattergeo"
           }
          ],
          "scattergl": [
           {
            "line": {
             "width": 3
            },
            "marker": {
             "size": 9
            },
            "type": "scattergl"
           }
          ],
          "scatterpolar": [
           {
            "line": {
             "width": 3
            },
            "marker": {
             "size": 9
            },
            "type": "scatterpolar"
           }
          ],
          "scatterpolargl": [
           {
            "line": {
             "width": 3
            },
            "marker": {
             "size": 9
            },
            "type": "scatterpolargl"
           }
          ],
          "scatterternary": [
           {
            "line": {
             "width": 3
            },
            "marker": {
             "size": 9
            },
            "type": "scatterternary"
           }
          ],
          "table": [
           {
            "cells": {
             "height": 30
            },
            "header": {
             "height": 36
            },
            "type": "table"
           }
          ]
         },
         "layout": {
          "font": {
           "size": 18
          },
          "xaxis": {
           "title": {
            "standoff": 15
           }
          },
          "yaxis": {
           "title": {
            "standoff": 15
           }
          }
         }
        },
        "title": {
         "font": {
          "color": "black"
         },
         "text": "<b>Contenu le plus populaire selon les plateformes</b>",
         "x": 0.5
        },
        "xaxis": {
         "anchor": "y",
         "domain": [
          0,
          0.425
         ]
        },
        "xaxis2": {
         "anchor": "y2",
         "domain": [
          0.575,
          1
         ]
        },
        "xaxis3": {
         "anchor": "y3",
         "domain": [
          0,
          0.425
         ]
        },
        "xaxis4": {
         "anchor": "y4",
         "domain": [
          0.575,
          1
         ]
        },
        "yaxis": {
         "anchor": "x",
         "domain": [
          0.6000000000000001,
          1
         ]
        },
        "yaxis2": {
         "anchor": "x2",
         "domain": [
          0.6000000000000001,
          1
         ]
        },
        "yaxis3": {
         "anchor": "x3",
         "domain": [
          0,
          0.4
         ]
        },
        "yaxis4": {
         "anchor": "x4",
         "domain": [
          0,
          0.4
         ]
        }
       }
      },
      "text/html": [
       "<div>                            <div id=\"383ac29e-c8c7-421f-b7e5-403934e976ad\" class=\"plotly-graph-div\" style=\"height:525px; width:100%;\"></div>            <script type=\"text/javascript\">                require([\"plotly\"], function(Plotly) {                    window.PLOTLYENV=window.PLOTLYENV || {};                                    if (document.getElementById(\"383ac29e-c8c7-421f-b7e5-403934e976ad\")) {                    Plotly.newPlot(                        \"383ac29e-c8c7-421f-b7e5-403934e976ad\",                        [{\"marker\": {\"color\": \"#DF0101\"}, \"name\": \"titres\", \"orientation\": \"h\", \"type\": \"bar\", \"x\": [206, 211, 216, 356, 575], \"xaxis\": \"x\", \"y\": [\"Crime\", \"Action & Adventure\", \"Documentary\", \"Comedy\", \"Drama\"], \"yaxis\": \"y\"}, {\"marker\": {\"color\": \"#086A87\"}, \"name\": \"titres\", \"orientation\": \"h\", \"type\": \"bar\", \"x\": [79, 93, 102, 140, 175], \"xaxis\": \"x2\", \"y\": [\"Action & Adventure\", \"Animation\", \"Comedy\", \"Documentary\", \"Drama\"], \"yaxis\": \"y2\"}, {\"marker\": {\"color\": \"#58FA82\"}, \"name\": \"titres\", \"orientation\": \"h\", \"type\": \"bar\", \"x\": [69, 72, 79, 148, 174], \"xaxis\": \"x3\", \"y\": [\"Crime\", \"Action & Adventure\", \"Animation\", \"Comedy\", \"Drama\"], \"yaxis\": \"y3\"}, {\"marker\": {\"color\": \"yellow\"}, \"name\": \"titres\", \"orientation\": \"h\", \"type\": \"bar\", \"x\": [15, 21, 65, 113, 157], \"xaxis\": \"x4\", \"y\": [\"Drama\", \"Action & Adventure\", \"Crime\", \"Reality\", \"Documentary\"], \"yaxis\": \"y4\"}],                        {\"annotations\": [{\"font\": {\"size\": 16}, \"showarrow\": false, \"text\": \"Netflix\", \"x\": 0.2125, \"xanchor\": \"center\", \"xref\": \"paper\", \"y\": 1.0, \"yanchor\": \"bottom\", \"yref\": \"paper\"}, {\"font\": {\"size\": 16}, \"showarrow\": false, \"text\": \"Prime\", \"x\": 0.7875, \"xanchor\": \"center\", \"xref\": \"paper\", \"y\": 1.0, \"yanchor\": \"bottom\", \"yref\": \"paper\"}, {\"font\": {\"size\": 16}, \"showarrow\": false, \"text\": \"Hulu\", \"x\": 0.2125, \"xanchor\": \"center\", \"xref\": \"paper\", \"y\": 0.4, \"yanchor\": \"bottom\", \"yref\": \"paper\"}, {\"font\": {\"size\": 16}, \"showarrow\": false, \"text\": \"fuboTV\", \"x\": 0.7875, \"xanchor\": \"center\", \"xref\": \"paper\", \"y\": 0.4, \"yanchor\": \"bottom\", \"yref\": \"paper\"}], \"font\": {\"family\": \"Calibri\", \"size\": 16}, \"margin\": {\"b\": 50, \"l\": 180, \"r\": 80, \"t\": 70}, \"showlegend\": false, \"template\": {\"data\": {\"pie\": [{\"automargin\": true, \"type\": \"pie\"}], \"scatter\": [{\"line\": {\"width\": 3}, \"marker\": {\"size\": 9}, \"type\": \"scatter\"}], \"scatter3d\": [{\"line\": {\"width\": 3}, \"marker\": {\"size\": 9}, \"type\": \"scatter3d\"}], \"scattergeo\": [{\"line\": {\"width\": 3}, \"marker\": {\"size\": 9}, \"type\": \"scattergeo\"}], \"scattergl\": [{\"line\": {\"width\": 3}, \"marker\": {\"size\": 9}, \"type\": \"scattergl\"}], \"scatterpolar\": [{\"line\": {\"width\": 3}, \"marker\": {\"size\": 9}, \"type\": \"scatterpolar\"}], \"scatterpolargl\": [{\"line\": {\"width\": 3}, \"marker\": {\"size\": 9}, \"type\": \"scatterpolargl\"}], \"scatterternary\": [{\"line\": {\"width\": 3}, \"marker\": {\"size\": 9}, \"type\": \"scatterternary\"}], \"table\": [{\"cells\": {\"height\": 30}, \"header\": {\"height\": 36}, \"type\": \"table\"}]}, \"layout\": {\"font\": {\"size\": 18}, \"xaxis\": {\"title\": {\"standoff\": 15}}, \"yaxis\": {\"title\": {\"standoff\": 15}}}}, \"title\": {\"font\": {\"color\": \"black\"}, \"text\": \"<b>Contenu le plus populaire selon les plateformes</b>\", \"x\": 0.5}, \"xaxis\": {\"anchor\": \"y\", \"domain\": [0.0, 0.425]}, \"xaxis2\": {\"anchor\": \"y2\", \"domain\": [0.575, 1.0]}, \"xaxis3\": {\"anchor\": \"y3\", \"domain\": [0.0, 0.425]}, \"xaxis4\": {\"anchor\": \"y4\", \"domain\": [0.575, 1.0]}, \"yaxis\": {\"anchor\": \"x\", \"domain\": [0.6000000000000001, 1.0]}, \"yaxis2\": {\"anchor\": \"x2\", \"domain\": [0.6000000000000001, 1.0]}, \"yaxis3\": {\"anchor\": \"x3\", \"domain\": [0.0, 0.4]}, \"yaxis4\": {\"anchor\": \"x4\", \"domain\": [0.0, 0.4]}},                        {\"responsive\": true}                    ).then(function(){\n",
       "                            \n",
       "var gd = document.getElementById('383ac29e-c8c7-421f-b7e5-403934e976ad');\n",
       "var x = new MutationObserver(function (mutations, observer) {{\n",
       "        var display = window.getComputedStyle(gd).display;\n",
       "        if (!display || display === 'none') {{\n",
       "            console.log([gd, 'removed!']);\n",
       "            Plotly.purge(gd);\n",
       "            observer.disconnect();\n",
       "        }}\n",
       "}});\n",
       "\n",
       "// Listen for the removal of the full notebook cells\n",
       "var notebookContainer = gd.closest('#notebook-container');\n",
       "if (notebookContainer) {{\n",
       "    x.observe(notebookContainer, {childList: true});\n",
       "}}\n",
       "\n",
       "// Listen for the clearing of the current output cell\n",
       "var outputEl = gd.closest('.output');\n",
       "if (outputEl) {{\n",
       "    x.observe(outputEl, {childList: true});\n",
       "}}\n",
       "\n",
       "                        })                };                });            </script>        </div>"
      ]
     },
     "metadata": {},
     "output_type": "display_data"
    }
   ],
   "source": [
    "comp_platforms_genra(5)"
   ]
  },
  {
   "cell_type": "markdown",
   "metadata": {},
   "source": [
    "### Genres les mieux notés"
   ]
  },
  {
   "cell_type": "code",
   "execution_count": 28,
   "metadata": {},
   "outputs": [],
   "source": [
    "genres = \", \".join(AS_N['Genre']).split(\", \")\n",
    "genres = \",\".join(AS_N['Genre']).split(\",\")\n",
    "for i in ['2018','2017','2016','2019','2020','Netflix','2015','2012','2007','2004',\n",
    "              '2010','2013','2009','1969','2005','2006','2014','1999','1972','2002','2011',\n",
    "              '2008']:\n",
    "    while i in genres:\n",
    "        genres.remove(i)\n",
    "        "
   ]
  },
  {
   "cell_type": "code",
   "execution_count": 29,
   "metadata": {},
   "outputs": [],
   "source": [
    "selected_genres=[]\n",
    "for i in genres :\n",
    "    if i not in selected_genres:\n",
    "        selected_genres.append(i)\n",
    "selected_genres=sorted(selected_genres)"
   ]
  },
  {
   "cell_type": "code",
   "execution_count": 30,
   "metadata": {},
   "outputs": [
    {
     "data": {
      "text/plain": [
       "['Action & Adventure',\n",
       " 'Animation',\n",
       " 'Anime',\n",
       " 'Biography',\n",
       " 'Children',\n",
       " 'Comedy',\n",
       " 'Crime',\n",
       " 'Cult',\n",
       " 'DIY',\n",
       " 'Documentary',\n",
       " 'Drama',\n",
       " 'Family',\n",
       " 'Fantasy',\n",
       " 'Food',\n",
       " 'Game Show',\n",
       " 'History',\n",
       " 'Home & Garden',\n",
       " 'Horror',\n",
       " 'Lifetime',\n",
       " 'Musical',\n",
       " 'Mystery',\n",
       " 'Pet',\n",
       " 'Reality',\n",
       " 'Romance',\n",
       " 'Science',\n",
       " 'Science-Fiction',\n",
       " 'Showtime',\n",
       " 'Sport',\n",
       " 'Stand-up & Talk',\n",
       " 'Thriller',\n",
       " 'Travel']"
      ]
     },
     "execution_count": 30,
     "metadata": {},
     "output_type": "execute_result"
    }
   ],
   "source": [
    "selected_genres = ['Action & Adventure', 'Animation','Anime','Biography','Children','Comedy','Crime','Cult','DIY', 'Documentary',\n",
    "                      'Drama','Family','Fantasy','Food','Game Show','History','Home & Garden','Horror',\n",
    "                      'Lifetime','Musical','Mystery','Pet','Reality','Romance','Science','Science-Fiction','Showtime', 'Sport',\n",
    "                      'Stand-up & Talk','Thriller','Travel']\n",
    "selected_genres"
   ]
  },
  {
   "cell_type": "markdown",
   "metadata": {},
   "source": [
    "ImDB et rotten tomates.\n",
    "\n",
    "ImDB note sur 10 et Rotten Tomatoes sur 100"
   ]
  },
  {
   "cell_type": "code",
   "execution_count": 31,
   "metadata": {},
   "outputs": [
    {
     "name": "stdout",
     "output_type": "stream",
     "text": [
      "7.105468164794025 54.36203246294989\n"
     ]
    }
   ],
   "source": [
    "#calculating the overall mean imdb rating and the overall rotten tomatoes rating\n",
    "overall_mean_imdb = AS_N[AS_N['IMDB Rating'] != -1]['IMDB Rating'].mean()\n",
    "overall_mean_r = AS_N[AS_N['R Rating'] != -1]['R Rating'].mean()\n",
    "print (overall_mean_imdb,overall_mean_r)"
   ]
  },
  {
   "cell_type": "code",
   "execution_count": null,
   "metadata": {},
   "outputs": [],
   "source": []
  }
 ],
 "metadata": {
  "kernelspec": {
   "display_name": "Python 3",
   "language": "python",
   "name": "python3"
  }
 },
 "nbformat": 4,
 "nbformat_minor": 4
}
