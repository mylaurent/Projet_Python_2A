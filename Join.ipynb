{
 "cells": [
  {
   "cell_type": "markdown",
   "metadata": {
    "id": "bTB77grksmc4"
   },
   "source": [
    "# Importation des Package"
   ]
  },
  {
   "cell_type": "code",
   "execution_count": 1,
   "metadata": {
    "executionInfo": {
     "elapsed": 2182,
     "status": "ok",
     "timestamp": 1607448277690,
     "user": {
      "displayName": "Myrtille Laurent",
      "photoUrl": "https://lh3.googleusercontent.com/a-/AOh14GilIqT9kYfEyLlOR6xsV5GMFxyoqZu54aFKm2afEw=s64",
      "userId": "02978430492940885021"
     },
     "user_tz": -60
    },
    "id": "EwDKSSvKvBRp"
   },
   "outputs": [],
   "source": [
    "import numpy as np\n",
    "import pandas as pd\n",
    "import matplotlib.pyplot as plt\n",
    "import urllib\n",
    "import bs4\n",
    "import re\n",
    "import copy\n",
    "import collections as co\n",
    "import plotly\n",
    "import plotly.graph_objects as go\n",
    "import matplotlib.pyplot as plt\n",
    "import numpy as np\n"
   ]
  },
  {
   "cell_type": "markdown",
   "metadata": {},
   "source": [
    "### Récupération des df -> tvshow, movie, AS_N, carac"
   ]
  },
  {
   "cell_type": "code",
   "execution_count": 2,
   "metadata": {},
   "outputs": [],
   "source": [
    "df_tvshow= pd.read_csv(r'C:\\Users\\User\\Documents\\GitHub\\Projet_Python_2A\\df_tvshow.csv',sep=',')\n",
    "df_movie= pd.read_csv(r'C:\\Users\\User\\Documents\\GitHub\\Projet_Python_2A\\df_movie.csv',sep=',')\n",
    "df_carac= pd.read_csv(r'C:\\Users\\User\\Documents\\GitHub\\Projet_Python_2A\\df_carac.csv')\n",
    "df_carac.columns=['Title','Type','Netflix Exclusive','Score']\n",
    "AS_N= pd.read_csv(r'C:\\Users\\User\\Documents\\GitHub\\Projet_Python_2A\\AS_N.csv')"
   ]
  },
  {
   "cell_type": "code",
   "execution_count": 44,
   "metadata": {},
   "outputs": [
    {
     "data": {
      "text/html": [
       "<div>\n",
       "<style scoped>\n",
       "    .dataframe tbody tr th:only-of-type {\n",
       "        vertical-align: middle;\n",
       "    }\n",
       "\n",
       "    .dataframe tbody tr th {\n",
       "        vertical-align: top;\n",
       "    }\n",
       "\n",
       "    .dataframe thead th {\n",
       "        text-align: right;\n",
       "    }\n",
       "</style>\n",
       "<table border=\"1\" class=\"dataframe\">\n",
       "  <thead>\n",
       "    <tr style=\"text-align: right;\">\n",
       "      <th></th>\n",
       "      <th>Year Released</th>\n",
       "      <th>Content Rating</th>\n",
       "      <th>IMDB Rating</th>\n",
       "      <th>R Rating</th>\n",
       "      <th>Genre</th>\n",
       "      <th>Description</th>\n",
       "      <th>No of Seasons</th>\n",
       "      <th>Top IMDB</th>\n",
       "      <th>Netflix Exclusive</th>\n",
       "      <th>Score</th>\n",
       "    </tr>\n",
       "  </thead>\n",
       "  <tbody>\n",
       "    <tr>\n",
       "      <th>#blackAF</th>\n",
       "      <td>2020</td>\n",
       "      <td>18+</td>\n",
       "      <td>6.8</td>\n",
       "      <td>61</td>\n",
       "      <td>Comedy,Family</td>\n",
       "      <td>A father takes an irreverent and honest approa...</td>\n",
       "      <td>1</td>\n",
       "      <td>0</td>\n",
       "      <td>Yes</td>\n",
       "      <td>6.0</td>\n",
       "    </tr>\n",
       "    <tr>\n",
       "      <th>(The Hook Up Plan)</th>\n",
       "      <td>2018</td>\n",
       "      <td>16+</td>\n",
       "      <td>7.3</td>\n",
       "      <td>61</td>\n",
       "      <td>Comedy,Romance</td>\n",
       "      <td>In a misguided attempt to build up perpetually...</td>\n",
       "      <td>2</td>\n",
       "      <td>0</td>\n",
       "      <td>NaN</td>\n",
       "      <td>NaN</td>\n",
       "    </tr>\n",
       "    <tr>\n",
       "      <th>(Un)Well</th>\n",
       "      <td>2020</td>\n",
       "      <td>18+</td>\n",
       "      <td>6.3</td>\n",
       "      <td>63</td>\n",
       "      <td>Documentary,Reality</td>\n",
       "      <td>This docuseries takes a deep dive into the luc...</td>\n",
       "      <td>1</td>\n",
       "      <td>0</td>\n",
       "      <td>Yes</td>\n",
       "      <td>4.0</td>\n",
       "    </tr>\n",
       "    <tr>\n",
       "      <th>100 Humans. Life's Questions. Answered.</th>\n",
       "      <td>2020</td>\n",
       "      <td>NaN</td>\n",
       "      <td>5.7</td>\n",
       "      <td>55</td>\n",
       "      <td>Documentary,Reality</td>\n",
       "      <td>One hundred hardy souls from diverse backgroun...</td>\n",
       "      <td>1</td>\n",
       "      <td>0</td>\n",
       "      <td>NaN</td>\n",
       "      <td>NaN</td>\n",
       "    </tr>\n",
       "    <tr>\n",
       "      <th>13 Reasons Why</th>\n",
       "      <td>2017</td>\n",
       "      <td>18+</td>\n",
       "      <td>7.7</td>\n",
       "      <td>81</td>\n",
       "      <td>Drama,Mystery</td>\n",
       "      <td>After a teenage girl's perplexing suicide, a c...</td>\n",
       "      <td>4</td>\n",
       "      <td>0</td>\n",
       "      <td>Yes</td>\n",
       "      <td>10.0</td>\n",
       "    </tr>\n",
       "  </tbody>\n",
       "</table>\n",
       "</div>"
      ],
      "text/plain": [
       "                                         Year Released Content Rating  \\\n",
       "#blackAF                                          2020            18+   \n",
       "(The Hook Up Plan)                                2018            16+   \n",
       "(Un)Well                                          2020            18+   \n",
       "100 Humans. Life's Questions. Answered.           2020            NaN   \n",
       "13 Reasons Why                                    2017            18+   \n",
       "\n",
       "                                         IMDB Rating  R Rating  \\\n",
       "#blackAF                                         6.8        61   \n",
       "(The Hook Up Plan)                               7.3        61   \n",
       "(Un)Well                                         6.3        63   \n",
       "100 Humans. Life's Questions. Answered.          5.7        55   \n",
       "13 Reasons Why                                   7.7        81   \n",
       "\n",
       "                                                       Genre  \\\n",
       "#blackAF                                       Comedy,Family   \n",
       "(The Hook Up Plan)                            Comedy,Romance   \n",
       "(Un)Well                                 Documentary,Reality   \n",
       "100 Humans. Life's Questions. Answered.  Documentary,Reality   \n",
       "13 Reasons Why                                 Drama,Mystery   \n",
       "\n",
       "                                                                               Description  \\\n",
       "#blackAF                                 A father takes an irreverent and honest approa...   \n",
       "(The Hook Up Plan)                       In a misguided attempt to build up perpetually...   \n",
       "(Un)Well                                 This docuseries takes a deep dive into the luc...   \n",
       "100 Humans. Life's Questions. Answered.  One hundred hardy souls from diverse backgroun...   \n",
       "13 Reasons Why                           After a teenage girl's perplexing suicide, a c...   \n",
       "\n",
       "                                         No of Seasons  Top IMDB  \\\n",
       "#blackAF                                             1         0   \n",
       "(The Hook Up Plan)                                   2         0   \n",
       "(Un)Well                                             1         0   \n",
       "100 Humans. Life's Questions. Answered.              1         0   \n",
       "13 Reasons Why                                       4         0   \n",
       "\n",
       "                                        Netflix Exclusive  Score  \n",
       "#blackAF                                              Yes    6.0  \n",
       "(The Hook Up Plan)                                    NaN    NaN  \n",
       "(Un)Well                                              Yes    4.0  \n",
       "100 Humans. Life's Questions. Answered.               NaN    NaN  \n",
       "13 Reasons Why                                        Yes   10.0  "
      ]
     },
     "execution_count": 44,
     "metadata": {},
     "output_type": "execute_result"
    }
   ],
   "source": [
    "AS_N_x_carac.head()"
   ]
  },
  {
   "cell_type": "code",
   "execution_count": 41,
   "metadata": {},
   "outputs": [],
   "source": [
    "#AS_N = AS_N.drop(['Unnamed: 0', 'Streaming Platform'], axis = 1)\n",
    "#df_movie = df_movie.drop(['Unnamed: 0', 'type'], axis = 1)\n",
    "#df_tvshow = df_tvshow.drop(['Unnamed: 0', 'type'], axis = 1)\n",
    "#df_carac = df_carac.drop(['Type'], axis = 1)"
   ]
  },
  {
   "cell_type": "markdown",
   "metadata": {},
   "source": [
    "## JOIN"
   ]
  },
  {
   "cell_type": "markdown",
   "metadata": {},
   "source": [
    "df_tvshow x cara = OGTV_x_carac\n",
    "\n",
    "df_movie x carac = OGM_x_carac\n",
    "\n",
    "Problème : on a pas le titre de la première colonne"
   ]
  },
  {
   "cell_type": "code",
   "execution_count": 33,
   "metadata": {},
   "outputs": [],
   "source": [
    "OGTV_x_carac=df_tvshow.set_index('title').join(df_carac.set_index('Title'))\n",
    "OGTV_x_carac.rename(columns={'index': 'Title'}, inplace=True)\n",
    "#gfg_csv_data = OGTV_x_carac.to_csv('OGTV_x_carac.csv', index = True)\n",
    "\n",
    "OGM_x_carac=df_movie.set_index('title').join(df_carac.set_index('Title'))\n",
    "OGM_x_carac.rename(columns={'Unnamed: 0': 'Title'}, inplace=True)\n",
    "#gfg_csv_data = OGM_x_carac.to_csv('OGM_x_carac.csv', index = True) "
   ]
  },
  {
   "cell_type": "markdown",
   "metadata": {},
   "source": [
    "AS_N x carac"
   ]
  },
  {
   "cell_type": "code",
   "execution_count": 43,
   "metadata": {},
   "outputs": [],
   "source": [
    "AS_N_x_carac=AS_N.set_index('Series Title').join(df_carac.set_index('Title'))\n",
    "AS_N_x_carac.rename(columns={'Unnamed: 0': 'Title'}, inplace=True)\n",
    "#gfg_csv_data = AS_N_x_carac.to_csv('AS_N_x_carac.csv', index = True) "
   ]
  },
  {
   "cell_type": "code",
   "execution_count": null,
   "metadata": {},
   "outputs": [],
   "source": []
  }
 ],
 "metadata": {
  "colab": {
   "collapsed_sections": [],
   "name": "Projet.ipynb",
   "provenance": [
    {
     "file_id": "1y4vOEUdmFlrVemWFMBr2ltAvw-VLV3HS",
     "timestamp": 1604736444068
    }
   ],
   "toc_visible": true
  },
  "kernelspec": {
   "display_name": "Python 3",
   "language": "python",
   "name": "python3"
  },
  "language_info": {
   "codemirror_mode": {
    "name": "ipython",
    "version": 3
   },
   "file_extension": ".py",
   "mimetype": "text/x-python",
   "name": "python",
   "nbconvert_exporter": "python",
   "pygments_lexer": "ipython3",
   "version": "3.8.5"
  }
 },
 "nbformat": 4,
 "nbformat_minor": 1
}
